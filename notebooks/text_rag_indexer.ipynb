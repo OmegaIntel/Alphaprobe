{
 "cells": [
  {
   "cell_type": "code",
   "execution_count": 3,
   "id": "f4a9b6d6",
   "metadata": {},
   "outputs": [],
   "source": [
    "import requests"
   ]
  },
  {
   "cell_type": "code",
   "execution_count": 4,
   "id": "e0010e65",
   "metadata": {},
   "outputs": [],
   "source": [
    "# Define the API endpoint\n",
    "url = \"http://127.0.0.1:8004/upload\""
   ]
  },
  {
   "cell_type": "code",
   "execution_count": 5,
   "id": "687e9d01-7668-4bd3-87d7-692f1f8166f0",
   "metadata": {},
   "outputs": [],
   "source": [
    "# Define the file path\n",
    "file_path = \"../data/Confidential-Memorandum-Network-Logic.txt\"\n",
    "\n",
    "# Define the form data\n",
    "form_data = {\n",
    "    'company': 'NETWORKLOGICOMPANY',\n",
    "    'file_type': 'descriptive'  # or 'descriptive'\n",
    "}\n",
    "\n"
   ]
  },
  {
   "cell_type": "code",
   "execution_count": 6,
   "id": "0a7ec9fe-1844-4360-ab99-82437723b554",
   "metadata": {},
   "outputs": [],
   "source": [
    "# Open the file in binary mode and send the request\n",
    "with open(file_path, 'rb') as file:\n",
    "    files = {'file': file}\n",
    "    response = requests.post(url, data=form_data, files=files)"
   ]
  },
  {
   "cell_type": "code",
   "execution_count": 7,
   "id": "ae692777-1216-40d8-9d0b-de5b8ad5e802",
   "metadata": {},
   "outputs": [
    {
     "name": "stdout",
     "output_type": "stream",
     "text": [
      "200\n"
     ]
    }
   ],
   "source": [
    "# Print the response from the server\n",
    "print(response.status_code)"
   ]
  },
  {
   "cell_type": "code",
   "execution_count": 8,
   "id": "5abe435f-a610-4b79-a690-dabbad9c6890",
   "metadata": {},
   "outputs": [
    {
     "name": "stdout",
     "output_type": "stream",
     "text": [
      "b'{\"company\":\"NETWORKLOGIC\",\"file_name\":\"Confidential-Memorandum-Network-Logic.txt\",\"file_type\":\"descriptive\",\"detail\":\"File uploaded successfully\"}'\n"
     ]
    }
   ],
   "source": [
    "print(response.content)"
   ]
  },
  {
   "cell_type": "code",
   "execution_count": null,
   "id": "fb40bc0e-6eee-4e08-a458-dc85ce3d4bf0",
   "metadata": {},
   "outputs": [],
   "source": []
  }
 ],
 "metadata": {
  "kernelspec": {
   "display_name": "Python 3 (ipykernel)",
   "language": "python",
   "name": "python3"
  },
  "language_info": {
   "codemirror_mode": {
    "name": "ipython",
    "version": 3
   },
   "file_extension": ".py",
   "mimetype": "text/x-python",
   "name": "python",
   "nbconvert_exporter": "python",
   "pygments_lexer": "ipython3",
   "version": "3.12.3"
  }
 },
 "nbformat": 4,
 "nbformat_minor": 5
}
