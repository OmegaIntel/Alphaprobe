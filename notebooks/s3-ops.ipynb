{
 "cells": [
  {
   "cell_type": "code",
   "execution_count": 1,
   "metadata": {},
   "outputs": [],
   "source": [
    "from filestore import s3_store"
   ]
  },
  {
   "cell_type": "code",
   "execution_count": 2,
   "metadata": {},
   "outputs": [
    {
     "name": "stdout",
     "output_type": "stream",
     "text": [
      "Error creating bucket: An error occurred (IllegalLocationConstraintException) when calling the CreateBucket operation: The unspecified location constraint is incompatible for the region specific endpoint this request was sent to.\n"
     ]
    }
   ],
   "source": [
    "# do it once\n",
    "s3_store.create_bucket()"
   ]
  },
  {
   "cell_type": "code",
   "execution_count": 7,
   "metadata": {},
   "outputs": [
    {
     "name": "stdout",
     "output_type": "stream",
     "text": [
      "File 'Templates/industry-at-a-glance-template.md' uploaded to 'omega-intel-doc-storage/tmp/tmp1/tmp2/Templates/industry-at-a-glance-template.md' successfully.\n"
     ]
    }
   ],
   "source": [
    "# can do it multiple times\n",
    "# TODO: troubleshoot perf issues\n",
    "filepath = 'Templates/industry-at-a-glance-template.md'\n",
    "object_key = f'tmp/tmp1/tmp2/{filepath}'\n",
    "s3_store.upload_object(filepath, object_key)"
   ]
  }
 ],
 "metadata": {
  "kernelspec": {
   "display_name": "probe",
   "language": "python",
   "name": "python3"
  },
  "language_info": {
   "codemirror_mode": {
    "name": "ipython",
    "version": 3
   },
   "file_extension": ".py",
   "mimetype": "text/x-python",
   "name": "python",
   "nbconvert_exporter": "python",
   "pygments_lexer": "ipython3",
   "version": "3.11.9"
  }
 },
 "nbformat": 4,
 "nbformat_minor": 2
}
