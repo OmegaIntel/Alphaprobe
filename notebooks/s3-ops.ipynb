{
 "cells": [
  {
   "cell_type": "code",
   "execution_count": 1,
   "metadata": {},
   "outputs": [],
   "source": [
    "from filestore import s3_store"
   ]
  },
  {
   "cell_type": "code",
   "execution_count": 2,
   "metadata": {},
   "outputs": [
    {
     "name": "stdout",
     "output_type": "stream",
     "text": [
      "Error creating bucket: An error occurred (IllegalLocationConstraintException) when calling the CreateBucket operation: The unspecified location constraint is incompatible for the region specific endpoint this request was sent to.\n"
     ]
    }
   ],
   "source": [
    "# do it once\n",
    "s3_store.create_bucket()"
   ]
  },
  {
   "cell_type": "code",
   "execution_count": 3,
   "metadata": {},
   "outputs": [
    {
     "data": {
      "text/plain": [
       "'s3://omega-intel-doc-storage/911ba0f2a3e49b82fb595944729e429a/7ba85dfd084f5a37dd57bc6fafd17bc4/c4ca4238a0b923820dcc509a6f75849b'"
      ]
     },
     "execution_count": 3,
     "metadata": {},
     "output_type": "execute_result"
    }
   ],
   "source": [
    "uds = s3_store.UserDocumentStore('abc@cde.efg')\n",
    "location = uds.store_document('Templates/industry-at-a-glance-template.md')\n",
    "print(location)\n"
   ]
  },
  {
   "cell_type": "code",
   "execution_count": 8,
   "metadata": {},
   "outputs": [
    {
     "data": {
      "text/plain": [
       "'s3://omega-intel-doc-storage/911ba0f2a3e49b82fb595944729e429a/7ba85dfd084f5a37dd57bc6fafd17bc4/c4ca4238a0b923820dcc509a6f75849b'"
      ]
     },
     "execution_count": 8,
     "metadata": {},
     "output_type": "execute_result"
    }
   ],
   "source": [
    "# uds.delete_document('Industry Template', '1')"
   ]
  },
  {
   "cell_type": "code",
   "execution_count": 7,
   "metadata": {},
   "outputs": [],
   "source": [
    "# can do it multiple times\n",
    "# TODO: troubleshoot perf issues\n",
    "# filepath = 'Templates/industry-at-a-glance-template.md'\n",
    "# object_key = f'tmp/tmp1/tmp2/{filepath}'\n",
    "# s3_store.upload_object(filepath, object_key)"
   ]
  },
  {
   "cell_type": "code",
   "execution_count": null,
   "metadata": {},
   "outputs": [],
   "source": []
  }
 ],
 "metadata": {
  "kernelspec": {
   "display_name": "probe",
   "language": "python",
   "name": "python3"
  },
  "language_info": {
   "codemirror_mode": {
    "name": "ipython",
    "version": 3
   },
   "file_extension": ".py",
   "mimetype": "text/x-python",
   "name": "python",
   "nbconvert_exporter": "python",
   "pygments_lexer": "ipython3",
   "version": "3.11.9"
  }
 },
 "nbformat": 4,
 "nbformat_minor": 2
}
