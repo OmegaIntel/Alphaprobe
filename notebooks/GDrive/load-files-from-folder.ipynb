{
 "cells": [
  {
   "cell_type": "code",
   "execution_count": 1,
   "metadata": {},
   "outputs": [
    {
     "data": {
      "text/plain": [
       "'\\nRetrieve contents of a GDrive directory and ingest all files from there, one at a time.\\nAll authorization related stuff is in credentials.json and token.json.\\nIf the token is expired, remove and regenerate it using the other notebook.\\n'"
      ]
     },
     "execution_count": 1,
     "metadata": {},
     "output_type": "execute_result"
    }
   ],
   "source": [
    "\"\"\"\n",
    "Retrieve contents of a GDrive directory and ingest all files from there, one at a time.\n",
    "All authorization related stuff is in credentials.json and token.json.\n",
    "If the token is expired, remove and regenerate it using the other notebook.\n",
    "\"\"\""
   ]
  },
  {
   "cell_type": "code",
   "execution_count": 2,
   "metadata": {},
   "outputs": [],
   "source": [
    "# Use loader for dirctory listing and reader for downloading the file locally\n",
    "from googleapiclient.discovery import build\n",
    "from llama_index.readers.google import GoogleDriveReader\n",
    "from langchain_google_community import GoogleDriveLoader\n",
    "from os import unlink, listdir"
   ]
  },
  {
   "cell_type": "code",
   "execution_count": 3,
   "metadata": {},
   "outputs": [],
   "source": [
    "# retrieve all documents from the folder\n",
    "folder_id = '1gGPeJKIPHLoG3LKReIii6lqcVzH5erI1'\n",
    "# folder_id = '1iLrqxhq_ygOubgQaywfJOa8dqKiOeSpT'\n",
    "\n",
    "loader = GoogleDriveLoader(\n",
    "    folder_id=folder_id,\n",
    "\n",
    "    # token generated separately in exp1.ipynb\n",
    "    token_path=\"./token.json\",\n",
    "\n",
    "    # Optional: configure whether to recursively fetch files from subfolders. Defaults to False.\n",
    "    recursive=True,\n",
    ")\n",
    "\n",
    "creds = loader._load_credentials()\n",
    "service = build(\"drive\", \"v3\", credentials=creds)\n",
    "docs_info = loader._fetch_files_recursive(folder_id=folder_id, service=service)"
   ]
  },
  {
   "cell_type": "code",
   "execution_count": 4,
   "metadata": {},
   "outputs": [
    {
     "name": "stdout",
     "output_type": "stream",
     "text": [
      "461\n",
      "{'mimeType': 'application/pdf', 'parents': ['1iLrqxhq_ygOubgQaywfJOa8dqKiOeSpT'], 'id': '1kU3VVPcWf6Dld1S49Av6JvDn4qbRd2x3', 'name': 'Iron & Steel Manufacturing in the US.pdf', 'trashed': False}\n"
     ]
    }
   ],
   "source": [
    "print(len(docs_info))\n",
    "info = docs_info[0]\n",
    "print(info)\n",
    "mime_type, file_id, file_name = info['mimeType'], info['id'], info['name']"
   ]
  },
  {
   "cell_type": "code",
   "execution_count": 5,
   "metadata": {},
   "outputs": [],
   "source": [
    "for info in docs_info:\n",
    "    # print(info['name'])\n",
    "    if info['name'].startswith('A'):\n",
    "        print(info)"
   ]
  },
  {
   "cell_type": "code",
   "execution_count": 6,
   "metadata": {},
   "outputs": [
    {
     "ename": "NameError",
     "evalue": "name 'GoogleDriveReader' is not defined",
     "output_type": "error",
     "traceback": [
      "\u001b[0;31m---------------------------------------------------------------------------\u001b[0m",
      "\u001b[0;31mNameError\u001b[0m                                 Traceback (most recent call last)",
      "Cell \u001b[0;32mIn[6], line 1\u001b[0m\n\u001b[0;32m----> 1\u001b[0m reader \u001b[38;5;241m=\u001b[39m \u001b[43mGoogleDriveReader\u001b[49m()\n\u001b[1;32m      2\u001b[0m \u001b[38;5;66;03m# hacky way to set credentials in the reader\u001b[39;00m\n\u001b[1;32m      3\u001b[0m reader\u001b[38;5;241m.\u001b[39m_creds \u001b[38;5;241m=\u001b[39m creds\n",
      "\u001b[0;31mNameError\u001b[0m: name 'GoogleDriveReader' is not defined"
     ]
    }
   ],
   "source": [
    "reader = GoogleDriveReader()\n",
    "# hacky way to set credentials in the reader\n",
    "reader._creds = creds\n",
    "new_file_name = reader._download_file(file_id, file_name)\n",
    "assert new_file_name in listdir()"
   ]
  },
  {
   "cell_type": "code",
   "execution_count": 7,
   "metadata": {},
   "outputs": [],
   "source": [
    "# TODO: upload the file to Weaviate once the schema is ready."
   ]
  },
  {
   "cell_type": "code",
   "execution_count": 8,
   "metadata": {},
   "outputs": [],
   "source": [
    "unlink(file_name)"
   ]
  }
 ],
 "metadata": {
  "kernelspec": {
   "display_name": "studies",
   "language": "python",
   "name": "python3"
  },
  "language_info": {
   "codemirror_mode": {
    "name": "ipython",
    "version": 3
   },
   "file_extension": ".py",
   "mimetype": "text/x-python",
   "name": "python",
   "nbconvert_exporter": "python",
   "pygments_lexer": "ipython3",
   "version": "3.11.9"
  }
 },
 "nbformat": 4,
 "nbformat_minor": 2
}
