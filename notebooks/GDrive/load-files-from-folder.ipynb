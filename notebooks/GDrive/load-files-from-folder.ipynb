{
 "cells": [
  {
   "cell_type": "code",
   "execution_count": 6,
   "metadata": {},
   "outputs": [],
   "source": [
    "import json\n",
    "from googleapiclient.discovery import build"
   ]
  },
  {
   "cell_type": "code",
   "execution_count": 7,
   "metadata": {},
   "outputs": [],
   "source": [
    "# from llama_index.readers.google import GoogleDriveReader"
   ]
  },
  {
   "cell_type": "code",
   "execution_count": 8,
   "metadata": {},
   "outputs": [],
   "source": [
    "from langchain_google_community import GoogleDriveLoader"
   ]
  },
  {
   "cell_type": "code",
   "execution_count": 10,
   "metadata": {},
   "outputs": [],
   "source": [
    "# retrieve all documents from the folder\n",
    "folder_id = '11eJrf2XbhQTdkgq5J64GtT8NJLAUhvGR'\n",
    "file_ids = ['1g50DGceqnw0dWaNXlOynNy9OQdcgSZP2']\n",
    "\n",
    "loader = GoogleDriveLoader(\n",
    "    # folder_id=folder_id,\n",
    "    file_ids=file_ids,\n",
    "\n",
    "    # file_types=[\"document\", \"sheet\"],\n",
    "    # file_types=[\"document\"],\n",
    "\n",
    "    # token generated separately in exp1.ipynb\n",
    "    token_path=\"./token.json\",\n",
    "\n",
    "    # Optional: configure whether to recursively fetch files from subfolders. Defaults to False.\n",
    "    recursive=False,\n",
    ")\n",
    "\n",
    "creds = loader._load_credentials()\n",
    "service = build(\"drive\", \"v3\", credentials=creds)\n",
    "\n",
    "doc_ids = loader._fetch_files_recursive(folder_id=folder_id, service=service)\n",
    "\n",
    "# docs = loader.load()\n",
    "# docs[0]"
   ]
  },
  {
   "cell_type": "code",
   "execution_count": 11,
   "metadata": {},
   "outputs": [
    {
     "data": {
      "text/plain": [
       "154"
      ]
     },
     "execution_count": 11,
     "metadata": {},
     "output_type": "execute_result"
    }
   ],
   "source": [
    "len(doc_ids)"
   ]
  },
  {
   "cell_type": "code",
   "execution_count": null,
   "metadata": {},
   "outputs": [],
   "source": [
    "doc_id = docs[0].metadata['source'].split('/')[-2]\n",
    "doc_id"
   ]
  },
  {
   "cell_type": "code",
   "execution_count": null,
   "metadata": {},
   "outputs": [],
   "source": [
    "# retrieve one document from the folder\n",
    "doc_loader = GoogleDriveLoader(\n",
    "    document_ids=[doc_id],\n",
    "    token_path=\"./token.json\",\n",
    ")\n",
    "docs = doc_loader.load()"
   ]
  },
  {
   "cell_type": "code",
   "execution_count": null,
   "metadata": {},
   "outputs": [],
   "source": [
    "# The below is not necessary -- just need to run queries against a single plain doc...\n",
    "\n",
    "text_splitter = RecursiveCharacterTextSplitter(\n",
    "    chunk_size=3000, chunk_overlap=0, separators=[\" \", \",\", \"\\n\"]\n",
    ")\n",
    "texts = text_splitter.split_documents(docs)\n",
    "\n",
    "embeddings = OpenAIEmbeddings()\n",
    "db = Chroma.from_documents(texts, embeddings)\n",
    "retriever = db.as_retriever()\n",
    "\n",
    "llm = ChatOpenAI(temperature=0, model_name=\"gpt-3.5-turbo\")\n",
    "\n",
    "system_prompt = (\n",
    "    \"Use the given context to answer the question. \"\n",
    "    \"If you don't know the answer, say you don't know. \"\n",
    "    \"Use three sentence maximum and keep the answer concise. \"\n",
    "    \"Context: {context}\"\n",
    ")\n",
    "prompt = ChatPromptTemplate.from_messages(\n",
    "    [\n",
    "        (\"system\", system_prompt),\n",
    "        (\"human\", \"{input}\"),\n",
    "    ]\n",
    ")\n",
    "question_answer_chain = create_stuff_documents_chain(llm, prompt)\n",
    "qa = create_retrieval_chain(retriever, question_answer_chain)"
   ]
  },
  {
   "cell_type": "code",
   "execution_count": null,
   "metadata": {},
   "outputs": [],
   "source": [
    "def get_answer(query: str):\n",
    "    answer = qa.invoke({\"input\": query})\n",
    "    return answer['answer']\n",
    "\n",
    "def print_answer(query):\n",
    "    answer = get_answer(query)\n",
    "    print('ANSWER:', answer)\n",
    "    return answer"
   ]
  },
  {
   "cell_type": "markdown",
   "metadata": {},
   "source": [
    "To extract:\n",
    "* seller name\n",
    "* seller email address\n",
    "* buyer name\n",
    "* buyer email address\n",
    "* start date\n",
    "* end date\n",
    "* total price\n",
    "* terms months\n",
    "* product/service names\n",
    "* price per user per service per month\n",
    "* number of users per service"
   ]
  },
  {
   "cell_type": "code",
   "execution_count": null,
   "metadata": {},
   "outputs": [],
   "source": [
    "answer = print_answer(\"There are two companies mentioned. Which company is the seller and which is the buyer? Repond in JSON format with keys 'buyer' and 'seller'\")\n",
    "company = json.loads(answer)\n",
    "seller, buyer = company['seller'], company['buyer']"
   ]
  },
  {
   "cell_type": "code",
   "execution_count": null,
   "metadata": {},
   "outputs": [],
   "source": [
    "contact_template = \"What is the name and email address of the person at company '{}'? Respond in JSON format with 'name' and 'email' being keys.\"\n",
    "contact_seller = contact_template.format(seller)\n",
    "contact_buyer = contact_template.format(buyer)"
   ]
  },
  {
   "cell_type": "code",
   "execution_count": null,
   "metadata": {},
   "outputs": [],
   "source": [
    "print_answer(contact_seller)"
   ]
  },
  {
   "cell_type": "code",
   "execution_count": null,
   "metadata": {},
   "outputs": [],
   "source": [
    "print_answer(contact_buyer)"
   ]
  },
  {
   "cell_type": "code",
   "execution_count": null,
   "metadata": {},
   "outputs": [],
   "source": [
    "print_answer(\"What is the contract start and end dates? Respond in JSON format with 'start_date' and 'end_date' being keys.\")"
   ]
  },
  {
   "cell_type": "code",
   "execution_count": null,
   "metadata": {},
   "outputs": [],
   "source": [
    "print_answer(f\"What are the products being sold by {seller} to {buyer}? Respond in JSON format as a list of key-value pairs with the keys 'product_name', 'price_per_user_per_month', 'number_of_users'.\")"
   ]
  },
  {
   "cell_type": "code",
   "execution_count": null,
   "metadata": {},
   "outputs": [],
   "source": [
    "print_answer(f\"What are the products being sold by {seller} to {buyer}? Respond in JSON format as a list of key-value pairs with the keys 'servicet_name', 'price_per_user_per_month', 'number_of_users'.\")"
   ]
  },
  {
   "cell_type": "code",
   "execution_count": null,
   "metadata": {},
   "outputs": [],
   "source": []
  }
 ],
 "metadata": {
  "kernelspec": {
   "display_name": "studies",
   "language": "python",
   "name": "python3"
  },
  "language_info": {
   "codemirror_mode": {
    "name": "ipython",
    "version": 3
   },
   "file_extension": ".py",
   "mimetype": "text/x-python",
   "name": "python",
   "nbconvert_exporter": "python",
   "pygments_lexer": "ipython3",
   "version": "3.11.9"
  }
 },
 "nbformat": 4,
 "nbformat_minor": 2
}
