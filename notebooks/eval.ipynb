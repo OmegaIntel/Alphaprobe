{
 "cells": [
  {
   "cell_type": "code",
   "execution_count": 1,
   "metadata": {},
   "outputs": [],
   "source": [
    "import os\n",
    "os.environ[\"BRAINTRUST_API_KEY\"]=\"sk-MbNKNf5DNKYncJDMpooa7SJr0g0aF2Xl4uk0JfrtqIp333GT\""
   ]
  },
  {
   "cell_type": "code",
   "execution_count": 2,
   "metadata": {},
   "outputs": [],
   "source": [
    "import pandas as pd\n",
    "# df = pd.read_csv(\"./sample_rag_outputs/ibis-healthcare-social-assistance_llama-parse_gpt-4o-mini.csv\")\n",
    "df = pd.read_csv(\"./sample_rag_outputs/ibis-healthcare-social-assistance_llm-sherpa_gpt-4o-mini.csv\")\n",
    "\n"
   ]
  },
  {
   "cell_type": "code",
   "execution_count": 12,
   "metadata": {},
   "outputs": [
    {
     "name": "stdout",
     "output_type": "stream",
     "text": [
      "(25, 8)\n"
     ]
    }
   ],
   "source": [
    "print(df.shape)"
   ]
  },
  {
   "cell_type": "code",
   "execution_count": 3,
   "metadata": {},
   "outputs": [
    {
     "data": {
      "text/html": [
       "<div>\n",
       "<style scoped>\n",
       "    .dataframe tbody tr th:only-of-type {\n",
       "        vertical-align: middle;\n",
       "    }\n",
       "\n",
       "    .dataframe tbody tr th {\n",
       "        vertical-align: top;\n",
       "    }\n",
       "\n",
       "    .dataframe thead th {\n",
       "        text-align: right;\n",
       "    }\n",
       "</style>\n",
       "<table border=\"1\" class=\"dataframe\">\n",
       "  <thead>\n",
       "    <tr style=\"text-align: right;\">\n",
       "      <th></th>\n",
       "      <th>question</th>\n",
       "      <th>answer</th>\n",
       "      <th>source type</th>\n",
       "      <th>answer type</th>\n",
       "      <th>page</th>\n",
       "      <th>file</th>\n",
       "      <th>explanation</th>\n",
       "      <th>rag_model_response</th>\n",
       "    </tr>\n",
       "  </thead>\n",
       "  <tbody>\n",
       "    <tr>\n",
       "      <th>0</th>\n",
       "      <td>What types of enterprises are included in the ...</td>\n",
       "      <td>The Healthcare and Social Assistance sector in...</td>\n",
       "      <td>text</td>\n",
       "      <td>other</td>\n",
       "      <td>5</td>\n",
       "      <td>62 Healthcare and Social Assistance in the US ...</td>\n",
       "      <td>Understanding the scope of the Healthcare and ...</td>\n",
       "      <td>The Healthcare and Social Assistance sector in...</td>\n",
       "    </tr>\n",
       "    <tr>\n",
       "      <th>1</th>\n",
       "      <td>How is telemedicine defined in the context of ...</td>\n",
       "      <td>Telemedicine is defined as an application of c...</td>\n",
       "      <td>text</td>\n",
       "      <td>other</td>\n",
       "      <td>5</td>\n",
       "      <td>62 Healthcare and Social Assistance in the US ...</td>\n",
       "      <td>Identifying key technological trends like tele...</td>\n",
       "      <td>Telemedicine is defined as an application of c...</td>\n",
       "    </tr>\n",
       "    <tr>\n",
       "      <th>2</th>\n",
       "      <td>What are Health Insurance Exchanges in the US ...</td>\n",
       "      <td>Health Insurance Exchanges are sets of state-r...</td>\n",
       "      <td>text</td>\n",
       "      <td>other</td>\n",
       "      <td>5</td>\n",
       "      <td>62 Healthcare and Social Assistance in the US ...</td>\n",
       "      <td>Understanding the structure of health insuranc...</td>\n",
       "      <td>Health Insurance Exchanges in the US healthcar...</td>\n",
       "    </tr>\n",
       "    <tr>\n",
       "      <th>3</th>\n",
       "      <td>What services are included in the Healthcare a...</td>\n",
       "      <td>The Healthcare and Social Assistance industry ...</td>\n",
       "      <td>text</td>\n",
       "      <td>other</td>\n",
       "      <td>6</td>\n",
       "      <td>62 Healthcare and Social Assistance in the US ...</td>\n",
       "      <td>Understanding the scope of services in the ind...</td>\n",
       "      <td>The Healthcare and Social Assistance industry ...</td>\n",
       "    </tr>\n",
       "    <tr>\n",
       "      <th>4</th>\n",
       "      <td>Who are some of the major companies operating ...</td>\n",
       "      <td>Major companies in the industry include Hca He...</td>\n",
       "      <td>text</td>\n",
       "      <td>other</td>\n",
       "      <td>6</td>\n",
       "      <td>62 Healthcare and Social Assistance in the US ...</td>\n",
       "      <td>Identifying key players helps in understanding...</td>\n",
       "      <td>The context does not specify particular compan...</td>\n",
       "    </tr>\n",
       "  </tbody>\n",
       "</table>\n",
       "</div>"
      ],
      "text/plain": [
       "                                            question   \n",
       "0  What types of enterprises are included in the ...  \\\n",
       "1  How is telemedicine defined in the context of ...   \n",
       "2  What are Health Insurance Exchanges in the US ...   \n",
       "3  What services are included in the Healthcare a...   \n",
       "4  Who are some of the major companies operating ...   \n",
       "\n",
       "                                              answer source type answer type   \n",
       "0  The Healthcare and Social Assistance sector in...        text       other  \\\n",
       "1  Telemedicine is defined as an application of c...        text       other   \n",
       "2  Health Insurance Exchanges are sets of state-r...        text       other   \n",
       "3  The Healthcare and Social Assistance industry ...        text       other   \n",
       "4  Major companies in the industry include Hca He...        text       other   \n",
       "\n",
       "   page                                               file   \n",
       "0     5  62 Healthcare and Social Assistance in the US ...  \\\n",
       "1     5  62 Healthcare and Social Assistance in the US ...   \n",
       "2     5  62 Healthcare and Social Assistance in the US ...   \n",
       "3     6  62 Healthcare and Social Assistance in the US ...   \n",
       "4     6  62 Healthcare and Social Assistance in the US ...   \n",
       "\n",
       "                                         explanation   \n",
       "0  Understanding the scope of the Healthcare and ...  \\\n",
       "1  Identifying key technological trends like tele...   \n",
       "2  Understanding the structure of health insuranc...   \n",
       "3  Understanding the scope of services in the ind...   \n",
       "4  Identifying key players helps in understanding...   \n",
       "\n",
       "                                  rag_model_response  \n",
       "0  The Healthcare and Social Assistance sector in...  \n",
       "1  Telemedicine is defined as an application of c...  \n",
       "2  Health Insurance Exchanges in the US healthcar...  \n",
       "3  The Healthcare and Social Assistance industry ...  \n",
       "4  The context does not specify particular compan...  "
      ]
     },
     "execution_count": 3,
     "metadata": {},
     "output_type": "execute_result"
    }
   ],
   "source": [
    "df.head()"
   ]
  },
  {
   "cell_type": "code",
   "execution_count": 4,
   "metadata": {},
   "outputs": [
    {
     "data": {
      "text/html": [
       "<div>\n",
       "<style scoped>\n",
       "    .dataframe tbody tr th:only-of-type {\n",
       "        vertical-align: middle;\n",
       "    }\n",
       "\n",
       "    .dataframe tbody tr th {\n",
       "        vertical-align: top;\n",
       "    }\n",
       "\n",
       "    .dataframe thead th {\n",
       "        text-align: right;\n",
       "    }\n",
       "</style>\n",
       "<table border=\"1\" class=\"dataframe\">\n",
       "  <thead>\n",
       "    <tr style=\"text-align: right;\">\n",
       "      <th></th>\n",
       "      <th>input</th>\n",
       "      <th>expected</th>\n",
       "      <th>source type</th>\n",
       "      <th>answer type</th>\n",
       "      <th>page</th>\n",
       "      <th>file</th>\n",
       "      <th>explanation</th>\n",
       "      <th>rag_model_response</th>\n",
       "    </tr>\n",
       "  </thead>\n",
       "  <tbody>\n",
       "    <tr>\n",
       "      <th>0</th>\n",
       "      <td>What types of enterprises are included in the ...</td>\n",
       "      <td>The Healthcare and Social Assistance sector in...</td>\n",
       "      <td>text</td>\n",
       "      <td>other</td>\n",
       "      <td>5</td>\n",
       "      <td>62 Healthcare and Social Assistance in the US ...</td>\n",
       "      <td>Understanding the scope of the Healthcare and ...</td>\n",
       "      <td>The Healthcare and Social Assistance sector in...</td>\n",
       "    </tr>\n",
       "    <tr>\n",
       "      <th>1</th>\n",
       "      <td>How is telemedicine defined in the context of ...</td>\n",
       "      <td>Telemedicine is defined as an application of c...</td>\n",
       "      <td>text</td>\n",
       "      <td>other</td>\n",
       "      <td>5</td>\n",
       "      <td>62 Healthcare and Social Assistance in the US ...</td>\n",
       "      <td>Identifying key technological trends like tele...</td>\n",
       "      <td>Telemedicine is defined as an application of c...</td>\n",
       "    </tr>\n",
       "    <tr>\n",
       "      <th>2</th>\n",
       "      <td>What are Health Insurance Exchanges in the US ...</td>\n",
       "      <td>Health Insurance Exchanges are sets of state-r...</td>\n",
       "      <td>text</td>\n",
       "      <td>other</td>\n",
       "      <td>5</td>\n",
       "      <td>62 Healthcare and Social Assistance in the US ...</td>\n",
       "      <td>Understanding the structure of health insuranc...</td>\n",
       "      <td>Health Insurance Exchanges in the US healthcar...</td>\n",
       "    </tr>\n",
       "    <tr>\n",
       "      <th>3</th>\n",
       "      <td>What services are included in the Healthcare a...</td>\n",
       "      <td>The Healthcare and Social Assistance industry ...</td>\n",
       "      <td>text</td>\n",
       "      <td>other</td>\n",
       "      <td>6</td>\n",
       "      <td>62 Healthcare and Social Assistance in the US ...</td>\n",
       "      <td>Understanding the scope of services in the ind...</td>\n",
       "      <td>The Healthcare and Social Assistance industry ...</td>\n",
       "    </tr>\n",
       "    <tr>\n",
       "      <th>4</th>\n",
       "      <td>Who are some of the major companies operating ...</td>\n",
       "      <td>Major companies in the industry include Hca He...</td>\n",
       "      <td>text</td>\n",
       "      <td>other</td>\n",
       "      <td>6</td>\n",
       "      <td>62 Healthcare and Social Assistance in the US ...</td>\n",
       "      <td>Identifying key players helps in understanding...</td>\n",
       "      <td>The context does not specify particular compan...</td>\n",
       "    </tr>\n",
       "  </tbody>\n",
       "</table>\n",
       "</div>"
      ],
      "text/plain": [
       "                                               input   \n",
       "0  What types of enterprises are included in the ...  \\\n",
       "1  How is telemedicine defined in the context of ...   \n",
       "2  What are Health Insurance Exchanges in the US ...   \n",
       "3  What services are included in the Healthcare a...   \n",
       "4  Who are some of the major companies operating ...   \n",
       "\n",
       "                                            expected source type answer type   \n",
       "0  The Healthcare and Social Assistance sector in...        text       other  \\\n",
       "1  Telemedicine is defined as an application of c...        text       other   \n",
       "2  Health Insurance Exchanges are sets of state-r...        text       other   \n",
       "3  The Healthcare and Social Assistance industry ...        text       other   \n",
       "4  Major companies in the industry include Hca He...        text       other   \n",
       "\n",
       "   page                                               file   \n",
       "0     5  62 Healthcare and Social Assistance in the US ...  \\\n",
       "1     5  62 Healthcare and Social Assistance in the US ...   \n",
       "2     5  62 Healthcare and Social Assistance in the US ...   \n",
       "3     6  62 Healthcare and Social Assistance in the US ...   \n",
       "4     6  62 Healthcare and Social Assistance in the US ...   \n",
       "\n",
       "                                         explanation   \n",
       "0  Understanding the scope of the Healthcare and ...  \\\n",
       "1  Identifying key technological trends like tele...   \n",
       "2  Understanding the structure of health insuranc...   \n",
       "3  Understanding the scope of services in the ind...   \n",
       "4  Identifying key players helps in understanding...   \n",
       "\n",
       "                                  rag_model_response  \n",
       "0  The Healthcare and Social Assistance sector in...  \n",
       "1  Telemedicine is defined as an application of c...  \n",
       "2  Health Insurance Exchanges in the US healthcar...  \n",
       "3  The Healthcare and Social Assistance industry ...  \n",
       "4  The context does not specify particular compan...  "
      ]
     },
     "execution_count": 4,
     "metadata": {},
     "output_type": "execute_result"
    }
   ],
   "source": [
    "# change the column names of question to input and answer to expected\n",
    "df.rename(columns={\"question\": \"input\", \"answer\": \"expected\"}, inplace=True)\n",
    "df.head()"
   ]
  },
  {
   "cell_type": "code",
   "execution_count": 5,
   "metadata": {},
   "outputs": [
    {
     "name": "stderr",
     "output_type": "stream",
     "text": [
      "/var/folders/9g/7kc65t_s0bgf2v24qc1f5tsw0000gn/T/ipykernel_54447/2608455778.py:5: SettingWithCopyWarning: \n",
      "A value is trying to be set on a copy of a slice from a DataFrame.\n",
      "Try using .loc[row_indexer,col_indexer] = value instead\n",
      "\n",
      "See the caveats in the documentation: https://pandas.pydata.org/pandas-docs/stable/user_guide/indexing.html#returning-a-view-versus-a-copy\n",
      "  labelled_df[\"input\"] = labelled_df.apply(lambda x: f\"{x.name}> {x.input}\", axis=1)\n"
     ]
    },
    {
     "data": {
      "text/html": [
       "<div>\n",
       "<style scoped>\n",
       "    .dataframe tbody tr th:only-of-type {\n",
       "        vertical-align: middle;\n",
       "    }\n",
       "\n",
       "    .dataframe tbody tr th {\n",
       "        vertical-align: top;\n",
       "    }\n",
       "\n",
       "    .dataframe thead th {\n",
       "        text-align: right;\n",
       "    }\n",
       "</style>\n",
       "<table border=\"1\" class=\"dataframe\">\n",
       "  <thead>\n",
       "    <tr style=\"text-align: right;\">\n",
       "      <th></th>\n",
       "      <th>input</th>\n",
       "      <th>expected</th>\n",
       "      <th>page</th>\n",
       "      <th>file</th>\n",
       "      <th>source type</th>\n",
       "      <th>answer type</th>\n",
       "    </tr>\n",
       "  </thead>\n",
       "  <tbody>\n",
       "    <tr>\n",
       "      <th>0</th>\n",
       "      <td>0&gt; What types of enterprises are included in t...</td>\n",
       "      <td>The Healthcare and Social Assistance sector in...</td>\n",
       "      <td>5</td>\n",
       "      <td>62 Healthcare and Social Assistance in the US ...</td>\n",
       "      <td>text</td>\n",
       "      <td>other</td>\n",
       "    </tr>\n",
       "    <tr>\n",
       "      <th>1</th>\n",
       "      <td>1&gt; How is telemedicine defined in the context ...</td>\n",
       "      <td>Telemedicine is defined as an application of c...</td>\n",
       "      <td>5</td>\n",
       "      <td>62 Healthcare and Social Assistance in the US ...</td>\n",
       "      <td>text</td>\n",
       "      <td>other</td>\n",
       "    </tr>\n",
       "    <tr>\n",
       "      <th>2</th>\n",
       "      <td>2&gt; What are Health Insurance Exchanges in the ...</td>\n",
       "      <td>Health Insurance Exchanges are sets of state-r...</td>\n",
       "      <td>5</td>\n",
       "      <td>62 Healthcare and Social Assistance in the US ...</td>\n",
       "      <td>text</td>\n",
       "      <td>other</td>\n",
       "    </tr>\n",
       "    <tr>\n",
       "      <th>3</th>\n",
       "      <td>3&gt; What services are included in the Healthcar...</td>\n",
       "      <td>The Healthcare and Social Assistance industry ...</td>\n",
       "      <td>6</td>\n",
       "      <td>62 Healthcare and Social Assistance in the US ...</td>\n",
       "      <td>text</td>\n",
       "      <td>other</td>\n",
       "    </tr>\n",
       "    <tr>\n",
       "      <th>4</th>\n",
       "      <td>4&gt; Who are some of the major companies operati...</td>\n",
       "      <td>Major companies in the industry include Hca He...</td>\n",
       "      <td>6</td>\n",
       "      <td>62 Healthcare and Social Assistance in the US ...</td>\n",
       "      <td>text</td>\n",
       "      <td>other</td>\n",
       "    </tr>\n",
       "  </tbody>\n",
       "</table>\n",
       "</div>"
      ],
      "text/plain": [
       "                                               input   \n",
       "0  0> What types of enterprises are included in t...  \\\n",
       "1  1> How is telemedicine defined in the context ...   \n",
       "2  2> What are Health Insurance Exchanges in the ...   \n",
       "3  3> What services are included in the Healthcar...   \n",
       "4  4> Who are some of the major companies operati...   \n",
       "\n",
       "                                            expected  page   \n",
       "0  The Healthcare and Social Assistance sector in...     5  \\\n",
       "1  Telemedicine is defined as an application of c...     5   \n",
       "2  Health Insurance Exchanges are sets of state-r...     5   \n",
       "3  The Healthcare and Social Assistance industry ...     6   \n",
       "4  Major companies in the industry include Hca He...     6   \n",
       "\n",
       "                                                file source type answer type  \n",
       "0  62 Healthcare and Social Assistance in the US ...        text       other  \n",
       "1  62 Healthcare and Social Assistance in the US ...        text       other  \n",
       "2  62 Healthcare and Social Assistance in the US ...        text       other  \n",
       "3  62 Healthcare and Social Assistance in the US ...        text       other  \n",
       "4  62 Healthcare and Social Assistance in the US ...        text       other  "
      ]
     },
     "execution_count": 5,
     "metadata": {},
     "output_type": "execute_result"
    }
   ],
   "source": [
    "# select the columns \"input\" ,\"expected\", \"page\", \"file\", \"source type\", \"answer type\" from the dataframe\n",
    "labelled_df = df[[\"input\", \"expected\", \"page\", \"file\", \"source type\", \"answer type\"]]\n",
    "\n",
    "# modify the input column to add the prefix row number from the index to the input\n",
    "labelled_df[\"input\"] = labelled_df.apply(lambda x: f\"{x.name}> {x.input}\", axis=1)\n",
    "labelled_df.head()\n"
   ]
  },
  {
   "cell_type": "code",
   "execution_count": 11,
   "metadata": {},
   "outputs": [
    {
     "name": "stdout",
     "output_type": "stream",
     "text": [
      "(25, 6)\n"
     ]
    }
   ],
   "source": [
    "print(labelled_df.shape)"
   ]
  },
  {
   "cell_type": "code",
   "execution_count": 6,
   "metadata": {},
   "outputs": [
    {
     "data": {
      "text/plain": [
       "[{'input': '0> What types of enterprises are included in the Healthcare and Social Assistance sector in the United States?',\n",
       "  'expected': 'The Healthcare and Social Assistance sector includes hospitals, ambulatory service providers, nursing and residential care facilities, counselors, social workers, family and welfare services, and natural disaster and emergency relief services.',\n",
       "  'page': 5,\n",
       "  'file': '62 Healthcare and Social Assistance in the US Industry Report.pdf',\n",
       "  'source type': 'text',\n",
       "  'answer type': 'other'},\n",
       " {'input': '1> How is telemedicine defined in the context of the Healthcare and Social Assistance industry?',\n",
       "  'expected': 'Telemedicine is defined as an application of clinical medicine whereby medical information is transferred through interactive audiovisual media for the purpose of consulting and remote medical procedures or examinations.',\n",
       "  'page': 5,\n",
       "  'file': '62 Healthcare and Social Assistance in the US Industry Report.pdf',\n",
       "  'source type': 'text',\n",
       "  'answer type': 'other'}]"
      ]
     },
     "execution_count": 6,
     "metadata": {},
     "output_type": "execute_result"
    }
   ],
   "source": [
    "# convert the labelled dataframe to list of dictionaries\n",
    "labelled_data = labelled_df.to_dict(orient=\"records\")\n",
    "labelled_data[:2]"
   ]
  },
  {
   "cell_type": "code",
   "execution_count": 7,
   "metadata": {},
   "outputs": [
    {
     "data": {
      "text/plain": [
       "'The Healthcare and Social Assistance sector in the United States includes enterprises such as hospitals, ambulatory service providers, nursing and residential care facilities, counselors, social workers, family and welfare services, and organizations providing natural disaster and emergency relief services.'"
      ]
     },
     "execution_count": 7,
     "metadata": {},
     "output_type": "execute_result"
    }
   ],
   "source": [
    "from braintrust import Eval\n",
    " \n",
    "from autoevals import Factuality\n",
    "from autoevals.ragas import *\n",
    "\n",
    "\n",
    "\n",
    "def my_task(input):\n",
    "    row_number = int(input.split(\"> \")[0])\n",
    "    return df.loc[row_number, \"rag_model_response\"]\n",
    " \n",
    "\n",
    "my_task(\"0> What is the name of the organization that provides healthcare and social assistance services to the community?\")\n"
   ]
  },
  {
   "cell_type": "code",
   "execution_count": 9,
   "metadata": {},
   "outputs": [
    {
     "data": {
      "text/plain": [
       "<Task pending name='Task-228' coro=<Eval.<locals>.run_to_completion() running at /Users/mbajaj/anaconda/envs/multiplai/lib/python3.10/site-packages/braintrust/framework.py:536>>"
      ]
     },
     "execution_count": 9,
     "metadata": {},
     "output_type": "execute_result"
    },
    {
     "name": "stderr",
     "output_type": "stream",
     "text": [
      "Experiment users/mohit/rag-1727930503 is running at https://www.braintrust.dev/app/Omega/p/ibis-healthcare-social-assistance_llama-parse_gpt-4o-mini/experiments/users%2Fmohit%2Frag-1727930503\n",
      "ibis-healthcare-social-assistance_llama-parse_gpt-4o-mini (data): 25it [00:00, 12775.05it/s]\n"
     ]
    },
    {
     "data": {
      "application/vnd.jupyter.widget-view+json": {
       "model_id": "81f203b2dbe4466798986d7a24fd1e82",
       "version_major": 2,
       "version_minor": 0
      },
      "text/plain": [
       "ibis-healthcare-social-assistance_llama-parse_gpt-4o-mini (tasks):   0%|          | 0/25 [00:00<?, ?it/s]"
      ]
     },
     "metadata": {},
     "output_type": "display_data"
    },
    {
     "name": "stdout",
     "output_type": "stream",
     "text": [
      "\n",
      "=========================SUMMARY=========================\n",
      "users/mohit/rag-1727930503 compared to users/mohit/rag-1727930135:\n",
      "64.62% (-02.79%) 'AnswerCorrectness'   score\t(12 improvements, 13 regressions)\n",
      "71.20% (-05.84%) 'EmbeddingSimilarity' score\t(12 improvements, 13 regressions)\n",
      "44.00% (-19.20%) 'Factuality'          score\t(3 improvements, 8 regressions)\n",
      "\n",
      "0.06s (-00.26%) 'duration'         \t(11 improvements, 13 regressions)\n",
      "0tok (-) 'prompt_tokens'    \t(0 improvements, 0 regressions)\n",
      "0tok (-) 'completion_tokens'\t(0 improvements, 0 regressions)\n",
      "0tok (-) 'total_tokens'     \t(0 improvements, 0 regressions)\n",
      "\n",
      "See results for users/mohit/rag-1727930503 at https://www.braintrust.dev/app/Omega/p/ibis-healthcare-social-assistance_llama-parse_gpt-4o-mini/experiments/users%2Fmohit%2Frag-1727930503\n"
     ]
    }
   ],
   "source": [
    "Eval(\n",
    "    \"ibis-healthcare-social-assistance_llama-parse_gpt-4o-mini\",  # Replace with your project name\n",
    "    data=labelled_data,\n",
    "    task=my_task,\n",
    "    scores=[Factuality, AnswerSimilarity, AnswerCorrectness],\n",
    ")"
   ]
  }
 ],
 "metadata": {
  "kernelspec": {
   "display_name": "multiplai",
   "language": "python",
   "name": "python3"
  },
  "language_info": {
   "codemirror_mode": {
    "name": "ipython",
    "version": 3
   },
   "file_extension": ".py",
   "mimetype": "text/x-python",
   "name": "python",
   "nbconvert_exporter": "python",
   "pygments_lexer": "ipython3",
   "version": "3.10.8"
  }
 },
 "nbformat": 4,
 "nbformat_minor": 2
}
