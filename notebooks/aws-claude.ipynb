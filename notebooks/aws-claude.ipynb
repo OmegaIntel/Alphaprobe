{
 "cells": [
  {
   "cell_type": "markdown",
   "metadata": {},
   "source": [
    "# Rely on LLM's to extract info from docs\n",
    "\n",
    "Will save them in JSON for future reuse."
   ]
  },
  {
   "cell_type": "code",
   "execution_count": 1,
   "metadata": {},
   "outputs": [
    {
     "data": {
      "text/plain": [
       "True"
      ]
     },
     "execution_count": 1,
     "metadata": {},
     "output_type": "execute_result"
    }
   ],
   "source": [
    "import os\n",
    "from dotenv import load_dotenv\n",
    "import boto3\n",
    "import json\n",
    "import dateparser\n",
    "from typing import List\n",
    "from glob import glob\n",
    "\n",
    "from Templates.ibis_aws_summary_template import IBIS_SUMMARY_TEMPLATE\n",
    "\n",
    "from Templates.aws_basic_info_template import TEMPLATE as BASIC_TEMPLATE\n",
    "from Templates.aws_templates_common import build_aws_template\n",
    "\n",
    "load_dotenv()"
   ]
  },
  {
   "cell_type": "code",
   "execution_count": 2,
   "metadata": {},
   "outputs": [],
   "source": [
    "AWS_REGION_NAME = 'us-west-2'\n",
    "aws_access_key_id = os.getenv('AWS_ACCESS_KEY_ID')\n",
    "aws_secret_access_key = os.getenv('AWS_SECRET_ACCESS_KEY')\n",
    "\n",
    "# https://boto3.amazonaws.com/v1/documentation/api/latest/reference/services/bedrock-runtime.html\n",
    "bedrock = boto3.client(\n",
    "    service_name='bedrock-runtime',\n",
    "    aws_access_key_id=aws_access_key_id,\n",
    "    aws_secret_access_key=aws_secret_access_key,\n",
    "    region_name=AWS_REGION_NAME\n",
    ")"
   ]
  },
  {
   "cell_type": "code",
   "execution_count": 3,
   "metadata": {},
   "outputs": [],
   "source": [
    "# trouble-shooting: use a different client with service_name 'bedrock', not 'bedrock-runtime'\n",
    "# https://docs.aws.amazon.com/bedrock/latest/APIReference/welcome.html\n",
    "# https://boto3.amazonaws.com/v1/documentation/api/latest/reference/services/bedrock.html\n",
    "\n",
    "# client = boto3.client(\n",
    "#     service_name='bedrock',\n",
    "#     aws_access_key_id=aws_access_key_id,\n",
    "#     aws_secret_access_key=aws_secret_access_key,\n",
    "#     region_name=AWS_REGION_NAME\n",
    "# )\n",
    "\n",
    "# summ = client.list_foundation_models()['modelSummaries']\n",
    "# [model for model in summ if 'Sonnet' in model['modelName']]"
   ]
  },
  {
   "cell_type": "code",
   "execution_count": 4,
   "metadata": {},
   "outputs": [],
   "source": [
    "# [m for m in dir(bedrock) if not m.startswith('_')]\n",
    "# help(bedrock.converse)"
   ]
  },
  {
   "cell_type": "code",
   "execution_count": 5,
   "metadata": {},
   "outputs": [],
   "source": [
    "def get_raw_pdf_part(filename: str) -> dict:\n",
    "    \"\"\"This works best and parses quickly.\"\"\"\n",
    "    content = open(filename, 'rb').read()\n",
    "    return {\n",
    "        \"document\": {\n",
    "            \"format\": \"pdf\",\n",
    "            \"name\": 'document',\n",
    "            \"source\": {\n",
    "                \"bytes\": content\n",
    "            }\n",
    "        }\n",
    "    }\n",
    "\n",
    "\n",
    "def response_to_template(template: dict, filename: str) -> dict:\n",
    "\n",
    "    prompt = \"\"\"\n",
    "    You are an expert in extracting market and financial data from documents.\n",
    "    Extract essential data from text in the enclosed document.\n",
    "\n",
    "    Return the result in JSON format. Do not use non-JSON tags such as <property> or <UNKNOWN>.\n",
    "    Use only simple keys with units, such as \"historical_revenue_growth_percentage\" or \"establishments_count\" or \"revenue_dollars\".\n",
    "    \"\"\"\n",
    "\n",
    "    initial_message = {\n",
    "        \"role\": \"user\",\n",
    "        \"content\": [\n",
    "            {\n",
    "                \"text\": prompt,\n",
    "            },\n",
    "        ],\n",
    "    }\n",
    "\n",
    "    initial_message['content'].append(get_raw_pdf_part(filename))\n",
    "\n",
    "    tool_list = [{\n",
    "        \"toolSpec\": template\n",
    "    }]\n",
    "    response = bedrock.converse(\n",
    "        modelId=\"anthropic.claude-3-sonnet-20240229-v1:0\",\n",
    "        # modelId=\"meta.llama3-1-405b-instruct-v1:0\",\n",
    "        messages=[initial_message],\n",
    "        inferenceConfig={\n",
    "            \"temperature\": 0\n",
    "        },\n",
    "        toolConfig={\n",
    "            \"tools\": tool_list,\n",
    "            \"toolChoice\": {\n",
    "                \"tool\": {\n",
    "                    \"name\": \"info_extract\"\n",
    "                }\n",
    "            }\n",
    "        }\n",
    "    )\n",
    "    core_response = response['output']['message']['content'][0]['toolUse']['input']\n",
    "    if 'properties' in core_response:\n",
    "        core_response: dict = core_response['properties']\n",
    "    for k, v in core_response.items():\n",
    "        if isinstance(v, str) and v[0] in '{[' and v[-1] in ']}':\n",
    "            try:\n",
    "                core_response[k] = json.loads(v)\n",
    "            except Exception:\n",
    "                pass\n",
    "\n",
    "    return core_response"
   ]
  },
  {
   "cell_type": "code",
   "execution_count": 6,
   "metadata": {},
   "outputs": [],
   "source": [
    "def info_from_doc_template(filename: str, template_parts: List[dict]) -> dict:\n",
    "    \"\"\"Populate the separate templates and merge the result.\"\"\"\n",
    "    full_templates = build_aws_template(template_parts)\n",
    "    results = [response_to_template(part, filename) for part in full_templates]\n",
    "\n",
    "    total = {}\n",
    "    for result in results:\n",
    "        total.update(result)\n",
    "\n",
    "    return total"
   ]
  },
  {
   "cell_type": "code",
   "execution_count": 11,
   "metadata": {},
   "outputs": [],
   "source": [
    "# filenames = glob('IndustrySource/Misc/*')\n",
    "filenames = [\n",
    "    'IndustrySource/Misc/51 Information in the US Industry Report copy.pdf',\n",
    "    # 'IndustrySource/Misc/United_States_Healthcare_Repor copy.pdf'\n",
    "]\n",
    "out = []\n",
    "\n",
    "for filename in filenames[:5]:\n",
    "    basic_info = info_from_doc_template(filename, BASIC_TEMPLATE)\n",
    "    out.append(basic_info)"
   ]
  },
  {
   "cell_type": "code",
   "execution_count": 8,
   "metadata": {},
   "outputs": [
    {
     "data": {
      "text/plain": [
       "{'title': 'United States Healthcare Report',\n",
       " 'source': 'BMI',\n",
       " 'last_updated': 'April 2024'}"
      ]
     },
     "execution_count": 8,
     "metadata": {},
     "output_type": "execute_result"
    }
   ],
   "source": [
    "out[0]"
   ]
  },
  {
   "cell_type": "code",
   "execution_count": 9,
   "metadata": {},
   "outputs": [
    {
     "data": {
      "text/plain": [
       "'IndustrySource/Misc/United_States_Healthcare_Repor copy.pdf'"
      ]
     },
     "execution_count": 9,
     "metadata": {},
     "output_type": "execute_result"
    }
   ],
   "source": [
    "filenames[0]"
   ]
  },
  {
   "cell_type": "code",
   "execution_count": 10,
   "metadata": {},
   "outputs": [
    {
     "ename": "ZeroDivisionError",
     "evalue": "division by zero",
     "output_type": "error",
     "traceback": [
      "\u001b[0;31m---------------------------------------------------------------------------\u001b[0m",
      "\u001b[0;31mZeroDivisionError\u001b[0m                         Traceback (most recent call last)",
      "Cell \u001b[0;32mIn[10], line 1\u001b[0m\n\u001b[0;32m----> 1\u001b[0m \u001b[38;5;241;43m0\u001b[39;49m\u001b[38;5;241;43m/\u001b[39;49m\u001b[38;5;241;43m0\u001b[39;49m\n",
      "\u001b[0;31mZeroDivisionError\u001b[0m: division by zero"
     ]
    }
   ],
   "source": [
    "0/0"
   ]
  },
  {
   "cell_type": "code",
   "execution_count": 7,
   "metadata": {},
   "outputs": [],
   "source": [
    "def parse_save_file(filename: str):\n",
    "    \"\"\"Extract info and save it.\"\"\"\n",
    "    ibis_summary = ibis_industry_summary(filename)\n",
    "    last_updated = dateparser.parse(ibis_summary['last_updated']).isoformat()\n",
    "    last_updated = last_updated.replace(' ', 'T') + '+00:00'\n",
    "\n",
    "    out = {\n",
    "        'title': f'{ibis_summary[\"industry_name\"]} Industry Report',\n",
    "\n",
    "        'category': 'Industry research',\n",
    "        'subcategory': 'IBIS Industry at a Glance',\n",
    "        'tags': ['test', 'industry report', 'IBIS'],\n",
    "        \n",
    "        'last_updated': last_updated,\n",
    "\n",
    "        'summary': ibis_summary,\n",
    "    }\n",
    "\n",
    "    out_filename = filename.replace('Source', 'Summary').replace('.pdf', '.json')\n",
    "    json.dump(out, open(out_filename, 'w'), indent=2)"
   ]
  },
  {
   "cell_type": "code",
   "execution_count": 8,
   "metadata": {},
   "outputs": [],
   "source": [
    "filenames = [\n",
    "    'IndustrySource/IBIS/Household Furniture Manufacturing in the US.pdf',\n",
    "    'IndustrySource/IBIS/Furniture Stores in the US.pdf',\n",
    "    \"IndustrySource/IBIS/IT Consulting in the US.pdf\",\n",
    "]\n",
    "for filename in filenames:\n",
    "    parse_save_file(filename, from_text=False)"
   ]
  }
 ],
 "metadata": {
  "kernelspec": {
   "display_name": "probe",
   "language": "python",
   "name": "python3"
  },
  "language_info": {
   "codemirror_mode": {
    "name": "ipython",
    "version": 3
   },
   "file_extension": ".py",
   "mimetype": "text/x-python",
   "name": "python",
   "nbconvert_exporter": "python",
   "pygments_lexer": "ipython3",
   "version": "3.11.9"
  }
 },
 "nbformat": 4,
 "nbformat_minor": 2
}
