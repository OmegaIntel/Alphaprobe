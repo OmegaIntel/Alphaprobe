{
 "cells": [
  {
   "cell_type": "code",
   "execution_count": 1,
   "metadata": {},
   "outputs": [
    {
     "data": {
      "text/plain": [
       "True"
      ]
     },
     "execution_count": 1,
     "metadata": {},
     "output_type": "execute_result"
    }
   ],
   "source": [
    "import os\n",
    "from dotenv import load_dotenv\n",
    "import boto3\n",
    "import json\n",
    "import base64\n",
    "\n",
    "from aws_summary_template import SUMMARY_TEMPLATE_1, SUMMARY_TEMPLATE_2\n",
    "\n",
    "load_dotenv()"
   ]
  },
  {
   "cell_type": "code",
   "execution_count": 2,
   "metadata": {},
   "outputs": [],
   "source": [
    "AWS_REGION_NAME = 'us-west-2'\n",
    "aws_access_key_id = os.getenv('AWS_ACCESS_KEY_ID')\n",
    "aws_secret_access_key = os.getenv('AWS_SECRET_ACCESS_KEY')\n",
    "\n",
    "# https://boto3.amazonaws.com/v1/documentation/api/latest/reference/services/bedrock-runtime.html\n",
    "bedrock = boto3.client(\n",
    "    service_name='bedrock-runtime',\n",
    "    aws_access_key_id=aws_access_key_id,\n",
    "    aws_secret_access_key=aws_secret_access_key,\n",
    "    region_name=AWS_REGION_NAME\n",
    ")"
   ]
  },
  {
   "cell_type": "code",
   "execution_count": 3,
   "metadata": {},
   "outputs": [],
   "source": [
    "# trouble-shooting: use a different client with service_name 'bedrock', not 'bedrock-runtime'\n",
    "# https://docs.aws.amazon.com/bedrock/latest/APIReference/welcome.html\n",
    "# https://boto3.amazonaws.com/v1/documentation/api/latest/reference/services/bedrock.html\n",
    "\n",
    "# client = boto3.client(\n",
    "#     service_name='bedrock',\n",
    "#     aws_access_key_id=aws_access_key_id,\n",
    "#     aws_secret_access_key=aws_secret_access_key,\n",
    "#     region_name=AWS_REGION_NAME\n",
    "# )\n",
    "\n",
    "# summ = client.list_foundation_models()['modelSummaries']\n",
    "# [model for model in summ if 'Sonnet' in model['modelName']]"
   ]
  },
  {
   "cell_type": "code",
   "execution_count": 4,
   "metadata": {},
   "outputs": [],
   "source": [
    "# [m for m in dir(bedrock) if not m.startswith('_')]\n",
    "# help(bedrock.converse)"
   ]
  },
  {
   "cell_type": "code",
   "execution_count": 5,
   "metadata": {},
   "outputs": [],
   "source": [
    "filename = \"IT Consulting in the US.pdf\"\n",
    "content = open(filename, 'rb').read()\n",
    "encoded = base64.b64encode(content)\n",
    "\n",
    "prompt = \"\"\"\n",
    "You are an expert in extracting market and financial data from documents.\n",
    "Extract essential data from text in the enclosed document.\n",
    "\n",
    "Return the result in JSON format. Do not use non-JSON tags, such as <property>.\n",
    "Use only simple keys with units, such as \"historical_revenue_growth_percentage\" or \"establishments_count\" or \"revenue_dollars\".\n",
    "\"\"\"\n",
    "\n",
    "# Return the result in JSON format. Do not use non-JSON tags or values, such as <property> or <UNKNOWN>.\n",
    "# historical_revenue_growth\n",
    "# Do not use text in graphics, only use plain text.\n",
    "\n",
    "# Split paragraphs into sentences preceded by the subject. For example:\n",
    "# \"Revenue Growth: Revenue has grown at a CAGR of 2.8% to $692.9 billion over the past five years.\"\n",
    "\n",
    "\n",
    "initial_message = {\n",
    "    \"role\": \"user\",\n",
    "    \"content\": [\n",
    "        {\n",
    "            \"text\": prompt,\n",
    "        },\n",
    "        {\n",
    "            \"document\": {\n",
    "                \"format\": \"pdf\",\n",
    "                \"name\": 'document',\n",
    "                \"source\": {\n",
    "                    \"bytes\": content\n",
    "                }\n",
    "            }\n",
    "        }\n",
    "    ],\n",
    "}\n",
    "\n",
    "\n",
    "def response_to_template(template: dict) -> dict:\n",
    "    tool_list = [{\n",
    "        \"toolSpec\": template\n",
    "    }]\n",
    "    response = bedrock.converse(\n",
    "        modelId=\"anthropic.claude-3-sonnet-20240229-v1:0\",\n",
    "        # modelId=\"meta.llama3-1-405b-instruct-v1:0\",\n",
    "        messages=[initial_message],\n",
    "        inferenceConfig={\n",
    "            \"temperature\": 0\n",
    "        },\n",
    "        toolConfig={\n",
    "            \"tools\": tool_list,\n",
    "            \"toolChoice\": {\n",
    "                \"tool\": {\n",
    "                    \"name\": \"summarize_document\"\n",
    "                }\n",
    "            }\n",
    "        }\n",
    "    )\n",
    "    return response['output']['message']['content'][0]['toolUse'][\"input\"]"
   ]
  },
  {
   "cell_type": "code",
   "execution_count": 6,
   "metadata": {},
   "outputs": [
    {
     "name": "stdout",
     "output_type": "stream",
     "text": [
      "{\n",
      "  \"key_trends\": [\n",
      "    \"The industry has experienced a shift towards cloud computing and data analytics\",\n",
      "    \"Major players have looked to gain an advantage through mergers and acquisitions\",\n",
      "    \"The pandemic and expansion of business IT budgets increased demand for services\",\n",
      "    \"Continued innovation and shifting technological trends will boost future demand\"\n",
      "  ],\n",
      "  \"market_segmentation\": [\n",
      "    {\n",
      "      \"segment\": \"Financial services companies\",\n",
      "      \"percentage\": 20.8\n",
      "    },\n",
      "    {\n",
      "      \"segment\": \"Communications, media and technology companies\",\n",
      "      \"percentage\": 15.0\n",
      "    },\n",
      "    {\n",
      "      \"segment\": \"Manufacturing and retail companies\",\n",
      "      \"percentage\": 22.2\n",
      "    },\n",
      "    {\n",
      "      \"segment\": \"Healthcare companies\",\n",
      "      \"percentage\": 12.9\n",
      "    },\n",
      "    {\n",
      "      \"segment\": \"Public sector and nonprofit organizations\",\n",
      "      \"percentage\": 18.8\n",
      "    },\n",
      "    {\n",
      "      \"segment\": \"Other sectors\",\n",
      "      \"percentage\": 10.3\n",
      "    }\n",
      "  ],\n",
      "  \"products_and_services\": [\n",
      "    {\n",
      "      \"product_or_service\": \"Custom services\",\n",
      "      \"percentage\": 25.1\n",
      "    },\n",
      "    {\n",
      "      \"product_or_service\": \"IT infrastructure\",\n",
      "      \"percentage\": 7.6\n",
      "    },\n",
      "    {\n",
      "      \"product_or_service\": \"Computer systems development\",\n",
      "      \"percentage\": 10.6\n",
      "    },\n",
      "    {\n",
      "      \"product_or_service\": \"Technical support\",\n",
      "      \"percentage\": 8.9\n",
      "    },\n",
      "    {\n",
      "      \"product_or_service\": \"Technical consulting\",\n",
      "      \"percentage\": 10.5\n",
      "    },\n",
      "    {\n",
      "      \"product_or_service\": \"Other services\",\n",
      "      \"percentage\": 37.3\n",
      "    }\n",
      "  ],\n",
      "  \"related_international_industries\": [\n",
      "    \"Computer System Design Services in Australia\",\n",
      "    \"Computer Consultants in the UK\",\n",
      "    \"IT Consulting in Canada\",\n",
      "    \"Computer System Design Services in New Zealand\",\n",
      "    \"Computer Consultants in Ireland\"\n",
      "  ],\n",
      "  \"supply_chain\": {\n",
      "    \"tier_1_suppliers\": [\n",
      "      \"Software Publishing in the US\",\n",
      "      \"Computer & Packaged Software Wholesaling in the US\",\n",
      "      \"Internet Service Providers in the US\"\n",
      "    ],\n",
      "    \"tier_2_suppliers\": [\n",
      "      \"Computer Manufacturing in the US\",\n",
      "      \"Computer Peripheral Manufacturing in the US\",\n",
      "      \"Communication Equipment Manufacturing in the US\"\n",
      "    ],\n",
      "    \"tier_1_buyers\": [\n",
      "      \"Retail Trade in the US\",\n",
      "      \"Hospitals in the US\",\n",
      "      \"Finance and Insurance in the US\",\n",
      "      \"Healthcare and Social Assistance in the US\",\n",
      "      \"Manufacturing in the US\"\n",
      "    ]\n",
      "  }\n",
      "}\n"
     ]
    }
   ],
   "source": [
    "# core_response = response_to_template(SUMMARY_TEMPLATE_1)\n",
    "core_response = response_to_template(SUMMARY_TEMPLATE_2)\n",
    "\n",
    "for k, v in core_response.items():\n",
    "    if isinstance(v, str):\n",
    "        try:\n",
    "            core_response[k] = json.loads(v)\n",
    "        except Exception:\n",
    "            pass\n",
    "\n",
    "print(json.dumps(core_response, indent=2))"
   ]
  },
  {
   "cell_type": "code",
   "execution_count": 7,
   "metadata": {},
   "outputs": [
    {
     "data": {
      "text/plain": [
       "['key_trends',\n",
       " 'market_segmentation',\n",
       " 'products_and_services',\n",
       " 'related_international_industries',\n",
       " 'supply_chain']"
      ]
     },
     "execution_count": 7,
     "metadata": {},
     "output_type": "execute_result"
    }
   ],
   "source": [
    "list(core_response.keys())"
   ]
  },
  {
   "cell_type": "code",
   "execution_count": 10,
   "metadata": {},
   "outputs": [
    {
     "data": {
      "text/plain": [
       "{'tier_1_suppliers': ['Software Publishing in the US',\n",
       "  'Computer & Packaged Software Wholesaling in the US',\n",
       "  'Internet Service Providers in the US'],\n",
       " 'tier_2_suppliers': ['Computer Manufacturing in the US',\n",
       "  'Computer Peripheral Manufacturing in the US',\n",
       "  'Communication Equipment Manufacturing in the US'],\n",
       " 'tier_1_buyers': ['Retail Trade in the US',\n",
       "  'Hospitals in the US',\n",
       "  'Finance and Insurance in the US',\n",
       "  'Healthcare and Social Assistance in the US',\n",
       "  'Manufacturing in the US']}"
      ]
     },
     "execution_count": 10,
     "metadata": {},
     "output_type": "execute_result"
    }
   ],
   "source": [
    "core_response['supply_chain']"
   ]
  },
  {
   "cell_type": "code",
   "execution_count": null,
   "metadata": {},
   "outputs": [],
   "source": []
  }
 ],
 "metadata": {
  "kernelspec": {
   "display_name": "probe",
   "language": "python",
   "name": "python3"
  },
  "language_info": {
   "codemirror_mode": {
    "name": "ipython",
    "version": 3
   },
   "file_extension": ".py",
   "mimetype": "text/x-python",
   "name": "python",
   "nbconvert_exporter": "python",
   "pygments_lexer": "ipython3",
   "version": "3.11.9"
  }
 },
 "nbformat": 4,
 "nbformat_minor": 2
}
