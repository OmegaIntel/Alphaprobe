{
 "cells": [
  {
   "cell_type": "code",
   "execution_count": 1,
   "metadata": {},
   "outputs": [
    {
     "data": {
      "text/plain": [
       "True"
      ]
     },
     "execution_count": 1,
     "metadata": {},
     "output_type": "execute_result"
    }
   ],
   "source": [
    "import os\n",
    "from dotenv import load_dotenv\n",
    "import boto3\n",
    "import json\n",
    "import base64\n",
    "\n",
    "from aws_summary_template import SUMMARY_TEMPLATE\n",
    "\n",
    "load_dotenv()"
   ]
  },
  {
   "cell_type": "code",
   "execution_count": 2,
   "metadata": {},
   "outputs": [],
   "source": [
    "AWS_REGION_NAME = 'us-west-2'\n",
    "aws_access_key_id = os.getenv('AWS_ACCESS_KEY_ID')\n",
    "aws_secret_access_key = os.getenv('AWS_SECRET_ACCESS_KEY')\n",
    "\n",
    "# https://boto3.amazonaws.com/v1/documentation/api/latest/reference/services/bedrock-runtime.html\n",
    "bedrock = boto3.client(\n",
    "    service_name='bedrock-runtime',\n",
    "    aws_access_key_id=aws_access_key_id,\n",
    "    aws_secret_access_key=aws_secret_access_key,\n",
    "    region_name=AWS_REGION_NAME\n",
    ")"
   ]
  },
  {
   "cell_type": "code",
   "execution_count": 3,
   "metadata": {},
   "outputs": [],
   "source": [
    "# trouble-shooting: use a different client with service_name 'bedrock', not 'bedrock-runtime'\n",
    "# https://docs.aws.amazon.com/bedrock/latest/APIReference/welcome.html\n",
    "# https://boto3.amazonaws.com/v1/documentation/api/latest/reference/services/bedrock.html\n",
    "\n",
    "# client = boto3.client(\n",
    "#     service_name='bedrock',\n",
    "#     aws_access_key_id=aws_access_key_id,\n",
    "#     aws_secret_access_key=aws_secret_access_key,\n",
    "#     region_name=AWS_REGION_NAME\n",
    "# )\n",
    "\n",
    "# summ = client.list_foundation_models()['modelSummaries']\n",
    "# [model for model in summ if 'Sonnet' in model['modelName']]"
   ]
  },
  {
   "cell_type": "code",
   "execution_count": 4,
   "metadata": {},
   "outputs": [],
   "source": [
    "# [m for m in dir(bedrock) if not m.startswith('_')]\n",
    "# help(bedrock.converse)"
   ]
  },
  {
   "cell_type": "code",
   "execution_count": 5,
   "metadata": {},
   "outputs": [],
   "source": [
    "if False:\n",
    "    message_list = []\n",
    "\n",
    "    initial_message = {\n",
    "        \"role\": \"user\",\n",
    "        \"content\": [\n",
    "            { \"text\": \"How are you today?\" } \n",
    "        ],\n",
    "    }\n",
    "\n",
    "    message_list.append(initial_message)\n",
    "\n",
    "    response = bedrock.converse(\n",
    "        modelId=\"anthropic.claude-3-sonnet-20240229-v1:0\",\n",
    "        messages=message_list,\n",
    "        inferenceConfig={\n",
    "            \"maxTokens\": 2000,\n",
    "            \"temperature\": 0\n",
    "        },\n",
    "    )\n",
    "\n",
    "    response_message = response['output']['message']\n",
    "    print(json.dumps(response_message, indent=4))"
   ]
  },
  {
   "cell_type": "code",
   "execution_count": 6,
   "metadata": {},
   "outputs": [],
   "source": [
    "tool_list = [{\n",
    "    \"toolSpec\": SUMMARY_TEMPLATE\n",
    "}]\n"
   ]
  },
  {
   "cell_type": "code",
   "execution_count": 7,
   "metadata": {},
   "outputs": [],
   "source": [
    "filename = \"IT Consulting in the US.pdf\"\n",
    "content = open(filename, 'rb').read()\n",
    "encoded = base64.b64encode(content)\n",
    "\n",
    "prompt = \"\"\"\n",
    "You are an expert in extracting market and financial data from documents.\n",
    "Extract essential data from the enclosed document.\n",
    "\n",
    "Split paragraphs into sentences preceded by the subject. For example:\n",
    "\"Revenue Growth: Revenue has grown at a CAGR of 2.8% to $692.9 billion over the past five years.\"\n",
    "\n",
    "Return the result in JSON format. Only return JSON and nothing else.\n",
    "\"\"\"\n",
    "\n",
    "initial_message = {\n",
    "    \"role\": \"user\",\n",
    "    \"content\": [\n",
    "        {\n",
    "            \"text\": prompt,\n",
    "        },\n",
    "        {\n",
    "            \"document\": {\n",
    "                \"format\": \"pdf\",\n",
    "                \"name\": 'document',\n",
    "                \"source\": {\n",
    "                    \"bytes\": content\n",
    "                }\n",
    "            }\n",
    "        }\n",
    "    ],\n",
    "}\n",
    "\n",
    "response = bedrock.converse(\n",
    "    modelId=\"anthropic.claude-3-sonnet-20240229-v1:0\",\n",
    "    # modelId=\"meta.llama3-1-405b-instruct-v1:0\",\n",
    "    messages=[initial_message],\n",
    "    inferenceConfig={\n",
    "        \"maxTokens\": 4000,\n",
    "        \"temperature\": 0\n",
    "    },\n",
    "    toolConfig={\n",
    "        \"tools\": tool_list,\n",
    "        \"toolChoice\": {\n",
    "            \"tool\": {\n",
    "                \"name\": \"summarize_document\"\n",
    "            }\n",
    "        }\n",
    "    }\n",
    ")"
   ]
  },
  {
   "cell_type": "code",
   "execution_count": 8,
   "metadata": {},
   "outputs": [
    {
     "name": "stdout",
     "output_type": "stream",
     "text": [
      "{\n",
      "  \"key_statistics\": \"Revenue: $710,683 million in 2024 (projected)\\nRevenue growth (CAGR): \\n  2002-2024: 3.93%\\n  2024-2029 (projected): 2.36%\\nEnterprises: 496,630 in 2024 (projected)\\nEnterprise growth (CAGR):\\n  2002-2024: 1.33% \\n  2024-2029 (projected): 2.10%\\nEstablishments: 518,365 in 2024 (projected)  \\nEstablishment growth (CAGR):\\n  2002-2024: 1.40%\\n  2024-2029 (projected): 2.11%  \\nEmployment: 2,542,152 in 2024 (projected)\\nEmployment growth (CAGR):\\n  2002-2024: 2.86%\\n  2024-2029 (projected): 2.32%\\nWages: $305,094 million in 2024 (projected)\\nWage growth (CAGR):\\n  2002-2024: 3.97%\\n  2024-2029 (projected): 2.33%\\nIndustry Value Added (IVA): $356,003 million in 2024 (projected)\\nIVA growth (CAGR): \\n  2002-2024: 4.11%\\n  2024-2029 (projected): 2.34%\",\n",
      "  \"executive_summary\": \"The IT Consulting industry has experienced revenue growth due to increasing corporate profit and demand for cloud computing and data analytics services. Major players have acquired smaller companies to remain competitive. Over the next five years, revenue is projected to grow at a 2.6% CAGR driven by expected growth in client sectors like finance/insurance and the continued shift to cloud computing.\",\n",
      "  \"current_performance\": \"- Businesses across industries rely on external IT support for efficiency, driving industry demand\\n- The pandemic and expansion of IT budgets increased demand for services like remote work infrastructure\\n- Major players have focused on cloud computing and data analytics through acquisitions\\n- Merger and acquisition activity has risen as operators seek competitive advantages\",\n",
      "  \"future_outlook\": \"- Business confidence and investment in technology will drive future demand\\n- Innovation in areas like the metaverse, mobile computing, and faster networks will boost demand\\n- Improving economic conditions and rise of online business will assist revenue gains\\n- Industry structure will continue transforming with new entrants and consolidation\",\n",
      "  \"industry_definition\": \"The IT Consulting industry includes firms that provide services like custom software development, computer systems planning/design, network management, technical support, and consulting related to IT use. The industry excludes packaged software publishing and offsite data processing/hosting.\"\n",
      "}\n"
     ]
    }
   ],
   "source": [
    "response_message = response['output']['message']\n",
    "# print(json.dumps(response_message, indent=4))\n",
    "\n",
    "core_response = response_message['content'][0]['toolUse'][\"input\"]\n",
    "print(json.dumps(core_response, indent=2))"
   ]
  },
  {
   "cell_type": "code",
   "execution_count": 9,
   "metadata": {},
   "outputs": [
    {
     "name": "stdout",
     "output_type": "stream",
     "text": [
      "Revenue: $710,683 million in 2024 (projected)\n",
      "Revenue growth (CAGR): \n",
      "  2002-2024: 3.93%\n",
      "  2024-2029 (projected): 2.36%\n",
      "Enterprises: 496,630 in 2024 (projected)\n",
      "Enterprise growth (CAGR):\n",
      "  2002-2024: 1.33% \n",
      "  2024-2029 (projected): 2.10%\n",
      "Establishments: 518,365 in 2024 (projected)  \n",
      "Establishment growth (CAGR):\n",
      "  2002-2024: 1.40%\n",
      "  2024-2029 (projected): 2.11%  \n",
      "Employment: 2,542,152 in 2024 (projected)\n",
      "Employment growth (CAGR):\n",
      "  2002-2024: 2.86%\n",
      "  2024-2029 (projected): 2.32%\n",
      "Wages: $305,094 million in 2024 (projected)\n",
      "Wage growth (CAGR):\n",
      "  2002-2024: 3.97%\n",
      "  2024-2029 (projected): 2.33%\n",
      "Industry Value Added (IVA): $356,003 million in 2024 (projected)\n",
      "IVA growth (CAGR): \n",
      "  2002-2024: 4.11%\n",
      "  2024-2029 (projected): 2.34%\n"
     ]
    }
   ],
   "source": [
    "print(core_response['key_statistics'])"
   ]
  },
  {
   "cell_type": "code",
   "execution_count": null,
   "metadata": {},
   "outputs": [],
   "source": []
  }
 ],
 "metadata": {
  "kernelspec": {
   "display_name": "probe",
   "language": "python",
   "name": "python3"
  },
  "language_info": {
   "codemirror_mode": {
    "name": "ipython",
    "version": 3
   },
   "file_extension": ".py",
   "mimetype": "text/x-python",
   "name": "python",
   "nbconvert_exporter": "python",
   "pygments_lexer": "ipython3",
   "version": "3.11.9"
  }
 },
 "nbformat": 4,
 "nbformat_minor": 2
}
