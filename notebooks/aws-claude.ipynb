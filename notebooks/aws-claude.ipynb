{
 "cells": [
  {
   "cell_type": "code",
   "execution_count": 1,
   "metadata": {},
   "outputs": [
    {
     "data": {
      "text/plain": [
       "True"
      ]
     },
     "execution_count": 1,
     "metadata": {},
     "output_type": "execute_result"
    }
   ],
   "source": [
    "import os\n",
    "from dotenv import load_dotenv\n",
    "import boto3\n",
    "import json\n",
    "import base64\n",
    "import threading\n",
    "from typing import List\n",
    "\n",
    "from Templates.ibis_aws_summary_template import IBIS_SUMMARY_TEMPLATE\n",
    "\n",
    "load_dotenv()"
   ]
  },
  {
   "cell_type": "code",
   "execution_count": 2,
   "metadata": {},
   "outputs": [],
   "source": [
    "AWS_REGION_NAME = 'us-west-2'\n",
    "aws_access_key_id = os.getenv('AWS_ACCESS_KEY_ID')\n",
    "aws_secret_access_key = os.getenv('AWS_SECRET_ACCESS_KEY')\n",
    "\n",
    "# https://boto3.amazonaws.com/v1/documentation/api/latest/reference/services/bedrock-runtime.html\n",
    "bedrock = boto3.client(\n",
    "    service_name='bedrock-runtime',\n",
    "    aws_access_key_id=aws_access_key_id,\n",
    "    aws_secret_access_key=aws_secret_access_key,\n",
    "    region_name=AWS_REGION_NAME\n",
    ")"
   ]
  },
  {
   "cell_type": "code",
   "execution_count": 3,
   "metadata": {},
   "outputs": [],
   "source": [
    "# trouble-shooting: use a different client with service_name 'bedrock', not 'bedrock-runtime'\n",
    "# https://docs.aws.amazon.com/bedrock/latest/APIReference/welcome.html\n",
    "# https://boto3.amazonaws.com/v1/documentation/api/latest/reference/services/bedrock.html\n",
    "\n",
    "# client = boto3.client(\n",
    "#     service_name='bedrock',\n",
    "#     aws_access_key_id=aws_access_key_id,\n",
    "#     aws_secret_access_key=aws_secret_access_key,\n",
    "#     region_name=AWS_REGION_NAME\n",
    "# )\n",
    "\n",
    "# summ = client.list_foundation_models()['modelSummaries']\n",
    "# [model for model in summ if 'Sonnet' in model['modelName']]"
   ]
  },
  {
   "cell_type": "code",
   "execution_count": 4,
   "metadata": {},
   "outputs": [],
   "source": [
    "# [m for m in dir(bedrock) if not m.startswith('_')]\n",
    "# help(bedrock.converse)"
   ]
  },
  {
   "cell_type": "code",
   "execution_count": 5,
   "metadata": {},
   "outputs": [],
   "source": [
    "filename = \"IndustrySource/IBIS/IT Consulting in the US.pdf\"\n",
    "content = open(filename, 'rb').read()\n",
    "encoded = base64.b64encode(content)\n",
    "out_filename = filename.replace('Source', 'Summary').replace('.pdf', '.json')\n",
    "\n",
    "prompt = \"\"\"\n",
    "You are an expert in extracting market and financial data from documents.\n",
    "Extract essential data from text in the enclosed document.\n",
    "\n",
    "Return the result in JSON format. Do not use non-JSON tags such as <property> or <UNKNOWN>.\n",
    "Use only simple keys with units, such as \"historical_revenue_growth_percentage\" or \"establishments_count\" or \"revenue_dollars\".\n",
    "\"\"\"\n",
    "\n",
    "# Return the result in JSON format. Do not use non-JSON tags or values, such as <property> or <UNKNOWN>.\n",
    "# historical_revenue_growth\n",
    "# Do not use text in graphics, only use plain text.\n",
    "\n",
    "# Split paragraphs into sentences preceded by the subject. For example:\n",
    "# \"Revenue Growth: Revenue has grown at a CAGR of 2.8% to $692.9 billion over the past five years.\"\n",
    "\n",
    "\n",
    "initial_message = {\n",
    "    \"role\": \"user\",\n",
    "    \"content\": [\n",
    "        {\n",
    "            \"text\": prompt,\n",
    "        },\n",
    "        {\n",
    "            \"document\": {\n",
    "                \"format\": \"pdf\",\n",
    "                \"name\": 'document',\n",
    "                \"source\": {\n",
    "                    \"bytes\": content\n",
    "                }\n",
    "            }\n",
    "        }\n",
    "    ],\n",
    "}\n",
    "\n",
    "\n",
    "def response_to_template(template: dict, result: dict) -> dict:\n",
    "    tool_list = [{\n",
    "        \"toolSpec\": template\n",
    "    }]\n",
    "    response = bedrock.converse(\n",
    "        modelId=\"anthropic.claude-3-sonnet-20240229-v1:0\",\n",
    "        # modelId=\"meta.llama3-1-405b-instruct-v1:0\",\n",
    "        messages=[initial_message],\n",
    "        inferenceConfig={\n",
    "            \"temperature\": 0\n",
    "        },\n",
    "        toolConfig={\n",
    "            \"tools\": tool_list,\n",
    "            \"toolChoice\": {\n",
    "                \"tool\": {\n",
    "                    \"name\": \"summarize_document\"\n",
    "                }\n",
    "            }\n",
    "        }\n",
    "    )\n",
    "    core_response = response['output']['message']['content'][0]['toolUse']['input']\n",
    "    if 'properties' in core_response:\n",
    "        core_response: dict = core_response['properties']\n",
    "    for k, v in core_response.items():\n",
    "        if isinstance(v, str) and v[0] in '{[' and v[-1] in ']}':\n",
    "            try:\n",
    "                core_response[k] = json.loads(v)\n",
    "            except Exception:\n",
    "                pass\n",
    "    result.update(core_response)\n",
    "    return core_response"
   ]
  },
  {
   "cell_type": "code",
   "execution_count": 6,
   "metadata": {},
   "outputs": [],
   "source": [
    "def ibis_industry_summary() -> dict:\n",
    "    \"\"\"Populate the separate templates and merge the result.\"\"\"\n",
    "    total = {}\n",
    "    threads: List[threading.Thread] = []\n",
    "\n",
    "    for ist in IBIS_SUMMARY_TEMPLATE:\n",
    "        thread = threading.Thread(target=response_to_template, args=(ist, total))\n",
    "        thread.start()\n",
    "        threads.append(thread)\n",
    "    \n",
    "    for thread in threads:\n",
    "        thread.join()\n",
    "    \n",
    "    return total"
   ]
  },
  {
   "cell_type": "code",
   "execution_count": 7,
   "metadata": {},
   "outputs": [
    {
     "name": "stderr",
     "output_type": "stream",
     "text": [
      "Exception in thread Thread-6 (response_to_template):\n",
      "Traceback (most recent call last):\n",
      "  File \"/home/yakov/anaconda3/envs/probe/lib/python3.11/threading.py\", line 1045, in _bootstrap_inner\n",
      "    self.run()\n",
      "  File \"/home/yakov/anaconda3/envs/probe/lib/python3.11/site-packages/ipykernel/ipkernel.py\", line 766, in run_closure\n",
      "    _threading_Thread_run(self)\n",
      "  File \"/home/yakov/anaconda3/envs/probe/lib/python3.11/threading.py\", line 982, in run\n",
      "    self._target(*self._args, **self._kwargs)\n",
      "  File \"/tmp/ipykernel_1667977/3726779901.py\", line 64, in response_to_template\n",
      "ValueError: too many values to unpack (expected 2)\n",
      "Exception in thread Thread-5 (response_to_template):\n",
      "Traceback (most recent call last):\n",
      "  File \"/home/yakov/anaconda3/envs/probe/lib/python3.11/threading.py\", line 1045, in _bootstrap_inner\n",
      "    self.run()\n",
      "  File \"/home/yakov/anaconda3/envs/probe/lib/python3.11/site-packages/ipykernel/ipkernel.py\", line 766, in run_closure\n",
      "    _threading_Thread_run(self)\n",
      "  File \"/home/yakov/anaconda3/envs/probe/lib/python3.11/threading.py\", line 982, in run\n",
      "    self._target(*self._args, **self._kwargs)\n",
      "  File \"/tmp/ipykernel_1667977/3726779901.py\", line 64, in response_to_template\n",
      "ValueError: too many values to unpack (expected 2)\n",
      "Exception in thread Thread-4 (response_to_template):\n",
      "Traceback (most recent call last):\n",
      "  File \"/home/yakov/anaconda3/envs/probe/lib/python3.11/threading.py\", line 1045, in _bootstrap_inner\n",
      "    self.run()\n",
      "  File \"/home/yakov/anaconda3/envs/probe/lib/python3.11/site-packages/ipykernel/ipkernel.py\", line 766, in run_closure\n",
      "    _threading_Thread_run(self)\n",
      "  File \"/home/yakov/anaconda3/envs/probe/lib/python3.11/threading.py\", line 982, in run\n",
      "    self._target(*self._args, **self._kwargs)\n",
      "  File \"/tmp/ipykernel_1667977/3726779901.py\", line 64, in response_to_template\n",
      "ValueError: too many values to unpack (expected 2)\n"
     ]
    }
   ],
   "source": [
    "ibis_summary = ibis_industry_summary()"
   ]
  },
  {
   "cell_type": "code",
   "execution_count": 8,
   "metadata": {},
   "outputs": [
    {
     "ename": "KeyError",
     "evalue": "'industry_name'",
     "output_type": "error",
     "traceback": [
      "\u001b[0;31m---------------------------------------------------------------------------\u001b[0m",
      "\u001b[0;31mKeyError\u001b[0m                                  Traceback (most recent call last)",
      "Cell \u001b[0;32mIn[8], line 3\u001b[0m\n\u001b[1;32m      1\u001b[0m out \u001b[38;5;241m=\u001b[39m {\n\u001b[1;32m      2\u001b[0m     \u001b[38;5;124m'\u001b[39m\u001b[38;5;124msource\u001b[39m\u001b[38;5;124m'\u001b[39m: \u001b[38;5;124m'\u001b[39m\u001b[38;5;124mIBIS\u001b[39m\u001b[38;5;124m'\u001b[39m,\n\u001b[0;32m----> 3\u001b[0m     \u001b[38;5;124m'\u001b[39m\u001b[38;5;124mindustry_name\u001b[39m\u001b[38;5;124m'\u001b[39m: \u001b[43mibis_summary\u001b[49m\u001b[43m[\u001b[49m\u001b[38;5;124;43m'\u001b[39;49m\u001b[38;5;124;43mindustry_name\u001b[39;49m\u001b[38;5;124;43m'\u001b[39;49m\u001b[43m]\u001b[49m,\n\u001b[1;32m      4\u001b[0m     \u001b[38;5;124m'\u001b[39m\u001b[38;5;124mlast_updated\u001b[39m\u001b[38;5;124m'\u001b[39m: ibis_summary[\u001b[38;5;124m'\u001b[39m\u001b[38;5;124mlast_updated\u001b[39m\u001b[38;5;124m'\u001b[39m],\n\u001b[1;32m      5\u001b[0m     \u001b[38;5;124m'\u001b[39m\u001b[38;5;124mindustry_summary\u001b[39m\u001b[38;5;124m'\u001b[39m: ibis_summary,\n\u001b[1;32m      6\u001b[0m }\n\u001b[1;32m      8\u001b[0m json\u001b[38;5;241m.\u001b[39mdump(out, \u001b[38;5;28mopen\u001b[39m(out_filename, \u001b[38;5;124m'\u001b[39m\u001b[38;5;124mw\u001b[39m\u001b[38;5;124m'\u001b[39m), indent\u001b[38;5;241m=\u001b[39m\u001b[38;5;241m2\u001b[39m)\n",
      "\u001b[0;31mKeyError\u001b[0m: 'industry_name'"
     ]
    }
   ],
   "source": [
    "out = {\n",
    "    'source': 'IBIS',\n",
    "    'industry_name': ibis_summary['industry_name'],\n",
    "    'last_updated': ibis_summary['last_updated'],\n",
    "    'industry_summary': ibis_summary,\n",
    "}\n",
    "\n",
    "json.dump(out, open(out_filename, 'w'), indent=2)"
   ]
  },
  {
   "cell_type": "code",
   "execution_count": null,
   "metadata": {},
   "outputs": [],
   "source": []
  }
 ],
 "metadata": {
  "kernelspec": {
   "display_name": "probe",
   "language": "python",
   "name": "python3"
  },
  "language_info": {
   "codemirror_mode": {
    "name": "ipython",
    "version": 3
   },
   "file_extension": ".py",
   "mimetype": "text/x-python",
   "name": "python",
   "nbconvert_exporter": "python",
   "pygments_lexer": "ipython3",
   "version": "3.11.9"
  }
 },
 "nbformat": 4,
 "nbformat_minor": 2
}
