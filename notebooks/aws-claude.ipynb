{
 "cells": [
  {
   "cell_type": "markdown",
   "metadata": {},
   "source": [
    "# Rely on LLM's to extract info from docs\n",
    "\n",
    "Will save them in JSON for future reuse."
   ]
  },
  {
   "cell_type": "code",
   "execution_count": 1,
   "metadata": {},
   "outputs": [
    {
     "data": {
      "text/plain": [
       "True"
      ]
     },
     "execution_count": 1,
     "metadata": {},
     "output_type": "execute_result"
    }
   ],
   "source": [
    "import os\n",
    "import boto3\n",
    "import json\n",
    "import dateparser\n",
    "from glob import glob\n",
    "from rag.basic_retrieval import file_id\n",
    "from cachier import cachier\n",
    "\n",
    "from Templates.ibis_aws_summary_template import TEMPLATE as IBIS_SUMMARY_TEMPLATE\n",
    "from Templates.aws_basic_info_template import TEMPLATE as BASIC_TEMPLATE\n",
    "from Templates.aws_templates_common import build_aws_template\n",
    "\n",
    "from loading_utils import get_initial_pages\n",
    "\n",
    "from dotenv import load_dotenv\n",
    "load_dotenv()"
   ]
  },
  {
   "cell_type": "code",
   "execution_count": 2,
   "metadata": {},
   "outputs": [],
   "source": [
    "AWS_REGION_NAME = 'us-west-2'\n",
    "aws_access_key_id = os.getenv('AWS_ACCESS_KEY_ID')\n",
    "aws_secret_access_key = os.getenv('AWS_SECRET_ACCESS_KEY')\n",
    "\n",
    "# https://boto3.amazonaws.com/v1/documentation/api/latest/reference/services/bedrock-runtime.html\n",
    "bedrock = boto3.client(\n",
    "    service_name='bedrock-runtime',\n",
    "    aws_access_key_id=aws_access_key_id,\n",
    "    aws_secret_access_key=aws_secret_access_key,\n",
    "    region_name=AWS_REGION_NAME\n",
    ")"
   ]
  },
  {
   "cell_type": "code",
   "execution_count": 3,
   "metadata": {},
   "outputs": [],
   "source": [
    "# trouble-shooting: use a different client with service_name 'bedrock', not 'bedrock-runtime'\n",
    "# https://docs.aws.amazon.com/bedrock/latest/APIReference/welcome.html\n",
    "# https://boto3.amazonaws.com/v1/documentation/api/latest/reference/services/bedrock.html\n",
    "\n",
    "# client = boto3.client(\n",
    "#     service_name='bedrock',\n",
    "#     aws_access_key_id=aws_access_key_id,\n",
    "#     aws_secret_access_key=aws_secret_access_key,\n",
    "#     region_name=AWS_REGION_NAME\n",
    "# )\n",
    "\n",
    "# summ = client.list_foundation_models()['modelSummaries']\n",
    "# [model for model in summ if 'Sonnet' in model['modelName']]"
   ]
  },
  {
   "cell_type": "code",
   "execution_count": 4,
   "metadata": {},
   "outputs": [],
   "source": [
    "# [m for m in dir(bedrock) if not m.startswith('_')]\n",
    "# help(bedrock.converse)"
   ]
  },
  {
   "cell_type": "code",
   "execution_count": 5,
   "metadata": {},
   "outputs": [],
   "source": [
    "def get_raw_pdf_part(filename: str) -> dict:\n",
    "    \"\"\"This works best and parses quickly.\"\"\"\n",
    "    with open(filename, 'rb') as f:\n",
    "        content = f.read()\n",
    "        return {\n",
    "            \"document\": {\n",
    "                \"format\": \"pdf\",\n",
    "                \"name\": 'document',\n",
    "                \"source\": {\n",
    "                    \"bytes\": content\n",
    "                }\n",
    "            }\n",
    "        }\n",
    "\n",
    "\n",
    "def response_to_template(filename: str, template: dict) -> dict:\n",
    "\n",
    "    prompt = \"\"\"\n",
    "    You are an expert in extracting market and financial data from documents.\n",
    "    Extract essential data from text in the enclosed document.\n",
    "\n",
    "    Return the result in JSON format. Do not use non-JSON tags such as <property> or <UNKNOWN>.\n",
    "    Use only simple keys with units, such as \"historical_revenue_growth_percentage\" or \"establishments_count\" or \"revenue_dollars\".\n",
    "    \"\"\"\n",
    "\n",
    "    initial_message = {\n",
    "        \"role\": \"user\",\n",
    "        \"content\": [\n",
    "            {\n",
    "                \"text\": prompt,\n",
    "            },\n",
    "        ],\n",
    "    }\n",
    "\n",
    "    initial_message['content'].append(get_raw_pdf_part(filename))\n",
    "\n",
    "    tool_list = [{\n",
    "        \"toolSpec\": template\n",
    "    }]\n",
    "    response = bedrock.converse(\n",
    "        modelId=\"anthropic.claude-3-sonnet-20240229-v1:0\",\n",
    "        # modelId=\"meta.llama3-1-405b-instruct-v1:0\",\n",
    "        messages=[initial_message],\n",
    "        inferenceConfig={\n",
    "            \"temperature\": 0\n",
    "        },\n",
    "        toolConfig={\n",
    "            \"tools\": tool_list,\n",
    "            \"toolChoice\": {\n",
    "                \"tool\": {\n",
    "                    \"name\": \"info_extract\"\n",
    "                }\n",
    "            }\n",
    "        }\n",
    "    )\n",
    "    core_response = response['output']['message']['content'][0]['toolUse']['input']\n",
    "    if 'properties' in core_response:\n",
    "        core_response: dict = core_response['properties']\n",
    "    for k, v in core_response.items():\n",
    "        if isinstance(v, str) and v[0] in '{[' and v[-1] in ']}':\n",
    "            try:\n",
    "                core_response[k] = json.loads(v)\n",
    "            except Exception:\n",
    "                pass\n",
    "\n",
    "    return core_response"
   ]
  },
  {
   "cell_type": "code",
   "execution_count": 6,
   "metadata": {},
   "outputs": [],
   "source": [
    "# def filename_template_hash(filename: str, template: dict):\n",
    "def filename_template_hash(*args):\n",
    "    # TODO: figure out why it works this way\n",
    "    filename = args[1]['filename']\n",
    "    template = args[1]['template']\n",
    "    return (file_id(filename), template['name'])\n",
    "\n",
    "\n",
    "# @cachier(hash_func=filename_template_hash)\n",
    "def info_from_doc_template(filename: str, template: dict) -> dict:\n",
    "    \"\"\"Populate the separate templates and merge the result.\"\"\"\n",
    "\n",
    "    template_parts = template['data']\n",
    "    full_templates = build_aws_template(template_parts)\n",
    "    results = [response_to_template(filename, part) for part in full_templates]\n",
    "\n",
    "    total = {}\n",
    "    for result in results:\n",
    "        total.update(result)\n",
    "\n",
    "    return total"
   ]
  },
  {
   "cell_type": "code",
   "execution_count": 7,
   "metadata": {},
   "outputs": [],
   "source": [
    "def extract_basic_info(filename: str) -> dict:\n",
    "    \"\"\"Extract basic info based on the template and initial part of the file.\"\"\"\n",
    "    pages_filename = get_initial_pages(filename, pmax=10)\n",
    "    result = info_from_doc_template(filename=pages_filename, template=BASIC_TEMPLATE)\n",
    "    os.remove(pages_filename)\n",
    "    return result"
   ]
  },
  {
   "cell_type": "code",
   "execution_count": 8,
   "metadata": {},
   "outputs": [],
   "source": [
    "# filenames = glob('IndustrySource/Misc/*')\n",
    "\n",
    "filenames = [\n",
    "    'IndustrySource/Misc/51 Information in the US Industry Report copy.pdf',\n",
    "    'IndustrySource/Misc/United_States_Healthcare_Repor copy.pdf'\n",
    "]"
   ]
  },
  {
   "cell_type": "code",
   "execution_count": 9,
   "metadata": {},
   "outputs": [
    {
     "data": {
      "text/plain": [
       "[{'title': 'Information in the US',\n",
       "  'source': 'IBISWorld',\n",
       "  'last_updated': 'Jun 2024'},\n",
       " {'title': 'United States Healthcare Report',\n",
       "  'source': 'BMI',\n",
       "  'last_updated': 'April 2024'}]"
      ]
     },
     "execution_count": 9,
     "metadata": {},
     "output_type": "execute_result"
    }
   ],
   "source": [
    "out_basic = [extract_basic_info(filename) for filename in filenames[:5]]\n",
    "out_basic"
   ]
  },
  {
   "cell_type": "code",
   "execution_count": 10,
   "metadata": {},
   "outputs": [],
   "source": [
    "def ibis_industry_summary(filename: str) -> dict:\n",
    "    \"\"\"Extract full summary from the PDF file.\"\"\"\n",
    "    return info_from_doc_template(filename=filename, template=IBIS_SUMMARY_TEMPLATE)"
   ]
  },
  {
   "cell_type": "code",
   "execution_count": 11,
   "metadata": {},
   "outputs": [
    {
     "data": {
      "text/plain": [
       "[{'executive_summary': 'The Information sector creates and distributes media content to US consumers and businesses. The sector responds to trends in household formation, advertising expenditure, consumer incomes and spending habits. Through 2024, sector revenue will expand at a CAGR of 2.7% to reach $2.4 trillion. Although consumer demand for media is steady, revenue flows are uneven due to technology trends. Substantial expansion has stemmed from new consumer devices and online publishing/data processing, at the expense of traditional subsectors like print publishing. Through 2029, the sector will continue expanding in line with the economy at a CAGR of 2.2% to reach $2.7 trillion.',\n",
       "  'key_statistics': {'historical_revenue_growth_percentage': 2.7,\n",
       "   'profit_margins_percentage': 12.7,\n",
       "   'projected_revenue_growth_percentage': 2.2,\n",
       "   'revenue_dollars': 2423898700000},\n",
       "  'current_performance': 'The Information sector creates and distributes media content to US consumers and businesses. Through the end of 2024, sector revenue will expand at a CAGR of 2.7% to reach $2.4 trillion, including a boost of 1.9% in 2024. Although consumer demand for media is generally steady, revenue flows within the sector are uneven and determined by technology trends. Most expansion has been concentrated in online publishing and data processing at the expense of more traditional subsectors like print publishing. Macroeconomic trends like household and business formation as well as advertising expenditure are driving growth.',\n",
       "  'future_outlook': 'Through the end of 2029, the Information sector will continue to expand closely in line with the overall economy at a CAGR of 2.2% to reach $2.7 trillion. Technology trends will determine how demand is allocated between print, internet, TV and other media formats. The sector will see steady demand but its expansion rate will decelerate compared to the previous period. Shifts in media distribution like the drop in cable TV subscriptions and rise of over-the-top services will impact performance. Economic factors like private investment in computers/software and advertising expenditure will drive growth.',\n",
       "  'industry_definition': {'revenue_dollars': 2423898700000,\n",
       "   'revenue_growth_percentage_2019_2024': 2.7,\n",
       "   'revenue_growth_percentage_2024_2029': 2.2,\n",
       "   'revenue_2024_percentage_change': 1.9,\n",
       "   'employees_count': 3902656,\n",
       "   'employees_growth_percentage_2019_2024': -0.2,\n",
       "   'employees_growth_percentage_2024_2029': 1.8,\n",
       "   'establishments_count': 544157,\n",
       "   'establishments_growth_percentage_2019_2024': 0.9,\n",
       "   'establishments_growth_percentage_2024_2029': 1.7,\n",
       "   'profit_dollars': 307800000000,\n",
       "   'profit_growth_percentage_2019_2024': 1.1,\n",
       "   'profit_margin_percentage': 12.7,\n",
       "   'profit_margin_percentage_change_2019_2024': -1.0,\n",
       "   'wages_dollars': 597925400000,\n",
       "   'wages_growth_percentage_2019_2024': 4.2,\n",
       "   'wages_growth_percentage_2024_2029': 1.8},\n",
       "  'swot_analysis': {'strengths': ['High profit margin compared to sector average',\n",
       "    'Low customer class concentration',\n",
       "    'Low product/service concentration',\n",
       "    'High revenue per employee'],\n",
       "   'weaknesses': ['High capital requirements'],\n",
       "   'opportunities': ['High revenue growth (2019-2024)',\n",
       "    'High revenue growth (2024-2029)',\n",
       "    'High performance drivers: Number of mobile internet connections'],\n",
       "   'threats': ['Low revenue growth (2005-2024)',\n",
       "    'Low outlier growth: Private investment in computers and software']},\n",
       "  'key_trends': ['Macroeconomic trends are a big driver for growth in the Information sector',\n",
       "   'Shifts in consumer sentiment dictate the direction of the sector',\n",
       "   'Mergers and acquisitions are popular among the largest Information sector companies',\n",
       "   'Advances in technology enable the sector to scale efficiently'],\n",
       "  'market_segmentation': [{'segment': 'Households', 'percentage': 36.4},\n",
       "   {'segment': 'Businesses', 'percentage': 27.2},\n",
       "   {'segment': 'Advertisers', 'percentage': 36.4}],\n",
       "  'products_and_services': [{'product_or_service': 'Telecommunications',\n",
       "    'percentage': 36.4},\n",
       "   {'product_or_service': 'Data processing and online publishing',\n",
       "    'percentage': 22.7},\n",
       "   {'product_or_service': 'Software publishing', 'percentage': 13.6},\n",
       "   {'product_or_service': 'Audio and video production and distribution',\n",
       "    'percentage': 13.6},\n",
       "   {'product_or_service': 'Print publishing', 'percentage': 9.1},\n",
       "   {'product_or_service': 'Pay TV programming and broadcasting',\n",
       "    'percentage': 4.5}],\n",
       "  'supply_chain': {'tier_1_suppliers': ['Wireless technologies suppliers'],\n",
       "   'tier_2_suppliers': ['Fiber optics suppliers',\n",
       "    'Satellite technology suppliers'],\n",
       "   'tier_1_buyers': ['Movie theaters',\n",
       "    'Over-the-top services',\n",
       "    'TV networks']},\n",
       "  'related_international_industries': ['Global Internet Service Providers'],\n",
       "  'competitive_landscape': 'The Information sector has high levels of vertical integration, particularly between TV content creation and distribution. There are many companies operating in the sector, representing a wide range of industries. The largest companies by market share that dominate specific industries or product categories are often leaders in terms of innovation, efficiency and customer satisfaction.',\n",
       "  'costs_and_operations': {'largest_cost': 'Other Costs',\n",
       "   'largest_cost_percentage': 45.4,\n",
       "   'profit_margin_percentage': 12.7,\n",
       "   'average_wage_dollars': 153000},\n",
       "  'major_players': ['At&T Inc.',\n",
       "   'Verizon Communications Inc.',\n",
       "   'Alphabet Inc.',\n",
       "   'Microsoft Corporation',\n",
       "   'Comcast Corporation',\n",
       "   'Walt Disney Co'],\n",
       "  'industry_name': 'Information',\n",
       "  'country_name': 'United States',\n",
       "  'last_updated': 'Jun 2024'},\n",
       " {'executive_summary': 'The US healthcare system is a mixed public-private system with high spending levels. Private healthcare providers account for most facilities and services. Key trends include increasing adoption of digital health technologies, an aging population, and a high prevalence of chronic diseases.',\n",
       "  'key_statistics': {'historical_revenue_growth_percentage': 4.3,\n",
       "   'projected_revenue_growth_percentage': 4.3,\n",
       "   'revenue_dollars': 4795000000000,\n",
       "   'profit_margins_percentage': 53},\n",
       "  'current_performance': {'health_expenditure_dollars': 4795000000000,\n",
       "   'health_expenditure_percent_gdp': 17.5,\n",
       "   'health_expenditure_growth_rate_percent': 4.3,\n",
       "   'public_health_expenditure_percent': 53,\n",
       "   'private_health_expenditure_percent': 47,\n",
       "   'hospitals_count': 6227,\n",
       "   'hospital_beds_count': 930739,\n",
       "   'physicians_count': 901448,\n",
       "   'nurses_count': 4051633,\n",
       "   'population_millions': 340.0,\n",
       "   'population_over_65_percent': 17.59,\n",
       "   'life_expectancy_male_years': 77.27,\n",
       "   'life_expectancy_female_years': 82.23,\n",
       "   'fertility_rate': 1.66,\n",
       "   'infant_mortality_per_1000_births': 4.9},\n",
       "  'future_outlook': 'The key future outlook points are:\\n\\n- Health expenditure is projected to grow at a 4.3% CAGR over the next 5 years, reaching $6.3 trillion by 2028. \\n- The population aged 65 and over is expected to increase to 20.19% by 2029.\\n- Life expectancy is forecast to rise modestly, reaching 78.32 years for males and 83.01 years for females by 2029.\\n- The fertility rate is projected to remain relatively stable around 1.67-1.69 children per woman through 2033.\\n- Infant mortality is projected to continue declining, reaching 3.74 deaths per 1,000 live births by 2033.',\n",
       "  'industry_definition': \"The U.S. healthcare system is a mixed public-private system where government programs like Medicare and Medicaid coexist with private insurance. Key characteristics:\\n\\n- World's highest healthcare spending as a percentage of GDP (17.5%) and per capita ($14,104)\\n- Large private sector role in healthcare delivery, with over 75% of hospitals privately owned\\n- Fragmented multi-payer system with high administrative costs\\n- Lack of universal coverage, with around 10% of population uninsured\\n- Aging population and high prevalence of chronic diseases driving demand\\n- Highly regulated pharmaceutical and medical device markets\",\n",
       "  'swot_analysis': {'strengths': [\"World's highest level of healthcare spending as a percentage of GDP and per capita\",\n",
       "    \"World's largest pharmaceutical and medical device markets, with some of the world's highest rates of installed medical technology\",\n",
       "    'Highly regulated and competitive medical device and pharmaceutical marketplaces'],\n",
       "   'weaknesses': ['Fragmented, multi-payer health system resulting in inefficiency and high administrative costs',\n",
       "    'Despite being one of the most advanced healthcare markets, a large element of the population does not have adequate coverage',\n",
       "    'Litigious medical device market can lead to defensive medicine, with clinical actions geared more to protecting physicians than treating patients'],\n",
       "   'opportunities': ['An ageing population and a high prevalence of chronic disease which will increase the demand for novel medicines and advanced medical technologies',\n",
       "    \"President Biden's commitment to shoring up the ACA and widening medical insurance coverage\",\n",
       "    'FDA Action Plan to enhance environment for medical device safety and innovation'],\n",
       "   'threats': ['Additional workload and administrative costs placed on healthcare providers by the ACA',\n",
       "    'The Inflation Reduction Act aims to limit drug price increases and Medicare expenditure',\n",
       "    'Downward pressures on US prescription drug sales, such as patent expiration, increased regulatory scrutiny and healthcare reform']},\n",
       "  'key_trends': [\"The US has the world's highest level of health expenditure in terms of total spend and as a percentage of GDP.\",\n",
       "   'Private health expenditure, which is rising at a faster rate, is funded through employer-sponsored health insurance, private insurance and out-of-pocket payments.',\n",
       "   'The country has a growing incidence of non-communicable and chronic diseases, such as dementia, heart disease, diabetes and certain types of cancer.'],\n",
       "  'market_segmentation': [{'segment': 'Medicare', 'percentage': 53},\n",
       "   {'segment': 'Medicaid', 'percentage': 32},\n",
       "   {'segment': 'Private insurance', 'percentage': 33},\n",
       "   {'segment': 'Out-of-pocket', 'percentage': 15}],\n",
       "  'products_and_services': [{'product_or_service': 'Inpatient care',\n",
       "    'percentage': 30},\n",
       "   {'product_or_service': 'Outpatient care', 'percentage': 35},\n",
       "   {'product_or_service': 'Physician services', 'percentage': 20},\n",
       "   {'product_or_service': 'Other services', 'percentage': 15}],\n",
       "  'supply_chain': {'tier_1_suppliers': ['Medical equipment manufacturers',\n",
       "    'Pharmaceutical companies'],\n",
       "   'tier_2_suppliers': ['Raw material suppliers', 'Logistics providers'],\n",
       "   'tier_1_buyers': ['Employers',\n",
       "    'Health insurance companies',\n",
       "    'Government agencies']},\n",
       "  'country_name': 'United States',\n",
       "  'industry_name': 'Healthcare',\n",
       "  'last_updated': 'April 2024',\n",
       "  'competitive_landscape': 'The US healthcare system is a mixed system where publicly financed government coverage (Medicare, Medicaid) coexists with privately financed coverage. Healthcare delivery is largely through private sector facilities. The federal government provides funding to assist those who cannot afford health insurance, but coverage is not universal, with almost 10% of the population still lacking access to healthcare.',\n",
       "  'costs_and_operations': \"The US has the world's highest level of health expenditure in terms of total spend and as a percentage of GDP. Public spending accounts for 53% of total spending. Private health expenditure, which is rising at a faster rate, is funded through employer-sponsored health insurance, private insurance and out-of-pocket payments. Contributory factors to high spending in the US  include the prevalence of chronic diseases and the intensity of treatment received.\",\n",
       "  'major_players': ['Community Health Systems',\n",
       "   'HCA Healthcare',\n",
       "   'Tenet Healthcare',\n",
       "   'Ascension',\n",
       "   'CommonSpirit Health'],\n",
       "  'related_international_industries': []}]"
      ]
     },
     "execution_count": 11,
     "metadata": {},
     "output_type": "execute_result"
    }
   ],
   "source": [
    "out_full = [ibis_industry_summary(filename) for filename in filenames[:5]]\n",
    "out_full"
   ]
  },
  {
   "cell_type": "code",
   "execution_count": 12,
   "metadata": {},
   "outputs": [],
   "source": [
    "def parse_save_file(filename: str):\n",
    "    \"\"\"Extract info and save it.\"\"\"\n",
    "    ibis_summary = ibis_industry_summary(filename)\n",
    "    last_updated = dateparser.parse(ibis_summary['last_updated']).isoformat()\n",
    "    last_updated = last_updated.replace(' ', 'T') + '+00:00'\n",
    "\n",
    "    out = {\n",
    "        'title': f'{ibis_summary[\"industry_name\"]} Industry Report',\n",
    "\n",
    "        'category': 'Industry research',\n",
    "        'subcategory': 'IBIS Industry at a Glance',\n",
    "        'tags': ['test', 'industry report', 'IBIS'],\n",
    "        \n",
    "        'last_updated': last_updated,\n",
    "\n",
    "        'summary': ibis_summary,\n",
    "    }\n",
    "\n",
    "    out_filename = filename.replace('Source', 'Summary').replace('.pdf', '.json')\n",
    "    with open(out_filename, 'w') as f:\n",
    "        json.dump(out, f, indent=2)"
   ]
  },
  {
   "cell_type": "code",
   "execution_count": null,
   "metadata": {},
   "outputs": [
    {
     "name": "stderr",
     "output_type": "stream",
     "text": [
      "/tmp/ipykernel_45571/3654963537.py:20: ResourceWarning: unclosed file <_io.TextIOWrapper name='IndustrySummary/IBIS/Household Furniture Manufacturing in the US.json' mode='w' encoding='UTF-8'>\n",
      "  json.dump(out, open(out_filename, 'w'), indent=2)\n",
      "ResourceWarning: Enable tracemalloc to get the object allocation traceback\n",
      "/tmp/ipykernel_45571/3654963537.py:20: ResourceWarning: unclosed file <_io.TextIOWrapper name='IndustrySummary/IBIS/Furniture Stores in the US.json' mode='w' encoding='UTF-8'>\n",
      "  json.dump(out, open(out_filename, 'w'), indent=2)\n",
      "ResourceWarning: Enable tracemalloc to get the object allocation traceback\n"
     ]
    }
   ],
   "source": [
    "filenames = [\n",
    "    'IndustrySource/IBIS/Household Furniture Manufacturing in the US.pdf',\n",
    "    'IndustrySource/IBIS/Furniture Stores in the US.pdf',\n",
    "    \"IndustrySource/IBIS/IT Consulting in the US.pdf\",\n",
    "]\n",
    "for filename in filenames:\n",
    "    parse_save_file(filename)"
   ]
  },
  {
   "cell_type": "code",
   "execution_count": null,
   "metadata": {},
   "outputs": [],
   "source": []
  }
 ],
 "metadata": {
  "kernelspec": {
   "display_name": "probe",
   "language": "python",
   "name": "python3"
  },
  "language_info": {
   "codemirror_mode": {
    "name": "ipython",
    "version": 3
   },
   "file_extension": ".py",
   "mimetype": "text/x-python",
   "name": "python",
   "nbconvert_exporter": "python",
   "pygments_lexer": "ipython3",
   "version": "3.11.9"
  }
 },
 "nbformat": 4,
 "nbformat_minor": 2
}
