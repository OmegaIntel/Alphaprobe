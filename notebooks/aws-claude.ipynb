{
 "cells": [
  {
   "cell_type": "code",
   "execution_count": 1,
   "metadata": {},
   "outputs": [
    {
     "data": {
      "text/plain": [
       "True"
      ]
     },
     "execution_count": 1,
     "metadata": {},
     "output_type": "execute_result"
    }
   ],
   "source": [
    "import os\n",
    "from dotenv import load_dotenv\n",
    "import boto3\n",
    "import json\n",
    "import base64\n",
    "\n",
    "load_dotenv()"
   ]
  },
  {
   "cell_type": "code",
   "execution_count": 2,
   "metadata": {},
   "outputs": [],
   "source": [
    "AWS_REGION_NAME = 'us-west-2'\n",
    "aws_access_key_id = os.getenv('AWS_ACCESS_KEY_ID')\n",
    "aws_secret_access_key = os.getenv('AWS_SECRET_ACCESS_KEY')\n",
    "\n",
    "# https://boto3.amazonaws.com/v1/documentation/api/latest/reference/services/bedrock-runtime.html\n",
    "bedrock = boto3.client(\n",
    "    service_name='bedrock-runtime',\n",
    "    aws_access_key_id=aws_access_key_id,\n",
    "    aws_secret_access_key=aws_secret_access_key,\n",
    "    region_name=AWS_REGION_NAME\n",
    ")"
   ]
  },
  {
   "cell_type": "code",
   "execution_count": 3,
   "metadata": {},
   "outputs": [],
   "source": [
    "# trouble-shooting: use a different client with service_name 'bedrock', not 'bedrock-runtime'\n",
    "# https://docs.aws.amazon.com/bedrock/latest/APIReference/welcome.html\n",
    "# https://boto3.amazonaws.com/v1/documentation/api/latest/reference/services/bedrock.html\n",
    "\n",
    "# client = boto3.client(\n",
    "#     service_name='bedrock',\n",
    "#     aws_access_key_id=aws_access_key_id,\n",
    "#     aws_secret_access_key=aws_secret_access_key,\n",
    "#     region_name=AWS_REGION_NAME\n",
    "# )\n",
    "\n",
    "# summ = client.list_foundation_models()['modelSummaries']\n",
    "# [model for model in summ if 'Sonnet' in model['modelName']]"
   ]
  },
  {
   "cell_type": "code",
   "execution_count": 4,
   "metadata": {},
   "outputs": [],
   "source": [
    "# [m for m in dir(bedrock) if not m.startswith('_')]\n",
    "# help(bedrock.converse)"
   ]
  },
  {
   "cell_type": "code",
   "execution_count": 5,
   "metadata": {},
   "outputs": [],
   "source": [
    "if False:\n",
    "    message_list = []\n",
    "\n",
    "    initial_message = {\n",
    "        \"role\": \"user\",\n",
    "        \"content\": [\n",
    "            { \"text\": \"How are you today?\" } \n",
    "        ],\n",
    "    }\n",
    "\n",
    "    message_list.append(initial_message)\n",
    "\n",
    "    response = bedrock.converse(\n",
    "        modelId=\"anthropic.claude-3-sonnet-20240229-v1:0\",\n",
    "        messages=message_list,\n",
    "        inferenceConfig={\n",
    "            \"maxTokens\": 2000,\n",
    "            \"temperature\": 0\n",
    "        },\n",
    "    )\n",
    "\n",
    "    response_message = response['output']['message']\n",
    "    print(json.dumps(response_message, indent=4))"
   ]
  },
  {
   "cell_type": "code",
   "execution_count": 6,
   "metadata": {},
   "outputs": [],
   "source": [
    "tool_list = [\n",
    "    {\n",
    "        \"toolSpec\": {\n",
    "            \"name\": \"summarize_document\",\n",
    "            \"description\": \"Summarize document content.\",\n",
    "            \"inputSchema\": {\n",
    "                \"json\": {\n",
    "                    \"type\": \"object\",\n",
    "                    \"properties\": {\n",
    "                        # \"summary\": {\n",
    "                        #     \"type\": \"string\",\n",
    "                        #     \"description\": \"A brief one-line or two-line summary of the document.\"\n",
    "                        # },\n",
    "                        # \"escalate_complaint\": {\n",
    "                        #     \"type\": \"boolean\",\n",
    "                        #     \"description\": \"Indicates if this email is serious enough to be immediately escalated for further review.\"\n",
    "                        # },\n",
    "                        # \"level_of_concern\": {\n",
    "                        #     \"type\": \"integer\",\n",
    "                        #     \"description\": \"Rate the level of concern for the above content on a scale from 1-10\",\n",
    "                        #     \"minimum\": 1,\n",
    "                        #     \"maximum\": 10\n",
    "                        # },\n",
    "                        # \"overall_sentiment\": {\n",
    "                        #     \"type\": \"string\",\n",
    "                        #     \"description\": \"The sender's overall sentiment.\",\n",
    "                        #     \"enum\": [\"Positive\", \"Neutral\", \"Negative\"]\n",
    "                        # },\n",
    "                        # \"supporting_business_unit\": {\n",
    "                        #     \"type\": \"string\",\n",
    "                        #     \"description\": \"The internal business unit that this email should be routed to.\",\n",
    "                        #     \"enum\": [\"Sales\", \"Operations\", \"Customer Service\", \"Fund Management\"]\n",
    "                        # },\n",
    "                        # \"customer_names\": {\n",
    "                        #     \"type\": \"array\",\n",
    "                        #     \"description\": \"An array of customer names mentioned in the email.\",\n",
    "                        #     \"items\": { \"type\": \"string\" }\n",
    "                        # },\n",
    "                        \"key_statistics\": {\n",
    "                            \"type\": \"object\",\n",
    "                            \"properties\": {\n",
    "                                \"revenue\": {\n",
    "                                    \"type\": \"string\",\n",
    "                                    \"description\": \"The annual revenue.\"\n",
    "                                },\n",
    "                                \"historical_revenue_growth\": {\n",
    "                                    \"type\": \"string\",\n",
    "                                    \"description\": \"Historical revenue growth.\"\n",
    "                                },\n",
    "                                \"projected_revenue_growth\": {\n",
    "                                    \"type\": \"string\",\n",
    "                                    \"description\": \"Projected revenue growth.\"\n",
    "                                },\n",
    "                                \"profit margins\": {\n",
    "                                    \"type\": \"string\",\n",
    "                                    \"description\": \"Profit margins.\"\n",
    "                                },\n",
    "                                # \"sentiment\": {\n",
    "                                #     \"type\": \"string\",\n",
    "                                #     \"description\": \"The sender's sentiment towards the employee.\",\n",
    "                                #     \"enum\": [\"Positive\", \"Neutral\", \"Negative\"]\n",
    "                                # }\n",
    "                            }\n",
    "                        },\n",
    "                        \"executive_summary\": {\n",
    "                            \"type\": \"string\",\n",
    "                            \"description\": \"Executive summary.\"\n",
    "                        },\n",
    "\n",
    "                    },\n",
    "                    \"required\": [\n",
    "                        # \"summary\",\n",
    "                        \"key_statistics\",\n",
    "                        \"executive_summary\",\n",
    "                        # \"escalate_complaint\",\n",
    "                        # \"overall_sentiment\",\n",
    "                        # \"supporting_business_unit\",\n",
    "                        # \"level_of_concern\",\n",
    "                        # \"customer_names\",\n",
    "                        # \"sentiment_towards_employees\"\n",
    "                    ]\n",
    "                }\n",
    "            }\n",
    "        }\n",
    "    }\n",
    "]\n"
   ]
  },
  {
   "cell_type": "code",
   "execution_count": 7,
   "metadata": {},
   "outputs": [
    {
     "ename": "KeyError",
     "evalue": "'properties'",
     "output_type": "error",
     "traceback": [
      "\u001b[0;31m---------------------------------------------------------------------------\u001b[0m",
      "\u001b[0;31mKeyError\u001b[0m                                  Traceback (most recent call last)",
      "Cell \u001b[0;32mIn[7], line 57\u001b[0m\n\u001b[1;32m     38\u001b[0m response \u001b[38;5;241m=\u001b[39m bedrock\u001b[38;5;241m.\u001b[39mconverse(\n\u001b[1;32m     39\u001b[0m     modelId\u001b[38;5;241m=\u001b[39m\u001b[38;5;124m\"\u001b[39m\u001b[38;5;124manthropic.claude-3-sonnet-20240229-v1:0\u001b[39m\u001b[38;5;124m\"\u001b[39m,\n\u001b[1;32m     40\u001b[0m     \u001b[38;5;66;03m# modelId=\"meta.llama3-1-405b-instruct-v1:0\",\u001b[39;00m\n\u001b[0;32m   (...)\u001b[0m\n\u001b[1;32m     53\u001b[0m     }\n\u001b[1;32m     54\u001b[0m )\n\u001b[1;32m     56\u001b[0m response_message \u001b[38;5;241m=\u001b[39m response[\u001b[38;5;124m'\u001b[39m\u001b[38;5;124moutput\u001b[39m\u001b[38;5;124m'\u001b[39m][\u001b[38;5;124m'\u001b[39m\u001b[38;5;124mmessage\u001b[39m\u001b[38;5;124m'\u001b[39m]\n\u001b[0;32m---> 57\u001b[0m response \u001b[38;5;241m=\u001b[39m \u001b[43mresponse_message\u001b[49m\u001b[43m[\u001b[49m\u001b[38;5;124;43m'\u001b[39;49m\u001b[38;5;124;43mcontent\u001b[39;49m\u001b[38;5;124;43m'\u001b[39;49m\u001b[43m]\u001b[49m\u001b[43m[\u001b[49m\u001b[38;5;241;43m0\u001b[39;49m\u001b[43m]\u001b[49m\u001b[43m[\u001b[49m\u001b[38;5;124;43m'\u001b[39;49m\u001b[38;5;124;43mtoolUse\u001b[39;49m\u001b[38;5;124;43m'\u001b[39;49m\u001b[43m]\u001b[49m\u001b[43m[\u001b[49m\u001b[38;5;124;43m\"\u001b[39;49m\u001b[38;5;124;43minput\u001b[39;49m\u001b[38;5;124;43m\"\u001b[39;49m\u001b[43m]\u001b[49m\u001b[43m[\u001b[49m\u001b[38;5;124;43m\"\u001b[39;49m\u001b[38;5;124;43mproperties\u001b[39;49m\u001b[38;5;124;43m\"\u001b[39;49m\u001b[43m]\u001b[49m\n\u001b[1;32m     58\u001b[0m \u001b[38;5;28mprint\u001b[39m(json\u001b[38;5;241m.\u001b[39mdumps(response, indent\u001b[38;5;241m=\u001b[39m\u001b[38;5;241m2\u001b[39m))\n\u001b[1;32m     59\u001b[0m \u001b[38;5;66;03m# print(json.dumps(response_message, indent=4))\u001b[39;00m\n",
      "\u001b[0;31mKeyError\u001b[0m: 'properties'"
     ]
    }
   ],
   "source": [
    "filename = \"IT Consulting in the US.pdf\"\n",
    "content = open(filename, 'rb').read()\n",
    "encoded = base64.b64encode(content)\n",
    "\n",
    "# template = open('industry-at-a-glance-template.md').read()\n",
    "# prompt_old = f\"\"\"\n",
    "# You are an expert in extracting market and financial data from documents.\n",
    "\n",
    "# Use the following template to extract data from the enclosed document using up to 500 words.\n",
    "\n",
    "# Return the result in JSON format. Only return JSON and nothing else.\n",
    "\n",
    "# Template:\n",
    "\n",
    "# {template}\n",
    "# \"\"\"\n",
    "\n",
    "prompt = \"\"\"You are an expert in extracting market and financial data from documents.\"\"\"\n",
    "\n",
    "initial_message = {\n",
    "    \"role\": \"user\",\n",
    "    \"content\": [\n",
    "        {\n",
    "            \"text\": prompt,\n",
    "        },\n",
    "        {\n",
    "            \"document\": {\n",
    "                \"format\": \"pdf\",\n",
    "                \"name\": 'document',\n",
    "                \"source\": {\n",
    "                    \"bytes\": content\n",
    "                }\n",
    "            }\n",
    "        }\n",
    "    ],\n",
    "}\n",
    "\n",
    "response = bedrock.converse(\n",
    "    modelId=\"anthropic.claude-3-sonnet-20240229-v1:0\",\n",
    "    # modelId=\"meta.llama3-1-405b-instruct-v1:0\",\n",
    "    messages=[initial_message],\n",
    "    inferenceConfig={\n",
    "        \"maxTokens\": 4000,\n",
    "        \"temperature\": 0\n",
    "    },\n",
    "    toolConfig={\n",
    "        \"tools\": tool_list,\n",
    "        \"toolChoice\": {\n",
    "            \"tool\": {\n",
    "                \"name\": \"summarize_document\"\n",
    "            }\n",
    "        }\n",
    "    }\n",
    ")"
   ]
  },
  {
   "cell_type": "code",
   "execution_count": 11,
   "metadata": {},
   "outputs": [
    {
     "ename": "KeyError",
     "evalue": "'output'",
     "output_type": "error",
     "traceback": [
      "\u001b[0;31m---------------------------------------------------------------------------\u001b[0m",
      "\u001b[0;31mKeyError\u001b[0m                                  Traceback (most recent call last)",
      "Cell \u001b[0;32mIn[11], line 1\u001b[0m\n\u001b[0;32m----> 1\u001b[0m response_message \u001b[38;5;241m=\u001b[39m \u001b[43mresponse\u001b[49m\u001b[43m[\u001b[49m\u001b[38;5;124;43m'\u001b[39;49m\u001b[38;5;124;43moutput\u001b[39;49m\u001b[38;5;124;43m'\u001b[39;49m\u001b[43m]\u001b[49m[\u001b[38;5;124m'\u001b[39m\u001b[38;5;124mmessage\u001b[39m\u001b[38;5;124m'\u001b[39m]\n\u001b[1;32m      2\u001b[0m \u001b[38;5;66;03m# print(json.dumps(response, indent=2))\u001b[39;00m\n\u001b[1;32m      4\u001b[0m response \u001b[38;5;241m=\u001b[39m response_message[\u001b[38;5;124m'\u001b[39m\u001b[38;5;124mcontent\u001b[39m\u001b[38;5;124m'\u001b[39m][\u001b[38;5;241m0\u001b[39m][\u001b[38;5;124m'\u001b[39m\u001b[38;5;124mtoolUse\u001b[39m\u001b[38;5;124m'\u001b[39m][\u001b[38;5;124m\"\u001b[39m\u001b[38;5;124minput\u001b[39m\u001b[38;5;124m\"\u001b[39m]\n",
      "\u001b[0;31mKeyError\u001b[0m: 'output'"
     ]
    }
   ],
   "source": [
    "response_message = response['output']['message']\n",
    "print(json.dumps(response_message, indent=4))\n",
    "\n",
    "core_response = response_message['content'][0]['toolUse'][\"input\"]\n",
    "print(json.dumps(core_response, indent=2))"
   ]
  },
  {
   "cell_type": "code",
   "execution_count": null,
   "metadata": {},
   "outputs": [],
   "source": []
  },
  {
   "cell_type": "code",
   "execution_count": null,
   "metadata": {},
   "outputs": [],
   "source": []
  }
 ],
 "metadata": {
  "kernelspec": {
   "display_name": "probe",
   "language": "python",
   "name": "python3"
  },
  "language_info": {
   "codemirror_mode": {
    "name": "ipython",
    "version": 3
   },
   "file_extension": ".py",
   "mimetype": "text/x-python",
   "name": "python",
   "nbconvert_exporter": "python",
   "pygments_lexer": "ipython3",
   "version": "3.11.9"
  }
 },
 "nbformat": 4,
 "nbformat_minor": 2
}
