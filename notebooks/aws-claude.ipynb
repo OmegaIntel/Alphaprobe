{
 "cells": [
  {
   "cell_type": "markdown",
   "metadata": {},
   "source": [
    "# Rely on LLM's to extract info from docs\n",
    "\n",
    "Will save them in JSON for future reuse."
   ]
  },
  {
   "cell_type": "code",
   "execution_count": 1,
   "metadata": {},
   "outputs": [
    {
     "data": {
      "text/plain": [
       "True"
      ]
     },
     "execution_count": 1,
     "metadata": {},
     "output_type": "execute_result"
    }
   ],
   "source": [
    "import os\n",
    "import boto3\n",
    "import json\n",
    "import dateparser\n",
    "from glob import glob\n",
    "from rag.basic_retrieval import file_id\n",
    "from cachier import cachier\n",
    "from typing import List\n",
    "\n",
    "from Templates.ibis_aws_summary_template import TEMPLATE as IBIS_SUMMARY_TEMPLATE\n",
    "from Templates.aws_basic_info_template import TEMPLATE as BASIC_TEMPLATE\n",
    "from Templates.aws_sections_template import TEMPLATE as SECTIONS_TEMPLATE\n",
    "from Templates.aws_markdown_template import TEMPLATE as MARKDOWN_TEMPLATE\n",
    "from Templates.aws_templates_common import build_aws_template\n",
    "\n",
    "from loading_utils import get_initial_pages\n",
    "\n",
    "from IPython.display import Markdown\n",
    "\n",
    "from dotenv import load_dotenv\n",
    "load_dotenv()"
   ]
  },
  {
   "cell_type": "code",
   "execution_count": 2,
   "metadata": {},
   "outputs": [],
   "source": [
    "AWS_REGION_NAME = 'us-west-2'\n",
    "aws_access_key_id = os.getenv('AWS_ACCESS_KEY_ID')\n",
    "aws_secret_access_key = os.getenv('AWS_SECRET_ACCESS_KEY')\n",
    "\n",
    "# https://boto3.amazonaws.com/v1/documentation/api/latest/reference/services/bedrock-runtime.html\n",
    "bedrock = boto3.client(\n",
    "    service_name='bedrock-runtime',\n",
    "    aws_access_key_id=aws_access_key_id,\n",
    "    aws_secret_access_key=aws_secret_access_key,\n",
    "    region_name=AWS_REGION_NAME\n",
    ")"
   ]
  },
  {
   "cell_type": "code",
   "execution_count": 3,
   "metadata": {},
   "outputs": [],
   "source": [
    "# trouble-shooting: use a different client with service_name 'bedrock', not 'bedrock-runtime'\n",
    "# https://docs.aws.amazon.com/bedrock/latest/APIReference/welcome.html\n",
    "# https://boto3.amazonaws.com/v1/documentation/api/latest/reference/services/bedrock.html\n",
    "\n",
    "# client = boto3.client(\n",
    "#     service_name='bedrock',\n",
    "#     aws_access_key_id=aws_access_key_id,\n",
    "#     aws_secret_access_key=aws_secret_access_key,\n",
    "#     region_name=AWS_REGION_NAME\n",
    "# )\n",
    "\n",
    "# summ = client.list_foundation_models()['modelSummaries']\n",
    "# [model for model in summ if 'Sonnet' in model['modelName']]"
   ]
  },
  {
   "cell_type": "code",
   "execution_count": 4,
   "metadata": {},
   "outputs": [],
   "source": [
    "# [m for m in dir(bedrock) if not m.startswith('_')]\n",
    "# help(bedrock.converse)"
   ]
  },
  {
   "cell_type": "code",
   "execution_count": 5,
   "metadata": {},
   "outputs": [],
   "source": [
    "INFO_EXTRACTION_PROMPT = \"\"\"\n",
    "You are an expert in extracting market and financial data from documents.\n",
    "Extract essential data from text in the enclosed document.\n",
    "\n",
    "Return the result in JSON format. Do not use non-JSON tags such as <property> or <UNKNOWN>.\n",
    "Use only simple keys with units, such as \"historical_revenue_growth_percentage\" or \"establishments_count\" or \"revenue_dollars\".\n",
    "\"\"\""
   ]
  },
  {
   "cell_type": "code",
   "execution_count": 6,
   "metadata": {},
   "outputs": [],
   "source": [
    "STRUCTURE_EXTRACTION_PROMPT = \"\"\"\n",
    "You are an expert in extracting logical structure from PDF documents.\n",
    "\n",
    "A PDF document is generally divided into chapters, sections, subsections, and such.\n",
    "\n",
    "A chapter or section title has larger font size, more visible color, and is often boldfaced.\n",
    "It starts on a new line and does not mix with the rest of the text in terms of size or color.\n",
    "\n",
    "Return the the result in JSON format as a list of headers of different levels.\n",
    "Use the following header attributes: name, level, page number, and line number.\n",
    "\n",
    "Make sure to scan the document from start to finish and extract the headers.\n",
    "\"\"\""
   ]
  },
  {
   "cell_type": "code",
   "execution_count": 7,
   "metadata": {},
   "outputs": [],
   "source": [
    "MARKDOWN_PROMPT = \"\"\"\n",
    "You are an expert in converting PDF documents and their parts to a Markdown representation.\n",
    "In particular, most of the documents documents are incomplete in that they don't have the title\n",
    "and can start on any page in the middle.\n",
    "\n",
    "You pay special attention to sections and paragraphs.\n",
    "\n",
    "Depending on the level of the section, you use an appropriate number of hash signs (#) to mark their headers.\n",
    "\n",
    "You also keep paragraphs together and do not insert new lines in the middle of paragraphs.\n",
    "\"\"\""
   ]
  },
  {
   "cell_type": "code",
   "execution_count": 8,
   "metadata": {},
   "outputs": [],
   "source": [
    "def get_raw_pdf_part(filename: str) -> dict:\n",
    "    \"\"\"This works best and parses quickly.\"\"\"\n",
    "    with open(filename, 'rb') as f:\n",
    "        content = f.read()\n",
    "        return {\n",
    "            \"document\": {\n",
    "                \"format\": \"pdf\",\n",
    "                \"name\": 'document',\n",
    "                \"source\": {\n",
    "                    \"bytes\": content\n",
    "                }\n",
    "            }\n",
    "        }\n",
    "\n",
    "\n",
    "def response_to_template(filename: str, template: dict, prompt: str) -> dict:\n",
    "\n",
    "    initial_message = {\n",
    "        \"role\": \"user\",\n",
    "        \"content\": [\n",
    "            {\n",
    "                \"text\": prompt,\n",
    "            },\n",
    "        ],\n",
    "    }\n",
    "\n",
    "    initial_message['content'].append(get_raw_pdf_part(filename))\n",
    "\n",
    "    tool_list = [{\n",
    "        \"toolSpec\": template\n",
    "    }]\n",
    "    response = bedrock.converse(\n",
    "        modelId=\"anthropic.claude-3-sonnet-20240229-v1:0\",\n",
    "        # modelId=\"meta.llama3-1-405b-instruct-v1:0\",\n",
    "        messages=[initial_message],\n",
    "        inferenceConfig={\n",
    "            \"temperature\": 0\n",
    "        },\n",
    "        toolConfig={\n",
    "            \"tools\": tool_list,\n",
    "            \"toolChoice\": {\n",
    "                \"tool\": {\n",
    "                    \"name\": \"info_extract\"\n",
    "                }\n",
    "            }\n",
    "        }\n",
    "    )\n",
    "    core_response = response['output']['message']['content'][0]['toolUse']['input']\n",
    "    if 'properties' in core_response:\n",
    "        core_response: dict = core_response['properties']\n",
    "    for k, v in core_response.items():\n",
    "        if isinstance(v, str) and v[0] in '{[' and v[-1] in ']}':\n",
    "            try:\n",
    "                core_response[k] = json.loads(v)\n",
    "            except Exception:\n",
    "                pass\n",
    "\n",
    "    return core_response"
   ]
  },
  {
   "cell_type": "code",
   "execution_count": 9,
   "metadata": {},
   "outputs": [],
   "source": [
    "# def filename_template_hash(filename: str, template: dict):\n",
    "def filename_template_hash(*args):\n",
    "    # TODO: figure out why it works this way\n",
    "    filename = args[1]['filename']\n",
    "    template = args[1]['template']\n",
    "    return (file_id(filename), template['name'])\n",
    "\n",
    "\n",
    "# @cachier(hash_func=filename_template_hash)\n",
    "def info_from_doc_template(filename: str, template: dict, prompt: str) -> dict:\n",
    "    \"\"\"Populate the separate templates and merge the result.\"\"\"\n",
    "\n",
    "    template_parts = template['data']\n",
    "    full_templates = build_aws_template(template_parts)\n",
    "    results = [response_to_template(filename, part, prompt) for part in full_templates]\n",
    "\n",
    "    total = {}\n",
    "    for result in results:\n",
    "        total.update(result)\n",
    "\n",
    "    return total"
   ]
  },
  {
   "cell_type": "code",
   "execution_count": 10,
   "metadata": {},
   "outputs": [],
   "source": [
    "def extract_basic_info(filename: str) -> dict:\n",
    "    \"\"\"Extract basic info based on the template and initial part of the file.\"\"\"\n",
    "    pages_filename = get_initial_pages(filename, pmax=10)\n",
    "    result = info_from_doc_template(filename=pages_filename, template=BASIC_TEMPLATE, prompt=INFO_EXTRACTION_PROMPT)\n",
    "    os.remove(pages_filename)\n",
    "    return result"
   ]
  },
  {
   "cell_type": "code",
   "execution_count": 11,
   "metadata": {},
   "outputs": [],
   "source": [
    "def extract_section_info(filename: str) -> dict:\n",
    "    pages_filename = get_initial_pages(filename, pmin=10, pmax=20)\n",
    "    result = info_from_doc_template(filename=pages_filename, template=SECTIONS_TEMPLATE, prompt=STRUCTURE_EXTRACTION_PROMPT)\n",
    "    return result"
   ]
  },
  {
   "cell_type": "code",
   "execution_count": 12,
   "metadata": {},
   "outputs": [],
   "source": [
    "def extract_markdown(filename: str, first_page: int, last_page: int) -> dict:\n",
    "    pages_filename = get_initial_pages(filename, pmin=first_page, pmax=last_page+1)\n",
    "    result = info_from_doc_template(filename=pages_filename, template=MARKDOWN_TEMPLATE, prompt=MARKDOWN_PROMPT)\n",
    "    return result"
   ]
  },
  {
   "cell_type": "code",
   "execution_count": 13,
   "metadata": {},
   "outputs": [],
   "source": [
    "def ibis_industry_summary(filename: str) -> dict:\n",
    "    \"\"\"Extract full summary from the PDF file.\"\"\"\n",
    "    return info_from_doc_template(filename=filename, template=IBIS_SUMMARY_TEMPLATE, prompt=INFO_EXTRACTION_PROMPT)"
   ]
  },
  {
   "cell_type": "code",
   "execution_count": 14,
   "metadata": {},
   "outputs": [],
   "source": [
    "# filenames = glob('IndustrySource/Misc/*')\n",
    "\n",
    "filenames = [\n",
    "    # 'IndustrySource/Misc/Global Markets for Advanced Aerospace Materials.pdf',\n",
    "    # 'IndustrySource/Misc/51 Information in the US Industry Report copy.pdf',\n",
    "    # 'IndustrySource/Misc/United_States_Healthcare_Repor copy.pdf',\n",
    "    'IndustrySource/Misc/62 Healthcare and Social Assistance in the US Industry Report.pdf',\n",
    "]"
   ]
  },
  {
   "cell_type": "code",
   "execution_count": 15,
   "metadata": {},
   "outputs": [
    {
     "data": {
      "text/plain": [
       "[{'markdown': '# IBISWorld | Healthcare and Social Assistance in the US Mar 2024\\n\\n## Major Players\\n\\n## Key External Drivers\\n\\n| Key External Drivers | Impact |\\n| --- | --- |\\n| Number of people with private health insurance | Positive |\\n| Federal funding for Medicare and Medicaid | Positive |  \\n| Total health expenditure | Positive |\\n| Number of adults aged 65 and older | Positive |\\n\\n## Industry Structure\\n\\n| Characteristic | Level | Trend |\\n| --- | --- | --- |\\n| Concentration | Low | - |\\n| Barriers To Entry | High | Steady |\\n| Regulation and Policy | High | Steady |\\n| Life Cycle | Growth | - |\\n| Revenue Volatility | Moderate | - |\\n| Assistance | High | Steady |\\n| Competition | Moderate | Steady |\\n| Innovation | High | - |'}]"
      ]
     },
     "execution_count": 15,
     "metadata": {},
     "output_type": "execute_result"
    }
   ],
   "source": [
    "markdown = [extract_markdown(filename, 10, 11) for filename in filenames[:5]]\n",
    "markdown"
   ]
  },
  {
   "cell_type": "code",
   "execution_count": 16,
   "metadata": {},
   "outputs": [
    {
     "data": {
      "text/markdown": [
       "# IBISWorld | Healthcare and Social Assistance in the US Mar 2024\n",
       "\n",
       "## Major Players\n",
       "\n",
       "## Key External Drivers\n",
       "\n",
       "| Key External Drivers | Impact |\n",
       "| --- | --- |\n",
       "| Number of people with private health insurance | Positive |\n",
       "| Federal funding for Medicare and Medicaid | Positive |  \n",
       "| Total health expenditure | Positive |\n",
       "| Number of adults aged 65 and older | Positive |\n",
       "\n",
       "## Industry Structure\n",
       "\n",
       "| Characteristic | Level | Trend |\n",
       "| --- | --- | --- |\n",
       "| Concentration | Low | - |\n",
       "| Barriers To Entry | High | Steady |\n",
       "| Regulation and Policy | High | Steady |\n",
       "| Life Cycle | Growth | - |\n",
       "| Revenue Volatility | Moderate | - |\n",
       "| Assistance | High | Steady |\n",
       "| Competition | Moderate | Steady |\n",
       "| Innovation | High | - |"
      ],
      "text/plain": [
       "<IPython.core.display.Markdown object>"
      ]
     },
     "metadata": {},
     "output_type": "display_data"
    }
   ],
   "source": [
    "display(Markdown(markdown[0]['markdown']))"
   ]
  },
  {
   "cell_type": "code",
   "execution_count": 20,
   "metadata": {},
   "outputs": [
    {
     "data": {
      "text/plain": [
       "[{'markdown': \"# Healthcare and Social Assistance in the US Mar 2024\\n\\n## SWOT\\n\\n### Strengths\\n- High Profit vs. Sector Average\\n- Low Customer Class Concentration  \\n- Low Product/Service Concentration\\n- Low Capital Requirements\\n\\n### Weaknesses  \\n- Low Revenue per Employee\\n\\n### Opportunities\\n- High Revenue Growth (2019-2024)\\n- High Revenue Growth (2024-2029) \\n- High Performance Drivers\\n- Federal funding for Medicare and Medicaid\\n\\n### Threats\\n- Low Revenue Growth (2005-2024)\\n- Low Outlier Growth\\n- Number of people with private health insurance\\n\\n## Executive Summary\\n\\nDemographic and economic factors are the driving forces behind rising healthcare spending in the US. The population's medical needs are expanding the oldest demographic's consumption of medical services. At the same time, growing incomes and broader insurance coverage facilitate access to healthcare providers. Increasing healthcare spending was abruptly disrupted by the pandemic, exposing healthcare and social assistance providers to unprecedented financial and operational pressures. Though pandemic concerns have alleviated, the long-term effects of it continue to shape every corner of the health sector. Still, revenue has been expanding at a CAGR of 0.7% to an estimated $3.6 trillion over the past five years, with revenue rising an expected 0.3% in 2024.  \\n\\nThe pandemic exacerbated existing staffing shortages. Persistent labor shortages jeopardize healthcare and social assistance providers' ability to address demand, creating widespread staff burnout and high turnover rates. These shortages have fueled wage inflation in the sector and the use of costlier contract labor, squeezing profit. Some areas of Healthcare and Social Assistance are facing more critical shortages, and the long-term effects of the pandemic continue to make it difficult for companies to attract and retain employees to fill these gaps.\\n\\nDemographic trends will continue to be the driving force behind rising healthcare spending moving forward. However, increasing demand and elevated costs will pressure healthcare and social assistance providers to shift how they operate. Consolidation activity will ramp up as smaller providers join larger health groups to secure larger insurer reimbursements. Digital tools and telehealth will continue to be integrated into healthcare delivery because they can lower costs, increase capacity and enable access to patients in underserved areas. In all, sector revenue will grow at a CAGR of 2.7% to an estimated $4.1 trillion in the coming years.\\n\\n## Performance\\n\\n### Highlights\\n\\n**Revenue:** $3.6tr  \\n2019-24 CAGR ↑ 0.7%  \\n2024-29 CAGR ↑ 2.7%  \\n\\n**Employees:** 24m\\n2019-24 CAGR ↑ 0.9%\\n2024-29 CAGR ↑ 2.3%  \\n\\n**Businesses:** 3m\\n2019-24 CAGR ↑ 1.2%\\n2024-29 CAGR ↑ 2.0%  \\n\\n**Profit:** $355.5bn\\n2019-24 CAGR ↑ 0.1%\\n\\n**Profit Margin:** 10.0%  \\n2019-24 CAGR ↓ 0.3 pp\\n\\n### Key Takeaways\\n\\n- COVID-19 created unprecedented challenges for healthcare and social assistance providers. Staffing shortages and rising costs continue to impact providers and businesses.\\n- Healthcare and social assistance providers are vital to older adults. As these people continue to age, their expanding and complex medical needs will require various health and social services.\"}]"
      ]
     },
     "execution_count": 20,
     "metadata": {},
     "output_type": "execute_result"
    }
   ],
   "source": [
    "markdown = [extract_markdown(filename, 12, 14) for filename in filenames[:5]]\n",
    "markdown"
   ]
  },
  {
   "cell_type": "code",
   "execution_count": 21,
   "metadata": {},
   "outputs": [
    {
     "data": {
      "text/markdown": [
       "# Healthcare and Social Assistance in the US Mar 2024\n",
       "\n",
       "## SWOT\n",
       "\n",
       "### Strengths\n",
       "- High Profit vs. Sector Average\n",
       "- Low Customer Class Concentration  \n",
       "- Low Product/Service Concentration\n",
       "- Low Capital Requirements\n",
       "\n",
       "### Weaknesses  \n",
       "- Low Revenue per Employee\n",
       "\n",
       "### Opportunities\n",
       "- High Revenue Growth (2019-2024)\n",
       "- High Revenue Growth (2024-2029) \n",
       "- High Performance Drivers\n",
       "- Federal funding for Medicare and Medicaid\n",
       "\n",
       "### Threats\n",
       "- Low Revenue Growth (2005-2024)\n",
       "- Low Outlier Growth\n",
       "- Number of people with private health insurance\n",
       "\n",
       "## Executive Summary\n",
       "\n",
       "Demographic and economic factors are the driving forces behind rising healthcare spending in the US. The population's medical needs are expanding the oldest demographic's consumption of medical services. At the same time, growing incomes and broader insurance coverage facilitate access to healthcare providers. Increasing healthcare spending was abruptly disrupted by the pandemic, exposing healthcare and social assistance providers to unprecedented financial and operational pressures. Though pandemic concerns have alleviated, the long-term effects of it continue to shape every corner of the health sector. Still, revenue has been expanding at a CAGR of 0.7% to an estimated $3.6 trillion over the past five years, with revenue rising an expected 0.3% in 2024.  \n",
       "\n",
       "The pandemic exacerbated existing staffing shortages. Persistent labor shortages jeopardize healthcare and social assistance providers' ability to address demand, creating widespread staff burnout and high turnover rates. These shortages have fueled wage inflation in the sector and the use of costlier contract labor, squeezing profit. Some areas of Healthcare and Social Assistance are facing more critical shortages, and the long-term effects of the pandemic continue to make it difficult for companies to attract and retain employees to fill these gaps.\n",
       "\n",
       "Demographic trends will continue to be the driving force behind rising healthcare spending moving forward. However, increasing demand and elevated costs will pressure healthcare and social assistance providers to shift how they operate. Consolidation activity will ramp up as smaller providers join larger health groups to secure larger insurer reimbursements. Digital tools and telehealth will continue to be integrated into healthcare delivery because they can lower costs, increase capacity and enable access to patients in underserved areas. In all, sector revenue will grow at a CAGR of 2.7% to an estimated $4.1 trillion in the coming years.\n",
       "\n",
       "## Performance\n",
       "\n",
       "### Highlights\n",
       "\n",
       "**Revenue:** $3.6tr  \n",
       "2019-24 CAGR ↑ 0.7%  \n",
       "2024-29 CAGR ↑ 2.7%  \n",
       "\n",
       "**Employees:** 24m\n",
       "2019-24 CAGR ↑ 0.9%\n",
       "2024-29 CAGR ↑ 2.3%  \n",
       "\n",
       "**Businesses:** 3m\n",
       "2019-24 CAGR ↑ 1.2%\n",
       "2024-29 CAGR ↑ 2.0%  \n",
       "\n",
       "**Profit:** $355.5bn\n",
       "2019-24 CAGR ↑ 0.1%\n",
       "\n",
       "**Profit Margin:** 10.0%  \n",
       "2019-24 CAGR ↓ 0.3 pp\n",
       "\n",
       "### Key Takeaways\n",
       "\n",
       "- COVID-19 created unprecedented challenges for healthcare and social assistance providers. Staffing shortages and rising costs continue to impact providers and businesses.\n",
       "- Healthcare and social assistance providers are vital to older adults. As these people continue to age, their expanding and complex medical needs will require various health and social services."
      ],
      "text/plain": [
       "<IPython.core.display.Markdown object>"
      ]
     },
     "metadata": {},
     "output_type": "display_data"
    }
   ],
   "source": [
    "display(Markdown(markdown[0]['markdown']))"
   ]
  },
  {
   "cell_type": "code",
   "execution_count": 19,
   "metadata": {},
   "outputs": [
    {
     "ename": "ZeroDivisionError",
     "evalue": "division by zero",
     "output_type": "error",
     "traceback": [
      "\u001b[0;31m---------------------------------------------------------------------------\u001b[0m",
      "\u001b[0;31mZeroDivisionError\u001b[0m                         Traceback (most recent call last)",
      "Cell \u001b[0;32mIn[19], line 1\u001b[0m\n\u001b[0;32m----> 1\u001b[0m \u001b[38;5;241;43m0\u001b[39;49m\u001b[38;5;241;43m/\u001b[39;49m\u001b[38;5;241;43m0\u001b[39;49m\n",
      "\u001b[0;31mZeroDivisionError\u001b[0m: division by zero"
     ]
    }
   ],
   "source": [
    "0/0"
   ]
  },
  {
   "cell_type": "code",
   "execution_count": null,
   "metadata": {},
   "outputs": [],
   "source": [
    "out_sections = [extract_section_info(filename) for filename in filenames[:5]]\n",
    "out_sections\n",
    "\n",
    "\"\"\"\n",
    "[{'sections': [{'name': 'Introduction',\n",
    "    'level': 1,\n",
    "    'page_number': 1,\n",
    "    'line_number': 1},\n",
    "   {'name': 'Study Goals and Objectives',\n",
    "    'level': 2,\n",
    "    'page_number': 1,\n",
    "    'line_number': 6},\n",
    "   {'name': 'Reasons for Doing This Study',\n",
    "    'level': 2,\n",
    "    'page_number': 2,\n",
    "    'line_number': 16},\n",
    "   {'name': 'Scope of Report',\n",
    "    'level': 2,\n",
    "    'page_number': 3,\n",
    "    'line_number': 28},\n",
    "   {'name': \"What's New in This Update?\",\n",
    "    'level': 2,\n",
    "    'page_number': 5,\n",
    "    'line_number': 51},\n",
    "   {'name': 'Research Methodology',\n",
    "    'level': 2,\n",
    "    'page_number': 5,\n",
    "    'line_number': 67},\n",
    "   {'name': 'Information Sources',\n",
    "    'level': 2,\n",
    "    'page_number': 7,\n",
    "    'line_number': 100},\n",
    "   {'name': 'Geographic Breakdown',\n",
    "    'level': 2,\n",
    "\"\"\""
   ]
  },
  {
   "cell_type": "code",
   "execution_count": null,
   "metadata": {},
   "outputs": [],
   "source": []
  },
  {
   "cell_type": "code",
   "execution_count": 14,
   "metadata": {},
   "outputs": [],
   "source": [
    "# out_basic = [extract_basic_info(filename) for filename in filenames[:5]]\n",
    "# out_basic"
   ]
  },
  {
   "cell_type": "code",
   "execution_count": null,
   "metadata": {},
   "outputs": [],
   "source": [
    "0/0"
   ]
  },
  {
   "cell_type": "code",
   "execution_count": null,
   "metadata": {},
   "outputs": [],
   "source": [
    "out_full = [ibis_industry_summary(filename) for filename in filenames[:5]]\n",
    "out_full"
   ]
  },
  {
   "cell_type": "code",
   "execution_count": 12,
   "metadata": {},
   "outputs": [],
   "source": [
    "def parse_save_file(filename: str):\n",
    "    \"\"\"Extract info and save it.\"\"\"\n",
    "    ibis_summary = ibis_industry_summary(filename)\n",
    "    last_updated = dateparser.parse(ibis_summary['last_updated']).isoformat()\n",
    "    last_updated = last_updated.replace(' ', 'T') + '+00:00'\n",
    "\n",
    "    out = {\n",
    "        'title': f'{ibis_summary[\"industry_name\"]} Industry Report',\n",
    "\n",
    "        'category': 'Industry research',\n",
    "        'subcategory': 'IBIS Industry at a Glance',\n",
    "        'tags': ['test', 'industry report', 'IBIS'],\n",
    "        \n",
    "        'last_updated': last_updated,\n",
    "\n",
    "        'summary': ibis_summary,\n",
    "    }\n",
    "\n",
    "    out_filename = filename.replace('Source', 'Summary').replace('.pdf', '.json')\n",
    "    with open(out_filename, 'w') as f:\n",
    "        json.dump(out, f, indent=2)"
   ]
  },
  {
   "cell_type": "code",
   "execution_count": 13,
   "metadata": {},
   "outputs": [],
   "source": [
    "filenames = [\n",
    "    'IndustrySource/IBIS/Household Furniture Manufacturing in the US.pdf',\n",
    "    'IndustrySource/IBIS/Furniture Stores in the US.pdf',\n",
    "    \"IndustrySource/IBIS/IT Consulting in the US.pdf\",\n",
    "]\n",
    "for filename in filenames:\n",
    "    parse_save_file(filename)"
   ]
  },
  {
   "cell_type": "code",
   "execution_count": null,
   "metadata": {},
   "outputs": [],
   "source": []
  },
  {
   "cell_type": "code",
   "execution_count": null,
   "metadata": {},
   "outputs": [],
   "source": [
    "def headers_and_subheaders(filename: str) -> List[dict]:\n",
    "\n",
    "    prompt = \"\"\"\n",
    "You are an expert in inferring document structure in terms of sections, subsections, etc. from PDF documents.\n",
    "\n",
    "Extract from the given document sections, subsections, and subsubsections.\n",
    "\n",
    "Return the result as a JSON list, with each element being a dictionary with the fields: \"name\", \"level\", \"page\"\n",
    "\n",
    "Return the result in JSON format. Do not use non-JSON tags such as <property> or <UNKNOWN>.\n",
    "Use only simple keys with units, such as \"historical_revenue_growth_percentage\" or \"establishments_count\" or \"revenue_dollars\".\n",
    "\"\"\"\n",
    "\n",
    "    initial_message = {\n",
    "        \"role\": \"user\",\n",
    "        \"content\": [\n",
    "            {\n",
    "                \"text\": prompt,\n",
    "            },\n",
    "        ],\n",
    "    }\n",
    "\n",
    "    initial_message['content'].append(get_raw_pdf_part(filename))\n",
    "\n",
    "    # tool_list = [{\n",
    "    #     \"toolSpec\": template\n",
    "    # }]\n",
    "    response = bedrock.converse(\n",
    "        modelId=\"anthropic.claude-3-sonnet-20240229-v1:0\",\n",
    "        # modelId=\"meta.llama3-1-405b-instruct-v1:0\",\n",
    "        messages=[initial_message],\n",
    "        inferenceConfig={\n",
    "            \"temperature\": 0\n",
    "        },\n",
    "        # toolConfig={\n",
    "        #     \"tools\": tool_list,\n",
    "        #     \"toolChoice\": {\n",
    "        #         \"tool\": {\n",
    "        #             \"name\": \"info_extract\"\n",
    "        #         }\n",
    "        #     }\n",
    "        # }\n",
    "    )\n",
    "    core_response = response['output']['message']['content'][0]['toolUse']['input']\n"
   ]
  }
 ],
 "metadata": {
  "kernelspec": {
   "display_name": "probe",
   "language": "python",
   "name": "python3"
  },
  "language_info": {
   "codemirror_mode": {
    "name": "ipython",
    "version": 3
   },
   "file_extension": ".py",
   "mimetype": "text/x-python",
   "name": "python",
   "nbconvert_exporter": "python",
   "pygments_lexer": "ipython3",
   "version": "3.11.9"
  }
 },
 "nbformat": 4,
 "nbformat_minor": 2
}
