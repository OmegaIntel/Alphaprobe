{
 "cells": [
  {
   "cell_type": "code",
   "execution_count": 8,
   "id": "e0010e65",
   "metadata": {},
   "outputs": [],
   "source": [
    "# Define the API endpoint\n",
    "url = \"http://127.0.0.1:8004/upload\"\n",
    "\n",
    "import requests"
   ]
  },
  {
   "cell_type": "code",
   "execution_count": 9,
   "id": "687e9d01-7668-4bd3-87d7-692f1f8166f0",
   "metadata": {},
   "outputs": [],
   "source": [
    "# Define the file path\n",
    "file_path = \"../data/merged.txt\"\n",
    "\n",
    "# Define the form data\n",
    "form_data = {\n",
    "    'company': 'YourCompanyName',\n",
    "    'file_type': 'descriptive'  # or 'descriptive'\n",
    "}"
   ]
  },
  {
   "cell_type": "code",
   "execution_count": 10,
   "id": "0a7ec9fe-1844-4360-ab99-82437723b554",
   "metadata": {},
   "outputs": [],
   "source": [
    "# Open the file in binary mode and send the request\n",
    "with open(file_path, 'rb') as file:\n",
    "    files = {'file': file}\n",
    "    response = requests.post(url, data=form_data, files=files)"
   ]
  },
  {
   "cell_type": "code",
   "execution_count": 11,
   "id": "ae692777-1216-40d8-9d0b-de5b8ad5e802",
   "metadata": {},
   "outputs": [
    {
     "name": "stdout",
     "output_type": "stream",
     "text": [
      "200\n"
     ]
    }
   ],
   "source": [
    "# Print the response from the server\n",
    "print(response.status_code)"
   ]
  },
  {
   "cell_type": "code",
   "execution_count": 12,
   "id": "5abe435f-a610-4b79-a690-dabbad9c6890",
   "metadata": {},
   "outputs": [
    {
     "name": "stdout",
     "output_type": "stream",
     "text": [
      "b'{\"company\":\"YourCompanyName\",\"file_name\":\"merged.txt\",\"file_type\":\"descriptive\",\"detail\":\"File uploaded successfully\"}'\n"
     ]
    }
   ],
   "source": [
    "print(response.content)"
   ]
  },
  {
   "cell_type": "code",
   "execution_count": 22,
   "id": "e6774c03-43dd-40ae-bdc0-5a7463d6300a",
   "metadata": {},
   "outputs": [
    {
     "name": "stdout",
     "output_type": "stream",
     "text": [
      "Response: {'response': 'The mission of JPMorgan Chase is to support the growth and success of businesses and entrepreneurs. The company aims to facilitate innovation and create opportunities for growth by providing financial services and solutions tailored to the needs of its clients. Through collaboration and strategic partnerships, JPMorgan Chase seeks to help companies navigate challenges and build a sustainable future. This commitment to fostering growth is reflected in their support for various sectors, including venture capital and emerging markets, as they adapt to changing economic conditions.'}\n"
     ]
    }
   ],
   "source": [
    "# Define the endpoint URL\n",
    "url = \"http://127.0.0.1:8004/chat\"  # Adjust the URL as necessary\n",
    "\n",
    "# Define the payload\n",
    "payload = {\n",
    "    \"message\": \"What is the mission of this company?\",\n",
    "    'company': 'YourCompanyName',\n",
    "}\n",
    "\n",
    "# Set the headers\n",
    "headers = {\n",
    "    \"Content-Type\": \"application/json\"\n",
    "}\n",
    "\n",
    "# Send the POST request\n",
    "response = requests.post(url, json=payload, headers=headers)\n",
    "\n",
    "# Check the response status code\n",
    "if response.status_code == 200:\n",
    "    # Print the response from the API\n",
    "    print(\"Response:\", response.json())\n",
    "else:\n",
    "    print(\"Failed to get response:\", response.status_code, response.text)\n"
   ]
  },
  {
   "cell_type": "code",
   "execution_count": null,
   "id": "fb40bc0e-6eee-4e08-a458-dc85ce3d4bf0",
   "metadata": {},
   "outputs": [],
   "source": []
  }
 ],
 "metadata": {
  "kernelspec": {
   "display_name": "Python 3 (ipykernel)",
   "language": "python",
   "name": "python3"
  },
  "language_info": {
   "codemirror_mode": {
    "name": "ipython",
    "version": 3
   },
   "file_extension": ".py",
   "mimetype": "text/x-python",
   "name": "python",
   "nbconvert_exporter": "python",
   "pygments_lexer": "ipython3",
   "version": "3.11.9"
  }
 },
 "nbformat": 4,
 "nbformat_minor": 5
}
