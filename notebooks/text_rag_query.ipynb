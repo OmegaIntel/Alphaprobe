{
 "cells": [
  {
   "cell_type": "code",
   "execution_count": 47,
   "id": "f4a9b6d6",
   "metadata": {},
   "outputs": [],
   "source": [
    "import requests\n",
    "import json"
   ]
  },
  {
   "cell_type": "code",
   "execution_count": 17,
   "id": "e6774c03-43dd-40ae-bdc0-5a7463d6300a",
   "metadata": {},
   "outputs": [],
   "source": [
    "# Define the endpoint URL\n",
    "url = \"http://127.0.0.1:8004/chat\"  # Adjust the URL as necessary\n",
    "\n",
    "\n",
    "# Set the headers\n",
    "headers = {\n",
    "    \"Content-Type\": \"application/json\"\n",
    "}\n",
    "\n",
    "# Define the payload\n",
    "payload = {\n",
    "    \"message\": \"Review of the technology stack and its alignment with industry standards.?\",\n",
    "    'company': 'NETWORKLOGIC',\n",
    "}\n",
    "\n",
    "# Send the POST request\n",
    "response = requests.post(url, json=payload, headers=headers)"
   ]
  },
  {
   "cell_type": "code",
   "execution_count": 18,
   "id": "fb40bc0e-6eee-4e08-a458-dc85ce3d4bf0",
   "metadata": {},
   "outputs": [
    {
     "name": "stdout",
     "output_type": "stream",
     "text": [
      "Response: {'response': 'No relevant context found.'}\n"
     ]
    }
   ],
   "source": [
    "# Check the response status code\n",
    "if response.status_code == 200:\n",
    "    # Print the response from the API\n",
    "    print(\"Response:\", response.json())\n",
    "else:\n",
    "    print(\"Failed to get response:\", response.status_code, response.text)\n"
   ]
  },
  {
   "cell_type": "markdown",
   "id": "d199efe5-3478-4fc0-9477-1eb1b410ffb8",
   "metadata": {},
   "source": [
    "Based on the financial data provided for Network Logic, L.L.C. over the past few years, here's an overview of the balance sheets, income statements, and cash flow statements that are relevant to understanding the company's performance:\n",
    "\n",
    "### Balance Sheet Highlights (as of June 30, 2024)\n",
    "- **Current Assets:**\n",
    "  - Cash: $100,200\n",
    "  - Accounts Receivable: $44,011\n",
    "  - Undeposited Funds: $2,668\n",
    "  - Other Current Assets: $4,149\n",
    "  - **Total Current Assets:** $179,950\n",
    "\n",
    "- **Current Liabilities:**\n",
    "  - Accounts Payable: $(6,631)\n",
    "  - Credit Cards: $(1,954)\n",
    "  - Income Tax Payments: $(29,715)\n",
    "  - Payroll Liabilities: $30,034\n",
    "  - **Total Current Liabilities:** $(7,952)\n",
    "\n",
    "- **Total Liabilities:** $54,541\n",
    "- **Total Equity:** $134,686\n",
    "\n",
    "### Income Statement Overview (Accrual Basis)\n",
    "- **Net Sales Revenue:**\n",
    "  - 2020: $617,485\n",
    "  - 2021: $547,654\n",
    "  - 2022: $608,263\n",
    "  - 2023: $721,907\n",
    "  - TTM as of 6/30/2024: $838,964\n",
    "\n",
    "- **Net Income:**\n",
    "  - 2020: $58,884 (9.5% of sales)\n",
    "  - 2021: $74,967 (13.7% of sales)\n",
    "  - 2022: $128,615 (21.1% of sales)\n",
    "  - 2023: $145,307 (20.1% of sales)\n",
    "  - TTM as of 6/30/2024: $224,903 (26.8% of sales)\n",
    "\n",
    "### Cash Flow Statements\n",
    "While specific cash flow statements were not provided in the data, cash flow can typically be inferred from net income and changes in working capital. The increase in net income over the years indicates positive cash flow trends, especially with the rise in revenue leading to improved profitability.\n",
    "\n",
    "### Normalized EBITDA Calculations\n",
    "For further financial analysis, the normalized EBITDA shows an upward trend:\n",
    "- **Normalized EBITDA:**\n",
    "  - 2020: $117,348\n",
    "  - 2021: $104,993\n",
    "  - 2022: $182,506\n",
    "  - 2023: $192,735\n",
    "  - TTM as of 6/30/2024: $267,512\n",
    "\n",
    "### Summary\n",
    "The financial performance of Network Logic, L.L.C. illustrates a business with increasing sales revenue, a growing net income margin, and a healthy equity position. The normalized EBITDA suggests strong operational performance, making Network Logic a potentially attractive investment opportunity, particularly given the absence of client concentration and a loyal customer base across diverse industry segments.\n",
    "\n",
    "For more granular details or specific line items, further breakdowns of accounts receivable, accounts payable, and any capital expenditures would be beneficial during due diligence."
   ]
  },
  {
   "cell_type": "code",
   "execution_count": 30,
   "id": "f94ffccd-d691-4bc5-9e85-c10977fb4763",
   "metadata": {},
   "outputs": [
    {
     "name": "stdout",
     "output_type": "stream",
     "text": [
      "Collecting tqdm\n",
      "  Downloading tqdm-4.66.4-py3-none-any.whl.metadata (57 kB)\n",
      "\u001b[2K     \u001b[90m━━━━━━━━━━━━━━━━━━━━━━━━━━━━━━━━━━━━━━━━\u001b[0m \u001b[32m57.6/57.6 kB\u001b[0m \u001b[31m2.5 MB/s\u001b[0m eta \u001b[36m0:00:00\u001b[0m\n",
      "\u001b[?25hDownloading tqdm-4.66.4-py3-none-any.whl (78 kB)\n",
      "\u001b[2K   \u001b[90m━━━━━━━━━━━━━━━━━━━━━━━━━━━━━━━━━━━━━━━━\u001b[0m \u001b[32m78.3/78.3 kB\u001b[0m \u001b[31m5.6 MB/s\u001b[0m eta \u001b[36m0:00:00\u001b[0m\n",
      "\u001b[?25hInstalling collected packages: tqdm\n",
      "Successfully installed tqdm-4.66.4\n"
     ]
    }
   ],
   "source": [
    "!pip install tqdm"
   ]
  },
  {
   "cell_type": "code",
   "execution_count": 50,
   "id": "904455d7-7a49-4bde-9c5c-63e22401899e",
   "metadata": {},
   "outputs": [
    {
     "name": "stderr",
     "output_type": "stream",
     "text": [
      "  0%|          | 0/2 [00:00<?, ?it/s]"
     ]
    },
    {
     "name": "stdout",
     "output_type": "stream",
     "text": [
      "Financial Due Diligence\n"
     ]
    },
    {
     "name": "stderr",
     "output_type": "stream",
     "text": [
      "\n",
      "  0%|          | 0/6 [00:00<?, ?it/s]\u001b[A"
     ]
    },
    {
     "name": "stdout",
     "output_type": "stream",
     "text": [
      "Financial Statements Analysis\n"
     ]
    },
    {
     "name": "stderr",
     "output_type": "stream",
     "text": [
      "\n",
      " 17%|█▋        | 1/6 [01:08<05:42, 68.54s/it]\u001b[A"
     ]
    },
    {
     "name": "stdout",
     "output_type": "stream",
     "text": [
      "Revenue and Profitability\n"
     ]
    },
    {
     "name": "stderr",
     "output_type": "stream",
     "text": [
      "\n",
      " 33%|███▎      | 2/6 [01:36<02:57, 44.50s/it]\u001b[A"
     ]
    },
    {
     "name": "stdout",
     "output_type": "stream",
     "text": [
      "Accounts Receivable and Payable\n"
     ]
    },
    {
     "name": "stderr",
     "output_type": "stream",
     "text": [
      "\n",
      " 50%|█████     | 3/6 [02:04<01:51, 37.16s/it]\u001b[A"
     ]
    },
    {
     "name": "stdout",
     "output_type": "stream",
     "text": [
      "Expenses and Liabilities\n"
     ]
    },
    {
     "name": "stderr",
     "output_type": "stream",
     "text": [
      "\n",
      " 67%|██████▋   | 4/6 [02:40<01:12, 36.48s/it]\u001b[A"
     ]
    },
    {
     "name": "stdout",
     "output_type": "stream",
     "text": [
      "Tax Compliance\n"
     ]
    },
    {
     "name": "stderr",
     "output_type": "stream",
     "text": [
      "\n",
      " 83%|████████▎ | 5/6 [03:05<00:32, 32.52s/it]\u001b[A"
     ]
    },
    {
     "name": "stdout",
     "output_type": "stream",
     "text": [
      "Normalized EBITDA Calculation\n"
     ]
    },
    {
     "name": "stderr",
     "output_type": "stream",
     "text": [
      "\n",
      "100%|██████████| 6/6 [03:24<00:00, 34.01s/it]\u001b[A\n",
      " 50%|█████     | 1/2 [03:24<03:24, 204.08s/it]"
     ]
    },
    {
     "name": "stdout",
     "output_type": "stream",
     "text": [
      "Commercial Due Diligence\n"
     ]
    },
    {
     "name": "stderr",
     "output_type": "stream",
     "text": [
      "\n",
      "  0%|          | 0/9 [00:00<?, ?it/s]\u001b[A"
     ]
    },
    {
     "name": "stdout",
     "output_type": "stream",
     "text": [
      "Business Operations\n"
     ]
    },
    {
     "name": "stderr",
     "output_type": "stream",
     "text": [
      "\n",
      " 11%|█         | 1/9 [00:44<05:59, 44.92s/it]\u001b[A"
     ]
    },
    {
     "name": "stdout",
     "output_type": "stream",
     "text": [
      "Client Contracts\n"
     ]
    },
    {
     "name": "stderr",
     "output_type": "stream",
     "text": [
      "\n",
      " 22%|██▏       | 2/9 [01:21<04:39, 39.93s/it]\u001b[A"
     ]
    },
    {
     "name": "stdout",
     "output_type": "stream",
     "text": [
      "Service Offerings and Pricing\n"
     ]
    },
    {
     "name": "stderr",
     "output_type": "stream",
     "text": [
      "\n",
      " 33%|███▎      | 3/9 [01:45<03:16, 32.78s/it]\u001b[A"
     ]
    },
    {
     "name": "stdout",
     "output_type": "stream",
     "text": [
      "Technology and Infrastructure\n"
     ]
    },
    {
     "name": "stderr",
     "output_type": "stream",
     "text": [
      "\n",
      " 44%|████▍     | 4/9 [02:18<02:44, 32.82s/it]\u001b[A"
     ]
    },
    {
     "name": "stdout",
     "output_type": "stream",
     "text": [
      "Market Position and Competition\n"
     ]
    },
    {
     "name": "stderr",
     "output_type": "stream",
     "text": [
      "\n",
      " 56%|█████▌    | 5/9 [02:53<02:14, 33.61s/it]\u001b[A"
     ]
    },
    {
     "name": "stdout",
     "output_type": "stream",
     "text": [
      "Employees and Human Resources\n"
     ]
    },
    {
     "name": "stderr",
     "output_type": "stream",
     "text": [
      "\n",
      " 67%|██████▋   | 6/9 [03:30<01:44, 34.86s/it]\u001b[A"
     ]
    },
    {
     "name": "stdout",
     "output_type": "stream",
     "text": [
      "Legal and Compliance\n"
     ]
    },
    {
     "name": "stderr",
     "output_type": "stream",
     "text": [
      "\n",
      " 78%|███████▊  | 7/9 [03:58<01:04, 32.35s/it]\u001b[A"
     ]
    },
    {
     "name": "stdout",
     "output_type": "stream",
     "text": [
      "Facilities and Real Estate\n"
     ]
    },
    {
     "name": "stderr",
     "output_type": "stream",
     "text": [
      "\n",
      " 89%|████████▉ | 8/9 [04:16<00:28, 28.07s/it]\u001b[A"
     ]
    },
    {
     "name": "stdout",
     "output_type": "stream",
     "text": [
      "Security and Risk Management\n"
     ]
    },
    {
     "name": "stderr",
     "output_type": "stream",
     "text": [
      "\n",
      "100%|██████████| 9/9 [04:57<00:00, 33.09s/it]\u001b[A\n",
      "100%|██████████| 2/2 [08:21<00:00, 250.96s/it]\n"
     ]
    }
   ],
   "source": [
    "import requests\n",
    "import json\n",
    "import tqdm\n",
    "\n",
    "# Define the endpoint URL\n",
    "url = \"http://127.0.0.1:8004/chat\"  # Adjust the URL as necessary\n",
    "\n",
    "# Set the headers\n",
    "headers = {\n",
    "    \"Content-Type\": \"application/json\"\n",
    "}\n",
    "\n",
    "# Function to send a message to the endpoint and get the response\n",
    "def send_message(message, company=\"NETWORKLOGICCOMPANY\"):\n",
    "    payload = {\n",
    "        \"message\": message,\n",
    "        \"company\": company,\n",
    "    }\n",
    "    response = requests.post(url, json=payload, headers=headers)\n",
    "    return json.loads(response.text)['response']\n",
    "\n",
    "# Main function\n",
    "def main():\n",
    "    json_file_path = \"../data/instructions.json\"  # Path to the JSON file\n",
    "    output_file_path = \"../data/output2.txt\"\n",
    "\n",
    "    # Load JSON from file\n",
    "    with open(json_file_path, \"r\") as file:\n",
    "        json_data = json.load(file)\n",
    "\n",
    "    # Open the output file\n",
    "    with open(output_file_path, \"w\") as output_file:\n",
    "        for section in tqdm.tqdm(json_data):\n",
    "            output_file.write(f\"# Title: {section['title']}\\n\")\n",
    "            print(section['title'])\n",
    "            context = f\"# Title: {section['title']}\\n\"\n",
    "            for instruction_set in tqdm.tqdm(section[\"instructions\"]):\n",
    "                output_file.write(f\"## Section: {instruction_set['title']}\\n\")\n",
    "                print(instruction_set['title'])\n",
    "                context += f\"## Section: {instruction_set['title']}\\n\"\n",
    "                for step in instruction_set[\"steps\"]:\n",
    "                    # Send the step as a message and get the response\n",
    "                    response = send_message(step)\n",
    "                    # Write the step and response to the output file\n",
    "                    output_file.write(f\"**Instruction:** {step}\\n\")\n",
    "                    output_file.write(f\"**Response:** {response}\\n\\n\")\n",
    "                    # Update context with the response\n",
    "                    context += f\"**Response:** {response}\\n\"\n",
    "\n",
    "if __name__ == \"__main__\":\n",
    "    main()\n"
   ]
  },
  {
   "cell_type": "code",
   "execution_count": null,
   "id": "66883e3a-955b-45f0-8dc6-ec9c4d883003",
   "metadata": {},
   "outputs": [],
   "source": []
  },
  {
   "cell_type": "code",
   "execution_count": null,
   "id": "8cf6a1d7-8bf1-40da-a632-ead86b0daaa5",
   "metadata": {},
   "outputs": [],
   "source": []
  }
 ],
 "metadata": {
  "kernelspec": {
   "display_name": "Python 3 (ipykernel)",
   "language": "python",
   "name": "python3"
  },
  "language_info": {
   "codemirror_mode": {
    "name": "ipython",
    "version": 3
   },
   "file_extension": ".py",
   "mimetype": "text/x-python",
   "name": "python",
   "nbconvert_exporter": "python",
   "pygments_lexer": "ipython3",
   "version": "3.12.3"
  }
 },
 "nbformat": 4,
 "nbformat_minor": 5
}
