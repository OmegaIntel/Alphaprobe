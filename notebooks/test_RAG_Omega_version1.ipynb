{
  "cells": [
    {
      "cell_type": "code",
      "execution_count": 1,
      "metadata": {
        "id": "wTxbciOYVo7V"
      },
      "outputs": [],
      "source": [
        "# %pip install llama-index llama-index-core llama-parse openai llama_index.embeddings.huggingface -q\n",
        "# %pip install llama-index-llms-anthropic -q\n",
        "# %pip install llama-index-vector-stores-weaviate -q"
      ]
    },
    {
      "cell_type": "code",
      "execution_count": 1,
      "metadata": {},
      "outputs": [],
      "source": [
        "\n",
        "COMPARISON_FILE = 'claude-3-5-sonnet-20240620_qa.csv'\n",
        "PDF_LOCATION = 'IndustrySource/Misc/62 Healthcare and Social Assistance in the US Industry Report.pdf'\n",
        "DOC_ID = 'ibis-healthcare-social-assistance'\n",
        "MODEL_ID = 'gpt-4o-mini'\n",
        "QUESTION_COL = 'question'\n",
        "RESPONSE_COL = 'rag_model_response'\n",
        "NUM_QUESTIONS = -1\n",
        "PARSER = \"claude\" # \"claude\" or \"llama-parse\"\n",
        "CHUNK_SIZE = 600\n",
        "SPLITTER = \"sentence\"\n",
        "TOP_K = 3\n",
        "OUTPUT_FOLDER = f'./rag_outputs/{DOC_ID}'\n",
        "OUTPUT_FILE = f'{OUTPUT_FOLDER}/output_{MODEL_ID}_{PARSER}_{CHUNK_SIZE}_{SPLITTER}_{TOP_K}.csv'\n"
      ]
    },
    {
      "cell_type": "code",
      "execution_count": 2,
      "metadata": {
        "id": "6gUzpLaeVpl5"
      },
      "outputs": [],
      "source": [
        "# llama-parse is async-first, running the async code in a notebook requires the use of nest_asyncio\n",
        "import nest_asyncio\n",
        "nest_asyncio.apply()\n",
        "\n",
        "import os\n",
        "from dotenv import load_dotenv\n",
        "load_dotenv(\"/Users/mbajaj/.env\")\n",
        "# API access to llama-cloud\n",
        "os.environ[\"LLAMA_CLOUD_API_KEY\"] = os.getenv('LLAMA_CLOUD_API_KEY')\n",
        "# Using OpenAI API for embeddings/llms\n",
        "os.environ[\"OPENAI_API_KEY\"] = os.getenv('OPENAI_API_KEY')\n",
        "os.environ[\"BRAINTRUST_API_KEY\"]=os.getenv('BRAINTRUST_API_KEY')\n",
        "OPENAI_API_KEY = os.getenv('OPENAI_API_KEY')"
      ]
    },
    {
      "cell_type": "code",
      "execution_count": 3,
      "metadata": {},
      "outputs": [
        {
          "data": {
            "text/html": [
              "<div>\n",
              "<style scoped>\n",
              "    .dataframe tbody tr th:only-of-type {\n",
              "        vertical-align: middle;\n",
              "    }\n",
              "\n",
              "    .dataframe tbody tr th {\n",
              "        vertical-align: top;\n",
              "    }\n",
              "\n",
              "    .dataframe thead th {\n",
              "        text-align: right;\n",
              "    }\n",
              "</style>\n",
              "<table border=\"1\" class=\"dataframe\">\n",
              "  <thead>\n",
              "    <tr style=\"text-align: right;\">\n",
              "      <th></th>\n",
              "      <th>input</th>\n",
              "      <th>expected</th>\n",
              "      <th>source_type</th>\n",
              "      <th>answer_type</th>\n",
              "      <th>page</th>\n",
              "      <th>file</th>\n",
              "      <th>explanation</th>\n",
              "      <th>rag_model_response</th>\n",
              "      <th>references</th>\n",
              "      <th>context</th>\n",
              "    </tr>\n",
              "  </thead>\n",
              "  <tbody>\n",
              "    <tr>\n",
              "      <th>0</th>\n",
              "      <td>What types of enterprises are included in the ...</td>\n",
              "      <td>The Healthcare and Social Assistance sector in...</td>\n",
              "      <td>text</td>\n",
              "      <td>other</td>\n",
              "      <td>5</td>\n",
              "      <td>62 Healthcare and Social Assistance in the US ...</td>\n",
              "      <td>Understanding the scope of the Healthcare and ...</td>\n",
              "      <td>The Healthcare and Social Assistance sector in...</td>\n",
              "      <td>[5, 53, 10]</td>\n",
              "      <td>[\"# 1. About\\n\\nhttps://my.ibisworld.com/us/en...</td>\n",
              "    </tr>\n",
              "    <tr>\n",
              "      <th>1</th>\n",
              "      <td>How is telemedicine defined in the context of ...</td>\n",
              "      <td>Telemedicine is defined as an application of c...</td>\n",
              "      <td>text</td>\n",
              "      <td>other</td>\n",
              "      <td>5</td>\n",
              "      <td>62 Healthcare and Social Assistance in the US ...</td>\n",
              "      <td>Identifying key technological trends like tele...</td>\n",
              "      <td>Telemedicine is defined as an application of c...</td>\n",
              "      <td>[21, 5, 26]</td>\n",
              "      <td>['# IBISWorld | Healthcare and Social Assistan...</td>\n",
              "    </tr>\n",
              "    <tr>\n",
              "      <th>2</th>\n",
              "      <td>What are Health Insurance Exchanges in the US ...</td>\n",
              "      <td>Health Insurance Exchanges are sets of state-r...</td>\n",
              "      <td>text</td>\n",
              "      <td>other</td>\n",
              "      <td>5</td>\n",
              "      <td>62 Healthcare and Social Assistance in the US ...</td>\n",
              "      <td>Understanding the structure of health insuranc...</td>\n",
              "      <td>Health Insurance Exchanges in the US healthcar...</td>\n",
              "      <td>[69, 5, 36]</td>\n",
              "      <td>[\"# IBISWorld | Healthcare and Social Assistan...</td>\n",
              "    </tr>\n",
              "    <tr>\n",
              "      <th>3</th>\n",
              "      <td>What services are included in the Healthcare a...</td>\n",
              "      <td>The Healthcare and Social Assistance industry ...</td>\n",
              "      <td>text</td>\n",
              "      <td>other</td>\n",
              "      <td>6</td>\n",
              "      <td>62 Healthcare and Social Assistance in the US ...</td>\n",
              "      <td>Understanding the scope of services in the ind...</td>\n",
              "      <td>The Healthcare and Social Assistance industry ...</td>\n",
              "      <td>[10, 9, 30]</td>\n",
              "      <td>['# IBISWorld | Healthcare and Social Assistan...</td>\n",
              "    </tr>\n",
              "    <tr>\n",
              "      <th>4</th>\n",
              "      <td>Who are some of the major companies operating ...</td>\n",
              "      <td>Major companies in the industry include Hca He...</td>\n",
              "      <td>text</td>\n",
              "      <td>other</td>\n",
              "      <td>6</td>\n",
              "      <td>62 Healthcare and Social Assistance in the US ...</td>\n",
              "      <td>Identifying key players helps in understanding...</td>\n",
              "      <td>Some of the major companies operating in the H...</td>\n",
              "      <td>[53, 11, 30]</td>\n",
              "      <td>['# IBISWorld | Healthcare and Social Assistan...</td>\n",
              "    </tr>\n",
              "  </tbody>\n",
              "</table>\n",
              "</div>"
            ],
            "text/plain": [
              "                                               input  \\\n",
              "0  What types of enterprises are included in the ...   \n",
              "1  How is telemedicine defined in the context of ...   \n",
              "2  What are Health Insurance Exchanges in the US ...   \n",
              "3  What services are included in the Healthcare a...   \n",
              "4  Who are some of the major companies operating ...   \n",
              "\n",
              "                                            expected source_type answer_type  \\\n",
              "0  The Healthcare and Social Assistance sector in...        text       other   \n",
              "1  Telemedicine is defined as an application of c...        text       other   \n",
              "2  Health Insurance Exchanges are sets of state-r...        text       other   \n",
              "3  The Healthcare and Social Assistance industry ...        text       other   \n",
              "4  Major companies in the industry include Hca He...        text       other   \n",
              "\n",
              "   page                                               file  \\\n",
              "0     5  62 Healthcare and Social Assistance in the US ...   \n",
              "1     5  62 Healthcare and Social Assistance in the US ...   \n",
              "2     5  62 Healthcare and Social Assistance in the US ...   \n",
              "3     6  62 Healthcare and Social Assistance in the US ...   \n",
              "4     6  62 Healthcare and Social Assistance in the US ...   \n",
              "\n",
              "                                         explanation  \\\n",
              "0  Understanding the scope of the Healthcare and ...   \n",
              "1  Identifying key technological trends like tele...   \n",
              "2  Understanding the structure of health insuranc...   \n",
              "3  Understanding the scope of services in the ind...   \n",
              "4  Identifying key players helps in understanding...   \n",
              "\n",
              "                                  rag_model_response    references  \\\n",
              "0  The Healthcare and Social Assistance sector in...   [5, 53, 10]   \n",
              "1  Telemedicine is defined as an application of c...   [21, 5, 26]   \n",
              "2  Health Insurance Exchanges in the US healthcar...   [69, 5, 36]   \n",
              "3  The Healthcare and Social Assistance industry ...   [10, 9, 30]   \n",
              "4  Some of the major companies operating in the H...  [53, 11, 30]   \n",
              "\n",
              "                                             context  \n",
              "0  [\"# 1. About\\n\\nhttps://my.ibisworld.com/us/en...  \n",
              "1  ['# IBISWorld | Healthcare and Social Assistan...  \n",
              "2  [\"# IBISWorld | Healthcare and Social Assistan...  \n",
              "3  ['# IBISWorld | Healthcare and Social Assistan...  \n",
              "4  ['# IBISWorld | Healthcare and Social Assistan...  "
            ]
          },
          "execution_count": 3,
          "metadata": {},
          "output_type": "execute_result"
        }
      ],
      "source": [
        "import pandas as pd\n",
        "df = pd.read_csv(OUTPUT_FILE)\n",
        "# change the column names of question to input and answer to expected\n",
        "df.rename(columns={\"question\": \"input\", \"answer\": \"expected\", \"source type\": \"source_type\", \"answer type\": \"answer_type\"}, inplace=True)\n",
        "df.head()\n",
        "\n"
      ]
    },
    {
      "cell_type": "code",
      "execution_count": 10,
      "metadata": {},
      "outputs": [
        {
          "name": "stderr",
          "output_type": "stream",
          "text": [
            "/var/folders/9g/7kc65t_s0bgf2v24qc1f5tsw0000gn/T/ipykernel_16324/775135817.py:5: SettingWithCopyWarning: \n",
            "A value is trying to be set on a copy of a slice from a DataFrame.\n",
            "Try using .loc[row_indexer,col_indexer] = value instead\n",
            "\n",
            "See the caveats in the documentation: https://pandas.pydata.org/pandas-docs/stable/user_guide/indexing.html#returning-a-view-versus-a-copy\n",
            "  labelled_df[\"input\"] = labelled_df.apply(lambda x: f\"{x.name}> {x.input}\", axis=1)\n"
          ]
        },
        {
          "data": {
            "text/plain": [
              "[{'input': '0> What types of enterprises are included in the Healthcare and Social Assistance sector in the United States?',\n",
              "  'expected': 'The Healthcare and Social Assistance sector includes hospitals, ambulatory service providers, nursing and residential care facilities, counselors, social workers, family and welfare services, and natural disaster and emergency relief services.',\n",
              "  'page': 5,\n",
              "  'file': '62 Healthcare and Social Assistance in the US Industry Report.pdf',\n",
              "  'source_type': 'text',\n",
              "  'answer_type': 'other',\n",
              "  'references': '[5, 53, 10]',\n",
              "  'context': '[\"# 1. About\\\\n\\\\nhttps://my.ibisworld.com/us/en/industry/62/about\\\\n\\\\n## Codes\\\\n\\\\n| NAICS 2017 - USA | 62 |\\\\n|-------------------|-----|\\\\n| NAICS 2022 - USA | 62 |\\\\n\\\\nThe table shows the NAICS (North American Industry Classification System) codes for the Healthcare and Social Assistance sector in the USA. Both the 2017 and 2022 versions of NAICS assign the code 62 to this sector, indicating consistency in classification over time.\\\\n\\\\n## Definition\\\\n\\\\nThe Healthcare and Social Assistance sector is composed of enterprises that provide healthcare and social assistance for individuals in the United States, including hospitals, ambulatory service providers and nursing and residential care facilities. Social assistance also includes counselors and social workers, family and welfare services and natural disaster and emergency relief services.\\\\n\\\\n## Related Terms\\\\n\\\\n### ELECTRONIC HEALTH RECORD (EHR)\\\\n\\\\nThe systematic collection and maintenance of electronic health information about an individual patient.\\\\n\\\\n### TELEMEDICINE\\\\n\\\\nAn application of clinical medicine whereby medical information is transferred through interactive audiovisual media for the purpose of consulting and remote medical procedures or examinations.\\\\n\\\\n### HEALTH INSURANCE EXCHANGE\\\\n\\\\nA set of state-regulated and standardized healthcare plans from which individuals may purchase health insurance eligible for federal subsidies.\\\\n\\\\n### FEE-FOR-SERVICE\\\\n\\\\nA health plan where individuals choose the doctor, hospital or clinic and the insurance pays for part or all of the cost according to a schedule laid out in the policy.\\\\n\\\\n### MEDICARE AND MEDICAID\\\\n\\\\nCost-coverage programs. Medicare pays all or part of a stay following hospitalization of at least three days; Medicaid covers a stay of any length for individuals who meet income requirements.\\\\n\\\\n### LONG-TERM CARE\\\\n\\\\nTreatment for a chronic condition, trauma, or illness that limits a person\\'s ability to carry out basic self-care tasks, called activities of daily living (ADLs).\\\\n\\\\n### FEDERAL EMERGENCY MANAGEMENT AGENCY (FEMA)\\\\n\\\\nA federal agency designed to prepare for, mitigate against, respond to and help individuals and communities recover from natural and man-made disasters.\", \\'# IBISWorld | Healthcare and Social Assistance in the US\\\\n\\\\n## Market Share\\\\n\\\\n### Healthcare and Social Assistance in the US\\\\n\\\\n#### Industry Market Share by Company\\\\nIndustry-specific company revenue as a share of total industry revenue\\\\n\\\\nThe image displays a bar chart representing the market share distribution in the Healthcare and Social Assistance industry in the US. The chart is predominantly filled with a light blue area labeled \"Other Companies (98%)\". This indicates that the vast majority of the market, 98%, is composed of numerous smaller companies or entities that individually do not hold significant market share.\\\\n\\\\nA thin dark blue bar on the far right of the chart represents the remaining 2% of the market. While not explicitly labeled, this likely represents one or more larger companies that have a slightly more substantial, but still relatively small, share of the market.\\\\n\\\\nThis chart suggests a highly fragmented industry where no single company or small group of companies dominates the market. The healthcare and social assistance sector in the US appears to be characterized by a multitude of smaller providers rather than a few large, dominant players.\\\\n\\\\nSource: IBISWorld\\\\n\\\\nChart displays current year only in the PDF version of this report. You can view and download chart for all other years associated with this industry on my.ibisworld.com.\\', \\'# IBISWorld | Healthcare and Social Assistance in the US\\\\n\\\\nMar 2024\\\\n\\\\n## Products and Services\\\\n\\\\n### Products & Services Segmentation\\\\n\\\\nIndustry revenue in 2024 broken down by key product and service lines.\\\\n\\\\nThe image displays a donut chart representing the segmentation of products and services in the Healthcare and Social Assistance industry in the US for 2024. The chart is divided into four segments, each representing a different sector of the industry:\\\\n\\\\n1. Hospitals ($1.5tr): This segment occupies the largest portion of the chart, accounting for 41.7% of the industry revenue.\\\\n\\\\n2. Ambulatory healthcare services ($1.4tr): The second-largest segment, representing 40.7% of the industry revenue.\\\\n\\\\n3. Nursing homes and residential facilities ($330.6bn): This segment accounts for 9.3% of the industry revenue.\\\\n\\\\n4. Social assistance ($295.1bn): The smallest segment, making up 8.3% of the industry revenue.\\\\n\\\\nThe chart provides a clear visualization of the relative sizes of each sector within the healthcare and social assistance industry. Hospitals and ambulatory healthcare services dominate the industry, collectively accounting for over 82% of the total revenue. Nursing homes and residential facilities, along with social assistance, make up the remaining 17.6% of the industry revenue.\\\\n\\\\nThis segmentation offers insights into the structure of the US healthcare and social assistance industry, highlighting the significant role of hospitals and ambulatory services in generating revenue, while also showing the smaller but still substantial contributions of nursing homes and social assistance services.\\\\n\\\\nSource: IBISWorld\\']',\n",
              "  'rag_model_response': 'The Healthcare and Social Assistance sector in the United States includes enterprises such as hospitals, ambulatory service providers, nursing and residential care facilities, as well as social assistance services like counseling, social work, family and welfare services, and emergency relief services.'},\n",
              " {'input': '1> How is telemedicine defined in the context of the Healthcare and Social Assistance industry?',\n",
              "  'expected': 'Telemedicine is defined as an application of clinical medicine whereby medical information is transferred through interactive audiovisual media for the purpose of consulting and remote medical procedures or examinations.',\n",
              "  'page': 5,\n",
              "  'file': '62 Healthcare and Social Assistance in the US Industry Report.pdf',\n",
              "  'source_type': 'text',\n",
              "  'answer_type': 'other',\n",
              "  'references': '[21, 5, 26]',\n",
              "  'context': '[\\'# IBISWorld | Healthcare and Social Assistance in the US Mar 2024\\\\n\\\\n- The dramatic rise in the adoption of telemedicine in 2020 has fallen from its pandemic high but is still more integral to healthcare delivery in 2024 than pre-COVID, especially for providers offering mental health treatment.\\\\n\\\\n- The challenges impacting healthcare providers are also expediting the adoption of other digital tools (AI, patient engagement products, data analytics) to streamline operations and produce cost savings.\\\\n\\\\n## Social assistance providers fill in the gaps as pandemic-era benefits end\\\\n\\\\n- The pandemic highlighted societal inequities. Social assistance providers have had an outsized role in addressing these inequities since the COVID-19 pandemic subsided.\\\\n\\\\n- Pandemic relief funding that cushioned savings accounts and lifted many out of poverty ended between 2022 and 2023, with exact end dates varying between states. As benefits disappeared, millions turned to social assistance providers for help with housing, food assistance and child care.\\\\n\\\\n- The end of pandemic food assistance benefits coupled with rising inflation have made affording the cost of essentials like groceries too expensive for many. Food banks nationwide have reported record need for their services, squeezing their staff and supplies thin.\\\\n\\\\n- Day Care (62441) providers are vital to addressing critical shortages of child care, especially as parents return to in-office work. The industry has struggled to recover from the pandemic as it attempts to meet excess demand, with the end of funding in late 2023 only exacerbating staffing issues, tight margins and steep fees.\\', \"# 1. About\\\\n\\\\nhttps://my.ibisworld.com/us/en/industry/62/about\\\\n\\\\n## Codes\\\\n\\\\n| NAICS 2017 - USA | 62 |\\\\n|-------------------|-----|\\\\n| NAICS 2022 - USA | 62 |\\\\n\\\\nThe table shows the NAICS (North American Industry Classification System) codes for the Healthcare and Social Assistance sector in the USA. Both the 2017 and 2022 versions of NAICS assign the code 62 to this sector, indicating consistency in classification over time.\\\\n\\\\n## Definition\\\\n\\\\nThe Healthcare and Social Assistance sector is composed of enterprises that provide healthcare and social assistance for individuals in the United States, including hospitals, ambulatory service providers and nursing and residential care facilities. Social assistance also includes counselors and social workers, family and welfare services and natural disaster and emergency relief services.\\\\n\\\\n## Related Terms\\\\n\\\\n### ELECTRONIC HEALTH RECORD (EHR)\\\\n\\\\nThe systematic collection and maintenance of electronic health information about an individual patient.\\\\n\\\\n### TELEMEDICINE\\\\n\\\\nAn application of clinical medicine whereby medical information is transferred through interactive audiovisual media for the purpose of consulting and remote medical procedures or examinations.\\\\n\\\\n### HEALTH INSURANCE EXCHANGE\\\\n\\\\nA set of state-regulated and standardized healthcare plans from which individuals may purchase health insurance eligible for federal subsidies.\\\\n\\\\n### FEE-FOR-SERVICE\\\\n\\\\nA health plan where individuals choose the doctor, hospital or clinic and the insurance pays for part or all of the cost according to a schedule laid out in the policy.\\\\n\\\\n### MEDICARE AND MEDICAID\\\\n\\\\nCost-coverage programs. Medicare pays all or part of a stay following hospitalization of at least three days; Medicaid covers a stay of any length for individuals who meet income requirements.\\\\n\\\\n### LONG-TERM CARE\\\\n\\\\nTreatment for a chronic condition, trauma, or illness that limits a person\\'s ability to carry out basic self-care tasks, called activities of daily living (ADLs).\\\\n\\\\n### FEDERAL EMERGENCY MANAGEMENT AGENCY (FEMA)\\\\n\\\\nA federal agency designed to prepare for, mitigate against, respond to and help individuals and communities recover from natural and man-made disasters.\", \\'# IBISWorld | Healthcare and Social Assistance in the US Mar 2024\\\\n\\\\nwillingness to participate.\\\\n\\\\n- Many healthcare and social assistance entities will adopt digital and telehealth tools to bridge the gap between urban and rural communities regarding healthcare access. Grants awarded by the Biden Administration will help rural healthcare organizations expand critical services through digital tools.\\\\n\\\\n- Tech advances to address the widening needs of people of advanced age, like home health tools and remote monitoring equipment, will also become paramount. Instantaneous access to medical data through cloud infrastructure will also have a massive role in providing care for this population subset as medical needs mount.\\\\n\\\\n## Financial pressures will accelerate consolidation activity\\\\n\\\\n- The consolidation activity that defines the health sector will continue despite an economic environment of higher interest rates.\\\\n\\\\n- Mounting healthcare costs and reimbursement cuts will incentivize smaller, independent healthcare providers to join larger health groups. Larger health systems gain negotiating power with insurance providers to secure better rates.\\\\n\\\\n- Private equity (PE) investment will also be present in healthcare. Significant growth opportunities, in areas ranging from physical therapy and mental health to nursing and residential care, attract PE investment.\\\\n\\\\n26\\']',\n",
              "  'rag_model_response': 'Telemedicine is defined as an application of clinical medicine where medical information is transferred through interactive audiovisual media for the purpose of consulting and conducting remote medical procedures or examinations.'}]"
            ]
          },
          "execution_count": 10,
          "metadata": {},
          "output_type": "execute_result"
        }
      ],
      "source": [
        "# select the columns \"input\" ,\"expected\", \"page\", \"file\", \"source type\", \"answer type\" from the dataframe\n",
        "labelled_df = df[[\"input\", \"expected\", \"page\", \"file\", \"source_type\", \"answer_type\", \"references\", \"context\", \"rag_model_response\"]]\n",
        "\n",
        "# modify the input column to add the prefix row number from the index to the input\n",
        "labelled_df[\"input\"] = labelled_df.apply(lambda x: f\"{x.name}> {x.input}\", axis=1)\n",
        "# convert the labelled dataframe to list of dictionaries\n",
        "labelled_data = labelled_df.to_dict(orient=\"records\")\n",
        "labelled_data[:2]"
      ]
    },
    {
      "cell_type": "code",
      "execution_count": 11,
      "metadata": {},
      "outputs": [],
      "source": [
        "# operate on the labelled data and put page, file, source type, answer type in the metadata dictionary inside labelled data\n",
        "\n",
        "for data in labelled_data:\n",
        "    data[\"metadata\"] = {\n",
        "        \"page\": data[\"page\"],\n",
        "        \"file\": data[\"file\"],\n",
        "        \"source_type\": data[\"source_type\"],\n",
        "        \"answer_type\": data[\"answer_type\"],\n",
        "        \"references\": data[\"references\"],\n",
        "    }\n",
        "    del data[\"page\"]\n",
        "    del data[\"file\"]\n",
        "    del data[\"source_type\"]\n",
        "    del data[\"answer_type\"]\n",
        "    del data[\"references\"]\n",
        "    del data[\"context\"]"
      ]
    },
    {
      "cell_type": "code",
      "execution_count": 6,
      "metadata": {},
      "outputs": [
        {
          "data": {
            "text/plain": [
              "[{'input': '0> What types of enterprises are included in the Healthcare and Social Assistance sector in the United States?',\n",
              "  'expected': 'The Healthcare and Social Assistance sector includes hospitals, ambulatory service providers, nursing and residential care facilities, counselors, social workers, family and welfare services, and natural disaster and emergency relief services.',\n",
              "  'rag_model_response': 'The Healthcare and Social Assistance sector in the United States includes enterprises such as hospitals, ambulatory service providers, nursing and residential care facilities, as well as social assistance services like counseling, social work, family and welfare services, and emergency relief services.',\n",
              "  'metadata': {'page': 5,\n",
              "   'file': '62 Healthcare and Social Assistance in the US Industry Report.pdf',\n",
              "   'source_type': 'text',\n",
              "   'answer_type': 'other',\n",
              "   'references': '[5, 53, 10]',\n",
              "   'context': '[\"# 1. About\\\\n\\\\nhttps://my.ibisworld.com/us/en/industry/62/about\\\\n\\\\n## Codes\\\\n\\\\n| NAICS 2017 - USA | 62 |\\\\n|-------------------|-----|\\\\n| NAICS 2022 - USA | 62 |\\\\n\\\\nThe table shows the NAICS (North American Industry Classification System) codes for the Healthcare and Social Assistance sector in the USA. Both the 2017 and 2022 versions of NAICS assign the code 62 to this sector, indicating consistency in classification over time.\\\\n\\\\n## Definition\\\\n\\\\nThe Healthcare and Social Assistance sector is composed of enterprises that provide healthcare and social assistance for individuals in the United States, including hospitals, ambulatory service providers and nursing and residential care facilities. Social assistance also includes counselors and social workers, family and welfare services and natural disaster and emergency relief services.\\\\n\\\\n## Related Terms\\\\n\\\\n### ELECTRONIC HEALTH RECORD (EHR)\\\\n\\\\nThe systematic collection and maintenance of electronic health information about an individual patient.\\\\n\\\\n### TELEMEDICINE\\\\n\\\\nAn application of clinical medicine whereby medical information is transferred through interactive audiovisual media for the purpose of consulting and remote medical procedures or examinations.\\\\n\\\\n### HEALTH INSURANCE EXCHANGE\\\\n\\\\nA set of state-regulated and standardized healthcare plans from which individuals may purchase health insurance eligible for federal subsidies.\\\\n\\\\n### FEE-FOR-SERVICE\\\\n\\\\nA health plan where individuals choose the doctor, hospital or clinic and the insurance pays for part or all of the cost according to a schedule laid out in the policy.\\\\n\\\\n### MEDICARE AND MEDICAID\\\\n\\\\nCost-coverage programs. Medicare pays all or part of a stay following hospitalization of at least three days; Medicaid covers a stay of any length for individuals who meet income requirements.\\\\n\\\\n### LONG-TERM CARE\\\\n\\\\nTreatment for a chronic condition, trauma, or illness that limits a person\\'s ability to carry out basic self-care tasks, called activities of daily living (ADLs).\\\\n\\\\n### FEDERAL EMERGENCY MANAGEMENT AGENCY (FEMA)\\\\n\\\\nA federal agency designed to prepare for, mitigate against, respond to and help individuals and communities recover from natural and man-made disasters.\", \\'# IBISWorld | Healthcare and Social Assistance in the US\\\\n\\\\n## Market Share\\\\n\\\\n### Healthcare and Social Assistance in the US\\\\n\\\\n#### Industry Market Share by Company\\\\nIndustry-specific company revenue as a share of total industry revenue\\\\n\\\\nThe image displays a bar chart representing the market share distribution in the Healthcare and Social Assistance industry in the US. The chart is predominantly filled with a light blue area labeled \"Other Companies (98%)\". This indicates that the vast majority of the market, 98%, is composed of numerous smaller companies or entities that individually do not hold significant market share.\\\\n\\\\nA thin dark blue bar on the far right of the chart represents the remaining 2% of the market. While not explicitly labeled, this likely represents one or more larger companies that have a slightly more substantial, but still relatively small, share of the market.\\\\n\\\\nThis chart suggests a highly fragmented industry where no single company or small group of companies dominates the market. The healthcare and social assistance sector in the US appears to be characterized by a multitude of smaller providers rather than a few large, dominant players.\\\\n\\\\nSource: IBISWorld\\\\n\\\\nChart displays current year only in the PDF version of this report. You can view and download chart for all other years associated with this industry on my.ibisworld.com.\\', \\'# IBISWorld | Healthcare and Social Assistance in the US\\\\n\\\\nMar 2024\\\\n\\\\n## Products and Services\\\\n\\\\n### Products & Services Segmentation\\\\n\\\\nIndustry revenue in 2024 broken down by key product and service lines.\\\\n\\\\nThe image displays a donut chart representing the segmentation of products and services in the Healthcare and Social Assistance industry in the US for 2024. The chart is divided into four segments, each representing a different sector of the industry:\\\\n\\\\n1. Hospitals ($1.5tr): This segment occupies the largest portion of the chart, accounting for 41.7% of the industry revenue.\\\\n\\\\n2. Ambulatory healthcare services ($1.4tr): The second-largest segment, representing 40.7% of the industry revenue.\\\\n\\\\n3. Nursing homes and residential facilities ($330.6bn): This segment accounts for 9.3% of the industry revenue.\\\\n\\\\n4. Social assistance ($295.1bn): The smallest segment, making up 8.3% of the industry revenue.\\\\n\\\\nThe chart provides a clear visualization of the relative sizes of each sector within the healthcare and social assistance industry. Hospitals and ambulatory healthcare services dominate the industry, collectively accounting for over 82% of the total revenue. Nursing homes and residential facilities, along with social assistance, make up the remaining 17.6% of the industry revenue.\\\\n\\\\nThis segmentation offers insights into the structure of the US healthcare and social assistance industry, highlighting the significant role of hospitals and ambulatory services in generating revenue, while also showing the smaller but still substantial contributions of nursing homes and social assistance services.\\\\n\\\\nSource: IBISWorld\\']'}},\n",
              " {'input': '1> How is telemedicine defined in the context of the Healthcare and Social Assistance industry?',\n",
              "  'expected': 'Telemedicine is defined as an application of clinical medicine whereby medical information is transferred through interactive audiovisual media for the purpose of consulting and remote medical procedures or examinations.',\n",
              "  'rag_model_response': 'Telemedicine is defined as an application of clinical medicine where medical information is transferred through interactive audiovisual media for the purpose of consulting and conducting remote medical procedures or examinations.',\n",
              "  'metadata': {'page': 5,\n",
              "   'file': '62 Healthcare and Social Assistance in the US Industry Report.pdf',\n",
              "   'source_type': 'text',\n",
              "   'answer_type': 'other',\n",
              "   'references': '[21, 5, 26]',\n",
              "   'context': '[\\'# IBISWorld | Healthcare and Social Assistance in the US Mar 2024\\\\n\\\\n- The dramatic rise in the adoption of telemedicine in 2020 has fallen from its pandemic high but is still more integral to healthcare delivery in 2024 than pre-COVID, especially for providers offering mental health treatment.\\\\n\\\\n- The challenges impacting healthcare providers are also expediting the adoption of other digital tools (AI, patient engagement products, data analytics) to streamline operations and produce cost savings.\\\\n\\\\n## Social assistance providers fill in the gaps as pandemic-era benefits end\\\\n\\\\n- The pandemic highlighted societal inequities. Social assistance providers have had an outsized role in addressing these inequities since the COVID-19 pandemic subsided.\\\\n\\\\n- Pandemic relief funding that cushioned savings accounts and lifted many out of poverty ended between 2022 and 2023, with exact end dates varying between states. As benefits disappeared, millions turned to social assistance providers for help with housing, food assistance and child care.\\\\n\\\\n- The end of pandemic food assistance benefits coupled with rising inflation have made affording the cost of essentials like groceries too expensive for many. Food banks nationwide have reported record need for their services, squeezing their staff and supplies thin.\\\\n\\\\n- Day Care (62441) providers are vital to addressing critical shortages of child care, especially as parents return to in-office work. The industry has struggled to recover from the pandemic as it attempts to meet excess demand, with the end of funding in late 2023 only exacerbating staffing issues, tight margins and steep fees.\\', \"# 1. About\\\\n\\\\nhttps://my.ibisworld.com/us/en/industry/62/about\\\\n\\\\n## Codes\\\\n\\\\n| NAICS 2017 - USA | 62 |\\\\n|-------------------|-----|\\\\n| NAICS 2022 - USA | 62 |\\\\n\\\\nThe table shows the NAICS (North American Industry Classification System) codes for the Healthcare and Social Assistance sector in the USA. Both the 2017 and 2022 versions of NAICS assign the code 62 to this sector, indicating consistency in classification over time.\\\\n\\\\n## Definition\\\\n\\\\nThe Healthcare and Social Assistance sector is composed of enterprises that provide healthcare and social assistance for individuals in the United States, including hospitals, ambulatory service providers and nursing and residential care facilities. Social assistance also includes counselors and social workers, family and welfare services and natural disaster and emergency relief services.\\\\n\\\\n## Related Terms\\\\n\\\\n### ELECTRONIC HEALTH RECORD (EHR)\\\\n\\\\nThe systematic collection and maintenance of electronic health information about an individual patient.\\\\n\\\\n### TELEMEDICINE\\\\n\\\\nAn application of clinical medicine whereby medical information is transferred through interactive audiovisual media for the purpose of consulting and remote medical procedures or examinations.\\\\n\\\\n### HEALTH INSURANCE EXCHANGE\\\\n\\\\nA set of state-regulated and standardized healthcare plans from which individuals may purchase health insurance eligible for federal subsidies.\\\\n\\\\n### FEE-FOR-SERVICE\\\\n\\\\nA health plan where individuals choose the doctor, hospital or clinic and the insurance pays for part or all of the cost according to a schedule laid out in the policy.\\\\n\\\\n### MEDICARE AND MEDICAID\\\\n\\\\nCost-coverage programs. Medicare pays all or part of a stay following hospitalization of at least three days; Medicaid covers a stay of any length for individuals who meet income requirements.\\\\n\\\\n### LONG-TERM CARE\\\\n\\\\nTreatment for a chronic condition, trauma, or illness that limits a person\\'s ability to carry out basic self-care tasks, called activities of daily living (ADLs).\\\\n\\\\n### FEDERAL EMERGENCY MANAGEMENT AGENCY (FEMA)\\\\n\\\\nA federal agency designed to prepare for, mitigate against, respond to and help individuals and communities recover from natural and man-made disasters.\", \\'# IBISWorld | Healthcare and Social Assistance in the US Mar 2024\\\\n\\\\nwillingness to participate.\\\\n\\\\n- Many healthcare and social assistance entities will adopt digital and telehealth tools to bridge the gap between urban and rural communities regarding healthcare access. Grants awarded by the Biden Administration will help rural healthcare organizations expand critical services through digital tools.\\\\n\\\\n- Tech advances to address the widening needs of people of advanced age, like home health tools and remote monitoring equipment, will also become paramount. Instantaneous access to medical data through cloud infrastructure will also have a massive role in providing care for this population subset as medical needs mount.\\\\n\\\\n## Financial pressures will accelerate consolidation activity\\\\n\\\\n- The consolidation activity that defines the health sector will continue despite an economic environment of higher interest rates.\\\\n\\\\n- Mounting healthcare costs and reimbursement cuts will incentivize smaller, independent healthcare providers to join larger health groups. Larger health systems gain negotiating power with insurance providers to secure better rates.\\\\n\\\\n- Private equity (PE) investment will also be present in healthcare. Significant growth opportunities, in areas ranging from physical therapy and mental health to nursing and residential care, attract PE investment.\\\\n\\\\n26\\']'}}]"
            ]
          },
          "execution_count": 6,
          "metadata": {},
          "output_type": "execute_result"
        }
      ],
      "source": [
        "labelled_data[:2]"
      ]
    },
    {
      "cell_type": "code",
      "execution_count": 7,
      "metadata": {},
      "outputs": [
        {
          "name": "stderr",
          "output_type": "stream",
          "text": [
            "/Users/mbajaj/anaconda/envs/rag_omega/lib/python3.10/site-packages/tqdm/auto.py:21: TqdmWarning: IProgress not found. Please update jupyter and ipywidgets. See https://ipywidgets.readthedocs.io/en/stable/user_install.html\n",
            "  from .autonotebook import tqdm as notebook_tqdm\n"
          ]
        },
        {
          "data": {
            "text/plain": [
              "{'answer': 'The Healthcare and Social Assistance sector in the United States includes enterprises such as hospitals, ambulatory service providers, nursing and residential care facilities, as well as social assistance services like counseling, social work, family and welfare services, and emergency relief services.',\n",
              " 'context': '[\"# 1. About\\\\n\\\\nhttps://my.ibisworld.com/us/en/industry/62/about\\\\n\\\\n## Codes\\\\n\\\\n| NAICS 2017 - USA | 62 |\\\\n|-------------------|-----|\\\\n| NAICS 2022 - USA | 62 |\\\\n\\\\nThe table shows the NAICS (North American Industry Classification System) codes for the Healthcare and Social Assistance sector in the USA. Both the 2017 and 2022 versions of NAICS assign the code 62 to this sector, indicating consistency in classification over time.\\\\n\\\\n## Definition\\\\n\\\\nThe Healthcare and Social Assistance sector is composed of enterprises that provide healthcare and social assistance for individuals in the United States, including hospitals, ambulatory service providers and nursing and residential care facilities. Social assistance also includes counselors and social workers, family and welfare services and natural disaster and emergency relief services.\\\\n\\\\n## Related Terms\\\\n\\\\n### ELECTRONIC HEALTH RECORD (EHR)\\\\n\\\\nThe systematic collection and maintenance of electronic health information about an individual patient.\\\\n\\\\n### TELEMEDICINE\\\\n\\\\nAn application of clinical medicine whereby medical information is transferred through interactive audiovisual media for the purpose of consulting and remote medical procedures or examinations.\\\\n\\\\n### HEALTH INSURANCE EXCHANGE\\\\n\\\\nA set of state-regulated and standardized healthcare plans from which individuals may purchase health insurance eligible for federal subsidies.\\\\n\\\\n### FEE-FOR-SERVICE\\\\n\\\\nA health plan where individuals choose the doctor, hospital or clinic and the insurance pays for part or all of the cost according to a schedule laid out in the policy.\\\\n\\\\n### MEDICARE AND MEDICAID\\\\n\\\\nCost-coverage programs. Medicare pays all or part of a stay following hospitalization of at least three days; Medicaid covers a stay of any length for individuals who meet income requirements.\\\\n\\\\n### LONG-TERM CARE\\\\n\\\\nTreatment for a chronic condition, trauma, or illness that limits a person\\'s ability to carry out basic self-care tasks, called activities of daily living (ADLs).\\\\n\\\\n### FEDERAL EMERGENCY MANAGEMENT AGENCY (FEMA)\\\\n\\\\nA federal agency designed to prepare for, mitigate against, respond to and help individuals and communities recover from natural and man-made disasters.\", \\'# IBISWorld | Healthcare and Social Assistance in the US\\\\n\\\\n## Market Share\\\\n\\\\n### Healthcare and Social Assistance in the US\\\\n\\\\n#### Industry Market Share by Company\\\\nIndustry-specific company revenue as a share of total industry revenue\\\\n\\\\nThe image displays a bar chart representing the market share distribution in the Healthcare and Social Assistance industry in the US. The chart is predominantly filled with a light blue area labeled \"Other Companies (98%)\". This indicates that the vast majority of the market, 98%, is composed of numerous smaller companies or entities that individually do not hold significant market share.\\\\n\\\\nA thin dark blue bar on the far right of the chart represents the remaining 2% of the market. While not explicitly labeled, this likely represents one or more larger companies that have a slightly more substantial, but still relatively small, share of the market.\\\\n\\\\nThis chart suggests a highly fragmented industry where no single company or small group of companies dominates the market. The healthcare and social assistance sector in the US appears to be characterized by a multitude of smaller providers rather than a few large, dominant players.\\\\n\\\\nSource: IBISWorld\\\\n\\\\nChart displays current year only in the PDF version of this report. You can view and download chart for all other years associated with this industry on my.ibisworld.com.\\', \\'# IBISWorld | Healthcare and Social Assistance in the US\\\\n\\\\nMar 2024\\\\n\\\\n## Products and Services\\\\n\\\\n### Products & Services Segmentation\\\\n\\\\nIndustry revenue in 2024 broken down by key product and service lines.\\\\n\\\\nThe image displays a donut chart representing the segmentation of products and services in the Healthcare and Social Assistance industry in the US for 2024. The chart is divided into four segments, each representing a different sector of the industry:\\\\n\\\\n1. Hospitals ($1.5tr): This segment occupies the largest portion of the chart, accounting for 41.7% of the industry revenue.\\\\n\\\\n2. Ambulatory healthcare services ($1.4tr): The second-largest segment, representing 40.7% of the industry revenue.\\\\n\\\\n3. Nursing homes and residential facilities ($330.6bn): This segment accounts for 9.3% of the industry revenue.\\\\n\\\\n4. Social assistance ($295.1bn): The smallest segment, making up 8.3% of the industry revenue.\\\\n\\\\nThe chart provides a clear visualization of the relative sizes of each sector within the healthcare and social assistance industry. Hospitals and ambulatory healthcare services dominate the industry, collectively accounting for over 82% of the total revenue. Nursing homes and residential facilities, along with social assistance, make up the remaining 17.6% of the industry revenue.\\\\n\\\\nThis segmentation offers insights into the structure of the US healthcare and social assistance industry, highlighting the significant role of hospitals and ambulatory services in generating revenue, while also showing the smaller but still substantial contributions of nursing homes and social assistance services.\\\\n\\\\nSource: IBISWorld\\']'}"
            ]
          },
          "execution_count": 7,
          "metadata": {},
          "output_type": "execute_result"
        }
      ],
      "source": [
        "from braintrust import Eval\n",
        " \n",
        "from autoevals import Factuality\n",
        "from autoevals.ragas import *\n",
        "\n",
        "\n",
        "\n",
        "def my_task(input):\n",
        "    row_number = int(input.split(\"> \")[0])\n",
        "    response = {\"answer\": labelled_df.loc[row_number, \"rag_model_response\"], \"context\": labelled_df.loc[row_number,  \"context\"]}\n",
        "    return response\n",
        " \n",
        "\n",
        "my_task(\"0> What is the name of the organization that provides healthcare and social assistance services to the community?\")"
      ]
    },
    {
      "cell_type": "code",
      "execution_count": null,
      "metadata": {},
      "outputs": [],
      "source": []
    },
    {
      "cell_type": "code",
      "execution_count": 14,
      "metadata": {},
      "outputs": [
        {
          "name": "stderr",
          "output_type": "stream",
          "text": [
            "Experiment RAG_querymodel:gpt-4o-mini_Braintrust:gpt-4o-mini_parser:claude_chunksize:600_split:sentence_topk:3_N:-1-add7bb39 is running at https://www.braintrust.dev/app/Omega/p/RagMetrics/experiments/RAG_querymodel%3Agpt-4o-mini_Braintrust%3Agpt-4o-mini_parser%3Aclaude_chunksize%3A600_split%3Asentence_topk%3A3_N%3A-1-add7bb39\n",
            "RagMetrics [experiment_name=RAG_querymodel:gpt-4o-mini_Braintrust:gpt-4o-mini_parser:claude_chunksize:600_split:sentence_topk:3_N:-1] (data): 213it [00:00, 58296.04it/s]\n",
            "RagMetrics [experiment_name=RAG_querymodel:gpt-4o-mini_Braintrust:gpt-4o-mini_parser:claude_chunksize:600_split:sentence_topk:3_N:-1] (tasks): 100%|██████████| 213/213 [00:15<00:00, 13.63it/s]\n"
          ]
        },
        {
          "name": "stdout",
          "output_type": "stream",
          "text": [
            "\n",
            "=========================SUMMARY=========================\n",
            "RAG_querymodel:gpt-4o-mini_Braintrust:gpt-4o-mini_parser:claude_chunksize:600_split:sentence_topk:3_N:-1-add7bb39 compared to RAG_querymodel:gpt-4o-mini_Braintrust:gpt-4o-mini_parser:claude_chunksize:600_split:sentence_topk:3_N:-1-1d92cf55:\n",
            "87.40% (-) 'ContextRecall'       score\t(0 improvements, 0 regressions)\n",
            "65.26% (-) 'Factuality'          score\t(0 improvements, 0 regressions)\n",
            "67.43% (-02.61%) 'AnswerCorrectness'   score\t(52 improvements, 91 regressions)\n",
            "80.37% (-) 'EmbeddingSimilarity' score\t(0 improvements, 0 regressions)\n",
            "\n",
            "0.24s (-48.14%) 'duration'         \t(213 improvements, 0 regressions)\n",
            "0tok (-) 'prompt_tokens'    \t(0 improvements, 0 regressions)\n",
            "0tok (-) 'completion_tokens'\t(0 improvements, 0 regressions)\n",
            "0tok (-) 'total_tokens'     \t(0 improvements, 0 regressions)\n",
            "\n",
            "See results for RAG_querymodel:gpt-4o-mini_Braintrust:gpt-4o-mini_parser:claude_chunksize:600_split:sentence_topk:3_N:-1-add7bb39 at https://www.braintrust.dev/app/Omega/p/RagMetrics/experiments/RAG_querymodel%3Agpt-4o-mini_Braintrust%3Agpt-4o-mini_parser%3Aclaude_chunksize%3A600_split%3Asentence_topk%3A3_N%3A-1-add7bb39\n"
          ]
        }
      ],
      "source": [
        "from braintrust import Eval\n",
        "\n",
        "from autoevals import AnswerCorrectness, ContextRecall\n",
        "from autoevals import Factuality\n",
        "from autoevals.ragas import *\n",
        "# BRAINTRUST_MODEL = \"claude-3-5-sonnet-20240620\"\n",
        "BRAINTRUST_MODEL = \"gpt-4o-mini\"\n",
        "\n",
        "\n",
        "# Wrap ContextRecall() to propagate along the \"answer\" and \"context\" values separately\n",
        "async def context_recall(output, **kwargs):\n",
        "    return await ContextRecall(model=BRAINTRUST_MODEL).eval_async(output=output[\"answer\"], context=output[\"context\"], **kwargs)\n",
        "\n",
        "async def answer_correctness(output, **kwargs):\n",
        "    return await AnswerCorrectness(model=BRAINTRUST_MODEL).eval_async(output=output[\"answer\"], **kwargs)\n",
        "\n",
        "async def factuality(output, **kwargs):\n",
        "    return await Factuality().eval_async(output=output[\"answer\"], **kwargs)\n",
        "\n",
        "async def answer_similarity(output, **kwargs):\n",
        "    return await AnswerSimilarity().eval_async(output=output[\"answer\"], **kwargs)\n",
        "\n",
        "\n",
        "eval_result = await Eval(\n",
        "    name=\"RagMetrics\",\n",
        "    experiment_name=f\"RAG_querymodel:{MODEL_ID}_Braintrust:{BRAINTRUST_MODEL}_parser:{PARSER}_chunksize:{CHUNK_SIZE}_split:{SPLITTER}_topk:{TOP_K}_N:{NUM_QUESTIONS}\",\n",
        "    data=labelled_data,\n",
        "    task=my_task,\n",
        "    scores=[context_recall, answer_correctness, factuality, answer_similarity],\n",
        "    metadata=dict(model=MODEL_ID, topk=TOP_K, parser=PARSER, chunksize=CHUNK_SIZE, split=SPLITTER, braintrust_model=BRAINTRUST_MODEL, num_questions=NUM_QUESTIONS),\n",
        ")"
      ]
    },
    {
      "cell_type": "code",
      "execution_count": 18,
      "metadata": {},
      "outputs": [],
      "source": [
        "# convert labelled data to a dataframe with columns input, expected, metadata\n",
        "df = pd.DataFrame(labelled_data)\n",
        "# drop the column rag_model_response\n",
        "df.drop(columns=[\"rag_model_response\"], inplace=True)\n",
        "\n",
        "# save the dataframe to a csv file\n",
        "df.to_csv(\"./datasets/health_dataset.csv\", index=False)"
      ]
    },
    {
      "cell_type": "code",
      "execution_count": 19,
      "metadata": {},
      "outputs": [],
      "source": [
        "# import braintrust\n",
        " \n",
        "# dataset = braintrust.init_dataset(project=\"RagMetrics\", name=\"Healthcare and Social Assistance in the US Industry Report\")\n",
        "\n",
        "# for d in labelled_data:\n",
        "#     dataset.insert(input=d[\"input\"], expected=d[\"expected\"], metadata=d[\"metadata\"])\n",
        " \n",
        "# print(dataset.summarize())"
      ]
    }
  ],
  "metadata": {
    "colab": {
      "provenance": []
    },
    "kernelspec": {
      "display_name": "Python 3",
      "name": "python3"
    },
    "language_info": {
      "codemirror_mode": {
        "name": "ipython",
        "version": 3
      },
      "file_extension": ".py",
      "mimetype": "text/x-python",
      "name": "python",
      "nbconvert_exporter": "python",
      "pygments_lexer": "ipython3",
      "version": "3.10.15"
    }
  },
  "nbformat": 4,
  "nbformat_minor": 0
}
