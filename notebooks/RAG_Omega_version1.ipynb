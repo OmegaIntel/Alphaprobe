{
  "cells": [
    {
      "cell_type": "code",
      "execution_count": 1,
      "metadata": {
        "id": "wTxbciOYVo7V"
      },
      "outputs": [],
      "source": [
        "# !pip install llama-index llama-index-core llama-parse openai llama_index.embeddings.huggingface -q\n",
        "# !pip install llama-index-llms-anthropic -q"
      ]
    },
    {
      "cell_type": "code",
      "execution_count": 2,
      "metadata": {},
      "outputs": [
        {
          "data": {
            "text/plain": [
              "('What types of enterprises are included in the Healthcare and Social Assistance sector in the United States?',\n",
              " 'How is telemedicine defined in the context of the Healthcare and Social Assistance industry?')"
            ]
          },
          "execution_count": 2,
          "metadata": {},
          "output_type": "execute_result"
        }
      ],
      "source": [
        "import pandas as pd\n",
        "\n",
        "comparison_file = 'claude-3-5-sonnet-20240620_qa.csv'\n",
        "df = pd.read_csv(comparison_file)\n",
        "\n",
        "dff = df.head()\n",
        "questions = list(dff['question'])\n",
        "query1, query2 = questions[:2]\n",
        "\n",
        "query1, query2"
      ]
    },
    {
      "cell_type": "code",
      "execution_count": 3,
      "metadata": {
        "id": "6gUzpLaeVpl5"
      },
      "outputs": [],
      "source": [
        "  # llama-parse is async-first, running the async code in a notebook requires the use of nest_asyncio\n",
        "import nest_asyncio\n",
        "nest_asyncio.apply()\n",
        "\n",
        "import os\n",
        "from dotenv import load_dotenv\n",
        "load_dotenv()\n",
        "\n",
        "# API access to llama-cloud\n",
        "os.environ[\"LLAMA_CLOUD_API_KEY\"] = \"llx-7K1IbMcLbyb8TDvMsIx3Brr7mD4K8ZnLaFMjbEq8S1uONYZp\"\n",
        "# Using OpenAI API for embeddings/llms\n",
        "os.environ[\"OPENAI_API_KEY\"] = os.getenv('OPENAI_APIKEY')\n",
        "OPENAI_API_KEY = os.environ[\"OPENAI_API_KEY\"]"
      ]
    },
    {
      "cell_type": "code",
      "execution_count": 4,
      "metadata": {
        "colab": {
          "base_uri": "https://localhost:8080/"
        },
        "id": "UjWQnAYnVwhF",
        "outputId": "9907e56f-9e80-404e-b2d2-36f3ab269b24"
      },
      "outputs": [
        {
          "name": "stdout",
          "output_type": "stream",
          "text": [
            "Started parsing the file under job_id 6e49875a-aec5-4cb6-8c30-4611c8f5cda9\n",
            "..."
          ]
        }
      ],
      "source": [
        "from llama_parse import LlamaParse\n",
        "\n",
        "# location = 'IndustrySource/Misc/32592 Explosives Manufacturing in the US Industry Report.pdf'\n",
        "location = 'IndustrySource/Misc/62 Healthcare and Social Assistance in the US Industry Report.pdf'\n",
        "documents = LlamaParse(result_type=\"markdown\").load_data(location)"
      ]
    },
    {
      "cell_type": "code",
      "execution_count": 5,
      "metadata": {},
      "outputs": [
        {
          "data": {
            "text/plain": [
              "'IndustrySource_Misc_62_Healthcare_and_Social_Assistance_in_the_US_Industry_Report'"
            ]
          },
          "execution_count": 5,
          "metadata": {},
          "output_type": "execute_result"
        }
      ],
      "source": [
        "INDEX_NAME = location.replace('/', '_').replace(' ', '_').split('.')[0]\n",
        "INDEX_NAME"
      ]
    },
    {
      "cell_type": "code",
      "execution_count": 6,
      "metadata": {
        "colab": {
          "base_uri": "https://localhost:8080/"
        },
        "id": "SvjPvIIAWE-U",
        "outputId": "e6dac4b7-9238-4af0-9383-84d9cc7a521f"
      },
      "outputs": [
        {
          "name": "stderr",
          "output_type": "stream",
          "text": [
            "/home/yakov/anaconda3/envs/probe/lib/python3.11/site-packages/tqdm/auto.py:21: TqdmWarning: IProgress not found. Please update jupyter and ipywidgets. See https://ipywidgets.readthedocs.io/en/stable/user_install.html\n",
            "  from .autonotebook import tqdm as notebook_tqdm\n"
          ]
        }
      ],
      "source": [
        "from llama_index.core.node_parser import SentenceSplitter\n",
        "\n",
        "######## SentenceSplitter ########\n",
        "splitter = SentenceSplitter(chunk_size=1024)\n",
        "nodes = splitter.get_nodes_from_documents(documents)\n",
        "\n",
        "######## Vector Index ########\n",
        "from llama_index.core import VectorStoreIndex\n",
        "\n",
        "embed_model = \"local:BAAI/bge-small-en-v1.5\"\n",
        "vector_index = VectorStoreIndex(nodes, embed_model = embed_model)\n",
        "\n",
        "######## GPT-4o to Chat ########\n",
        "from llama_index.llms.openai import OpenAI\n",
        "\n",
        "llm_gpt4o = OpenAI(model=\"gpt-4o-mini\", api_key = OPENAI_API_KEY)\n",
        "query_engine_gpt4o = vector_index.as_query_engine(similarity_top_k=3, llm=llm_gpt4o)"
      ]
    },
    {
      "cell_type": "code",
      "execution_count": 7,
      "metadata": {
        "colab": {
          "base_uri": "https://localhost:8080/"
        },
        "id": "crtECCEmWN3A",
        "outputId": "03c21d74-97c9-4209-c199-091e79292216"
      },
      "outputs": [
        {
          "name": "stdout",
          "output_type": "stream",
          "text": [
            "GPT-4o-mini:\n",
            "The Healthcare and Social Assistance sector in the United States includes enterprises that provide a variety of services such as hospitals, ambulatory service providers, nursing homes, residential care facilities, and social assistance services. This encompasses counselors, social workers, family and welfare services, as well as natural disaster and emergency relief services.\n"
          ]
        }
      ],
      "source": [
        "# query1 = \"What's driving current industry performance?\"\n",
        "resp = query_engine_gpt4o.query(query1)\n",
        "print(\"GPT-4o-mini:\")\n",
        "print(str(resp))"
      ]
    },
    {
      "cell_type": "code",
      "execution_count": 8,
      "metadata": {
        "colab": {
          "base_uri": "https://localhost:8080/",
          "height": 88
        },
        "id": "7rH4I3GQX3eK",
        "outputId": "f8237631-8179-4c07-8255-cac2786f0053"
      },
      "outputs": [
        {
          "data": {
            "text/plain": [
              "'The Healthcare and Social Assistance sector in the United States includes enterprises that provide a variety of services such as hospitals, ambulatory service providers, nursing homes, residential care facilities, and social assistance services. This encompasses counselors, social workers, family and welfare services, as well as natural disaster and emergency relief services.'"
            ]
          },
          "execution_count": 8,
          "metadata": {},
          "output_type": "execute_result"
        }
      ],
      "source": [
        "str(resp)"
      ]
    },
    {
      "cell_type": "code",
      "execution_count": 9,
      "metadata": {
        "colab": {
          "base_uri": "https://localhost:8080/"
        },
        "id": "wfezn2ndWgiJ",
        "outputId": "0bcabb87-60fd-48b1-cdc1-978ae9ba26a7"
      },
      "outputs": [
        {
          "name": "stdout",
          "output_type": "stream",
          "text": [
            "# Healthcare and Social Assistance in the US\n",
            "\n",
            "# SWOT\n",
            "\n",
            "|Strengths|Weaknesses|Opportunities|Threats|\n",
            "|---|---|---|---|\n",
            "|High Profit vs. Sector Average|Low Revenue per Employee|High Revenue Growth (2019-2024)|Low Revenue Growth (2005-2024)|\n",
            "|Low Customer Class Concentration|Low Product/Service Concentration|High Revenue Growth (2024-2029)|Low Outlier Number of people with private health insurance|\n",
            "|Low Capital Requirements| |Federal funding for Medicare and Medicaid| |\n",
            "\n",
            "# Executive Summary\n",
            "\n",
            "Demographic and economic factors are the driving forces behind rising healthcare spending in the US. The population's medical needs are expanding the oldest demographic's consumption of medical services. At the same time, growing incomes and broader insurance coverage facilitate access to healthcare providers. Increasing healthcare spending was abruptly disrupted by the pandemic, exposing healthcare and social assistance providers to unprecedented financial and operational pressures. Though pandemic concerns have alleviated, the long-term effects of it continue to shape every corner of the health sector. Still, revenue has been expanding at a CAGR of 0.7% to an estimated $3.6 trillion over the past five years, with revenue rising an expected 0.3% in 2024.\n",
            "\n",
            "The pandemic exacerbated existing staffing shortages. Persistent labor shortages jeopardize healthcare and social assistance providers' ability to address demand, creating widespread staff burnout and high turnover rates. These shortages have fueled wage inflation in the sector and the use of costlier contract labor, squeezing profit. Some areas of Healthcare and Social Assistance are facing more critical shortages, and the long-term effects of the pandemic continue to make it difficult for companies to attract and retain employees to fill these gaps.\n",
            "\n",
            "Demographic trends will continue to be the driving force behind rising healthcare spending moving forward. However, increasing demand and elevated costs will pressure healthcare and social assistance providers to shift how they operate. Consolidation activity will ramp up as smaller providers join larger health groups to secure larger insurer reimbursements. Digital tools and telehealth will continue to be integrated into healthcare delivery because they can lower costs, increase capacity and enable access to patients in underserved areas. In all, sector revenue will grow at a CAGR of 2.7% to an estimated $4.1 trillion in the coming years.\n"
          ]
        }
      ],
      "source": [
        "print(nodes[12].text)"
      ]
    },
    {
      "cell_type": "code",
      "execution_count": 10,
      "metadata": {
        "colab": {
          "base_uri": "https://localhost:8080/",
          "height": 105
        },
        "id": "xAxnL6ZdZ_7o",
        "outputId": "c17452c5-241e-4b44-fb72-9f9e1807044b"
      },
      "outputs": [
        {
          "name": "stdout",
          "output_type": "stream",
          "text": [
            "GPT-4o-mini:\n"
          ]
        },
        {
          "data": {
            "text/plain": [
              "'Telemedicine is defined as an application of clinical medicine where medical information is transferred through interactive audiovisual media for the purpose of consulting and conducting remote medical procedures or examinations.'"
            ]
          },
          "execution_count": 10,
          "metadata": {},
          "output_type": "execute_result"
        }
      ],
      "source": [
        "# query1 = \"Tell me about Oil States International Inc. to acquire GEODynamics Inc.\"\n",
        "resp = query_engine_gpt4o.query(query2)\n",
        "print(\"GPT-4o-mini:\")\n",
        "str(resp)"
      ]
    },
    {
      "cell_type": "code",
      "execution_count": 11,
      "metadata": {
        "id": "ed60Yq7mr6G9"
      },
      "outputs": [],
      "source": [
        "#####################################################################################################################################################"
      ]
    },
    {
      "cell_type": "code",
      "execution_count": 12,
      "metadata": {
        "id": "8-EGNPvTYPNV"
      },
      "outputs": [],
      "source": [
        "# WEAVIATE Vector Database -RAG"
      ]
    },
    {
      "cell_type": "code",
      "execution_count": 13,
      "metadata": {
        "colab": {
          "base_uri": "https://localhost:8080/"
        },
        "id": "Oo1C9U1apM6V",
        "outputId": "a6cefb2d-f270-4bed-a82c-4de2fc8d88af"
      },
      "outputs": [
        {
          "name": "stderr",
          "output_type": "stream",
          "text": [
            "huggingface/tokenizers: The current process just got forked, after parallelism has already been used. Disabling parallelism to avoid deadlocks...\n",
            "To disable this warning, you can either:\n",
            "\t- Avoid using `tokenizers` before the fork if possible\n",
            "\t- Explicitly set the environment variable TOKENIZERS_PARALLELISM=(true | false)\n"
          ]
        },
        {
          "name": "stdout",
          "output_type": "stream",
          "text": [
            "Requirement already satisfied: llama-index-vector-stores-weaviate in /home/yakov/anaconda3/envs/probe/lib/python3.11/site-packages (1.1.1)\n",
            "Requirement already satisfied: llama-index-core<0.12.0,>=0.11.0 in /home/yakov/anaconda3/envs/probe/lib/python3.11/site-packages (from llama-index-vector-stores-weaviate) (0.11.15)\n",
            "Requirement already satisfied: weaviate-client<5.0.0,>=4.5.7 in /home/yakov/anaconda3/envs/probe/lib/python3.11/site-packages (from llama-index-vector-stores-weaviate) (4.6.7)\n",
            "Requirement already satisfied: PyYAML>=6.0.1 in /home/yakov/anaconda3/envs/probe/lib/python3.11/site-packages (from llama-index-core<0.12.0,>=0.11.0->llama-index-vector-stores-weaviate) (6.0.2)\n",
            "Requirement already satisfied: SQLAlchemy>=1.4.49 in /home/yakov/anaconda3/envs/probe/lib/python3.11/site-packages (from SQLAlchemy[asyncio]>=1.4.49->llama-index-core<0.12.0,>=0.11.0->llama-index-vector-stores-weaviate) (2.0.32)\n",
            "Requirement already satisfied: aiohttp<4.0.0,>=3.8.6 in /home/yakov/anaconda3/envs/probe/lib/python3.11/site-packages (from llama-index-core<0.12.0,>=0.11.0->llama-index-vector-stores-weaviate) (3.10.5)\n",
            "Requirement already satisfied: dataclasses-json in /home/yakov/anaconda3/envs/probe/lib/python3.11/site-packages (from llama-index-core<0.12.0,>=0.11.0->llama-index-vector-stores-weaviate) (0.6.7)\n",
            "Requirement already satisfied: deprecated>=1.2.9.3 in /home/yakov/anaconda3/envs/probe/lib/python3.11/site-packages (from llama-index-core<0.12.0,>=0.11.0->llama-index-vector-stores-weaviate) (1.2.14)\n",
            "Requirement already satisfied: dirtyjson<2.0.0,>=1.0.8 in /home/yakov/anaconda3/envs/probe/lib/python3.11/site-packages (from llama-index-core<0.12.0,>=0.11.0->llama-index-vector-stores-weaviate) (1.0.8)\n",
            "Requirement already satisfied: fsspec>=2023.5.0 in /home/yakov/anaconda3/envs/probe/lib/python3.11/site-packages (from llama-index-core<0.12.0,>=0.11.0->llama-index-vector-stores-weaviate) (2024.6.1)\n",
            "Requirement already satisfied: httpx in /home/yakov/anaconda3/envs/probe/lib/python3.11/site-packages (from llama-index-core<0.12.0,>=0.11.0->llama-index-vector-stores-weaviate) (0.27.0)\n",
            "Requirement already satisfied: nest-asyncio<2.0.0,>=1.5.8 in /home/yakov/anaconda3/envs/probe/lib/python3.11/site-packages (from llama-index-core<0.12.0,>=0.11.0->llama-index-vector-stores-weaviate) (1.6.0)\n",
            "Requirement already satisfied: networkx>=3.0 in /home/yakov/anaconda3/envs/probe/lib/python3.11/site-packages (from llama-index-core<0.12.0,>=0.11.0->llama-index-vector-stores-weaviate) (3.3)\n",
            "Requirement already satisfied: nltk>3.8.1 in /home/yakov/anaconda3/envs/probe/lib/python3.11/site-packages (from llama-index-core<0.12.0,>=0.11.0->llama-index-vector-stores-weaviate) (3.9.1)\n",
            "Requirement already satisfied: numpy<2.0.0 in /home/yakov/anaconda3/envs/probe/lib/python3.11/site-packages (from llama-index-core<0.12.0,>=0.11.0->llama-index-vector-stores-weaviate) (1.26.4)\n",
            "Requirement already satisfied: pillow>=9.0.0 in /home/yakov/anaconda3/envs/probe/lib/python3.11/site-packages (from llama-index-core<0.12.0,>=0.11.0->llama-index-vector-stores-weaviate) (10.4.0)\n",
            "Requirement already satisfied: pydantic<3.0.0,>=2.7.0 in /home/yakov/anaconda3/envs/probe/lib/python3.11/site-packages (from llama-index-core<0.12.0,>=0.11.0->llama-index-vector-stores-weaviate) (2.8.2)\n",
            "Requirement already satisfied: requests>=2.31.0 in /home/yakov/anaconda3/envs/probe/lib/python3.11/site-packages (from llama-index-core<0.12.0,>=0.11.0->llama-index-vector-stores-weaviate) (2.32.3)\n",
            "Requirement already satisfied: tenacity!=8.4.0,<9.0.0,>=8.2.0 in /home/yakov/anaconda3/envs/probe/lib/python3.11/site-packages (from llama-index-core<0.12.0,>=0.11.0->llama-index-vector-stores-weaviate) (8.3.0)\n",
            "Requirement already satisfied: tiktoken>=0.3.3 in /home/yakov/anaconda3/envs/probe/lib/python3.11/site-packages (from llama-index-core<0.12.0,>=0.11.0->llama-index-vector-stores-weaviate) (0.7.0)\n",
            "Requirement already satisfied: tqdm<5.0.0,>=4.66.1 in /home/yakov/anaconda3/envs/probe/lib/python3.11/site-packages (from llama-index-core<0.12.0,>=0.11.0->llama-index-vector-stores-weaviate) (4.66.4)\n",
            "Requirement already satisfied: typing-extensions>=4.5.0 in /home/yakov/anaconda3/envs/probe/lib/python3.11/site-packages (from llama-index-core<0.12.0,>=0.11.0->llama-index-vector-stores-weaviate) (4.12.2)\n",
            "Requirement already satisfied: typing-inspect>=0.8.0 in /home/yakov/anaconda3/envs/probe/lib/python3.11/site-packages (from llama-index-core<0.12.0,>=0.11.0->llama-index-vector-stores-weaviate) (0.9.0)\n",
            "Requirement already satisfied: wrapt in /home/yakov/anaconda3/envs/probe/lib/python3.11/site-packages (from llama-index-core<0.12.0,>=0.11.0->llama-index-vector-stores-weaviate) (1.16.0)\n",
            "Requirement already satisfied: validators==0.33.0 in /home/yakov/anaconda3/envs/probe/lib/python3.11/site-packages (from weaviate-client<5.0.0,>=4.5.7->llama-index-vector-stores-weaviate) (0.33.0)\n",
            "Requirement already satisfied: authlib<2.0.0,>=1.2.1 in /home/yakov/anaconda3/envs/probe/lib/python3.11/site-packages (from weaviate-client<5.0.0,>=4.5.7->llama-index-vector-stores-weaviate) (1.3.1)\n",
            "Requirement already satisfied: grpcio<2.0.0,>=1.57.0 in /home/yakov/anaconda3/envs/probe/lib/python3.11/site-packages (from weaviate-client<5.0.0,>=4.5.7->llama-index-vector-stores-weaviate) (1.66.1)\n",
            "Requirement already satisfied: grpcio-tools<2.0.0,>=1.57.0 in /home/yakov/anaconda3/envs/probe/lib/python3.11/site-packages (from weaviate-client<5.0.0,>=4.5.7->llama-index-vector-stores-weaviate) (1.65.5)\n",
            "Requirement already satisfied: grpcio-health-checking<2.0.0,>=1.57.0 in /home/yakov/anaconda3/envs/probe/lib/python3.11/site-packages (from weaviate-client<5.0.0,>=4.5.7->llama-index-vector-stores-weaviate) (1.65.5)\n",
            "Requirement already satisfied: aiohappyeyeballs>=2.3.0 in /home/yakov/anaconda3/envs/probe/lib/python3.11/site-packages (from aiohttp<4.0.0,>=3.8.6->llama-index-core<0.12.0,>=0.11.0->llama-index-vector-stores-weaviate) (2.4.0)\n",
            "Requirement already satisfied: aiosignal>=1.1.2 in /home/yakov/anaconda3/envs/probe/lib/python3.11/site-packages (from aiohttp<4.0.0,>=3.8.6->llama-index-core<0.12.0,>=0.11.0->llama-index-vector-stores-weaviate) (1.3.1)\n",
            "Requirement already satisfied: attrs>=17.3.0 in /home/yakov/anaconda3/envs/probe/lib/python3.11/site-packages (from aiohttp<4.0.0,>=3.8.6->llama-index-core<0.12.0,>=0.11.0->llama-index-vector-stores-weaviate) (24.2.0)\n",
            "Requirement already satisfied: frozenlist>=1.1.1 in /home/yakov/anaconda3/envs/probe/lib/python3.11/site-packages (from aiohttp<4.0.0,>=3.8.6->llama-index-core<0.12.0,>=0.11.0->llama-index-vector-stores-weaviate) (1.4.1)\n",
            "Requirement already satisfied: multidict<7.0,>=4.5 in /home/yakov/anaconda3/envs/probe/lib/python3.11/site-packages (from aiohttp<4.0.0,>=3.8.6->llama-index-core<0.12.0,>=0.11.0->llama-index-vector-stores-weaviate) (6.0.5)\n",
            "Requirement already satisfied: yarl<2.0,>=1.0 in /home/yakov/anaconda3/envs/probe/lib/python3.11/site-packages (from aiohttp<4.0.0,>=3.8.6->llama-index-core<0.12.0,>=0.11.0->llama-index-vector-stores-weaviate) (1.9.4)\n",
            "Requirement already satisfied: cryptography in /home/yakov/anaconda3/envs/probe/lib/python3.11/site-packages (from authlib<2.0.0,>=1.2.1->weaviate-client<5.0.0,>=4.5.7->llama-index-vector-stores-weaviate) (43.0.0)\n",
            "Requirement already satisfied: protobuf<6.0dev,>=5.26.1 in /home/yakov/anaconda3/envs/probe/lib/python3.11/site-packages (from grpcio-health-checking<2.0.0,>=1.57.0->weaviate-client<5.0.0,>=4.5.7->llama-index-vector-stores-weaviate) (5.27.3)\n",
            "Requirement already satisfied: setuptools in /home/yakov/anaconda3/envs/probe/lib/python3.11/site-packages (from grpcio-tools<2.0.0,>=1.57.0->weaviate-client<5.0.0,>=4.5.7->llama-index-vector-stores-weaviate) (72.1.0)\n",
            "Requirement already satisfied: anyio in /home/yakov/anaconda3/envs/probe/lib/python3.11/site-packages (from httpx->llama-index-core<0.12.0,>=0.11.0->llama-index-vector-stores-weaviate) (4.4.0)\n",
            "Requirement already satisfied: certifi in /home/yakov/anaconda3/envs/probe/lib/python3.11/site-packages (from httpx->llama-index-core<0.12.0,>=0.11.0->llama-index-vector-stores-weaviate) (2024.7.4)\n",
            "Requirement already satisfied: httpcore==1.* in /home/yakov/anaconda3/envs/probe/lib/python3.11/site-packages (from httpx->llama-index-core<0.12.0,>=0.11.0->llama-index-vector-stores-weaviate) (1.0.5)\n",
            "Requirement already satisfied: idna in /home/yakov/anaconda3/envs/probe/lib/python3.11/site-packages (from httpx->llama-index-core<0.12.0,>=0.11.0->llama-index-vector-stores-weaviate) (3.7)\n",
            "Requirement already satisfied: sniffio in /home/yakov/anaconda3/envs/probe/lib/python3.11/site-packages (from httpx->llama-index-core<0.12.0,>=0.11.0->llama-index-vector-stores-weaviate) (1.3.1)\n",
            "Requirement already satisfied: h11<0.15,>=0.13 in /home/yakov/anaconda3/envs/probe/lib/python3.11/site-packages (from httpcore==1.*->httpx->llama-index-core<0.12.0,>=0.11.0->llama-index-vector-stores-weaviate) (0.14.0)\n",
            "Requirement already satisfied: click in /home/yakov/anaconda3/envs/probe/lib/python3.11/site-packages (from nltk>3.8.1->llama-index-core<0.12.0,>=0.11.0->llama-index-vector-stores-weaviate) (8.1.7)\n",
            "Requirement already satisfied: joblib in /home/yakov/anaconda3/envs/probe/lib/python3.11/site-packages (from nltk>3.8.1->llama-index-core<0.12.0,>=0.11.0->llama-index-vector-stores-weaviate) (1.4.2)\n",
            "Requirement already satisfied: regex>=2021.8.3 in /home/yakov/anaconda3/envs/probe/lib/python3.11/site-packages (from nltk>3.8.1->llama-index-core<0.12.0,>=0.11.0->llama-index-vector-stores-weaviate) (2024.7.24)\n",
            "Requirement already satisfied: annotated-types>=0.4.0 in /home/yakov/anaconda3/envs/probe/lib/python3.11/site-packages (from pydantic<3.0.0,>=2.7.0->llama-index-core<0.12.0,>=0.11.0->llama-index-vector-stores-weaviate) (0.7.0)\n",
            "Requirement already satisfied: pydantic-core==2.20.1 in /home/yakov/anaconda3/envs/probe/lib/python3.11/site-packages (from pydantic<3.0.0,>=2.7.0->llama-index-core<0.12.0,>=0.11.0->llama-index-vector-stores-weaviate) (2.20.1)\n",
            "Requirement already satisfied: charset-normalizer<4,>=2 in /home/yakov/anaconda3/envs/probe/lib/python3.11/site-packages (from requests>=2.31.0->llama-index-core<0.12.0,>=0.11.0->llama-index-vector-stores-weaviate) (3.3.2)\n",
            "Requirement already satisfied: urllib3<3,>=1.21.1 in /home/yakov/anaconda3/envs/probe/lib/python3.11/site-packages (from requests>=2.31.0->llama-index-core<0.12.0,>=0.11.0->llama-index-vector-stores-weaviate) (1.26.20)\n",
            "Requirement already satisfied: greenlet!=0.4.17 in /home/yakov/anaconda3/envs/probe/lib/python3.11/site-packages (from SQLAlchemy>=1.4.49->SQLAlchemy[asyncio]>=1.4.49->llama-index-core<0.12.0,>=0.11.0->llama-index-vector-stores-weaviate) (3.0.3)\n",
            "Requirement already satisfied: mypy-extensions>=0.3.0 in /home/yakov/anaconda3/envs/probe/lib/python3.11/site-packages (from typing-inspect>=0.8.0->llama-index-core<0.12.0,>=0.11.0->llama-index-vector-stores-weaviate) (1.0.0)\n",
            "Requirement already satisfied: marshmallow<4.0.0,>=3.18.0 in /home/yakov/anaconda3/envs/probe/lib/python3.11/site-packages (from dataclasses-json->llama-index-core<0.12.0,>=0.11.0->llama-index-vector-stores-weaviate) (3.22.0)\n",
            "Requirement already satisfied: packaging>=17.0 in /home/yakov/anaconda3/envs/probe/lib/python3.11/site-packages (from marshmallow<4.0.0,>=3.18.0->dataclasses-json->llama-index-core<0.12.0,>=0.11.0->llama-index-vector-stores-weaviate) (24.1)\n",
            "Requirement already satisfied: cffi>=1.12 in /home/yakov/anaconda3/envs/probe/lib/python3.11/site-packages (from cryptography->authlib<2.0.0,>=1.2.1->weaviate-client<5.0.0,>=4.5.7->llama-index-vector-stores-weaviate) (1.17.0)\n",
            "Requirement already satisfied: pycparser in /home/yakov/anaconda3/envs/probe/lib/python3.11/site-packages (from cffi>=1.12->cryptography->authlib<2.0.0,>=1.2.1->weaviate-client<5.0.0,>=4.5.7->llama-index-vector-stores-weaviate) (2.22)\n",
            "Note: you may need to restart the kernel to use updated packages.\n"
          ]
        }
      ],
      "source": [
        "# %pip install llama-index-vector-stores-weaviate"
      ]
    },
    {
      "cell_type": "code",
      "execution_count": 14,
      "metadata": {
        "id": "QBh6czNapV8i"
      },
      "outputs": [],
      "source": [
        "from llama_index.core import VectorStoreIndex, SimpleDirectoryReader\n",
        "from llama_index.vector_stores.weaviate import WeaviateVectorStore\n",
        "from IPython.display import Markdown, display"
      ]
    },
    {
      "cell_type": "code",
      "execution_count": 15,
      "metadata": {
        "id": "e7BGP7XipZIO"
      },
      "outputs": [],
      "source": [
        "import logging\n",
        "import sys\n",
        "\n",
        "logging.basicConfig(stream=sys.stdout, level=logging.INFO)\n",
        "logging.getLogger().addHandler(logging.StreamHandler(stream=sys.stdout))"
      ]
    },
    {
      "cell_type": "code",
      "execution_count": 16,
      "metadata": {
        "id": "NfaNIvokpbKo"
      },
      "outputs": [
        {
          "name": "stdout",
          "output_type": "stream",
          "text": [
            "INFO:httpx:HTTP Request: GET https://a0dlgmcaspopjrn2mtx4ha.c0.us-east1.gcp.weaviate.cloud/v1/meta \"HTTP/1.1 200 OK\"\n",
            "HTTP Request: GET https://a0dlgmcaspopjrn2mtx4ha.c0.us-east1.gcp.weaviate.cloud/v1/meta \"HTTP/1.1 200 OK\"\n",
            "INFO:httpx:HTTP Request: GET https://pypi.org/pypi/weaviate-client/json \"HTTP/1.1 200 OK\"\n",
            "HTTP Request: GET https://pypi.org/pypi/weaviate-client/json \"HTTP/1.1 200 OK\"\n"
          ]
        }
      ],
      "source": [
        "import weaviate\n",
        "# cloud\n",
        "cluster_url = \"https://a0dlgmcaspopjrn2mtx4ha.c0.us-east1.gcp.weaviate.cloud\"\n",
        "api_key = \"7ZfUCibywHnzM0WKMPx7YevuN79nUtS4KJgT\"\n",
        "\n",
        "client = weaviate.connect_to_wcs(\n",
        "    cluster_url=cluster_url,\n",
        "    auth_credentials=weaviate.auth.AuthApiKey(api_key),\n",
        ")"
      ]
    },
    {
      "cell_type": "code",
      "execution_count": 17,
      "metadata": {
        "id": "Mljx07r2pjtg"
      },
      "outputs": [
        {
          "name": "stdout",
          "output_type": "stream",
          "text": [
            "INFO:httpx:HTTP Request: GET https://a0dlgmcaspopjrn2mtx4ha.c0.us-east1.gcp.weaviate.cloud/v1/schema/IndustrySource_Misc_62_Healthcare_and_Social_Assistance_in_the_US_Industry_Report \"HTTP/1.1 404 Not Found\"\n",
            "HTTP Request: GET https://a0dlgmcaspopjrn2mtx4ha.c0.us-east1.gcp.weaviate.cloud/v1/schema/IndustrySource_Misc_62_Healthcare_and_Social_Assistance_in_the_US_Industry_Report \"HTTP/1.1 404 Not Found\"\n",
            "INFO:httpx:HTTP Request: POST https://a0dlgmcaspopjrn2mtx4ha.c0.us-east1.gcp.weaviate.cloud/v1/schema \"HTTP/1.1 200 OK\"\n",
            "HTTP Request: POST https://a0dlgmcaspopjrn2mtx4ha.c0.us-east1.gcp.weaviate.cloud/v1/schema \"HTTP/1.1 200 OK\"\n",
            "INFO:httpx:HTTP Request: POST https://api.openai.com/v1/embeddings \"HTTP/1.1 200 OK\"\n",
            "HTTP Request: POST https://api.openai.com/v1/embeddings \"HTTP/1.1 200 OK\"\n",
            "INFO:httpx:HTTP Request: GET https://a0dlgmcaspopjrn2mtx4ha.c0.us-east1.gcp.weaviate.cloud/v1/schema \"HTTP/1.1 200 OK\"\n",
            "HTTP Request: GET https://a0dlgmcaspopjrn2mtx4ha.c0.us-east1.gcp.weaviate.cloud/v1/schema \"HTTP/1.1 200 OK\"\n",
            "INFO:httpx:HTTP Request: GET https://a0dlgmcaspopjrn2mtx4ha.c0.us-east1.gcp.weaviate.cloud/v1/nodes \"HTTP/1.1 200 OK\"\n",
            "HTTP Request: GET https://a0dlgmcaspopjrn2mtx4ha.c0.us-east1.gcp.weaviate.cloud/v1/nodes \"HTTP/1.1 200 OK\"\n"
          ]
        }
      ],
      "source": [
        "from llama_index.core import StorageContext\n",
        "\n",
        "# If you want to load the index later, be sure to give it a name!\n",
        "vector_store = WeaviateVectorStore(\n",
        "    weaviate_client=client, index_name=INDEX_NAME\n",
        ")\n",
        "storage_context = StorageContext.from_defaults(vector_store=vector_store)\n",
        "vector_index = VectorStoreIndex.from_documents(\n",
        "    documents, storage_context=storage_context\n",
        ")"
      ]
    },
    {
      "cell_type": "code",
      "execution_count": 18,
      "metadata": {
        "id": "v4w0zvS2pmeB"
      },
      "outputs": [
        {
          "name": "stderr",
          "output_type": "stream",
          "text": [
            "/home/yakov/anaconda3/envs/probe/lib/python3.11/site-packages/pydantic/main.py:1059: PydanticDeprecatedSince20: The `__fields__` attribute is deprecated, use `model_fields` instead. Deprecated in Pydantic V2.0 to be removed in V3.0. See Pydantic V2 Migration Guide at https://errors.pydantic.dev/2.8/migration/\n",
            "  warnings.warn(\n"
          ]
        },
        {
          "name": "stdout",
          "output_type": "stream",
          "text": [
            "INFO:httpx:HTTP Request: POST https://api.openai.com/v1/embeddings \"HTTP/1.1 200 OK\"\n",
            "HTTP Request: POST https://api.openai.com/v1/embeddings \"HTTP/1.1 200 OK\"\n",
            "INFO:httpx:HTTP Request: GET https://a0dlgmcaspopjrn2mtx4ha.c0.us-east1.gcp.weaviate.cloud/v1/schema/IndustrySource_Misc_62_Healthcare_and_Social_Assistance_in_the_US_Industry_Report \"HTTP/1.1 200 OK\"\n",
            "HTTP Request: GET https://a0dlgmcaspopjrn2mtx4ha.c0.us-east1.gcp.weaviate.cloud/v1/schema/IndustrySource_Misc_62_Healthcare_and_Social_Assistance_in_the_US_Industry_Report \"HTTP/1.1 200 OK\"\n",
            "INFO:httpx:HTTP Request: GET https://a0dlgmcaspopjrn2mtx4ha.c0.us-east1.gcp.weaviate.cloud/v1/schema/IndustrySource_Misc_62_Healthcare_and_Social_Assistance_in_the_US_Industry_Report \"HTTP/1.1 200 OK\"\n",
            "HTTP Request: GET https://a0dlgmcaspopjrn2mtx4ha.c0.us-east1.gcp.weaviate.cloud/v1/schema/IndustrySource_Misc_62_Healthcare_and_Social_Assistance_in_the_US_Industry_Report \"HTTP/1.1 200 OK\"\n",
            "INFO:httpx:HTTP Request: POST https://api.openai.com/v1/chat/completions \"HTTP/1.1 200 OK\"\n",
            "HTTP Request: POST https://api.openai.com/v1/chat/completions \"HTTP/1.1 200 OK\"\n"
          ]
        }
      ],
      "source": [
        "# set Logging to DEBUG for more detailed outputs\n",
        "query_engine = vector_index.as_query_engine()\n",
        "response = query_engine.query(\"Tell me about Oil States International Inc. to acquire GEODynamics Inc.\")\n",
        "response = query_engine.query(query2)"
      ]
    },
    {
      "cell_type": "code",
      "execution_count": 19,
      "metadata": {
        "colab": {
          "base_uri": "https://localhost:8080/",
          "height": 98
        },
        "id": "O3XwrbeNprhP",
        "outputId": "429e78ec-d020-4096-cbc3-1051ff39a8c7"
      },
      "outputs": [
        {
          "data": {
            "text/markdown": [
              "Oil States International Inc. is a company that has agreed to acquire GEODynamics Inc."
            ],
            "text/plain": [
              "<IPython.core.display.Markdown object>"
            ]
          },
          "metadata": {},
          "output_type": "display_data"
        }
      ],
      "source": [
        "display(Markdown(f\"{response}\"))"
      ]
    },
    {
      "cell_type": "code",
      "execution_count": 20,
      "metadata": {
        "id": "dfRXz53jr0SH"
      },
      "outputs": [],
      "source": [
        "#########################################################################################################################################################"
      ]
    },
    {
      "cell_type": "code",
      "execution_count": 21,
      "metadata": {
        "id": "kbN-rN7lsEy0"
      },
      "outputs": [],
      "source": [
        "# weaviate vector database & llamaparse Integrated"
      ]
    },
    {
      "cell_type": "code",
      "execution_count": 22,
      "metadata": {
        "id": "KtRzVlgesBiO"
      },
      "outputs": [],
      "source": [
        "from llama_index.core.node_parser import SentenceSplitter\n",
        "\n",
        "######## SentenceSplitter ########\n",
        "splitter = SentenceSplitter(chunk_size=1024)\n",
        "nodes = splitter.get_nodes_from_documents(documents)"
      ]
    },
    {
      "cell_type": "code",
      "execution_count": 23,
      "metadata": {
        "id": "hVThHH30qRoS"
      },
      "outputs": [
        {
          "name": "stdout",
          "output_type": "stream",
          "text": [
            "INFO:httpx:HTTP Request: GET https://a0dlgmcaspopjrn2mtx4ha.c0.us-east1.gcp.weaviate.cloud/v1/schema/IndustrySource_Misc_62_Healthcare_and_Social_Assistance_in_the_US_Industry_Report \"HTTP/1.1 200 OK\"\n",
            "HTTP Request: GET https://a0dlgmcaspopjrn2mtx4ha.c0.us-east1.gcp.weaviate.cloud/v1/schema/IndustrySource_Misc_62_Healthcare_and_Social_Assistance_in_the_US_Industry_Report \"HTTP/1.1 200 OK\"\n"
          ]
        }
      ],
      "source": [
        "vector_store = WeaviateVectorStore(\n",
        "    weaviate_client=client, index_name=INDEX_NAME\n",
        ")"
      ]
    },
    {
      "cell_type": "code",
      "execution_count": 24,
      "metadata": {
        "id": "esw4x1faqmmS"
      },
      "outputs": [
        {
          "name": "stdout",
          "output_type": "stream",
          "text": [
            "INFO:httpx:HTTP Request: POST https://api.openai.com/v1/embeddings \"HTTP/1.1 200 OK\"\n",
            "HTTP Request: POST https://api.openai.com/v1/embeddings \"HTTP/1.1 200 OK\"\n"
          ]
        }
      ],
      "source": [
        "######## Vector Index ########\n",
        "from llama_index.core import VectorStoreIndex\n",
        "vector_index = VectorStoreIndex(nodes, vector_store = vector_store)"
      ]
    },
    {
      "cell_type": "code",
      "execution_count": 25,
      "metadata": {
        "id": "LMoIlj0qq-Wn"
      },
      "outputs": [],
      "source": [
        "######## GPT-4o to Chat ########\n",
        "from llama_index.llms.openai import OpenAI\n",
        "\n",
        "llm_gpt4o = OpenAI(model=\"gpt-4o-mini\", api_key = OPENAI_API_KEY)\n",
        "query_engine_gpt4o = vector_index.as_query_engine(similarity_top_k=3, llm=llm_gpt4o)"
      ]
    },
    {
      "cell_type": "code",
      "execution_count": 26,
      "metadata": {
        "colab": {
          "base_uri": "https://localhost:8080/",
          "height": 105
        },
        "id": "CDTQWmdnraaV",
        "outputId": "06aa73cd-9ff3-435a-b61e-ec0dfd5a8c95"
      },
      "outputs": [
        {
          "name": "stdout",
          "output_type": "stream",
          "text": [
            "INFO:httpx:HTTP Request: POST https://api.openai.com/v1/embeddings \"HTTP/1.1 200 OK\"\n",
            "HTTP Request: POST https://api.openai.com/v1/embeddings \"HTTP/1.1 200 OK\"\n",
            "INFO:httpx:HTTP Request: POST https://api.openai.com/v1/chat/completions \"HTTP/1.1 200 OK\"\n",
            "HTTP Request: POST https://api.openai.com/v1/chat/completions \"HTTP/1.1 200 OK\"\n",
            "GPT-4o-mini:\n"
          ]
        },
        {
          "data": {
            "text/plain": [
              "'The Healthcare and Social Assistance sector in the United States includes enterprises such as hospitals, ambulatory service providers, nursing and residential care facilities, as well as social assistance services like counseling, social work, family and welfare services, and emergency relief services.'"
            ]
          },
          "execution_count": 26,
          "metadata": {},
          "output_type": "execute_result"
        }
      ],
      "source": [
        "# query1 = \"What's driving current industry performance?\"\n",
        "resp = query_engine_gpt4o.query(query1)\n",
        "print(\"GPT-4o-mini:\")\n",
        "str(resp)"
      ]
    },
    {
      "cell_type": "code",
      "execution_count": 27,
      "metadata": {
        "colab": {
          "base_uri": "https://localhost:8080/",
          "height": 105
        },
        "id": "F3QWdVjYrfNy",
        "outputId": "c5c21de4-da62-42a5-c716-0ee94e24f8b9"
      },
      "outputs": [
        {
          "name": "stdout",
          "output_type": "stream",
          "text": [
            "INFO:httpx:HTTP Request: POST https://api.openai.com/v1/embeddings \"HTTP/1.1 200 OK\"\n",
            "HTTP Request: POST https://api.openai.com/v1/embeddings \"HTTP/1.1 200 OK\"\n",
            "INFO:httpx:HTTP Request: POST https://api.openai.com/v1/chat/completions \"HTTP/1.1 200 OK\"\n",
            "HTTP Request: POST https://api.openai.com/v1/chat/completions \"HTTP/1.1 200 OK\"\n",
            "GPT-4o-mini:\n"
          ]
        },
        {
          "data": {
            "text/plain": [
              "'Telemedicine is defined as an application of clinical medicine where medical information is transferred through interactive audiovisual media for the purpose of consulting and conducting remote medical procedures or examinations.'"
            ]
          },
          "execution_count": 27,
          "metadata": {},
          "output_type": "execute_result"
        }
      ],
      "source": [
        "# query1 = \"Tell me about Oil States International Inc. to acquire GEODynamics Inc.\"\n",
        "resp = query_engine_gpt4o.query(query2)\n",
        "print(\"GPT-4o-mini:\")\n",
        "str(resp)"
      ]
    },
    {
      "cell_type": "code",
      "execution_count": null,
      "metadata": {},
      "outputs": [],
      "source": []
    }
  ],
  "metadata": {
    "colab": {
      "provenance": []
    },
    "kernelspec": {
      "display_name": "Python 3",
      "name": "python3"
    },
    "language_info": {
      "codemirror_mode": {
        "name": "ipython",
        "version": 3
      },
      "file_extension": ".py",
      "mimetype": "text/x-python",
      "name": "python",
      "nbconvert_exporter": "python",
      "pygments_lexer": "ipython3",
      "version": "3.11.9"
    }
  },
  "nbformat": 4,
  "nbformat_minor": 0
}
