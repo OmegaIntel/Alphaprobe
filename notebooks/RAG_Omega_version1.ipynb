{
  "cells": [
    {
      "cell_type": "code",
      "execution_count": 1,
      "metadata": {
        "id": "wTxbciOYVo7V"
      },
      "outputs": [],
      "source": [
        "# !pip install llama-index llama-index-core llama-parse openai llama_index.embeddings.huggingface -q\n",
        "# !pip install llama-index-llms-anthropic -q"
      ]
    },
    {
      "cell_type": "code",
      "execution_count": 2,
      "metadata": {
        "id": "6gUzpLaeVpl5"
      },
      "outputs": [],
      "source": [
        "  # llama-parse is async-first, running the async code in a notebook requires the use of nest_asyncio\n",
        "import nest_asyncio\n",
        "nest_asyncio.apply()\n",
        "\n",
        "import os\n",
        "from dotenv import load_dotenv\n",
        "load_dotenv()\n",
        "\n",
        "# API access to llama-cloud\n",
        "os.environ[\"LLAMA_CLOUD_API_KEY\"] = \"llx-7K1IbMcLbyb8TDvMsIx3Brr7mD4K8ZnLaFMjbEq8S1uONYZp\"\n",
        "# Using OpenAI API for embeddings/llms\n",
        "os.environ[\"OPENAI_API_KEY\"] = os.getenv('OPENAI_APIKEY')\n",
        "OPENAI_API_KEY = os.environ[\"OPENAI_API_KEY\"]"
      ]
    },
    {
      "cell_type": "code",
      "execution_count": 16,
      "metadata": {
        "colab": {
          "base_uri": "https://localhost:8080/"
        },
        "id": "UjWQnAYnVwhF",
        "outputId": "9907e56f-9e80-404e-b2d2-36f3ab269b24"
      },
      "outputs": [
        {
          "name": "stdout",
          "output_type": "stream",
          "text": [
            "INFO:httpx:HTTP Request: POST https://api.cloud.llamaindex.ai/api/parsing/upload \"HTTP/1.1 200 OK\"\n",
            "HTTP Request: POST https://api.cloud.llamaindex.ai/api/parsing/upload \"HTTP/1.1 200 OK\"\n",
            "Started parsing the file under job_id fc3fe1a8-cfdc-408e-be2a-25e6d9ac0b9f\n",
            "INFO:httpx:HTTP Request: GET https://api.cloud.llamaindex.ai/api/parsing/job/fc3fe1a8-cfdc-408e-be2a-25e6d9ac0b9f \"HTTP/1.1 200 OK\"\n",
            "HTTP Request: GET https://api.cloud.llamaindex.ai/api/parsing/job/fc3fe1a8-cfdc-408e-be2a-25e6d9ac0b9f \"HTTP/1.1 200 OK\"\n",
            "INFO:httpx:HTTP Request: GET https://api.cloud.llamaindex.ai/api/parsing/job/fc3fe1a8-cfdc-408e-be2a-25e6d9ac0b9f \"HTTP/1.1 200 OK\"\n",
            "HTTP Request: GET https://api.cloud.llamaindex.ai/api/parsing/job/fc3fe1a8-cfdc-408e-be2a-25e6d9ac0b9f \"HTTP/1.1 200 OK\"\n",
            "INFO:httpx:HTTP Request: GET https://api.cloud.llamaindex.ai/api/parsing/job/fc3fe1a8-cfdc-408e-be2a-25e6d9ac0b9f \"HTTP/1.1 200 OK\"\n",
            "HTTP Request: GET https://api.cloud.llamaindex.ai/api/parsing/job/fc3fe1a8-cfdc-408e-be2a-25e6d9ac0b9f \"HTTP/1.1 200 OK\"\n",
            "INFO:httpx:HTTP Request: GET https://api.cloud.llamaindex.ai/api/parsing/job/fc3fe1a8-cfdc-408e-be2a-25e6d9ac0b9f \"HTTP/1.1 200 OK\"\n",
            "HTTP Request: GET https://api.cloud.llamaindex.ai/api/parsing/job/fc3fe1a8-cfdc-408e-be2a-25e6d9ac0b9f \"HTTP/1.1 200 OK\"\n",
            "INFO:httpx:HTTP Request: GET https://api.cloud.llamaindex.ai/api/parsing/job/fc3fe1a8-cfdc-408e-be2a-25e6d9ac0b9f \"HTTP/1.1 200 OK\"\n",
            "HTTP Request: GET https://api.cloud.llamaindex.ai/api/parsing/job/fc3fe1a8-cfdc-408e-be2a-25e6d9ac0b9f \"HTTP/1.1 200 OK\"\n",
            "INFO:httpx:HTTP Request: GET https://api.cloud.llamaindex.ai/api/parsing/job/fc3fe1a8-cfdc-408e-be2a-25e6d9ac0b9f/result/markdown \"HTTP/1.1 200 OK\"\n",
            "HTTP Request: GET https://api.cloud.llamaindex.ai/api/parsing/job/fc3fe1a8-cfdc-408e-be2a-25e6d9ac0b9f/result/markdown \"HTTP/1.1 200 OK\"\n"
          ]
        },
        {
          "data": {
            "text/plain": [
              "'IndustrySource_Misc_32592_Explosives_Manufacturing_in_the_US_Industry_Report'"
            ]
          },
          "execution_count": 16,
          "metadata": {},
          "output_type": "execute_result"
        }
      ],
      "source": [
        "from llama_parse import LlamaParse\n",
        "\n",
        "location = 'IndustrySource/Misc/32592 Explosives Manufacturing in the US Industry Report.pdf'\n",
        "documents = LlamaParse(result_type=\"markdown\").load_data(location)"
      ]
    },
    {
      "cell_type": "code",
      "execution_count": 17,
      "metadata": {},
      "outputs": [
        {
          "data": {
            "text/plain": [
              "'IndustrySource_Misc_32592_Explosives_Manufacturing_in_the_US_Industry_Report'"
            ]
          },
          "execution_count": 17,
          "metadata": {},
          "output_type": "execute_result"
        }
      ],
      "source": [
        "INDEX_NAME = location.replace('/', '_').replace(' ', '_').split('.')[0]\n",
        "INDEX_NAME"
      ]
    },
    {
      "cell_type": "code",
      "execution_count": 18,
      "metadata": {
        "colab": {
          "base_uri": "https://localhost:8080/"
        },
        "id": "SvjPvIIAWE-U",
        "outputId": "e6dac4b7-9238-4af0-9383-84d9cc7a521f"
      },
      "outputs": [
        {
          "name": "stdout",
          "output_type": "stream",
          "text": [
            "INFO:sentence_transformers.SentenceTransformer:Load pretrained SentenceTransformer: BAAI/bge-small-en-v1.5\n",
            "Load pretrained SentenceTransformer: BAAI/bge-small-en-v1.5\n"
          ]
        },
        {
          "name": "stdout",
          "output_type": "stream",
          "text": [
            "INFO:sentence_transformers.SentenceTransformer:2 prompts are loaded, with the keys: ['query', 'text']\n",
            "2 prompts are loaded, with the keys: ['query', 'text']\n"
          ]
        },
        {
          "name": "stderr",
          "output_type": "stream",
          "text": [
            "Batches: 100%|██████████| 1/1 [00:00<00:00,  2.47it/s]\n",
            "Batches: 100%|██████████| 1/1 [00:00<00:00,  5.07it/s]\n",
            "Batches: 100%|██████████| 1/1 [00:00<00:00,  5.21it/s]\n",
            "Batches: 100%|██████████| 1/1 [00:00<00:00,  7.45it/s]\n",
            "Batches: 100%|██████████| 1/1 [00:00<00:00,  5.21it/s]\n",
            "Batches: 100%|██████████| 1/1 [00:00<00:00,  6.13it/s]\n",
            "Batches: 100%|██████████| 1/1 [00:00<00:00,  5.65it/s]\n",
            "Batches: 100%|██████████| 1/1 [00:00<00:00,  5.10it/s]\n",
            "Batches: 100%|██████████| 1/1 [00:00<00:00,  5.08it/s]\n",
            "Batches: 100%|██████████| 1/1 [00:00<00:00, 23.50it/s]\n",
            "/home/yakov/anaconda3/envs/probe/lib/python3.11/site-packages/pydantic/main.py:1059: PydanticDeprecatedSince20: The `__fields__` attribute is deprecated, use `model_fields` instead. Deprecated in Pydantic V2.0 to be removed in V3.0. See Pydantic V2 Migration Guide at https://errors.pydantic.dev/2.8/migration/\n",
            "  warnings.warn(\n"
          ]
        }
      ],
      "source": [
        "from llama_index.core.node_parser import SentenceSplitter\n",
        "\n",
        "######## SentenceSplitter ########\n",
        "splitter = SentenceSplitter(chunk_size=1024)\n",
        "nodes = splitter.get_nodes_from_documents(documents)\n",
        "\n",
        "######## Vector Index ########\n",
        "from llama_index.core import VectorStoreIndex\n",
        "\n",
        "embed_model = \"local:BAAI/bge-small-en-v1.5\"\n",
        "vector_index = VectorStoreIndex(nodes, embed_model = embed_model)\n",
        "\n",
        "######## GPT-4o to Chat ########\n",
        "from llama_index.llms.openai import OpenAI\n",
        "\n",
        "llm_gpt4o = OpenAI(model=\"gpt-4o-mini\", api_key = OPENAI_API_KEY)\n",
        "query_engine_gpt4o = vector_index.as_query_engine(similarity_top_k=3, llm=llm_gpt4o)"
      ]
    },
    {
      "cell_type": "code",
      "execution_count": 19,
      "metadata": {
        "colab": {
          "base_uri": "https://localhost:8080/"
        },
        "id": "crtECCEmWN3A",
        "outputId": "03c21d74-97c9-4209-c199-091e79292216"
      },
      "outputs": [
        {
          "name": "stderr",
          "output_type": "stream",
          "text": [
            "Batches: 100%|██████████| 1/1 [00:00<00:00, 43.96it/s]\n"
          ]
        },
        {
          "name": "stdout",
          "output_type": "stream",
          "text": [
            "INFO:httpx:HTTP Request: POST https://api.openai.com/v1/chat/completions \"HTTP/1.1 200 OK\"\n",
            "HTTP Request: POST https://api.openai.com/v1/chat/completions \"HTTP/1.1 200 OK\"\n",
            "GPT-4o-mini:\n",
            "Current industry performance is being driven by several key factors. Rising interest rates have limited demand from the construction sector, which is a significant source of revenue for the industry, particularly in residential construction. Additionally, the Russian invasion of Ukraine has disrupted supply chains, particularly for crude oil products, leading to increased costs for manufacturers. The trade market is also facing severe contractions, with a strong US dollar making imports more attractive than domestic products. These elements combined are impacting the overall performance of the industry.\n"
          ]
        }
      ],
      "source": [
        "query1 = \"What's driving current industry performance?\"\n",
        "resp = query_engine_gpt4o.query(query1)\n",
        "print(\"GPT-4o-mini:\")\n",
        "print(str(resp))"
      ]
    },
    {
      "cell_type": "code",
      "execution_count": 20,
      "metadata": {
        "colab": {
          "base_uri": "https://localhost:8080/",
          "height": 88
        },
        "id": "7rH4I3GQX3eK",
        "outputId": "f8237631-8179-4c07-8255-cac2786f0053"
      },
      "outputs": [
        {
          "data": {
            "text/plain": [
              "'Current industry performance is being driven by several key factors. Rising interest rates have limited demand from the construction sector, which is a significant source of revenue for the industry, particularly in residential construction. Additionally, the Russian invasion of Ukraine has disrupted supply chains, particularly for crude oil products, leading to increased costs for manufacturers. The trade market is also facing severe contractions, with a strong US dollar making imports more attractive than domestic products. These elements combined are impacting the overall performance of the industry.'"
            ]
          },
          "execution_count": 20,
          "metadata": {},
          "output_type": "execute_result"
        }
      ],
      "source": [
        "str(resp)"
      ]
    },
    {
      "cell_type": "code",
      "execution_count": 21,
      "metadata": {
        "colab": {
          "base_uri": "https://localhost:8080/"
        },
        "id": "wfezn2ndWgiJ",
        "outputId": "0bcabb87-60fd-48b1-cdc1-978ae9ba26a7"
      },
      "outputs": [
        {
          "name": "stdout",
          "output_type": "stream",
          "text": [
            "# IBISWorld | Explosives Manufacturing in the US\n",
            "\n",
            "# Mar 2024\n",
            "\n",
            "# Performance\n",
            "\n",
            "Track historical, current and forward-looking trends in revenue, profit and other performance indicators that make or break an industry.\n"
          ]
        }
      ],
      "source": [
        "print(nodes[12].text)"
      ]
    },
    {
      "cell_type": "code",
      "execution_count": 22,
      "metadata": {
        "colab": {
          "base_uri": "https://localhost:8080/",
          "height": 105
        },
        "id": "xAxnL6ZdZ_7o",
        "outputId": "c17452c5-241e-4b44-fb72-9f9e1807044b"
      },
      "outputs": [
        {
          "name": "stderr",
          "output_type": "stream",
          "text": [
            "Batches: 100%|██████████| 1/1 [00:00<00:00, 44.70it/s]\n"
          ]
        },
        {
          "name": "stdout",
          "output_type": "stream",
          "text": [
            "INFO:httpx:HTTP Request: POST https://api.openai.com/v1/chat/completions \"HTTP/1.1 200 OK\"\n",
            "HTTP Request: POST https://api.openai.com/v1/chat/completions \"HTTP/1.1 200 OK\"\n",
            "GPT-4o-mini:\n"
          ]
        },
        {
          "data": {
            "text/plain": [
              "\"Oil States International Inc. completed the acquisition of GEODynamics Inc. on January 12, 2018, in a deal valued at $615 million. This acquisition allowed Oil States to gain full ownership of GEODynamics, with plans to leverage its services to expand its influence and customer base in the technology sector. Additionally, the acquisition aimed to enhance Oil States' own offerings in the oil industry by utilizing GEODynamics' expertise in oil and gas solutions. Despite the acquisition, GEODynamics continues to operate as a separate entity under its own name.\""
            ]
          },
          "execution_count": 22,
          "metadata": {},
          "output_type": "execute_result"
        }
      ],
      "source": [
        "query1 = \"Tell me about Oil States International Inc. to acquire GEODynamics Inc.\"\n",
        "resp = query_engine_gpt4o.query(query1)\n",
        "print(\"GPT-4o-mini:\")\n",
        "str(resp)"
      ]
    },
    {
      "cell_type": "code",
      "execution_count": 23,
      "metadata": {
        "id": "ed60Yq7mr6G9"
      },
      "outputs": [],
      "source": [
        "#####################################################################################################################################################"
      ]
    },
    {
      "cell_type": "code",
      "execution_count": 24,
      "metadata": {
        "id": "8-EGNPvTYPNV"
      },
      "outputs": [],
      "source": [
        "# WEAVIATE Vector Database -RAG"
      ]
    },
    {
      "cell_type": "code",
      "execution_count": 25,
      "metadata": {
        "colab": {
          "base_uri": "https://localhost:8080/"
        },
        "id": "Oo1C9U1apM6V",
        "outputId": "a6cefb2d-f270-4bed-a82c-4de2fc8d88af"
      },
      "outputs": [
        {
          "name": "stderr",
          "output_type": "stream",
          "text": [
            "huggingface/tokenizers: The current process just got forked, after parallelism has already been used. Disabling parallelism to avoid deadlocks...\n",
            "To disable this warning, you can either:\n",
            "\t- Avoid using `tokenizers` before the fork if possible\n",
            "\t- Explicitly set the environment variable TOKENIZERS_PARALLELISM=(true | false)\n"
          ]
        },
        {
          "name": "stdout",
          "output_type": "stream",
          "text": [
            "Requirement already satisfied: llama-index-vector-stores-weaviate in /home/yakov/anaconda3/envs/probe/lib/python3.11/site-packages (1.1.1)\n",
            "Requirement already satisfied: llama-index-core<0.12.0,>=0.11.0 in /home/yakov/anaconda3/envs/probe/lib/python3.11/site-packages (from llama-index-vector-stores-weaviate) (0.11.15)\n",
            "Requirement already satisfied: weaviate-client<5.0.0,>=4.5.7 in /home/yakov/anaconda3/envs/probe/lib/python3.11/site-packages (from llama-index-vector-stores-weaviate) (4.6.7)\n",
            "Requirement already satisfied: PyYAML>=6.0.1 in /home/yakov/anaconda3/envs/probe/lib/python3.11/site-packages (from llama-index-core<0.12.0,>=0.11.0->llama-index-vector-stores-weaviate) (6.0.2)\n",
            "Requirement already satisfied: SQLAlchemy>=1.4.49 in /home/yakov/anaconda3/envs/probe/lib/python3.11/site-packages (from SQLAlchemy[asyncio]>=1.4.49->llama-index-core<0.12.0,>=0.11.0->llama-index-vector-stores-weaviate) (2.0.32)\n",
            "Requirement already satisfied: aiohttp<4.0.0,>=3.8.6 in /home/yakov/anaconda3/envs/probe/lib/python3.11/site-packages (from llama-index-core<0.12.0,>=0.11.0->llama-index-vector-stores-weaviate) (3.10.5)\n",
            "Requirement already satisfied: dataclasses-json in /home/yakov/anaconda3/envs/probe/lib/python3.11/site-packages (from llama-index-core<0.12.0,>=0.11.0->llama-index-vector-stores-weaviate) (0.6.7)\n",
            "Requirement already satisfied: deprecated>=1.2.9.3 in /home/yakov/anaconda3/envs/probe/lib/python3.11/site-packages (from llama-index-core<0.12.0,>=0.11.0->llama-index-vector-stores-weaviate) (1.2.14)\n",
            "Requirement already satisfied: dirtyjson<2.0.0,>=1.0.8 in /home/yakov/anaconda3/envs/probe/lib/python3.11/site-packages (from llama-index-core<0.12.0,>=0.11.0->llama-index-vector-stores-weaviate) (1.0.8)\n",
            "Requirement already satisfied: fsspec>=2023.5.0 in /home/yakov/anaconda3/envs/probe/lib/python3.11/site-packages (from llama-index-core<0.12.0,>=0.11.0->llama-index-vector-stores-weaviate) (2024.6.1)\n",
            "Requirement already satisfied: httpx in /home/yakov/anaconda3/envs/probe/lib/python3.11/site-packages (from llama-index-core<0.12.0,>=0.11.0->llama-index-vector-stores-weaviate) (0.27.0)\n",
            "Requirement already satisfied: nest-asyncio<2.0.0,>=1.5.8 in /home/yakov/anaconda3/envs/probe/lib/python3.11/site-packages (from llama-index-core<0.12.0,>=0.11.0->llama-index-vector-stores-weaviate) (1.6.0)\n",
            "Requirement already satisfied: networkx>=3.0 in /home/yakov/anaconda3/envs/probe/lib/python3.11/site-packages (from llama-index-core<0.12.0,>=0.11.0->llama-index-vector-stores-weaviate) (3.3)\n",
            "Requirement already satisfied: nltk>3.8.1 in /home/yakov/anaconda3/envs/probe/lib/python3.11/site-packages (from llama-index-core<0.12.0,>=0.11.0->llama-index-vector-stores-weaviate) (3.9.1)\n",
            "Requirement already satisfied: numpy<2.0.0 in /home/yakov/anaconda3/envs/probe/lib/python3.11/site-packages (from llama-index-core<0.12.0,>=0.11.0->llama-index-vector-stores-weaviate) (1.26.4)\n",
            "Requirement already satisfied: pillow>=9.0.0 in /home/yakov/anaconda3/envs/probe/lib/python3.11/site-packages (from llama-index-core<0.12.0,>=0.11.0->llama-index-vector-stores-weaviate) (10.4.0)\n",
            "Requirement already satisfied: pydantic<3.0.0,>=2.7.0 in /home/yakov/anaconda3/envs/probe/lib/python3.11/site-packages (from llama-index-core<0.12.0,>=0.11.0->llama-index-vector-stores-weaviate) (2.8.2)\n",
            "Requirement already satisfied: requests>=2.31.0 in /home/yakov/anaconda3/envs/probe/lib/python3.11/site-packages (from llama-index-core<0.12.0,>=0.11.0->llama-index-vector-stores-weaviate) (2.32.3)\n",
            "Requirement already satisfied: tenacity!=8.4.0,<9.0.0,>=8.2.0 in /home/yakov/anaconda3/envs/probe/lib/python3.11/site-packages (from llama-index-core<0.12.0,>=0.11.0->llama-index-vector-stores-weaviate) (8.3.0)\n",
            "Requirement already satisfied: tiktoken>=0.3.3 in /home/yakov/anaconda3/envs/probe/lib/python3.11/site-packages (from llama-index-core<0.12.0,>=0.11.0->llama-index-vector-stores-weaviate) (0.7.0)\n",
            "Requirement already satisfied: tqdm<5.0.0,>=4.66.1 in /home/yakov/anaconda3/envs/probe/lib/python3.11/site-packages (from llama-index-core<0.12.0,>=0.11.0->llama-index-vector-stores-weaviate) (4.66.4)\n",
            "Requirement already satisfied: typing-extensions>=4.5.0 in /home/yakov/anaconda3/envs/probe/lib/python3.11/site-packages (from llama-index-core<0.12.0,>=0.11.0->llama-index-vector-stores-weaviate) (4.12.2)\n",
            "Requirement already satisfied: typing-inspect>=0.8.0 in /home/yakov/anaconda3/envs/probe/lib/python3.11/site-packages (from llama-index-core<0.12.0,>=0.11.0->llama-index-vector-stores-weaviate) (0.9.0)\n",
            "Requirement already satisfied: wrapt in /home/yakov/anaconda3/envs/probe/lib/python3.11/site-packages (from llama-index-core<0.12.0,>=0.11.0->llama-index-vector-stores-weaviate) (1.16.0)\n",
            "Requirement already satisfied: validators==0.33.0 in /home/yakov/anaconda3/envs/probe/lib/python3.11/site-packages (from weaviate-client<5.0.0,>=4.5.7->llama-index-vector-stores-weaviate) (0.33.0)\n",
            "Requirement already satisfied: authlib<2.0.0,>=1.2.1 in /home/yakov/anaconda3/envs/probe/lib/python3.11/site-packages (from weaviate-client<5.0.0,>=4.5.7->llama-index-vector-stores-weaviate) (1.3.1)\n",
            "Requirement already satisfied: grpcio<2.0.0,>=1.57.0 in /home/yakov/anaconda3/envs/probe/lib/python3.11/site-packages (from weaviate-client<5.0.0,>=4.5.7->llama-index-vector-stores-weaviate) (1.66.1)\n",
            "Requirement already satisfied: grpcio-tools<2.0.0,>=1.57.0 in /home/yakov/anaconda3/envs/probe/lib/python3.11/site-packages (from weaviate-client<5.0.0,>=4.5.7->llama-index-vector-stores-weaviate) (1.65.5)\n",
            "Requirement already satisfied: grpcio-health-checking<2.0.0,>=1.57.0 in /home/yakov/anaconda3/envs/probe/lib/python3.11/site-packages (from weaviate-client<5.0.0,>=4.5.7->llama-index-vector-stores-weaviate) (1.65.5)\n",
            "Requirement already satisfied: aiohappyeyeballs>=2.3.0 in /home/yakov/anaconda3/envs/probe/lib/python3.11/site-packages (from aiohttp<4.0.0,>=3.8.6->llama-index-core<0.12.0,>=0.11.0->llama-index-vector-stores-weaviate) (2.4.0)\n",
            "Requirement already satisfied: aiosignal>=1.1.2 in /home/yakov/anaconda3/envs/probe/lib/python3.11/site-packages (from aiohttp<4.0.0,>=3.8.6->llama-index-core<0.12.0,>=0.11.0->llama-index-vector-stores-weaviate) (1.3.1)\n",
            "Requirement already satisfied: attrs>=17.3.0 in /home/yakov/anaconda3/envs/probe/lib/python3.11/site-packages (from aiohttp<4.0.0,>=3.8.6->llama-index-core<0.12.0,>=0.11.0->llama-index-vector-stores-weaviate) (24.2.0)\n",
            "Requirement already satisfied: frozenlist>=1.1.1 in /home/yakov/anaconda3/envs/probe/lib/python3.11/site-packages (from aiohttp<4.0.0,>=3.8.6->llama-index-core<0.12.0,>=0.11.0->llama-index-vector-stores-weaviate) (1.4.1)\n",
            "Requirement already satisfied: multidict<7.0,>=4.5 in /home/yakov/anaconda3/envs/probe/lib/python3.11/site-packages (from aiohttp<4.0.0,>=3.8.6->llama-index-core<0.12.0,>=0.11.0->llama-index-vector-stores-weaviate) (6.0.5)\n",
            "Requirement already satisfied: yarl<2.0,>=1.0 in /home/yakov/anaconda3/envs/probe/lib/python3.11/site-packages (from aiohttp<4.0.0,>=3.8.6->llama-index-core<0.12.0,>=0.11.0->llama-index-vector-stores-weaviate) (1.9.4)\n",
            "Requirement already satisfied: cryptography in /home/yakov/anaconda3/envs/probe/lib/python3.11/site-packages (from authlib<2.0.0,>=1.2.1->weaviate-client<5.0.0,>=4.5.7->llama-index-vector-stores-weaviate) (43.0.0)\n",
            "Requirement already satisfied: protobuf<6.0dev,>=5.26.1 in /home/yakov/anaconda3/envs/probe/lib/python3.11/site-packages (from grpcio-health-checking<2.0.0,>=1.57.0->weaviate-client<5.0.0,>=4.5.7->llama-index-vector-stores-weaviate) (5.27.3)\n",
            "Requirement already satisfied: setuptools in /home/yakov/anaconda3/envs/probe/lib/python3.11/site-packages (from grpcio-tools<2.0.0,>=1.57.0->weaviate-client<5.0.0,>=4.5.7->llama-index-vector-stores-weaviate) (72.1.0)\n",
            "Requirement already satisfied: anyio in /home/yakov/anaconda3/envs/probe/lib/python3.11/site-packages (from httpx->llama-index-core<0.12.0,>=0.11.0->llama-index-vector-stores-weaviate) (4.4.0)\n",
            "Requirement already satisfied: certifi in /home/yakov/anaconda3/envs/probe/lib/python3.11/site-packages (from httpx->llama-index-core<0.12.0,>=0.11.0->llama-index-vector-stores-weaviate) (2024.7.4)\n",
            "Requirement already satisfied: httpcore==1.* in /home/yakov/anaconda3/envs/probe/lib/python3.11/site-packages (from httpx->llama-index-core<0.12.0,>=0.11.0->llama-index-vector-stores-weaviate) (1.0.5)\n",
            "Requirement already satisfied: idna in /home/yakov/anaconda3/envs/probe/lib/python3.11/site-packages (from httpx->llama-index-core<0.12.0,>=0.11.0->llama-index-vector-stores-weaviate) (3.7)\n",
            "Requirement already satisfied: sniffio in /home/yakov/anaconda3/envs/probe/lib/python3.11/site-packages (from httpx->llama-index-core<0.12.0,>=0.11.0->llama-index-vector-stores-weaviate) (1.3.1)\n",
            "Requirement already satisfied: h11<0.15,>=0.13 in /home/yakov/anaconda3/envs/probe/lib/python3.11/site-packages (from httpcore==1.*->httpx->llama-index-core<0.12.0,>=0.11.0->llama-index-vector-stores-weaviate) (0.14.0)\n",
            "Requirement already satisfied: click in /home/yakov/anaconda3/envs/probe/lib/python3.11/site-packages (from nltk>3.8.1->llama-index-core<0.12.0,>=0.11.0->llama-index-vector-stores-weaviate) (8.1.7)\n",
            "Requirement already satisfied: joblib in /home/yakov/anaconda3/envs/probe/lib/python3.11/site-packages (from nltk>3.8.1->llama-index-core<0.12.0,>=0.11.0->llama-index-vector-stores-weaviate) (1.4.2)\n",
            "Requirement already satisfied: regex>=2021.8.3 in /home/yakov/anaconda3/envs/probe/lib/python3.11/site-packages (from nltk>3.8.1->llama-index-core<0.12.0,>=0.11.0->llama-index-vector-stores-weaviate) (2024.7.24)\n",
            "Requirement already satisfied: annotated-types>=0.4.0 in /home/yakov/anaconda3/envs/probe/lib/python3.11/site-packages (from pydantic<3.0.0,>=2.7.0->llama-index-core<0.12.0,>=0.11.0->llama-index-vector-stores-weaviate) (0.7.0)\n",
            "Requirement already satisfied: pydantic-core==2.20.1 in /home/yakov/anaconda3/envs/probe/lib/python3.11/site-packages (from pydantic<3.0.0,>=2.7.0->llama-index-core<0.12.0,>=0.11.0->llama-index-vector-stores-weaviate) (2.20.1)\n",
            "Requirement already satisfied: charset-normalizer<4,>=2 in /home/yakov/anaconda3/envs/probe/lib/python3.11/site-packages (from requests>=2.31.0->llama-index-core<0.12.0,>=0.11.0->llama-index-vector-stores-weaviate) (3.3.2)\n",
            "Requirement already satisfied: urllib3<3,>=1.21.1 in /home/yakov/anaconda3/envs/probe/lib/python3.11/site-packages (from requests>=2.31.0->llama-index-core<0.12.0,>=0.11.0->llama-index-vector-stores-weaviate) (1.26.20)\n",
            "Requirement already satisfied: greenlet!=0.4.17 in /home/yakov/anaconda3/envs/probe/lib/python3.11/site-packages (from SQLAlchemy>=1.4.49->SQLAlchemy[asyncio]>=1.4.49->llama-index-core<0.12.0,>=0.11.0->llama-index-vector-stores-weaviate) (3.0.3)\n",
            "Requirement already satisfied: mypy-extensions>=0.3.0 in /home/yakov/anaconda3/envs/probe/lib/python3.11/site-packages (from typing-inspect>=0.8.0->llama-index-core<0.12.0,>=0.11.0->llama-index-vector-stores-weaviate) (1.0.0)\n",
            "Requirement already satisfied: marshmallow<4.0.0,>=3.18.0 in /home/yakov/anaconda3/envs/probe/lib/python3.11/site-packages (from dataclasses-json->llama-index-core<0.12.0,>=0.11.0->llama-index-vector-stores-weaviate) (3.22.0)\n",
            "Requirement already satisfied: packaging>=17.0 in /home/yakov/anaconda3/envs/probe/lib/python3.11/site-packages (from marshmallow<4.0.0,>=3.18.0->dataclasses-json->llama-index-core<0.12.0,>=0.11.0->llama-index-vector-stores-weaviate) (24.1)\n",
            "Requirement already satisfied: cffi>=1.12 in /home/yakov/anaconda3/envs/probe/lib/python3.11/site-packages (from cryptography->authlib<2.0.0,>=1.2.1->weaviate-client<5.0.0,>=4.5.7->llama-index-vector-stores-weaviate) (1.17.0)\n",
            "Requirement already satisfied: pycparser in /home/yakov/anaconda3/envs/probe/lib/python3.11/site-packages (from cffi>=1.12->cryptography->authlib<2.0.0,>=1.2.1->weaviate-client<5.0.0,>=4.5.7->llama-index-vector-stores-weaviate) (2.22)\n",
            "Note: you may need to restart the kernel to use updated packages.\n"
          ]
        }
      ],
      "source": [
        "%pip install llama-index-vector-stores-weaviate"
      ]
    },
    {
      "cell_type": "code",
      "execution_count": 26,
      "metadata": {
        "id": "QBh6czNapV8i"
      },
      "outputs": [],
      "source": [
        "from llama_index.core import VectorStoreIndex, SimpleDirectoryReader\n",
        "from llama_index.vector_stores.weaviate import WeaviateVectorStore\n",
        "from IPython.display import Markdown, display"
      ]
    },
    {
      "cell_type": "code",
      "execution_count": 27,
      "metadata": {
        "id": "e7BGP7XipZIO"
      },
      "outputs": [],
      "source": [
        "import logging\n",
        "import sys\n",
        "\n",
        "logging.basicConfig(stream=sys.stdout, level=logging.INFO)\n",
        "logging.getLogger().addHandler(logging.StreamHandler(stream=sys.stdout))"
      ]
    },
    {
      "cell_type": "code",
      "execution_count": 28,
      "metadata": {
        "id": "NfaNIvokpbKo"
      },
      "outputs": [
        {
          "name": "stdout",
          "output_type": "stream",
          "text": [
            "INFO:httpx:HTTP Request: GET https://a0dlgmcaspopjrn2mtx4ha.c0.us-east1.gcp.weaviate.cloud/v1/meta \"HTTP/1.1 200 OK\"\n",
            "HTTP Request: GET https://a0dlgmcaspopjrn2mtx4ha.c0.us-east1.gcp.weaviate.cloud/v1/meta \"HTTP/1.1 200 OK\"\n",
            "HTTP Request: GET https://a0dlgmcaspopjrn2mtx4ha.c0.us-east1.gcp.weaviate.cloud/v1/meta \"HTTP/1.1 200 OK\"\n",
            "INFO:httpx:HTTP Request: GET https://pypi.org/pypi/weaviate-client/json \"HTTP/1.1 200 OK\"\n",
            "HTTP Request: GET https://pypi.org/pypi/weaviate-client/json \"HTTP/1.1 200 OK\"\n",
            "HTTP Request: GET https://pypi.org/pypi/weaviate-client/json \"HTTP/1.1 200 OK\"\n"
          ]
        }
      ],
      "source": [
        "import weaviate\n",
        "# cloud\n",
        "cluster_url = \"https://a0dlgmcaspopjrn2mtx4ha.c0.us-east1.gcp.weaviate.cloud\"\n",
        "api_key = \"7ZfUCibywHnzM0WKMPx7YevuN79nUtS4KJgT\"\n",
        "\n",
        "client = weaviate.connect_to_wcs(\n",
        "    cluster_url=cluster_url,\n",
        "    auth_credentials=weaviate.auth.AuthApiKey(api_key),\n",
        ")"
      ]
    },
    {
      "cell_type": "code",
      "execution_count": 29,
      "metadata": {
        "id": "Mljx07r2pjtg"
      },
      "outputs": [
        {
          "name": "stdout",
          "output_type": "stream",
          "text": [
            "INFO:httpx:HTTP Request: GET https://a0dlgmcaspopjrn2mtx4ha.c0.us-east1.gcp.weaviate.cloud/v1/schema/IndustrySource_Misc_32592_Explosives_Manufacturing_in_the_US_Industry_Report \"HTTP/1.1 404 Not Found\"\n",
            "HTTP Request: GET https://a0dlgmcaspopjrn2mtx4ha.c0.us-east1.gcp.weaviate.cloud/v1/schema/IndustrySource_Misc_32592_Explosives_Manufacturing_in_the_US_Industry_Report \"HTTP/1.1 404 Not Found\"\n",
            "HTTP Request: GET https://a0dlgmcaspopjrn2mtx4ha.c0.us-east1.gcp.weaviate.cloud/v1/schema/IndustrySource_Misc_32592_Explosives_Manufacturing_in_the_US_Industry_Report \"HTTP/1.1 404 Not Found\"\n",
            "INFO:httpx:HTTP Request: POST https://a0dlgmcaspopjrn2mtx4ha.c0.us-east1.gcp.weaviate.cloud/v1/schema \"HTTP/1.1 200 OK\"\n",
            "HTTP Request: POST https://a0dlgmcaspopjrn2mtx4ha.c0.us-east1.gcp.weaviate.cloud/v1/schema \"HTTP/1.1 200 OK\"\n",
            "HTTP Request: POST https://a0dlgmcaspopjrn2mtx4ha.c0.us-east1.gcp.weaviate.cloud/v1/schema \"HTTP/1.1 200 OK\"\n",
            "INFO:httpx:HTTP Request: POST https://api.openai.com/v1/embeddings \"HTTP/1.1 200 OK\"\n",
            "HTTP Request: POST https://api.openai.com/v1/embeddings \"HTTP/1.1 200 OK\"\n",
            "HTTP Request: POST https://api.openai.com/v1/embeddings \"HTTP/1.1 200 OK\"\n",
            "INFO:httpx:HTTP Request: GET https://a0dlgmcaspopjrn2mtx4ha.c0.us-east1.gcp.weaviate.cloud/v1/schema \"HTTP/1.1 200 OK\"\n",
            "HTTP Request: GET https://a0dlgmcaspopjrn2mtx4ha.c0.us-east1.gcp.weaviate.cloud/v1/schema \"HTTP/1.1 200 OK\"\n",
            "HTTP Request: GET https://a0dlgmcaspopjrn2mtx4ha.c0.us-east1.gcp.weaviate.cloud/v1/schema \"HTTP/1.1 200 OK\"\n",
            "INFO:httpx:HTTP Request: GET https://a0dlgmcaspopjrn2mtx4ha.c0.us-east1.gcp.weaviate.cloud/v1/nodes \"HTTP/1.1 200 OK\"\n",
            "HTTP Request: GET https://a0dlgmcaspopjrn2mtx4ha.c0.us-east1.gcp.weaviate.cloud/v1/nodes \"HTTP/1.1 200 OK\"\n",
            "HTTP Request: GET https://a0dlgmcaspopjrn2mtx4ha.c0.us-east1.gcp.weaviate.cloud/v1/nodes \"HTTP/1.1 200 OK\"\n"
          ]
        }
      ],
      "source": [
        "from llama_index.core import StorageContext\n",
        "\n",
        "# If you want to load the index later, be sure to give it a name!\n",
        "vector_store = WeaviateVectorStore(\n",
        "    weaviate_client=client, index_name=INDEX_NAME\n",
        ")\n",
        "storage_context = StorageContext.from_defaults(vector_store=vector_store)\n",
        "vector_index = VectorStoreIndex.from_documents(\n",
        "    documents, storage_context=storage_context\n",
        ")"
      ]
    },
    {
      "cell_type": "code",
      "execution_count": 30,
      "metadata": {
        "id": "v4w0zvS2pmeB"
      },
      "outputs": [
        {
          "name": "stdout",
          "output_type": "stream",
          "text": [
            "INFO:httpx:HTTP Request: POST https://api.openai.com/v1/embeddings \"HTTP/1.1 200 OK\"\n",
            "HTTP Request: POST https://api.openai.com/v1/embeddings \"HTTP/1.1 200 OK\"\n",
            "HTTP Request: POST https://api.openai.com/v1/embeddings \"HTTP/1.1 200 OK\"\n",
            "INFO:httpx:HTTP Request: GET https://a0dlgmcaspopjrn2mtx4ha.c0.us-east1.gcp.weaviate.cloud/v1/schema/IndustrySource_Misc_32592_Explosives_Manufacturing_in_the_US_Industry_Report \"HTTP/1.1 200 OK\"\n",
            "HTTP Request: GET https://a0dlgmcaspopjrn2mtx4ha.c0.us-east1.gcp.weaviate.cloud/v1/schema/IndustrySource_Misc_32592_Explosives_Manufacturing_in_the_US_Industry_Report \"HTTP/1.1 200 OK\"\n",
            "HTTP Request: GET https://a0dlgmcaspopjrn2mtx4ha.c0.us-east1.gcp.weaviate.cloud/v1/schema/IndustrySource_Misc_32592_Explosives_Manufacturing_in_the_US_Industry_Report \"HTTP/1.1 200 OK\"\n",
            "INFO:httpx:HTTP Request: GET https://a0dlgmcaspopjrn2mtx4ha.c0.us-east1.gcp.weaviate.cloud/v1/schema/IndustrySource_Misc_32592_Explosives_Manufacturing_in_the_US_Industry_Report \"HTTP/1.1 200 OK\"\n",
            "HTTP Request: GET https://a0dlgmcaspopjrn2mtx4ha.c0.us-east1.gcp.weaviate.cloud/v1/schema/IndustrySource_Misc_32592_Explosives_Manufacturing_in_the_US_Industry_Report \"HTTP/1.1 200 OK\"\n",
            "HTTP Request: GET https://a0dlgmcaspopjrn2mtx4ha.c0.us-east1.gcp.weaviate.cloud/v1/schema/IndustrySource_Misc_32592_Explosives_Manufacturing_in_the_US_Industry_Report \"HTTP/1.1 200 OK\"\n",
            "INFO:httpx:HTTP Request: POST https://api.openai.com/v1/chat/completions \"HTTP/1.1 200 OK\"\n",
            "HTTP Request: POST https://api.openai.com/v1/chat/completions \"HTTP/1.1 200 OK\"\n",
            "HTTP Request: POST https://api.openai.com/v1/chat/completions \"HTTP/1.1 200 OK\"\n"
          ]
        }
      ],
      "source": [
        "# set Logging to DEBUG for more detailed outputs\n",
        "query_engine = vector_index.as_query_engine()\n",
        "response = query_engine.query(\"Tell me about Oil States International Inc. to acquire GEODynamics Inc.\")"
      ]
    },
    {
      "cell_type": "code",
      "execution_count": 31,
      "metadata": {
        "colab": {
          "base_uri": "https://localhost:8080/",
          "height": 98
        },
        "id": "O3XwrbeNprhP",
        "outputId": "429e78ec-d020-4096-cbc3-1051ff39a8c7"
      },
      "outputs": [
        {
          "data": {
            "text/markdown": [
              "Oil States International Inc. completed the acquisition of GEODynamics Inc. on January 12, 2018, in a $615 million deal. Following the acquisition, Oil States International Inc. now has full ownership of GEODynamics Inc. The purpose of this acquisition is to leverage GEODynamics Inc.'s expertise and services to expand Oil States International Inc.'s presence in the technology sector and enhance its own services within the oil industry. Despite the acquisition, GEODynamics Inc. will continue to operate as a separate entity under its existing name."
            ],
            "text/plain": [
              "<IPython.core.display.Markdown object>"
            ]
          },
          "metadata": {},
          "output_type": "display_data"
        }
      ],
      "source": [
        "display(Markdown(f\"{response}\"))"
      ]
    },
    {
      "cell_type": "code",
      "execution_count": 32,
      "metadata": {
        "id": "dfRXz53jr0SH"
      },
      "outputs": [],
      "source": [
        "#########################################################################################################################################################"
      ]
    },
    {
      "cell_type": "code",
      "execution_count": 33,
      "metadata": {
        "id": "kbN-rN7lsEy0"
      },
      "outputs": [],
      "source": [
        "# weaviate vector database & llamaparse Integrated"
      ]
    },
    {
      "cell_type": "code",
      "execution_count": 34,
      "metadata": {
        "id": "KtRzVlgesBiO"
      },
      "outputs": [],
      "source": [
        "from llama_index.core.node_parser import SentenceSplitter\n",
        "\n",
        "######## SentenceSplitter ########\n",
        "splitter = SentenceSplitter(chunk_size=1024)\n",
        "nodes = splitter.get_nodes_from_documents(documents)"
      ]
    },
    {
      "cell_type": "code",
      "execution_count": 35,
      "metadata": {
        "id": "hVThHH30qRoS"
      },
      "outputs": [
        {
          "name": "stdout",
          "output_type": "stream",
          "text": [
            "INFO:httpx:HTTP Request: GET https://a0dlgmcaspopjrn2mtx4ha.c0.us-east1.gcp.weaviate.cloud/v1/schema/IndustrySource_Misc_32592_Explosives_Manufacturing_in_the_US_Industry_Report \"HTTP/1.1 200 OK\"\n",
            "HTTP Request: GET https://a0dlgmcaspopjrn2mtx4ha.c0.us-east1.gcp.weaviate.cloud/v1/schema/IndustrySource_Misc_32592_Explosives_Manufacturing_in_the_US_Industry_Report \"HTTP/1.1 200 OK\"\n",
            "HTTP Request: GET https://a0dlgmcaspopjrn2mtx4ha.c0.us-east1.gcp.weaviate.cloud/v1/schema/IndustrySource_Misc_32592_Explosives_Manufacturing_in_the_US_Industry_Report \"HTTP/1.1 200 OK\"\n"
          ]
        }
      ],
      "source": [
        "vector_store = WeaviateVectorStore(\n",
        "    weaviate_client=client, index_name=INDEX_NAME\n",
        ")"
      ]
    },
    {
      "cell_type": "code",
      "execution_count": 36,
      "metadata": {
        "id": "esw4x1faqmmS"
      },
      "outputs": [
        {
          "name": "stdout",
          "output_type": "stream",
          "text": [
            "INFO:httpx:HTTP Request: POST https://api.openai.com/v1/embeddings \"HTTP/1.1 200 OK\"\n",
            "HTTP Request: POST https://api.openai.com/v1/embeddings \"HTTP/1.1 200 OK\"\n",
            "HTTP Request: POST https://api.openai.com/v1/embeddings \"HTTP/1.1 200 OK\"\n"
          ]
        }
      ],
      "source": [
        "######## Vector Index ########\n",
        "from llama_index.core import VectorStoreIndex\n",
        "vector_index = VectorStoreIndex(nodes, vector_store = vector_store)"
      ]
    },
    {
      "cell_type": "code",
      "execution_count": 37,
      "metadata": {
        "id": "LMoIlj0qq-Wn"
      },
      "outputs": [],
      "source": [
        "######## GPT-4o to Chat ########\n",
        "from llama_index.llms.openai import OpenAI\n",
        "\n",
        "llm_gpt4o = OpenAI(model=\"gpt-4o-mini\", api_key = OPENAI_API_KEY)\n",
        "query_engine_gpt4o = vector_index.as_query_engine(similarity_top_k=3, llm=llm_gpt4o)"
      ]
    },
    {
      "cell_type": "code",
      "execution_count": 38,
      "metadata": {
        "colab": {
          "base_uri": "https://localhost:8080/",
          "height": 105
        },
        "id": "CDTQWmdnraaV",
        "outputId": "06aa73cd-9ff3-435a-b61e-ec0dfd5a8c95"
      },
      "outputs": [
        {
          "name": "stdout",
          "output_type": "stream",
          "text": [
            "INFO:httpx:HTTP Request: POST https://api.openai.com/v1/embeddings \"HTTP/1.1 200 OK\"\n",
            "HTTP Request: POST https://api.openai.com/v1/embeddings \"HTTP/1.1 200 OK\"\n",
            "HTTP Request: POST https://api.openai.com/v1/embeddings \"HTTP/1.1 200 OK\"\n",
            "INFO:httpx:HTTP Request: POST https://api.openai.com/v1/chat/completions \"HTTP/1.1 200 OK\"\n",
            "HTTP Request: POST https://api.openai.com/v1/chat/completions \"HTTP/1.1 200 OK\"\n",
            "HTTP Request: POST https://api.openai.com/v1/chat/completions \"HTTP/1.1 200 OK\"\n",
            "GPT-4o-mini:\n"
          ]
        },
        {
          "data": {
            "text/plain": [
              "\"Current industry performance is influenced by several key factors. Rising interest rates have limited demand from the construction sector, which is a significant source of revenue for the industry. This has particularly affected residential construction, which experienced strong growth during the pandemic. \\n\\nAdditionally, the Russian invasion of Ukraine has disrupted supply chains, particularly for crude oil products, which are essential inputs for explosives manufacturing. The resulting increase in crude oil prices has impacted profit margins, as manufacturers face higher costs.\\n\\nTrade markets are also experiencing severe contractions, with a decline in export revenues and a strong US dollar making imports more attractive than domestic products. This has further strained the industry's performance. \\n\\nOn a more positive note, demand from coal mining and other mining sectors, along with the value of construction and the price of nonferrous metals, are contributing positively to the industry's performance.\""
            ]
          },
          "execution_count": 38,
          "metadata": {},
          "output_type": "execute_result"
        }
      ],
      "source": [
        "query1 = \"What's driving current industry performance?\"\n",
        "resp = query_engine_gpt4o.query(query1)\n",
        "print(\"GPT-4o-mini:\")\n",
        "str(resp)"
      ]
    },
    {
      "cell_type": "code",
      "execution_count": 39,
      "metadata": {
        "colab": {
          "base_uri": "https://localhost:8080/",
          "height": 105
        },
        "id": "F3QWdVjYrfNy",
        "outputId": "c5c21de4-da62-42a5-c716-0ee94e24f8b9"
      },
      "outputs": [
        {
          "name": "stdout",
          "output_type": "stream",
          "text": [
            "INFO:httpx:HTTP Request: POST https://api.openai.com/v1/embeddings \"HTTP/1.1 200 OK\"\n",
            "HTTP Request: POST https://api.openai.com/v1/embeddings \"HTTP/1.1 200 OK\"\n",
            "HTTP Request: POST https://api.openai.com/v1/embeddings \"HTTP/1.1 200 OK\"\n",
            "INFO:httpx:HTTP Request: POST https://api.openai.com/v1/chat/completions \"HTTP/1.1 200 OK\"\n",
            "HTTP Request: POST https://api.openai.com/v1/chat/completions \"HTTP/1.1 200 OK\"\n",
            "HTTP Request: POST https://api.openai.com/v1/chat/completions \"HTTP/1.1 200 OK\"\n",
            "GPT-4o-mini:\n"
          ]
        },
        {
          "data": {
            "text/plain": [
              "\"Oil States International Inc. completed the acquisition of GEODynamics Inc. on January 12, 2018, in a deal valued at $615 million. This acquisition allowed Oil States to gain full ownership of GEODynamics, with plans to leverage its expertise and services to enhance its influence and customer base within the technology sector. Additionally, the acquisition aimed to improve Oil States' own offerings in the oil industry. Despite the acquisition, GEODynamics continues to operate as a separate entity under its own name.\""
            ]
          },
          "execution_count": 39,
          "metadata": {},
          "output_type": "execute_result"
        }
      ],
      "source": [
        "query1 = \"Tell me about Oil States International Inc. to acquire GEODynamics Inc.\"\n",
        "resp = query_engine_gpt4o.query(query1)\n",
        "print(\"GPT-4o-mini:\")\n",
        "str(resp)"
      ]
    },
    {
      "cell_type": "code",
      "execution_count": null,
      "metadata": {},
      "outputs": [],
      "source": []
    }
  ],
  "metadata": {
    "colab": {
      "provenance": []
    },
    "kernelspec": {
      "display_name": "Python 3",
      "name": "python3"
    },
    "language_info": {
      "codemirror_mode": {
        "name": "ipython",
        "version": 3
      },
      "file_extension": ".py",
      "mimetype": "text/x-python",
      "name": "python",
      "nbconvert_exporter": "python",
      "pygments_lexer": "ipython3",
      "version": "3.11.9"
    }
  },
  "nbformat": 4,
  "nbformat_minor": 0
}
