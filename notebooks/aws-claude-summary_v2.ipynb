{
 "cells": [
  {
   "cell_type": "markdown",
   "metadata": {},
   "source": [
    "# Rely on LLM's to extract info from docs\n",
    "\n",
    "Will save them in JSON for future reuse."
   ]
  },
  {
   "cell_type": "code",
   "execution_count": 1,
   "metadata": {},
   "outputs": [
    {
     "data": {
      "text/plain": [
       "True"
      ]
     },
     "execution_count": 1,
     "metadata": {},
     "output_type": "execute_result"
    }
   ],
   "source": [
    "import os\n",
    "import boto3\n",
    "import json\n",
    "import dateparser\n",
    "from glob import glob\n",
    "import time\n",
    "from typing import List\n",
    "import pickle\n",
    "\n",
    "from llama_index.core import Document\n",
    "\n",
    "from Templates.aws_markdown_template import TEMPLATE as MARKDOWN_TEMPLATE\n",
    "from Templates.ibis_aws_summary_template_all import TEMPLATE as IBIS_SUMMARY_TEMPLATE\n",
    "from Templates.aws_section_page_number_template import TEMPLATE as page_number_template\n",
    "from Templates.aws_templates_common import build_aws_template\n",
    "\n",
    "from api.doc_parser.pdf_utils import extract_pages, number_of_pages\n",
    "\n",
    "from IPython.display import Markdown\n",
    "\n",
    "from dotenv import load_dotenv\n",
    "load_dotenv()"
   ]
  },
  {
   "cell_type": "code",
   "execution_count": 2,
   "metadata": {},
   "outputs": [],
   "source": [
    "# from imp import reload\n",
    "# import build_markdown_report\n",
    "# reload(build_markdown_report)"
   ]
  },
  {
   "cell_type": "code",
   "execution_count": 3,
   "metadata": {},
   "outputs": [],
   "source": [
    "SLEEP_SUCCESS = .1   # seconds\n",
    "SLEEP_FAILURE = 30   # seconds"
   ]
  },
  {
   "cell_type": "code",
   "execution_count": 4,
   "metadata": {},
   "outputs": [],
   "source": [
    "# PDF_LOCATION = 'IndustrySource/Misc/3D Printer Manufacturing in the US.pdf'\n",
    "# PDF_LOCATION = 'IndustrySource/Misc/HVAC%20Service%20Franchises%20in%20the%20US.pdf'\n",
    "\n",
    "PDF_LOCATION = 'IndustrySource/HVAC/HVAC Service Franchises in the US.pdf'\n",
    "DOC_ID = PDF_LOCATION.split('/')[-1].split('.')[0].lower().replace(' ', '-')\n",
    "OUTPUT_FOLDER = f'./rag_outputs/{DOC_ID}'\n",
    "os.makedirs(OUTPUT_FOLDER, exist_ok=True)"
   ]
  },
  {
   "cell_type": "code",
   "execution_count": 5,
   "metadata": {},
   "outputs": [],
   "source": [
    "AWS_REGION_NAME = 'us-west-2'\n",
    "# AWS_REGION_NAME = 'us-east-1'\n",
    "\n",
    "aws_access_key_id = os.getenv('AWS_ACCESS_KEY_ID')\n",
    "aws_secret_access_key = os.getenv('AWS_SECRET_ACCESS_KEY')\n",
    "\n",
    "# https://boto3.amazonaws.com/v1/documentation/api/latest/reference/services/bedrock-runtime.html\n",
    "bedrock = boto3.client(\n",
    "    service_name='bedrock-runtime',\n",
    "    aws_access_key_id=aws_access_key_id,\n",
    "    aws_secret_access_key=aws_secret_access_key,\n",
    "    region_name=AWS_REGION_NAME\n",
    ")"
   ]
  },
  {
   "cell_type": "code",
   "execution_count": 6,
   "metadata": {},
   "outputs": [],
   "source": [
    "MARKDOWN_PROMPT = \"\"\"\n",
    "We are sequentially converting a pdf document page by page to markdown format. You are an expert in converting the given PDF content to a Markdown representation.\n",
    "\n",
    "Follow these instructions to complete the task:\n",
    "- Infer the headings and subheadings of the given content with their levels from the appearance and semantic context. Generally, the larger font size, more visible color, and boldface indicate a lower level of the heading. For example, level 1 headings are expected to be more prominent than level 2 headings.\n",
    "- Depending on the level of the section, you use an appropriate number of hash signs (#) to mark their headers in markdown format. # for level 1, ## for level 2, ### for level 3 and so on.\n",
    "- The provided content may start from any page of the document. So the heading at first does not necessarily mean a level 1 heading.\n",
    "- Do not insert any new content. Just convert the existing content to Markdown format while keeping the structure.\n",
    "- Text is converted as it is. If the text is present in conflicting format that can be confusing, please interpret the text correctly and convert it to markdown.\n",
    "- For visuals such as graphs, plots and figures, interpret them, be objective and explain the interpretation of data in detail with numbers and use that explanation in place of the visuals. Explanation provided should capture all the data insights that can be inferred from the figure. Use your best judgement to interpret the visuals.\n",
    "- For tables, convert them to markdown table format without any explanation.\n",
    "- The output should be in markdown format. Do not modify any content. \n",
    "Next is the pdf content:\\n\\n\n",
    "\"\"\""
   ]
  },
  {
   "cell_type": "code",
   "execution_count": 7,
   "metadata": {},
   "outputs": [],
   "source": [
    "def get_raw_pdf_part(filename: str) -> dict:\n",
    "    \"\"\"This works best and parses quickly.\"\"\"\n",
    "    with open(filename, 'rb') as f:\n",
    "        content = f.read()\n",
    "        return {\n",
    "            \"document\": {\n",
    "                \"format\": \"pdf\",\n",
    "                \"name\": 'document',\n",
    "                \"source\": {\n",
    "                    \"bytes\": content\n",
    "                }\n",
    "            }\n",
    "        }\n",
    "\n",
    "\n",
    "model_id = \"anthropic.claude-3-sonnet-20240229-v1:0\"\n",
    "# model_id = \"anthropic.claude-3-5-sonnet-20240620-v1:0\"\n",
    "\n",
    "\n",
    "def response_to_template(filename: str, template: dict, prompt: str) -> dict:\n",
    "    initial_message = {\n",
    "        \"role\": \"user\",\n",
    "        \"content\": [\n",
    "            {\n",
    "                \"text\": prompt,\n",
    "            },\n",
    "        ],\n",
    "    }\n",
    "\n",
    "    initial_message['content'].append(get_raw_pdf_part(filename))\n",
    "\n",
    "    tool_list = [{\n",
    "        \"toolSpec\": template\n",
    "    }]\n",
    "    response = bedrock.converse(\n",
    "        modelId=model_id,\n",
    "        messages=[initial_message],\n",
    "        inferenceConfig={\n",
    "            \"temperature\": 0\n",
    "        },\n",
    "        toolConfig={\n",
    "            \"tools\": tool_list,\n",
    "            \"toolChoice\": {\n",
    "                \"tool\": {\n",
    "                    \"name\": \"info_extract\"\n",
    "                }\n",
    "            }\n",
    "        }\n",
    "    )\n",
    "    core_response = response['output']['message']['content'][0]['toolUse']['input']\n",
    "    if 'properties' in core_response:\n",
    "        core_response: dict = core_response['properties']\n",
    "    for k, v in core_response.items():\n",
    "        if isinstance(v, str) and v[0] in '{[' and v[-1] in ']}':\n",
    "            try:\n",
    "                core_response[k] = json.loads(v)\n",
    "            except Exception:\n",
    "                pass\n",
    "\n",
    "    return core_response"
   ]
  },
  {
   "cell_type": "code",
   "execution_count": 8,
   "metadata": {},
   "outputs": [],
   "source": [
    "\n",
    "# @cachier(hash_func=filename_template_hash)\n",
    "def info_from_doc_template(filename: str, template: dict, prompt: str, **kwargs) -> dict:\n",
    "    \"\"\"Populate the separate templates and merge the result.\"\"\"\n",
    "\n",
    "    template_parts = template['data']\n",
    "    full_templates = build_aws_template(template_parts)\n",
    "    results = [response_to_template(filename, part, prompt, **kwargs) for part in full_templates]\n",
    "\n",
    "    total = {}\n",
    "    for result in results:\n",
    "        total.update(result)\n",
    "\n",
    "    return total"
   ]
  },
  {
   "cell_type": "code",
   "execution_count": 9,
   "metadata": {},
   "outputs": [],
   "source": [
    "def extract_markdown(filename: str, first_page: int, last_page: int) -> dict:\n",
    "    with extract_pages(filename, first_page=first_page, last_page=last_page+1) as pages_filename:\n",
    "        return info_from_doc_template(filename=pages_filename, template=MARKDOWN_TEMPLATE, prompt=MARKDOWN_PROMPT)"
   ]
  },
  {
   "cell_type": "code",
   "execution_count": 10,
   "metadata": {},
   "outputs": [],
   "source": [
    "def sequentially_process_pdf(filename, np=1):\n",
    "    # find total number of pages in the pdf document\n",
    "    total_pages = number_of_pages(filename)\n",
    "\n",
    "    results = []\n",
    "    skipped_pages = []\n",
    "    for i in range(0, total_pages, np):\n",
    "        print(f\"Processing pages {i} to {i+np-1}\")\n",
    "        with extract_pages(filename, first_page=i, last_page=i+np-1) as pages_filename:\n",
    "            failures = 0\n",
    "            success = False\n",
    "            result = None\n",
    "            while (not success) and (failures < 3):\n",
    "                try:\n",
    "                    result = info_from_doc_template(filename=pages_filename, template=MARKDOWN_TEMPLATE, prompt=MARKDOWN_PROMPT)\n",
    "                    success = True\n",
    "                    time.sleep(SLEEP_SUCCESS)\n",
    "                except Exception as e:\n",
    "                    print(f\"Error processing page {i+1}\")\n",
    "                    print(str(e))\n",
    "                    failures += 1\n",
    "                    print(f\"Retrying in {SLEEP_FAILURE} seconds.\")\n",
    "                    time.sleep(SLEEP_FAILURE)\n",
    "                    if failures == 3:\n",
    "                        result = {\n",
    "                            'markdown': \"**skipped**\",\n",
    "                        }\n",
    "                        print(f\"Failed to process page {i+1} after 3 attempts.\")\n",
    "                        skipped_pages.append(i+1)\n",
    "            results.append(result)\n",
    "\n",
    "    print(f\" Had to skip pages: {len(skipped_pages)}\")\n",
    "    return results, skipped_pages"
   ]
  },
  {
   "cell_type": "code",
   "execution_count": 11,
   "metadata": {},
   "outputs": [
    {
     "name": "stdout",
     "output_type": "stream",
     "text": [
      "Processing pages 0 to 0\n",
      "Processing pages 1 to 1\n",
      "Processing pages 2 to 2\n",
      "Processing pages 3 to 3\n",
      "Processing pages 4 to 4\n",
      "Processing pages 5 to 5\n",
      "Processing pages 6 to 6\n",
      "Processing pages 7 to 7\n",
      "Processing pages 8 to 8\n",
      "Processing pages 9 to 9\n",
      "Processing pages 10 to 10\n",
      "Processing pages 11 to 11\n",
      "Processing pages 12 to 12\n",
      "Processing pages 13 to 13\n",
      "Processing pages 14 to 14\n",
      "Processing pages 15 to 15\n",
      "Processing pages 16 to 16\n",
      "Processing pages 17 to 17\n",
      "Processing pages 18 to 18\n",
      "Processing pages 19 to 19\n",
      "Processing pages 20 to 20\n",
      "Processing pages 21 to 21\n",
      "Processing pages 22 to 22\n",
      "Processing pages 23 to 23\n",
      "Processing pages 24 to 24\n",
      "Processing pages 25 to 25\n",
      "Processing pages 26 to 26\n",
      "Processing pages 27 to 27\n",
      "Processing pages 28 to 28\n",
      "Processing pages 29 to 29\n",
      "Processing pages 30 to 30\n",
      "Processing pages 31 to 31\n",
      "Processing pages 32 to 32\n",
      "Processing pages 33 to 33\n",
      "Processing pages 34 to 34\n",
      "Processing pages 35 to 35\n",
      "Processing pages 36 to 36\n",
      "Processing pages 37 to 37\n",
      "Processing pages 38 to 38\n",
      "Processing pages 39 to 39\n",
      "Processing pages 40 to 40\n",
      "Processing pages 41 to 41\n",
      "Processing pages 42 to 42\n",
      "Processing pages 43 to 43\n",
      "Processing pages 44 to 44\n",
      "Processing pages 45 to 45\n",
      "Processing pages 46 to 46\n",
      "Processing pages 47 to 47\n",
      "Processing pages 48 to 48\n",
      "Processing pages 49 to 49\n",
      "Processing pages 50 to 50\n",
      "Processing pages 51 to 51\n",
      "Processing pages 52 to 52\n",
      " Had to skip pages: 0\n"
     ]
    }
   ],
   "source": [
    "file_path = PDF_LOCATION\n",
    "results, skipped_pages = sequentially_process_pdf(file_path, np=1)"
   ]
  },
  {
   "cell_type": "code",
   "execution_count": 12,
   "metadata": {},
   "outputs": [
    {
     "name": "stdout",
     "output_type": "stream",
     "text": [
      "53\n"
     ]
    }
   ],
   "source": [
    "print(len(results))"
   ]
  },
  {
   "cell_type": "code",
   "execution_count": 13,
   "metadata": {},
   "outputs": [],
   "source": [
    "output_pickle_path = os.path.join(OUTPUT_FOLDER, f\"_{model_id}_pages.pkl\")\n",
    "\n",
    "documents = []\n",
    "for i, response in enumerate(results):\n",
    "    doc = Document(text=results[i]['markdown'], metadata={\"page_number\": i+1})\n",
    "    documents.append(doc)\n",
    "parsed_result = {\"parsed_documents\": documents, \"skipped_pages\": skipped_pages}\n",
    "pickle.dump(parsed_result, open(output_pickle_path, 'wb'))"
   ]
  },
  {
   "cell_type": "code",
   "execution_count": 14,
   "metadata": {},
   "outputs": [],
   "source": [
    "# filenames = [\n",
    "#     'IndustrySource/Misc/3D Printer Manufacturing in the US.pdf'\n",
    "# ]\n",
    "# markdown = [extract_markdown(filename, 45, 48) for filename in filenames[:5]]\n",
    "# markdown"
   ]
  },
  {
   "cell_type": "markdown",
   "metadata": {},
   "source": [
    "# Phase 2 : Load documents and do post processing to correct the heading structure"
   ]
  },
  {
   "cell_type": "code",
   "execution_count": 15,
   "metadata": {},
   "outputs": [
    {
     "name": "stdout",
     "output_type": "stream",
     "text": [
      "./rag_outputs/hvac-service-franchises-in-the-us/_anthropic.claude-3-sonnet-20240229-v1:0_pages.pkl\n",
      "53\n"
     ]
    }
   ],
   "source": [
    "output_pickle_path = os.path.join(OUTPUT_FOLDER, f\"_{model_id}_pages.pkl\")\n",
    "print(output_pickle_path)\n",
    "\n",
    "# load pickle file if it exists\n",
    "if os.path.exists(output_pickle_path):\n",
    "    with open(output_pickle_path, 'rb') as f:\n",
    "        parsed_result = pickle.load(f)\n",
    "\n",
    "documents = parsed_result['parsed_documents']\n",
    "print(len(documents))"
   ]
  },
  {
   "cell_type": "code",
   "execution_count": 16,
   "metadata": {},
   "outputs": [],
   "source": [
    "def response_to_text(content_text: str, template: dict, main_prompt: str, system_prompt: str, final_prompt: str, tool_name: str=\"info_extract\") -> dict:\n",
    "    initial_message = {\n",
    "        \"role\": \"user\",\n",
    "        \"content\": [\n",
    "            {\n",
    "                \"text\": main_prompt,\n",
    "            },\n",
    "        ],\n",
    "    }\n",
    "\n",
    "    initial_message['content'].append({\"text\": content_text})\n",
    "    if final_prompt is not None:\n",
    "        initial_message['content'].append({\"text\": final_prompt})\n",
    "\n",
    "    tool_list = [{\n",
    "        \"toolSpec\": template\n",
    "    }]\n",
    "    response = bedrock.converse(\n",
    "        modelId=model_id,\n",
    "        messages=[initial_message],\n",
    "        inferenceConfig={\n",
    "            \"temperature\": 0,\n",
    "        },\n",
    "        toolConfig={\n",
    "            \"tools\": tool_list,\n",
    "            \"toolChoice\": {\n",
    "                \"tool\": {\n",
    "                    \"name\": tool_name\n",
    "                }\n",
    "            }\n",
    "        }\n",
    "    )\n",
    "    core_response = response['output']['message']['content'][0]['toolUse']['input']\n",
    "    if 'properties' in core_response:\n",
    "        core_response: dict = core_response['properties']\n",
    "    for k, v in core_response.items():\n",
    "        if isinstance(v, str) and v[0] in '{[' and v[-1] in ']}':\n",
    "            try:\n",
    "                core_response[k] = json.loads(v)\n",
    "            except Exception:\n",
    "                pass\n",
    "\n",
    "    return core_response, response"
   ]
  },
  {
   "cell_type": "code",
   "execution_count": 17,
   "metadata": {},
   "outputs": [],
   "source": [
    "docs = [document.text for document in documents]\n",
    "# iterate over docs and see if the first sentence contains the title, then remove the whole line from the text\n",
    "all_sentences = []\n",
    "for i, doc in enumerate(docs):\n",
    "    sentences = doc.split(\"\\n\")\n",
    "    all_sentences.append(sentences)\n"
   ]
  },
  {
   "cell_type": "code",
   "execution_count": 18,
   "metadata": {},
   "outputs": [
    {
     "name": "stdout",
     "output_type": "stream",
     "text": [
      "53\n"
     ]
    },
    {
     "data": {
      "text/plain": [
       "[['# You have free access until 11/25/2024 (/user/editprofile/49859#tabpage-free-access)',\n",
       "  '## Industry Research (/ibisworld) > HVAC Service',\n",
       "  '### Franchises in the US',\n",
       "  '#### Last Updated: Jan 31, 2023',\n",
       "  '#### By: Jonathan Burns',\n",
       "  '#### Questions about IBISWORLD: Victoria Barankin',\n",
       "  '#### Having issues with this report? Click Here',\n",
       "  '### Covid-19 Update',\n",
       "  '## Industry at a Glance'],\n",
       " ['## KEY STATISTICS',\n",
       "  '### Revenue',\n",
       "  '### Profit',\n",
       "  '### Profit Margin',\n",
       "  '### Industry Gross Product'],\n",
       " ['## N 423 Units',\n",
       "  '### NUMBER OF ESTABLISHMENTS',\n",
       "  '## N 56 Units  ',\n",
       "  '### NUMBER OF ENTERPRISES',\n",
       "  '## E 4,386 Units',\n",
       "  '### EMPLOYMENT  ',\n",
       "  '## T 293 $ million',\n",
       "  '### TOTAL WAGES'],\n",
       " ['# Private Spending on Home Improvements',\n",
       "  '## $227 Billion',\n",
       "  '### CAGR:',\n",
       "  '## Executive Summary'],\n",
       " ['## Interest rate hikes will continue, even in the near future, so businesses and consumers will continue struggling to finance new housing and expansions.',\n",
       "  '### Current Performance',\n",
       "  '### The Residential Sector Provided a Massive Boost for HVAC Services',\n",
       "  '### Rising Interest Rates Affected Demand for Both Major Downstream Markets']]"
      ]
     },
     "execution_count": 18,
     "metadata": {},
     "output_type": "execute_result"
    }
   ],
   "source": [
    "\n",
    "all_titles = []\n",
    "for i, sentences in enumerate(all_sentences):\n",
    "    page_headings = []\n",
    "    for j, sentence in enumerate(sentences):\n",
    "        # sentence is a heading if it starts with # or ## or ### or #### or #####\n",
    "        if sentence.startswith(\"#\"):\n",
    "            page_headings.append(sentence)\n",
    "    all_titles.append(page_headings)\n",
    "\n",
    "print(len(all_titles))\n",
    "all_titles[:5]"
   ]
  },
  {
   "cell_type": "code",
   "execution_count": 19,
   "metadata": {},
   "outputs": [],
   "source": [
    "PAGE_TITLE_PROMPT = \"\"\" You are expert in determining the page numbers where a specific section begins from the list of titles and corresponding page numbers.\n",
    "There are 6 sections in the document: [\"Industry at a Glance\", \"Supply Chain\", \"Competitive Landscape\", \"Costs & Operations\", \"Questions for Owners\", \"Datatables & Glossary\"]\n",
    "Section 1: Industry at a Glance contains subsections such as Key Statistics, Executive Summary, Current Performance, Future Outlook, Industry Definition, Industry Impact, SWOT Analysis, Key Trends.\n",
    "Section 2: Supply Chain contains subsections such as External drivers, Supply Chain, Similar Industries, Related International Industries, Products & Services, Demand Determinants, Market Segmentation, Business Locations\n",
    "Section 3: Competitive Landscape contains subsections such as Basis of Competition, Barriers to Entry, Market Share Concentration, Industry Globalization\n",
    "Section 4: Costs & Operations contains subsections such as Cost Structure, Capital Intensity, Revenue Volatility, Regulation & Policy, Industry Assistance\n",
    "Section 5: Questions for Owners contains some questions and answers\n",
    "Section 6: Datatables & Glossary contains some tables for Industry Data and glossary of industry terms.\n",
    "You will be given a list of titles parsed from pdf and the corresponding page number where each title was parsed from. Each title begins in a new line with a page number as prefix enclosed in angle brackets <>.\n",
    "Use the given information and your best jusdgement to determine the page number where each section begins.\n",
    "Use the tool to output the page numbers in json format. If you are not sure about any section, output 0.\n",
    "\"\"\""
   ]
  },
  {
   "cell_type": "code",
   "execution_count": 20,
   "metadata": {},
   "outputs": [],
   "source": [
    "def get_page_numbers_for_sections(all_titles: List[List[str]]):\n",
    "    template = page_number_template\n",
    "    template_parts = template['data']\n",
    "    page_title_template = build_aws_template(template_parts, tool_name=\"page_number_inference\")[0]\n",
    "\n",
    "    #add page number as prefix to each title\n",
    "    all_titles_with_page = []\n",
    "    for i, titles in enumerate(all_titles):\n",
    "        titles_with_page = [f\"<Page {i+1}> {title}\" for title in titles]\n",
    "        all_titles_with_page.extend(titles_with_page)\n",
    "    print(all_titles_with_page)\n",
    "    titles_text = \"\\n\".join(all_titles_with_page)\n",
    "    num_failed = 0\n",
    "    response = None\n",
    "    response_raw = None\n",
    "    while num_failed < 5:\n",
    "        try:     \n",
    "            response, response_raw = response_to_text(titles_text, page_title_template, PAGE_TITLE_PROMPT, None, None, tool_name=\"page_number_inference\")\n",
    "            break\n",
    "        except Exception as e:\n",
    "            print(f\"Failed to get page numbers for sections. Retrying in {SLEEP_FAILURE} seconds.\")\n",
    "            print(e)\n",
    "            time.sleep(SLEEP_FAILURE)\n",
    "            num_failed += 1\n",
    "    return response, response_raw"
   ]
  },
  {
   "cell_type": "code",
   "execution_count": 21,
   "metadata": {},
   "outputs": [],
   "source": [
    "def get_page_mapping_list(page_mapping, sections_names):\n",
    "    if page_mapping is None:\n",
    "        page_mapping = [0]*len(sections_names)\n",
    "    page_mapping_list = []\n",
    "\n",
    "    total_pages = number_of_pages(PDF_LOCATION)\n",
    "    for sec_ix, sec in enumerate(sections_names):\n",
    "        sec_mod = sec.lower().replace(' & ','_').replace(' ', '_')\n",
    "        f_p = page_mapping[sec_mod]\n",
    "        prev_ix = sec_ix-1\n",
    "        while f_p == 0 and prev_ix >= 0:\n",
    "            prev_sec = sections_names[prev_ix].lower().replace(' & ','_').replace(' ', '_')\n",
    "            f_p = page_mapping[prev_sec]\n",
    "            prev_ix -= 1   \n",
    "        if f_p == 0:\n",
    "            f_p = 1\n",
    "        \n",
    "        if sec_ix == len(sections_names)-1:\n",
    "            e_p = total_pages\n",
    "        else:\n",
    "            sec_next = sections_names[sec_ix+1].lower().replace(' & ','_').replace(' ', '_')\n",
    "            e_p = min(page_mapping[sec_next], total_pages)\n",
    "        next_ix = sec_ix+1\n",
    "        while e_p == 0 and next_ix < len(sections_names):\n",
    "            next_sec = sections_names[next_ix].lower().replace(' & ','_').replace(' ', '_')\n",
    "            e_p = page_mapping[next_sec]\n",
    "            next_ix += 1\n",
    "        if e_p == 0:\n",
    "            e_p = total_pages\n",
    "        page_mapping_list.append((sec, f_p, e_p))\n",
    "    return page_mapping_list\n",
    "        "
   ]
  },
  {
   "cell_type": "markdown",
   "metadata": {},
   "source": [
    "# Phase 3: Extract info from respective section"
   ]
  },
  {
   "cell_type": "code",
   "execution_count": 22,
   "metadata": {},
   "outputs": [],
   "source": [
    "INFO_EXTRACTION_PROMPT = \"\"\"\n",
    "You are an expert in extracting market and financial data from documents.\n",
    "Use the given tool to extract essential data from text in the enclosed document. Do not make any assumptions or add any information that is not present in the text.\n",
    "\n",
    "Return the result in JSON format. Do not use non-JSON tags. If some numeric data is not present in the text, simply output the number 101 as an answer where numeric data is expected.\n",
    "For titles and names, limit the output to 20 words. For descriptions and key points, limit the output to 50 words.\n",
    "\"\"\""
   ]
  },
  {
   "cell_type": "code",
   "execution_count": 23,
   "metadata": {},
   "outputs": [],
   "source": [
    "def get_section_text(docs, start_page, end_page):\n",
    "    section_text = []\n",
    "    for i in range(start_page-1, end_page):\n",
    "        section_text.append(docs[i])\n",
    "    return \"\\n\".join(section_text)    "
   ]
  },
  {
   "cell_type": "code",
   "execution_count": 24,
   "metadata": {},
   "outputs": [],
   "source": [
    "\n",
    "def extract_info_for_section(docs, template, main_prompt, start_page, end_page):\n",
    "    section_text = get_section_text(docs, start_page, end_page)\n",
    "    num_failed = 0\n",
    "    result = None\n",
    "    while num_failed < 5:\n",
    "        try:\n",
    "            result = response_to_text(section_text, template, main_prompt, None, None)\n",
    "            break\n",
    "        except Exception as e:\n",
    "            num_failed += 1\n",
    "            print(f\"Error: {e}\")\n",
    "            print(f\"Failed {num_failed} times. Sleeping for {SLEEP_FAILURE} seconds.\")\n",
    "            time.sleep(SLEEP_FAILURE)\n",
    "            continue\n",
    "    return result\n",
    "\n",
    "def extract_info_for_all_sections(page_mapping_list, full_templates, docs):\n",
    "    section_summaries = []\n",
    "    raw_responses = []\n",
    "    for idx, elem in enumerate(page_mapping_list):\n",
    "        print(f\"Extracting for section {elem}\")\n",
    "        section_name, start_page, end_page = elem\n",
    "        if idx >= len(full_templates):\n",
    "            break\n",
    "        section_summary, raw_response = extract_info_for_section(docs, full_templates[idx], INFO_EXTRACTION_PROMPT, start_page, end_page)\n",
    "        section_summaries.append(section_summary)\n",
    "        raw_responses.append(raw_response)\n",
    "        print(f\"Extracted for section {section_name}\")\n",
    "        print(f\"Sleeping for {SLEEP_SUCCESS} seconds.\")\n",
    "        time.sleep(SLEEP_SUCCESS)\n",
    "    return section_summaries, raw_responses"
   ]
  },
  {
   "cell_type": "code",
   "execution_count": 25,
   "metadata": {},
   "outputs": [
    {
     "name": "stdout",
     "output_type": "stream",
     "text": [
      "['<Page 1> # You have free access until 11/25/2024 (/user/editprofile/49859#tabpage-free-access)', '<Page 1> ## Industry Research (/ibisworld) > HVAC Service', '<Page 1> ### Franchises in the US', '<Page 1> #### Last Updated: Jan 31, 2023', '<Page 1> #### By: Jonathan Burns', '<Page 1> #### Questions about IBISWORLD: Victoria Barankin', '<Page 1> #### Having issues with this report? Click Here', '<Page 1> ### Covid-19 Update', '<Page 1> ## Industry at a Glance', '<Page 2> ## KEY STATISTICS', '<Page 2> ### Revenue', '<Page 2> ### Profit', '<Page 2> ### Profit Margin', '<Page 2> ### Industry Gross Product', '<Page 3> ## N 423 Units', '<Page 3> ### NUMBER OF ESTABLISHMENTS', '<Page 3> ## N 56 Units  ', '<Page 3> ### NUMBER OF ENTERPRISES', '<Page 3> ## E 4,386 Units', '<Page 3> ### EMPLOYMENT  ', '<Page 3> ## T 293 $ million', '<Page 3> ### TOTAL WAGES', '<Page 4> # Private Spending on Home Improvements', '<Page 4> ## $227 Billion', '<Page 4> ### CAGR:', '<Page 4> ## Executive Summary', '<Page 5> ## Interest rate hikes will continue, even in the near future, so businesses and consumers will continue struggling to finance new housing and expansions.', '<Page 5> ### Current Performance', '<Page 5> ### The Residential Sector Provided a Massive Boost for HVAC Services', '<Page 5> ### Rising Interest Rates Affected Demand for Both Major Downstream Markets', '<Page 6> # COVID-19 CAUSES DISRUPTIONS IN MOST MARKETS', '<Page 6> ## FUTURE OUTLOOK', '<Page 6> ### ELEVATED INTEREST RATES WILL DEPRESS THE RESIDENTIAL SECTOR', '<Page 6> ### A GROWING BUSINESS SECTOR WILL AID HVAC FRANCHISES AS OTHER MARKETS FALTER  ', '<Page 7> # Growth in this market will depend on the state of the economy moving forward.', '<Page 7> ## E N V I R O N M E N T A L LY  F R I E N D LY  S Y S T E M S  A R E  T H E  W A Y  O F  T H E F U T U R E', '<Page 7> ## I N D U S T RY D E F I N I T I O N', '<Page 7> ### I N D U S T RY I M PAC T', '<Page 7> #### P O S I T I V E  I M P A C T', '<Page 8> # SWOT Analysis', '<Page 8> ## Strengths', '<Page 8> ## Weaknesses  ', '<Page 8> ## Mixed Impact', '<Page 8> ### Globalization Level', '<Page 8> ### Life Cycle Stage  ', '<Page 8> ### Revenue Volatility Level', '<Page 8> ## Negative Impact  ', '<Page 8> ### Regulation Level', '<Page 8> ### Technology Change Level', '<Page 8> ### Barriers To Entry Level  ', '<Page 8> ### Industry Assistance Level', '<Page 8> ### Competition Level', '<Page 9> # Opportunities', '<Page 9> ## High Revenue Growth (2023-2028)', '<Page 9> # Threats  ', '<Page 9> # Industry Life Cycle', '<Page 9> # Contribution to GDP', '<Page 10> # Market Saturation', '<Page 10> # Innovation ', '<Page 10> # Consolidation', '<Page 10> # Technology & Systems', '<Page 10> ## Key Trends', '<Page 11> ## External Drivers', '<Page 11> ### Housing Starts', '<Page 11> ### Per Capita Disposable Income', '<Page 12> # Private Spending on Home Improvements', '<Page 12> ## CAGR:', '<Page 12> ## PROJECTED:', '<Page 12> # Value of Private Nonresidential Construction', '<Page 12> ## CAGR: ', '<Page 12> ## PROJECTED:', '<Page 13> # Supply Chain', '<Page 13> ## Tier 2 Suppliers', '<Page 13> ## Tier 1 Suppliers', '<Page 14> # HVAC Service Franchises in the US', '<Page 14> ## Tier 1 Buyers', '<Page 14> ## Tier 2 Buyers', '<Page 15> ## Similar Industries', '<Page 15> ### [Electricians in the US](/ibisworld/reportkey/1/189)', '<Page 15> ### [Heating & Air Conditioning Wholesaling in the US](/ibisworld/reportkey/1/943)  ', '<Page 15> ### [Heating & Air-Conditioning Contractors in the US](/ibisworld/reportkey/1/1945)', '<Page 15> ### [Plumbers in the US](/ibisworld/reportkey/1/1946)', '<Page 15> ## Related International Industries', '<Page 15> ### [Air Conditioning and Heating Services in Australia](/ibisworld/reportkey/61/326)', '<Page 15> ### [Building Completion & Interior Design in China](/ibisworld/reportkey/86/740)', '<Page 15> ### [Plumbing, Heating & Air Conditioning Installation in the UK](/ibisworld/reportkey/44/2505)', '<Page 15> ### [Heating & Air-Conditioning Contractors in Canada](/ibisworld/reportkey/124/1945)', '<Page 16> ### Air Conditioning and Heating Services in New Zealand', '<Page 16> ### Plumbing, Heating & Air Conditioning Installation in Ireland', '<Page 16> #### Products & Services', '<Page 17> # THE NEED FOR NEW HVAC INSTALLATIONS FOLLOWS TRENDS IN THE HOUSING MARKET', '<Page 17> ## INVESTMENT IN NONRESIDENTIAL STRUCTURES INFLUENCES DEMAND FOR EXISTING HVAC INSTALLATIONS', '<Page 17> ### 31.3 %', '<Page 17> ### HVAC MAINTENANCE AND REPAIRS', '<Page 17> ### 9.1 %', '<Page 17> ### REFRIGERATION SYSTEM INSTALLATIONS, MAINTENANCE AND REPAIRS', '<Page 18> # The value of nonresidential construction declined significantly during the pandemic', '<Page 18> ## Maintenance of HVAC systems is viewed as a necessity regardless of economic conditions', '<Page 18> ## Refrigeration undergoes major innovations', '<Page 19> # Demand Determinants', '<Page 19> ## Demand for Maintenance and Repair Services', '<Page 20> # Market Segmentation', '<Page 20> ## The Housing Market Determines the Strength of New and Existing Residential Construction', '<Page 20> ## Downstream Demand from the Manufacturing Sector Influences HVAC Spending on Industrial Buildings', '<Page 21> # THE MOVE TO AT-HOME WORK MAY HINDER HEATING AND AIR-CONDITIONING INSTALLATIONS ON OFFICE BUILDINGS', '<Page 21> ## PRIVATE NONRESIDENTIAL CONSTRUCTION IS THE MAIN DRIVER FOR HVAC INSTALLATIONS ON COMMERCIAL BUILDINGS', '<Page 21> ## FEWER COLLEGE STUDENTS THREATEN HVAC FRANCHISES THAT WORK ON EDUCATIONAL FACILITIES', '<Page 22> # HVAC spending on educational facilities', '<Page 22> ## Miscellaneous Segments are Influenced by a Variety of Trends', '<Page 22> ## International Trade', '<Page 22> ### Imports', '<Page 22> ### Exports  ', '<Page 22> ## Business Locations', \"<Page 23> # The Southeast's Massive Population\", '<Page 23> ## The Great Lakes, Which Has a Big Industrial Sector', '<Page 23> ### West Offers the Best of Both Worlds', '<Page 24> # Competitive Landscape', '<Page 24> ## Basis of Competition', '<Page 24> ### HIGH competition INCREASING competition', '<Page 24> ### INTERNAL COMPETITION', '<Page 25> # External Competition', '<Page 25> # Barriers to Entry', '<Page 25> ## Medium barriers STEADY barriers', '<Page 25> ### Factors for Increased Barriers', '<Page 25> ### Factors for Decreased Barriers  ', '<Page 25> #### Legal', '<Page 25> #### Start-up Costs', '<Page 25> #### Differentiation', '<Page 26> # Labor Intensity', '<Page 26> ## Market Share Concentration', '<Page 26> ### Low concentration', '<Page 26> ### Franchises Scale Easily, Leading to Wide-reaching, Hyper Concentrated Players', '<Page 26> ### Consolidation Differs by the Type of Businesses Served', '<Page 26> ## Industry Globalization', '<Page 26> ### Low globalization | Steady globalization', '<Page 27> # MAJOR PLAYERS', '<Page 27> ## Market Share for 2023', '<Page 27> ### The HVAC Service Franchises industry has a low level of globalization. As a service-based industry that serves mostly local and regional markets, franchisees do not engage in international trade.', '<Page 28> ## REVENUE', '<Page 28> ### Aire Serv LLC', '<Page 29> ## LINC SERVICE LLC', '<Page 29> ### SUB-BRANDS: ABM, TEGG, LINC', '<Page 29> ### MARKET SHARE: 9.5%  ', '<Page 29> ### REVENUE: $89 million', '<Page 29> ### REVENUE', '<Page 30> ## YEAR REVENUE', '<Page 30> ### OTHER PLAYERS', '<Page 31> # DUCTZ INTERNATIONAL INC', '<Page 31> ## Getting Started', '<Page 31> ### Costs & Operations', '<Page 31> #### Cost Structure', '<Page 32> # Profit', '<Page 32> ## Profit Remains Steady but Experiences Some Volatility', '<Page 32> ## Interpretation of Graph', '<Page 33> # WAGES', '<Page 33> ## HIGH SKILL KEEPS WAGES HIGH', '<Page 33> # PURCHASES  ', '<Page 33> ## GLOBAL SUPPLY ISSUES KEEP PURCHASE COSTS HIGH', '<Page 33> # CAPITAL INTENSITY', '<Page 33> ## LOW capital intensity', '<Page 34> ### Technological Disruption', '<Page 34> ### Medium technology change', '<Page 35> ## Revenue Volatility', '<Page 35> ### Medium revenue volatility', '<Page 36> # INTEREST RATES CAN MAKE OR BREAK INDUSTRY PERFORMANCE', '<Page 36> ## NEEDED MAINTENANCE KEEPS HVAC FRANCHISES RELEVANT REGARDLESS OF MARKET CONDITIONS', '<Page 36> ## EXPANSION INTO THE NONRESIDENTIAL SECTOR HELPS SHIELD FRANCHISES FROM SOME VOLATILITY', '<Page 36> ### REGULATION & POLICY', '<Page 37> ## MEDIUM regulation INCREASING regulation', '<Page 37> ### LICENSING REGULATIONS', '<Page 37> ### THE COMPREHENSIVE ENVIRONMENTAL RESPONSE, COMPENSATION AND LIABILITY ACT (CERCLA) OF 1980', '<Page 37> ### TITLE VI OF THE CLEAN AIR ACT  ', '<Page 37> ### EFFICIENCY REQUIREMENTS FOR CENTRAL AIR-CONDITIONING', '<Page 37> ### NATIONAL STANDARDS', '<Page 38> # PANDEMIC ERA RULES', '<Page 38> ## INDUSTRY ASSISTANCE', '<Page 38> ### LOW assistance STEADY assistance', '<Page 38> #### Private', '<Page 38> #### Public', '<Page 39> # Questions for Owners', '<Page 39> ## Does your company primarily work with residential or nonresidential construction markets? Can you easily switch between these markets?', '<Page 39> ### Sales & Marketing', '<Page 39> ## Are you solely focused on new work, or do you participate in remodeling activities?  ', '<Page 39> ### Sales & Marketing', '<Page 39> ## Does your company make use of subcontractors to save on wage costs? Roughly, what percent of revenue is consumed by wages?', '<Page 39> ### Strategy & Operations', '<Page 39> #### PAYCHECK PROTECTION PROGRAM (PPP)', '<Page 39> #### QUALIFIED IMPROVEMENT PROPERTY (QIP) TAX WRITE-OFF', '<Page 40> # Strategy & Operations', '<Page 40> ### What is the size of your staff? How does that compare to your competitors?', '<Page 40> ### In light of increasing wage costs, has your company considered using new technologies to increase productivity or reduce total employment?', '<Page 40> ## Technology', '<Page 40> ### Have productivity issues ever kept you from winning lucrative contracts over larger competitors?', '<Page 40> ## Technology', '<Page 40> ### How does your company ensure all health and safety requirements are met on and off the construction site?', '<Page 40> ## Compliance', \"<Page 40> ### Do you work with local or national trade associations to advance your company's interests?\", '<Page 40> ## Compliance', '<Page 41> # Industry operators benefits', \"<Page 41> ## How do your company's profit margins compare with your competitors'?\", '<Page 41> ### Finance', '<Page 41> ## What ongoing financing challenges does your company face?', '<Page 41> ### Finance', '<Page 41> ## Do you have a strong reputation among customers? Are you known for your reliability and performance?', '<Page 41> ### Having a good reputation', '<Page 41> ## How quickly can new technology be adopted? Does your company keep up to date with the latest technology? What are the associated costs?', '<Page 41> ### Ability to quickly adopt new technology', '<Page 41> ## How do you manage input costs? Do you have deals in place based on economies of scale?', '<Page 42> # Management of seasonal production', '<Page 42> ## What percentage of your revenue depends on demand from regular consumers? What are some other ways to boost demand?', '<Page 42> ### Private spending on home improvements', '<Page 42> ## How much do you serve the nonresidential construction market? How can you make further inroads in this growing segment?', '<Page 42> ### Value of private nonresidential construction  ', '<Page 42> ## How does a rise in disposable income levels benefit your industry? How do you take advantage of this opportunity?', '<Page 42> ### Per capita disposable income', '<Page 43> # Datatables & Glossary', '<Page 43> ## I N D U S T RY DATA', '<Page 44> # YEAR', '<Page 44> ## INDUSTRY', '<Page 44> ### TURNOVER', '<Page 44> ### $ MILLION', '<Page 44> ### INDUSTRY', '<Page 44> ### GROSS', '<Page 44> ### PRODUCT', '<Page 44> ### $', '<Page 44> ### MILLION', '<Page 44> ### NUMBER OF', '<Page 44> ### ESTABLISHMENTS', '<Page 44> ### UNITS', '<Page 44> ### NUMBER OF', '<Page 44> ### ENTERPRISES', '<Page 44> ### UNITS', '<Page 44> ### EMPLOYMENT', '<Page 44> ### UNITS', '<Page 44> ### EXPORTS', '<Page 44> ### $', '<Page 44> ### MILLION', '<Page 44> ### IMPORTS', '<Page 44> ### $', '<Page 44> ### MILLION', '<Page 44> ### TOTAL', '<Page 44> ### WAGES', '<Page 44> ### $', '<Page 44> ### MILLION', '<Page 44> ### DOME', '<Page 44> ### DEMA', '<Page 44> ### $', '<Page 44> ### MILLIO', '<Page 44> ## A N N UA L C H A N G E', '<Page 44> ### YEAR', '<Page 44> ### INDUSTRY', '<Page 44> ### TURNOVER', '<Page 44> ### %', '<Page 44> ### INDUSTRY', '<Page 44> ### GROSS', '<Page 44> ### PRODUCT', '<Page 44> ### %', '<Page 44> ### NUMBER OF', '<Page 44> ### ESTABLISHMENTS', '<Page 44> ### %', '<Page 44> ### NUMBER OF', '<Page 44> ### ENTERPRISES', '<Page 44> ### %', '<Page 44> ### EMPLOYMENT', '<Page 44> ### %', '<Page 44> ### EXPORTS', '<Page 44> ### %', '<Page 44> ### IMPORTS', '<Page 44> ### %', '<Page 44> ### TOTAL', '<Page 44> ### WAGES', '<Page 44> ### %', '<Page 44> ### DOMEST', '<Page 44> ### DEMAN', '<Page 44> ### %', '<Page 45> # YEAR', '<Page 45> ## KEY RATIOS', '<Page 46> # YEAR', '<Page 46> ## GLOSSARY', '<Page 46> ### FRANCHISEE', '<Page 46> ### GREEN', '<Page 47> # Green Goods and Services', '<Page 47> ## Heating, Ventilation and Air Conditioning (HVAC)', '<Page 47> ## Refrigerant', '<Page 47> ## Seasonal Energy Efficiency Ratings (SEER)', '<Page 47> ## Barriers to Entry', '<Page 47> ## Capital Intensity ', '<Page 47> ## Constant Prices', '<Page 48> ### Domestic Demand', '<Page 48> ### Employment', '<Page 48> ### Enterprise', '<Page 48> ### Establishment', '<Page 48> ### Exports', '<Page 48> ### Imports', '<Page 48> ### Industry Concentration', '<Page 49> ## INDUSTRY REVENUE', '<Page 49> ## INDUSTRY VALUE ADDED (IVA)', '<Page 49> ## INTERNATIONAL TRADE', '<Page 49> ## LIFE CYCLE', '<Page 49> ## NONEMPLOYING ESTABLISHMENT', '<Page 49> ## PROFIT', '<Page 50> ## REGIONS', '<Page 50> ## VOLATILITY', '<Page 50> ## WAGES', '<Page 50> ## RELATED REPORTS', '<Page 51> # Heating & Air Conditioning Wholesaling in the US', '<Page 51> # Tool & Hardware Wholesaling in the US  ', '<Page 51> # Apartment & Condominium Construction in the US', '<Page 51> # Commercial Building Construction in the US', '<Page 51> # Real Estate and Rental and Leasing in the US', '<Page 51> # Home Builders in the US', '<Page 51> # Industrial Building Construction in the US  ', '<Page 51> # Municipal Building Construction in the US', '<Page 52> # Refrigerated Storage in the US', '<Page 52> ## [(/ibisworld/reportkey/1/1225)](https://www.searchfunder.com/ibisworld/reportkey/1/1225)', '<Page 52> ## [(/ibisworld/reportkey/1/189)](https://www.searchfunder.com/ibisworld/reportkey/1/189) ', '<Page 52> ## [(/ibisworld/reportkey/1/943)](https://www.searchfunder.com/ibisworld/reportkey/1/943)', '<Page 52> ## [(/ibisworld/reportkey/1/1945)](https://www.searchfunder.com/ibisworld/reportkey/1/1945)', '<Page 52> ## [(/ibisworld/reportkey/1/1946)](https://www.searchfunder.com/ibisworld/reportkey/1/1946)', '<Page 52> ## [(/ibisworld/reportkey/61/326)](https://www.searchfunder.com/ibisworld/reportkey/61/326)', '<Page 52> ## [(/ibisworld/reportkey/86/740)](https://www.searchfunder.com/ibisworld/reportkey/86/740)', '<Page 52> ## [(/ibisworld/reportkey/44/2505)](https://www.searchfunder.com/ibisworld/reportkey/44/2505)', '<Page 53> # Heating & Air-Conditioning Contractors in Canada', '<Page 53> ## [/ibisworld/reportkey/44/2505](https://www.searchfunder.com/ibisworld/reportkey/44/2505)', '<Page 53> # Air Conditioning and Heating Services in New Zealand ', '<Page 53> ## [/ibisworld/reportkey/124/1945](https://www.searchfunder.com/ibisworld/reportkey/124/1945)', '<Page 53> # Plumbing, Heating & Air Conditioning Installation in Ireland', '<Page 53> ## [/ibisworld/reportkey/64/326](https://www.searchfunder.com/ibisworld/reportkey/64/326)', '<Page 53> # HVAC Service Franchises in the US', '<Page 53> ## [/ibisworld/reportkey/353/2505](https://www.searchfunder.com/ibisworld/reportkey/353/2505)']\n"
     ]
    }
   ],
   "source": [
    "sections_names = [\"Industry at a Glance\", \"Supply Chain\", \"Competitive Landscape\", \"Costs & Operations\", \"Questions for Owners\", \"Datatables & Glossary\"]\n",
    "\n",
    "page_mapping, page_response_raw = get_page_numbers_for_sections(all_titles)\n"
   ]
  },
  {
   "cell_type": "code",
   "execution_count": 26,
   "metadata": {},
   "outputs": [
    {
     "name": "stdout",
     "output_type": "stream",
     "text": [
      "{'industry_at_a_glance': 1, 'supply_chain': 13, 'competitive_landscape': 24, 'costs_operations': 31, 'questions_for_owners': 39, 'datatables_glossary': 43}\n",
      "[('Industry at a Glance', 1, 13), ('Supply Chain', 13, 24), ('Competitive Landscape', 24, 31), ('Costs & Operations', 31, 39), ('Questions for Owners', 39, 43), ('Datatables & Glossary', 43, 53)]\n"
     ]
    }
   ],
   "source": [
    "print(page_mapping)\n",
    "page_mapping_list = get_page_mapping_list(page_mapping, sections_names)\n",
    "print(page_mapping_list)"
   ]
  },
  {
   "cell_type": "code",
   "execution_count": null,
   "metadata": {},
   "outputs": [
    {
     "name": "stdout",
     "output_type": "stream",
     "text": [
      "Extracting for section ('Industry at a Glance', 1, 13)\n",
      "Extracted for section Industry at a Glance\n",
      "Sleeping for 1 seconds.\n",
      "Extracting for section ('Supply Chain', 13, 24)\n",
      "Extracted for section Supply Chain\n",
      "Sleeping for 1 seconds.\n",
      "Extracting for section ('Competitive Landscape', 24, 31)\n"
     ]
    }
   ],
   "source": [
    "template_parts = IBIS_SUMMARY_TEMPLATE['data']\n",
    "full_templates = build_aws_template(template_parts)\n",
    "\n",
    "pickle.dump((page_mapping, page_response_raw), open(f\"{OUTPUT_FOLDER}/page_mappings.pkl\", \"wb\"))\n",
    "# print(full_templates)\n",
    "section_summaries, raw_responses = extract_info_for_all_sections(page_mapping_list, full_templates, docs)\n",
    "\n",
    "section_results = {\"section_summaries\": section_summaries, \"raw_responses\": raw_responses}\n",
    "\n",
    "pickle.dump(section_results, open(f\"{OUTPUT_FOLDER}/section_summaries.pkl\", \"wb\"))"
   ]
  },
  {
   "cell_type": "code",
   "execution_count": null,
   "metadata": {},
   "outputs": [],
   "source": [
    "section_summaries[2]"
   ]
  },
  {
   "cell_type": "code",
   "execution_count": null,
   "metadata": {},
   "outputs": [],
   "source": []
  },
  {
   "cell_type": "code",
   "execution_count": 33,
   "metadata": {},
   "outputs": [],
   "source": [
    "# report_md = build_markdown_report.build_markdown_report_func(section_summaries)\n",
    "# print(report_md)\n",
    "# save the markdown report\n",
    "# with open(f\"{OUTPUT_FOLDER}/summary_report.md\", \"w\") as file:\n",
    "#     file.write(report_md)"
   ]
  },
  {
   "cell_type": "code",
   "execution_count": 29,
   "metadata": {},
   "outputs": [],
   "source": [
    "json_path = f\"{OUTPUT_FOLDER}/section_summaries.json\"\n",
    "with open(json_path, \"w\") as f:\n",
    "    json.dump(section_summaries, f, indent=4)\n",
    "\n",
    "# from Templates.build_markdown_report import report_order\n",
    "# report_order_json_path = f\"{OUTPUT_FOLDER}/report_order.json\"\n",
    "# with open(report_order_json_path, \"w\") as f:\n",
    "#     json.dump(report_order, f, indent=4)"
   ]
  },
  {
   "cell_type": "code",
   "execution_count": null,
   "metadata": {},
   "outputs": [],
   "source": []
  }
 ],
 "metadata": {
  "kernelspec": {
   "display_name": "probe",
   "language": "python",
   "name": "python3"
  },
  "language_info": {
   "codemirror_mode": {
    "name": "ipython",
    "version": 3
   },
   "file_extension": ".py",
   "mimetype": "text/x-python",
   "name": "python",
   "nbconvert_exporter": "python",
   "pygments_lexer": "ipython3",
   "version": "3.11.9"
  }
 },
 "nbformat": 4,
 "nbformat_minor": 2
}
