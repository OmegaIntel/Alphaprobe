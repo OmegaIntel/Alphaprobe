{
 "cells": [
  {
   "cell_type": "markdown",
   "metadata": {},
   "source": [
    "# Rely on LLM's to extract info from docs\n",
    "\n",
    "Will save them in JSON for future reuse."
   ]
  },
  {
   "cell_type": "code",
   "execution_count": 1,
   "metadata": {},
   "outputs": [
    {
     "data": {
      "text/plain": [
       "True"
      ]
     },
     "execution_count": 1,
     "metadata": {},
     "output_type": "execute_result"
    }
   ],
   "source": [
    "import os\n",
    "import boto3\n",
    "import json\n",
    "import dateparser\n",
    "from glob import glob\n",
    "# from rag.basic_retrieval import file_id\n",
    "# from cachier import cachier\n",
    "from typing import List\n",
    "\n",
    "\n",
    "from Templates.aws_markdown_template import TEMPLATE as MARKDOWN_TEMPLATE\n",
    "from Templates.aws_templates_common import build_aws_template\n",
    "\n",
    "from IPython.display import Markdown\n",
    "\n",
    "from dotenv import load_dotenv\n",
    "load_dotenv()"
   ]
  },
  {
   "cell_type": "code",
   "execution_count": 2,
   "metadata": {},
   "outputs": [],
   "source": [
    "# PDF_LOCATION = 'IndustrySource/Misc/3D Printer Manufacturing in the US.pdf'\n",
    "PDF_LOCATION = 'IndustrySource/Misc/HVAC%20Service%20Franchises%20in%20the%20US.pdf'\n",
    "DOC_ID = PDF_LOCATION.split('/')[-1].split('.')[0].lower().replace(' ', '-')\n",
    "OUTPUT_FOLDER = f'./rag_outputs/{DOC_ID}'\n",
    "if not os.path.exists(OUTPUT_FOLDER):\n",
    "    os.makedirs(OUTPUT_FOLDER)"
   ]
  },
  {
   "cell_type": "code",
   "execution_count": 3,
   "metadata": {},
   "outputs": [],
   "source": [
    "# AWS_REGION_NAME = 'us-west-2'\n",
    "AWS_REGION_NAME = 'us-east-1'\n",
    "\n",
    "aws_access_key_id = os.getenv('AWS_ACCESS_KEY_ID')\n",
    "aws_secret_access_key = os.getenv('AWS_SECRET_ACCESS_KEY')\n",
    "\n",
    "# https://boto3.amazonaws.com/v1/documentation/api/latest/reference/services/bedrock-runtime.html\n",
    "bedrock = boto3.client(\n",
    "    service_name='bedrock-runtime',\n",
    "    aws_access_key_id=aws_access_key_id,\n",
    "    aws_secret_access_key=aws_secret_access_key,\n",
    "    region_name=AWS_REGION_NAME\n",
    ")"
   ]
  },
  {
   "cell_type": "code",
   "execution_count": 27,
   "metadata": {},
   "outputs": [],
   "source": [
    "from pypdf import PdfReader\n",
    "import time\n",
    "\n",
    "def get_number_of_pages(filename: str) -> int:\n",
    "    with open(filename, 'rb') as f:\n",
    "        inputpdf = PdfReader(f)\n",
    "        return len(inputpdf.pages)"
   ]
  },
  {
   "cell_type": "code",
   "execution_count": 4,
   "metadata": {},
   "outputs": [],
   "source": [
    "MARKDOWN_PROMPT = \"\"\"\n",
    "We are sequentially converting a pdf document page by page to markdown format. You are an expert in converting the given PDF content to a Markdown representation.\n",
    "\n",
    "Follow these instructions to complete the task:\n",
    "- Infer the headings and subheadings of the given content with their levels from the appearance and semantic context. Generally, the larger font size, more visible color, and boldface indicate a lower level of the heading. For example, level 1 headings are expected to be more prominent than level 2 headings.\n",
    "- Depending on the level of the section, you use an appropriate number of hash signs (#) to mark their headers in markdown format. # for level 1, ## for level 2, ### for level 3 and so on.\n",
    "- The provided content may start from any page of the document. So the heading at first does not necessarily mean a level 1 heading.\n",
    "- Do not insert any new content. Just convert the existing content to Markdown format while keeping the structure.\n",
    "- Text is converted as it is. If the text is present in conflicting format that can be confusing, please interpret the text correctly and convert it to markdown.\n",
    "- For visuals such as graphs, plots and figures, interpret them, be objective and explain the interpretation of data in detail with numbers and use that explanation in place of the visuals. Explanation provided should capture all the data insights that can be inferred from the figure. Use your best judgement to interpret the visuals.\n",
    "- For tables, convert them to markdown table format without any explanation.\n",
    "- The output should be in markdown format. Do not modify any content. \n",
    "Next is the pdf content:\\n\\n\n",
    "\"\"\""
   ]
  },
  {
   "cell_type": "code",
   "execution_count": 5,
   "metadata": {},
   "outputs": [],
   "source": [
    "def get_raw_pdf_part(filename: str) -> dict:\n",
    "    \"\"\"This works best and parses quickly.\"\"\"\n",
    "    with open(filename, 'rb') as f:\n",
    "        content = f.read()\n",
    "        return {\n",
    "            \"document\": {\n",
    "                \"format\": \"pdf\",\n",
    "                \"name\": 'document',\n",
    "                \"source\": {\n",
    "                    \"bytes\": content\n",
    "                }\n",
    "            }\n",
    "        }\n",
    "\n",
    "\n",
    "def response_to_template(filename: str, template: dict, prompt: str) -> dict:\n",
    "    initial_message = {\n",
    "        \"role\": \"user\",\n",
    "        \"content\": [\n",
    "            {\n",
    "                \"text\": prompt,\n",
    "            },\n",
    "        ],\n",
    "    }\n",
    "\n",
    "    initial_message['content'].append(get_raw_pdf_part(filename))\n",
    "    \n",
    "\n",
    "    tool_list = [{\n",
    "        \"toolSpec\": template\n",
    "    }]\n",
    "    model_id = \"anthropic.claude-3-5-sonnet-20240620-v1:0\"\n",
    "    response = bedrock.converse(\n",
    "        modelId=model_id,\n",
    "        # modelId=\"meta.llama3-1-405b-instruct-v1:0\",\n",
    "        messages=[initial_message],\n",
    "        inferenceConfig={\n",
    "            \"temperature\": 0\n",
    "        },\n",
    "        toolConfig={\n",
    "            \"tools\": tool_list,\n",
    "            \"toolChoice\": {\n",
    "                \"tool\": {\n",
    "                    \"name\": \"info_extract\"\n",
    "                }\n",
    "            }\n",
    "        }\n",
    "    )\n",
    "    core_response = response['output']['message']['content'][0]['toolUse']['input']\n",
    "    if 'properties' in core_response:\n",
    "        core_response: dict = core_response['properties']\n",
    "    for k, v in core_response.items():\n",
    "        if isinstance(v, str) and v[0] in '{[' and v[-1] in ']}':\n",
    "            try:\n",
    "                core_response[k] = json.loads(v)\n",
    "            except Exception:\n",
    "                pass\n",
    "\n",
    "    return core_response"
   ]
  },
  {
   "cell_type": "code",
   "execution_count": 6,
   "metadata": {},
   "outputs": [],
   "source": [
    "\n",
    "# @cachier(hash_func=filename_template_hash)\n",
    "def info_from_doc_template(filename: str, template: dict, prompt: str, **kwargs) -> dict:\n",
    "    \"\"\"Populate the separate templates and merge the result.\"\"\"\n",
    "\n",
    "    template_parts = template['data']\n",
    "    full_templates = build_aws_template(template_parts)\n",
    "    results = [response_to_template(filename, part, prompt, **kwargs) for part in full_templates]\n",
    "\n",
    "    total = {}\n",
    "    for result in results:\n",
    "        total.update(result)\n",
    "\n",
    "    return total"
   ]
  },
  {
   "cell_type": "code",
   "execution_count": 7,
   "metadata": {},
   "outputs": [],
   "source": [
    "def extract_markdown(filename: str, first_page: int, last_page: int) -> dict:\n",
    "    pages_filename = get_initial_pages(filename, pmin=first_page, pmax=last_page+1)\n",
    "    result = info_from_doc_template(filename=pages_filename, template=MARKDOWN_TEMPLATE, prompt=MARKDOWN_PROMPT)\n",
    "    os.remove(pages_filename)\n",
    "    return result"
   ]
  },
  {
   "cell_type": "code",
   "execution_count": 8,
   "metadata": {},
   "outputs": [],
   "source": [
    "def sequentially_process_pdf(filename, np=1):\n",
    "    # find total number of pages in the pdf document\n",
    "    total_pages = get_number_of_pages(filename)\n",
    "\n",
    "    results = []\n",
    "    skipped_pages = []\n",
    "    for i in range(0, total_pages, np):\n",
    "        print(f\"Processing pages {i} to {i+np}\")\n",
    "        pages_filename = get_initial_pages(filename, pmin=i, pmax=i+np)\n",
    "        failures = 0\n",
    "        success = False\n",
    "        result = None\n",
    "        while (not success) and (failures < 3):\n",
    "            try:\n",
    "                result = info_from_doc_template(filename=pages_filename, template=MARKDOWN_TEMPLATE, prompt=MARKDOWN_PROMPT)\n",
    "                success = True\n",
    "                time.sleep(5)\n",
    "            except:\n",
    "                print(f\"Error processing page {i+1}\")\n",
    "                failures += 1\n",
    "                print(f\"Retrying in 60 seconds.\")\n",
    "                time.sleep(60)\n",
    "                if failures == 3:\n",
    "                    result = {\n",
    "                        'markdown': \"**skipped**\",\n",
    "                    }\n",
    "                    print(f\"Failed to process page {i+1} after 3 attempts.\")\n",
    "                    skipped_pages.append(i+1)\n",
    "\n",
    "        results.append(result)\n",
    "        os.remove(pages_filename)\n",
    "    print(f\" Had to skip pages: {len(skipped_pages)}\")\n",
    "    return results, skipped_pages\n",
    "\n",
    "        \n",
    "\n",
    "    "
   ]
  },
  {
   "cell_type": "code",
   "execution_count": 9,
   "metadata": {},
   "outputs": [
    {
     "name": "stdout",
     "output_type": "stream",
     "text": [
      "Processing pages 0 to 1\n",
      "Processing pages 1 to 2\n",
      "Error processing page 2\n",
      "Retrying in 60 seconds.\n",
      "Processing pages 2 to 3\n",
      "Error processing page 3\n",
      "Retrying in 60 seconds.\n",
      "Processing pages 3 to 4\n",
      "Error processing page 4\n",
      "Retrying in 60 seconds.\n",
      "Processing pages 4 to 5\n",
      "Error processing page 5\n",
      "Retrying in 60 seconds.\n",
      "Processing pages 5 to 6\n",
      "Error processing page 6\n",
      "Retrying in 60 seconds.\n",
      "Processing pages 6 to 7\n",
      "Error processing page 7\n",
      "Retrying in 60 seconds.\n",
      "Processing pages 7 to 8\n",
      "Error processing page 8\n",
      "Retrying in 60 seconds.\n",
      "Processing pages 8 to 9\n",
      "Error processing page 9\n",
      "Retrying in 60 seconds.\n",
      "Processing pages 9 to 10\n",
      "Error processing page 10\n",
      "Retrying in 60 seconds.\n",
      "Processing pages 10 to 11\n",
      "Error processing page 11\n",
      "Retrying in 60 seconds.\n",
      "Processing pages 11 to 12\n",
      "Error processing page 12\n",
      "Retrying in 60 seconds.\n",
      "Processing pages 12 to 13\n",
      "Error processing page 13\n",
      "Retrying in 60 seconds.\n",
      "Processing pages 13 to 14\n",
      "Error processing page 14\n",
      "Retrying in 60 seconds.\n",
      "Processing pages 14 to 15\n",
      "Error processing page 15\n",
      "Retrying in 60 seconds.\n",
      "Processing pages 15 to 16\n",
      "Error processing page 16\n",
      "Retrying in 60 seconds.\n",
      "Processing pages 16 to 17\n",
      "Error processing page 17\n",
      "Retrying in 60 seconds.\n",
      "Processing pages 17 to 18\n",
      "Error processing page 18\n",
      "Retrying in 60 seconds.\n",
      "Processing pages 18 to 19\n",
      "Error processing page 19\n",
      "Retrying in 60 seconds.\n",
      "Processing pages 19 to 20\n",
      "Error processing page 20\n",
      "Retrying in 60 seconds.\n",
      "Processing pages 20 to 21\n",
      "Error processing page 21\n",
      "Retrying in 60 seconds.\n",
      "Processing pages 21 to 22\n",
      "Error processing page 22\n",
      "Retrying in 60 seconds.\n",
      "Processing pages 22 to 23\n",
      "Error processing page 23\n",
      "Retrying in 60 seconds.\n",
      "Processing pages 23 to 24\n",
      "Error processing page 24\n",
      "Retrying in 60 seconds.\n",
      "Processing pages 24 to 25\n",
      "Error processing page 25\n",
      "Retrying in 60 seconds.\n",
      "Processing pages 25 to 26\n",
      "Error processing page 26\n",
      "Retrying in 60 seconds.\n",
      "Processing pages 26 to 27\n",
      "Error processing page 27\n",
      "Retrying in 60 seconds.\n",
      "Processing pages 27 to 28\n",
      "Error processing page 28\n",
      "Retrying in 60 seconds.\n",
      "Processing pages 28 to 29\n",
      "Error processing page 29\n",
      "Retrying in 60 seconds.\n",
      "Processing pages 29 to 30\n",
      "Error processing page 30\n",
      "Retrying in 60 seconds.\n",
      "Processing pages 30 to 31\n",
      "Error processing page 31\n",
      "Retrying in 60 seconds.\n",
      "Processing pages 31 to 32\n",
      "Error processing page 32\n",
      "Retrying in 60 seconds.\n",
      "Processing pages 32 to 33\n",
      "Error processing page 33\n",
      "Retrying in 60 seconds.\n",
      "Processing pages 33 to 34\n",
      "Error processing page 34\n",
      "Retrying in 60 seconds.\n",
      "Processing pages 34 to 35\n",
      "Error processing page 35\n",
      "Retrying in 60 seconds.\n",
      "Processing pages 35 to 36\n",
      "Error processing page 36\n",
      "Retrying in 60 seconds.\n",
      "Processing pages 36 to 37\n",
      "Error processing page 37\n",
      "Retrying in 60 seconds.\n",
      "Processing pages 37 to 38\n",
      "Error processing page 38\n",
      "Retrying in 60 seconds.\n",
      "Processing pages 38 to 39\n",
      "Error processing page 39\n",
      "Retrying in 60 seconds.\n",
      "Processing pages 39 to 40\n",
      "Error processing page 40\n",
      "Retrying in 60 seconds.\n",
      "Processing pages 40 to 41\n",
      "Error processing page 41\n",
      "Retrying in 60 seconds.\n",
      "Processing pages 41 to 42\n",
      "Error processing page 42\n",
      "Retrying in 60 seconds.\n",
      "Processing pages 42 to 43\n",
      "Error processing page 43\n",
      "Retrying in 60 seconds.\n",
      "Processing pages 43 to 44\n",
      "Error processing page 44\n",
      "Retrying in 60 seconds.\n",
      "Processing pages 44 to 45\n",
      "Error processing page 45\n",
      "Retrying in 60 seconds.\n",
      "Processing pages 45 to 46\n",
      "Error processing page 46\n",
      "Retrying in 60 seconds.\n",
      "Processing pages 46 to 47\n",
      "Error processing page 47\n",
      "Retrying in 60 seconds.\n",
      "Processing pages 47 to 48\n",
      "Error processing page 48\n",
      "Retrying in 60 seconds.\n",
      "Processing pages 48 to 49\n",
      "Error processing page 49\n",
      "Retrying in 60 seconds.\n",
      "Processing pages 49 to 50\n",
      "Error processing page 50\n",
      "Retrying in 60 seconds.\n",
      "Processing pages 50 to 51\n",
      "Error processing page 51\n",
      "Retrying in 60 seconds.\n",
      "Processing pages 51 to 52\n",
      "Error processing page 52\n",
      "Retrying in 60 seconds.\n",
      "Processing pages 52 to 53\n",
      "Error processing page 53\n",
      "Retrying in 60 seconds.\n",
      " Had to skip pages: 0\n"
     ]
    }
   ],
   "source": [
    "file_path = PDF_LOCATION\n",
    "\n",
    "results, skipped_pages = sequentially_process_pdf(file_path, np=1)"
   ]
  },
  {
   "cell_type": "code",
   "execution_count": 11,
   "metadata": {},
   "outputs": [
    {
     "name": "stdout",
     "output_type": "stream",
     "text": [
      "53\n"
     ]
    }
   ],
   "source": [
    "print(len(results))"
   ]
  },
  {
   "cell_type": "code",
   "execution_count": 12,
   "metadata": {},
   "outputs": [],
   "source": [
    "from llama_index.core import Document\n",
    "import pickle\n",
    "model = \"anthropic.claude-3-5-sonnet-20240620-v1:0\"\n",
    "\n",
    "output_pickle_path = os.path.join(OUTPUT_FOLDER, f\"_{model}_pages.pkl\")\n",
    "\n",
    "documents = []\n",
    "for i, response in enumerate(results):\n",
    "    doc = Document(text=results[i]['markdown'], metadata={\"page_number\": i+1})\n",
    "    documents.append(doc)\n",
    "parsed_result = {\"parsed_documents\": documents, \"skipped_pages\": skipped_pages}\n",
    "pickle.dump(parsed_result, open(output_pickle_path, 'wb'))\n",
    "\n",
    "\n",
    "\n",
    "\n"
   ]
  },
  {
   "cell_type": "code",
   "execution_count": null,
   "metadata": {},
   "outputs": [],
   "source": [
    "# filenames = [\n",
    "#     'IndustrySource/Misc/3D Printer Manufacturing in the US.pdf'\n",
    "# ]\n",
    "# markdown = [extract_markdown(filename, 45, 48) for filename in filenames[:5]]\n",
    "# markdown"
   ]
  },
  {
   "cell_type": "markdown",
   "metadata": {},
   "source": [
    "# Phase 2 : Load documents and do post processing to correct the heading structure"
   ]
  },
  {
   "cell_type": "code",
   "execution_count": 4,
   "metadata": {},
   "outputs": [
    {
     "name": "stdout",
     "output_type": "stream",
     "text": [
      "./rag_outputs/hvac%20service%20franchises%20in%20the%20us/_anthropic.claude-3-5-sonnet-20240620-v1:0_pages.pkl\n",
      "53\n"
     ]
    }
   ],
   "source": [
    "from llama_index.core import Document\n",
    "import pickle\n",
    "\n",
    "# PDF_LOCATION = 'IndustrySource/Misc/3D Printer Manufacturing in the US.pdf'\n",
    "PDF_LOCATION = 'IndustrySource/Misc/HVAC%20Service%20Franchises%20in%20the%20US.pdf'\n",
    "DOC_ID = PDF_LOCATION.split('/')[-1].split('.')[0].lower().replace(' ', '-')\n",
    "OUTPUT_FOLDER = f'./rag_outputs/{DOC_ID}'\n",
    "\n",
    "\n",
    "model = \"anthropic.claude-3-5-sonnet-20240620-v1:0\"\n",
    "\n",
    "output_pickle_path = os.path.join(OUTPUT_FOLDER, f\"_{model}_pages.pkl\")\n",
    "print(output_pickle_path)\n",
    "# load pickle file if it exists\n",
    "if os.path.exists(output_pickle_path):\n",
    "    with open(output_pickle_path, 'rb') as f:\n",
    "        parsed_result = pickle.load(f)\n",
    "\n",
    "documents = parsed_result['parsed_documents']\n",
    "print(len(documents))"
   ]
  },
  {
   "cell_type": "code",
   "execution_count": 5,
   "metadata": {},
   "outputs": [],
   "source": [
    "def response_to_text(content_text: str, template: dict, main_prompt: str, system_prompt: str, final_prompt: str, tool_name: str=\"info_extract\") -> dict:\n",
    "    initial_message = {\n",
    "        \"role\": \"user\",\n",
    "        \"content\": [\n",
    "            {\n",
    "                \"text\": main_prompt,\n",
    "            },\n",
    "        ],\n",
    "    }\n",
    "\n",
    "    initial_message['content'].append({\"text\": content_text})\n",
    "    if final_prompt is not None:\n",
    "        initial_message['content'].append({\"text\": final_prompt})\n",
    "    \n",
    "\n",
    "    tool_list = [{\n",
    "        \"toolSpec\": template\n",
    "    }]\n",
    "    # model_id = \"anthropic.claude-3-sonnet-20240229-v1:0\"\n",
    "    model_id = \"anthropic.claude-3-5-sonnet-20240620-v1:0\"\n",
    "    response = bedrock.converse(\n",
    "        modelId=model_id,\n",
    "        # modelId=\"meta.llama3-1-405b-instruct-v1:0\",\n",
    "        messages=[initial_message],\n",
    "        # system = system_prompt,\n",
    "        inferenceConfig={\n",
    "            \"temperature\": 0,\n",
    "        },\n",
    "        toolConfig={\n",
    "            \"tools\": tool_list,\n",
    "            \"toolChoice\": {\n",
    "                \"tool\": {\n",
    "                    \"name\": tool_name\n",
    "                }\n",
    "            }\n",
    "        }\n",
    "    )\n",
    "    core_response = response['output']['message']['content'][0]['toolUse']['input']\n",
    "    if 'properties' in core_response:\n",
    "        core_response: dict = core_response['properties']\n",
    "    for k, v in core_response.items():\n",
    "        if isinstance(v, str) and v[0] in '{[' and v[-1] in ']}':\n",
    "            try:\n",
    "                core_response[k] = json.loads(v)\n",
    "            except Exception:\n",
    "                pass\n",
    "\n",
    "    return core_response, response"
   ]
  },
  {
   "cell_type": "code",
   "execution_count": 6,
   "metadata": {},
   "outputs": [],
   "source": [
    "docs = [document.text for document in documents]\n",
    "# iterate over docs and see if the first sentence contains the title, then remove the whole line from the text\n",
    "all_sentences = []\n",
    "for i, doc in enumerate(docs):\n",
    "    sentences = doc.split(\"\\n\")\n",
    "    all_sentences.append(sentences)\n"
   ]
  },
  {
   "cell_type": "code",
   "execution_count": 7,
   "metadata": {},
   "outputs": [
    {
     "name": "stdout",
     "output_type": "stream",
     "text": [
      "53\n"
     ]
    },
    {
     "data": {
      "text/plain": [
       "[['# HVAC Service Franchises in the US',\n",
       "  '## Covid-19 Update',\n",
       "  '## Industry at a Glance'],\n",
       " ['# Key Statistics'],\n",
       " ['# Key Industry Data',\n",
       "  '## Number of Establishments',\n",
       "  '## Number of Enterprises',\n",
       "  '## Employment',\n",
       "  '## Total Wages'],\n",
       " ['# Private Spending on Home Improvements',\n",
       "  '## CAGR:',\n",
       "  '### 2004 - 2023',\n",
       "  '### PROJECTED:',\n",
       "  '#### 2023 - 2029',\n",
       "  '## Executive Summary'],\n",
       " ['## Current Performance',\n",
       "  '## The Residential Sector Provided a Massive Boost for HVAC Services',\n",
       "  '## Rising Interest Rates Affected Demand for Both Major Downstream Markets']]"
      ]
     },
     "execution_count": 7,
     "metadata": {},
     "output_type": "execute_result"
    }
   ],
   "source": [
    "\n",
    "all_titles = []\n",
    "for i, sentences in enumerate(all_sentences):\n",
    "    page_headings = []\n",
    "    for j, sentence in enumerate(sentences):\n",
    "        # sentence is a heading if it starts with # or ## or ### or #### or #####\n",
    "        if sentence.startswith(\"#\"):\n",
    "            page_headings.append(sentence)\n",
    "    all_titles.append(page_headings)\n",
    "\n",
    "print(len(all_titles))\n",
    "all_titles[:5]"
   ]
  },
  {
   "cell_type": "code",
   "execution_count": 8,
   "metadata": {},
   "outputs": [],
   "source": [
    "PAGE_TITLE_PROMPT = \"\"\" You are expert in determining the page numbers where a specific section begins from the list of titles and corresponding page numbers.\n",
    "There are 6 sections in the document: [\"Industry at a Glance\", \"Supply Chain\", \"Competitive Landscape\", \"Costs & Operations\", \"Questions for Owners\", \"Datatables & Glossary\"]\n",
    "Section 1: Industry at a Glance contains subsections such as Key Statistics, Executive Summary, Current Performance, Future Outlook, Industry Definition, Industry Impact, SWOT Analysis, Key Trends.\n",
    "Section 2: Supply Chain contains subsections such as External drivers, Supply Chain, Similar Industries, Related International Industries, Products & Services, Demand Determinants, Market Segmentation, Business Locations\n",
    "Section 3: Competitive Landscape contains subsections such as Basis of Competition, Barriers to Entry, Market Share Concentration, Industry Globalization\n",
    "Section 4: Costs & Operations contains subsections such as Cost Structure, Capital Intensity, Revenue Volatility, Regulation & Policy, Industry Assistance\n",
    "Section 5: Questions for Owners contains some questions and answers\n",
    "Section 6: Datatables & Glossary contains some tables for Industry Data and glossary of industry terms.\n",
    "You will be given a list of titles parsed from pdf and the corresponding page number where each title was parsed from. Each title begins in a new line with a page number as prefix enclosed in angle brackets <>.\n",
    "Use the given information and your best jusdgement to determine the page number where each section begins.\n",
    "Use the tool to output the page numbers in json format. If you are not sure about any section, output 0.\n",
    "\"\"\""
   ]
  },
  {
   "cell_type": "code",
   "execution_count": null,
   "metadata": {},
   "outputs": [],
   "source": []
  },
  {
   "cell_type": "code",
   "execution_count": 20,
   "metadata": {},
   "outputs": [],
   "source": [
    "from Templates.aws_templates_common import build_aws_template\n",
    "from Templates.aws_section_page_number_template import TEMPLATE as page_number_template\n",
    "\n",
    "def get_page_numbers_for_sections(all_titles: List[List[str]]):\n",
    "    template = page_number_template\n",
    "    template_parts = template['data']\n",
    "    page_title_template = build_aws_template(template_parts, tool_name=\"page_number_inference\")[0]\n",
    "\n",
    "    #add page number as prefix to each title\n",
    "    all_titles_with_page = []\n",
    "    for i, titles in enumerate(all_titles):\n",
    "        titles_with_page = [f\"<Page {i+1}> {title}\" for title in titles]\n",
    "        all_titles_with_page.extend(titles_with_page)\n",
    "    print(all_titles_with_page)\n",
    "    titles_text = \"\\n\".join(all_titles_with_page)\n",
    "    num_failed = 0\n",
    "    response = None\n",
    "    response_raw = None\n",
    "    while num_failed < 5:\n",
    "        try:     \n",
    "            response, response_raw = response_to_text(titles_text, page_title_template, PAGE_TITLE_PROMPT, None, None, tool_name=\"page_number_inference\")\n",
    "            break\n",
    "        except Exception as e:\n",
    "            print(f\"Failed to get page numbers for sections. Retrying in 60 seconds.\")\n",
    "            print(e)\n",
    "            time.sleep(60)\n",
    "            num_failed += 1\n",
    "    return response, response_raw"
   ]
  },
  {
   "cell_type": "code",
   "execution_count": 22,
   "metadata": {},
   "outputs": [],
   "source": [
    "def get_page_mapping_list(page_mapping, sections_names):\n",
    "    if page_mapping is None:\n",
    "        page_mapping = [0]*len(sections_names)\n",
    "    page_mapping_list = []\n",
    "\n",
    "    total_pages = get_number_of_pages(PDF_LOCATION)\n",
    "    for sec_ix, sec in enumerate(sections_names):\n",
    "        sec_mod = sec.lower().replace(' & ','_').replace(' ', '_')\n",
    "        f_p = page_mapping[sec_mod]\n",
    "        prev_ix = sec_ix-1\n",
    "        while f_p == 0 and prev_ix >= 0:\n",
    "            prev_sec = sections_names[prev_ix].lower().replace(' & ','_').replace(' ', '_')\n",
    "            f_p = page_mapping[prev_sec]\n",
    "            prev_ix -= 1   \n",
    "        if f_p == 0:\n",
    "            f_p = 1\n",
    "        \n",
    "        if sec_ix == len(sections_names)-1:\n",
    "            e_p = total_pages\n",
    "        else:\n",
    "            sec_next = sections_names[sec_ix+1].lower().replace(' & ','_').replace(' ', '_')\n",
    "            e_p = min(page_mapping[sec_next], total_pages)\n",
    "        next_ix = sec_ix+1\n",
    "        while e_p == 0 and next_ix < len(sections_names):\n",
    "            next_sec = sections_names[next_ix].lower().replace(' & ','_').replace(' ', '_')\n",
    "            e_p = page_mapping[next_sec]\n",
    "            next_ix += 1\n",
    "        if e_p == 0:\n",
    "            e_p = total_pages\n",
    "        page_mapping_list.append((sec, f_p, e_p))\n",
    "    return page_mapping_list\n",
    "        "
   ]
  },
  {
   "cell_type": "markdown",
   "metadata": {},
   "source": [
    "# Phase 3: Extract info from respective section"
   ]
  },
  {
   "cell_type": "code",
   "execution_count": 23,
   "metadata": {},
   "outputs": [],
   "source": [
    "INFO_EXTRACTION_PROMPT = \"\"\"\n",
    "You are an expert in extracting market and financial data from documents.\n",
    "Use the given tool to extract essential data from text in the enclosed document. Do not make any assumptions or add any information that is not present in the text.\n",
    "\n",
    "Return the result in JSON format. Do not use non-JSON tags. If some numeric data is not present in the text, simply output the number 101 as an answer where numeric data is expected.\n",
    "For titles and names, limit the output to 20 words. For descriptions and key points, limit the output to 50 words.\n",
    "\"\"\""
   ]
  },
  {
   "cell_type": "code",
   "execution_count": 30,
   "metadata": {},
   "outputs": [],
   "source": [
    "def get_section_text(docs, start_page, end_page):\n",
    "    section_text = []\n",
    "    for i in range(start_page-1, end_page):\n",
    "        section_text.append(docs[i])\n",
    "    return \"\\n\".join(section_text)\n",
    "    "
   ]
  },
  {
   "cell_type": "code",
   "execution_count": 34,
   "metadata": {},
   "outputs": [],
   "source": [
    "\n",
    "def extract_info_for_section(docs, template, main_prompt, start_page, end_page):\n",
    "    section_text = get_section_text(docs, start_page, end_page)\n",
    "    num_failed = 0\n",
    "    result = None\n",
    "    while num_failed < 5:\n",
    "        try:\n",
    "            result = response_to_text(section_text, template, main_prompt, None, None)\n",
    "            break\n",
    "        except Exception as e:\n",
    "            num_failed += 1\n",
    "            print(f\"Error: {e}\")\n",
    "            print(f\"Failed {num_failed} times. Sleeping for 60 seconds.\")\n",
    "            time.sleep(60)\n",
    "            continue\n",
    "    return result\n",
    "\n",
    "def extract_info_for_all_sections(page_mapping_list, full_templates, docs):\n",
    "    section_summaries = []\n",
    "    raw_responses = []\n",
    "    for idx, elem in enumerate(page_mapping_list):\n",
    "        print(f\"Extracting for section {elem}\")\n",
    "        section_name, start_page, end_page = elem\n",
    "        if idx >= len(full_templates):\n",
    "            break\n",
    "        section_summary, raw_response = extract_info_for_section(docs, full_templates[idx], INFO_EXTRACTION_PROMPT, start_page, end_page)\n",
    "        section_summaries.append(section_summary)\n",
    "        raw_responses.append(raw_response)\n",
    "        print(f\"Extracted for section {section_name}\")\n",
    "        print(\"Sleeping for 60 seconds.\")\n",
    "        time.sleep(60)\n",
    "    return section_summaries, raw_responses\n"
   ]
  },
  {
   "cell_type": "code",
   "execution_count": 26,
   "metadata": {},
   "outputs": [
    {
     "name": "stdout",
     "output_type": "stream",
     "text": [
      "['<Page 1> # HVAC Service Franchises in the US', '<Page 1> ## Covid-19 Update', '<Page 1> ## Industry at a Glance', '<Page 2> # Key Statistics', '<Page 3> # Key Industry Data', '<Page 3> ## Number of Establishments', '<Page 3> ## Number of Enterprises', '<Page 3> ## Employment', '<Page 3> ## Total Wages', '<Page 4> # Private Spending on Home Improvements', '<Page 4> ## CAGR:', '<Page 4> ### 2004 - 2023', '<Page 4> ### PROJECTED:', '<Page 4> #### 2023 - 2029', '<Page 4> ## Executive Summary', '<Page 5> ## Current Performance', '<Page 5> ## The Residential Sector Provided a Massive Boost for HVAC Services', '<Page 5> ## Rising Interest Rates Affected Demand for Both Major Downstream Markets', '<Page 6> # COVID-19 CAUSES DISRUPTIONS IN MOST MARKETS', '<Page 6> # FUTURE OUTLOOK', '<Page 6> ## ELEVATED INTEREST RATES WILL DEPRESS THE RESIDENTIAL SECTOR', '<Page 6> ## A GROWING BUSINESS SECTOR WILL AID HVAC FRANCHISES AS OTHER MARKETS FALTER', '<Page 7> ## ENVIRONMENTALLY FRIENDLY SYSTEMS ARE THE WAY OF THE FUTURE', '<Page 7> ## INDUSTRY DEFINITION', '<Page 7> ## INDUSTRY IMPACT', '<Page 7> ### POSITIVE IMPACT', '<Page 8> ## Globalization Level', '<Page 8> ## MIXED IMPACT', '<Page 8> ### Life Cycle Stage', '<Page 8> ### Revenue Volatility Level', '<Page 8> ### Regulation Level', '<Page 8> ### Technology Change Level', '<Page 8> ### Barriers To Entry Level', '<Page 8> ## NEGATIVE IMPACT', '<Page 8> ### Industry Assistance Level', '<Page 8> ### Competition Level', '<Page 8> ## SWOT ANALYSIS', '<Page 8> ### Strengths', '<Page 8> ### Weaknesses', '<Page 9> ## OPPORTUNITIES', '<Page 9> ## THREATS', '<Page 9> ## INDUSTRY LIFE CYCLE', '<Page 9> ## CONTRIBUTION TO GDP', '<Page 10> ## MARKET SATURATION', '<Page 10> ## INNOVATION', '<Page 10> ## CONSOLIDATION', '<Page 10> ## TECHNOLOGY & SYSTEMS', '<Page 10> ## KEY TRENDS', '<Page 11> ## External Drivers', '<Page 11> ### Housing Starts', '<Page 11> ### Per Capita Disposable Income', '<Page 12> ## Private Spending on Home Improvements', '<Page 12> ### CAGR:', '<Page 12> ### PROJECTED:', '<Page 12> ## Value of Private Nonresidential Construction', '<Page 12> ### CAGR:', '<Page 12> ### PROJECTED:', '<Page 13> # Supply Chain', '<Page 13> ## Tier 2 Suppliers', '<Page 13> ## Tier 1 Suppliers', '<Page 14> # HVAC SERVICE FRANCHISES IN THE US', '<Page 14> ## TIER 1 BUYERS', '<Page 14> ## TIER 2 BUYERS', '<Page 15> ## Similar Industries', '<Page 15> ## Related International Industries', '<Page 16> # Air Conditioning and Heating Services in New Zealand', '<Page 16> # Plumbing, Heating & Air Conditioning Installation in Ireland', '<Page 16> ## PRODUCTS & SERVICES', '<Page 16> ### 46.3% NEW CONSTRUCTION HVAC INSTALLATIONS', '<Page 16> ### 13.3% EXISTING STRUCTURE HVAC INSTALLATIONS (I.E. REPLACEMENTS)', '<Page 17> # THE NEED FOR NEW HVAC INSTALLATIONS FOLLOWS TRENDS IN THE HOUSING MARKET', '<Page 17> ## INVESTMENT IN NONRESIDENTIAL STRUCTURES INFLUENCES DEMAND FOR EXISTING HVAC INSTALLATIONS', '<Page 17> ### HVAC MAINTENANCE AND REPAIRS', '<Page 17> ### REFRIGERATION SYSTEM INSTALLATIONS, MAINTENANCE AND REPAIRS', '<Page 18> ## Maintenance of HVAC Systems is Viewed as a Necessity Regardless of Economic Conditions', '<Page 18> ## Refrigeration Undergoes Major Innovations', '<Page 19> # DEMAND DETERMINANTS', '<Page 20> # MARKET SEGMENTATION', '<Page 20> ## THE HOUSING MARKET DETERMINES THE STRENGTH OF NEW AND EXISTING RESIDENTIAL CONSTRUCTION', '<Page 20> ## DOWNSTREAM DEMAND FROM THE MANUFACTURING SECTOR INFLUENCES HVAC SPENDING ON INDUSTRIAL BUILDINGS', '<Page 21> ## The Move to At-Home Work May Hinder Heating and Air-Conditioning Installations on Office Buildings', '<Page 21> ## Private Nonresidential Construction is the Main Driver for HVAC Installations on Commercial Buildings', '<Page 21> ## Fewer College Students Threaten HVAC Franchises that Work on Educational Facilities', '<Page 22> ## MISCELLANEOUS SEGMENTS ARE INFLUENCED BY A VARIETY OF TRENDS', '<Page 22> ## INTERNATIONAL TRADE', '<Page 22> ### IMPORTS', '<Page 22> ### EXPORTS', '<Page 22> ## BUSINESS LOCATIONS', '<Page 23> ## Distribution of Establishments vs Population', \"<Page 23> ### THE SOUTHEAST'S MASSIVE POPULATION\", '<Page 23> ### THE GREAT LAKES, WHICH HAS A BIG INDUSTRIAL SECTOR', '<Page 23> ### WEST OFFERS THE BEST OF BOTH WORLDS', '<Page 24> ## Competitive Landscape', '<Page 24> ### BASIS OF COMPETITION', '<Page 24> ### INTERNAL COMPETITION', '<Page 25> ## EXTERNAL COMPETITION', '<Page 25> ## BARRIERS TO ENTRY', '<Page 25> ### FACTORS FOR INCREASED BARRIERS', '<Page 25> ### FACTORS FOR DECREASED BARRIERS', '<Page 25> ### LEGAL', '<Page 25> ### START-UP COSTS', '<Page 25> ### DIFFERENTIATION', '<Page 26> ## LABOR INTENSITY', '<Page 26> ## MARKET SHARE CONCENTRATION', '<Page 26> ### LOW concentration', '<Page 26> ### FRANCHISES SCALE EASILY, LEADING TO WIDE-REACHING, HYPER CONCENTRATED PLAYERS', '<Page 26> ### CONSOLIDATION DIFFERS BY THE TYPE OF BUSINESSES SERVED', '<Page 26> ## INDUSTRY GLOBALIZATION', '<Page 26> ### LOW globalization STEADY globalization', '<Page 27> # Industry Globalization', '<Page 27> # Major Players', '<Page 27> ## Market Share for 2023', '<Page 27> ## One Hour Heating & Air Conditioning', '<Page 27> ### Sub-brands:', '<Page 27> ### Market Share: 37.3%', '<Page 27> ### Revenue: $348 million', '<Page 28> # Financial Performance', '<Page 28> ## Revenue and Operating Income Trend', '<Page 28> # Aire Serv LLC', '<Page 28> ## Market Share: 15.9%', '<Page 28> ## Revenue: 148 $ million', '<Page 29> # LINC SERVICE LLC', '<Page 29> ## SUB-BRANDS: ABM, TEGG, LINC', '<Page 29> ## MARKET SHARE: 9.5 %', '<Page 29> ## REVENUE: 89 $ million', '<Page 29> ## Financial Performance', '<Page 29> ### Revenue and Operating Income Trend', '<Page 30> ## YEAR REVENUE', '<Page 30> ### REVENUE', '<Page 30> ### OTHER PLAYERS', '<Page 31> # DUCTZ INTERNATIONAL INC', '<Page 31> ## Costs & Operations', '<Page 31> ### COST STRUCTURE', '<Page 32> # Profit', '<Page 32> ## Profit Remains Steady But Experiences Some Volatility', '<Page 33> # WAGES', '<Page 33> ## HIGH SKILL KEEPS WAGES HIGH', '<Page 33> # PURCHASES', '<Page 33> ## GLOBAL SUPPLY ISSUES KEEP PURCHASE COSTS HIGH', '<Page 33> # CAPITAL INTENSITY', '<Page 33> ## LOW capital intensity', '<Page 34> ## Technological Disruption', '<Page 34> ### Medium technology change', '<Page 35> ## Heating Technologies', '<Page 35> ## Air Conditioning and Cooling Technologies', '<Page 35> ## REVENUE VOLATILITY', '<Page 35> ### MEDIUM revenue volatility', '<Page 36> # INTEREST RATES CAN MAKE OR BREAK INDUSTRY PERFORMANCE', '<Page 36> # NEEDED MAINTENANCE KEEPS HVAC FRANCHISES RELEVANT REGARDLESS OF MARKET CONDITIONS', '<Page 36> # EXPANSION INTO THE NONRESIDENTIAL SECTOR HELPS SHIELD FRANCHISES FROM SOME VOLATILITY', '<Page 36> # REGULATION & POLICY', '<Page 37> ## MEDIUM regulation INCREASING regulation', '<Page 37> ### LICENSING REGULATIONS', '<Page 37> ### THE COMPREHENSIVE ENVIRONMENTAL RESPONSE, COMPENSATION AND LIABILITY ACT (CERCLA) OF 1980', '<Page 37> ### TITLE VI OF THE CLEAN AIR ACT', '<Page 37> ### EFFICIENCY REQUIREMENTS FOR CENTRAL AIR-CONDITIONING', '<Page 37> ### NATIONAL STANDARDS', '<Page 38> # PANDEMIC ERA RULES', '<Page 38> # INDUSTRY ASSISTANCE', '<Page 38> ## LOW assistance STEADY assistance', '<Page 38> ### Private', '<Page 38> #### AIR CONDITIONING CONTRACTORS OF AMERICA (ACCA)', '<Page 38> #### AMERICAN SOCIETY OF HEATING, REFRIGERATING AND AIR-CONDITIONING ENGINEERS', '<Page 38> ### Public', '<Page 38> #### LICENSING AND CERTIFICATION', '<Page 39> # Questions for Owners', '<Page 39> ## Does your company primarily work with residential or nonresidential construction markets? Can you easily switch between these markets?', '<Page 39> ### Sales & Marketing', '<Page 39> ## Are you solely focused on new work, or do you participate in remodeling activities?', '<Page 39> ### Sales & Marketing', '<Page 39> ## Does your company make use of subcontractors to save on wage costs? Roughly, what percent of revenue is consumed by wages?', '<Page 39> ### Strategy & Operations', '<Page 39> ## PAYCHECK PROTECTION PROGRAM (PPP)', '<Page 39> ## QUALIFIED IMPROVEMENT PROPERTY (QIP) TAX WRITE-OFF', '<Page 40> ## Strategy & Operations', '<Page 40> ### Technology', '<Page 40> ### Compliance', '<Page 40> #### What is the size of your staff? How does that compare to your competitors?', '<Page 40> #### In light of increasing wage costs, has your company considered using new technologies to increase productivity or reduce total employment?', '<Page 40> #### Have productivity issues ever kept you from winning lucrative contracts over larger competitors?', '<Page 40> #### How does your company ensure all health and safety requirements are met on and off the construction site?', \"<Page 40> #### Do you work with local or national trade associations to advance your company's interests?\", \"<Page 41> ## How do your company's profit margins compare with your competitors'?\", '<Page 41> ### Finance', '<Page 41> ## What ongoing financing challenges does your company face?', '<Page 41> ### Finance', '<Page 41> ## Do you have a strong reputation among customers? Are you known for your reliability and performance?', '<Page 41> ### Having a good reputation', '<Page 41> ## How quickly can new technology be adopted? Does your company keep up to date with the latest technology? What are the associated costs?', '<Page 41> ### Ability to quickly adopt new technology', '<Page 41> ## How do you manage input costs? Do you have deals in place based on economies of scale?', '<Page 42> # Management of seasonal production', '<Page 42> ## What percentage of your revenue depends on demand from regular consumers? What are some other ways to boost demand?', '<Page 42> ### Private spending on home improvements', '<Page 42> ## How much do you serve the nonresidential construction market? How can you make further inroads in this growing segment?', '<Page 42> ### Value of private nonresidential construction', '<Page 42> ## How does a rise in disposable income levels benefit your industry? How do you take advantage of this opportunity?', '<Page 42> ### Per capita disposable income', '<Page 43> # Datatables & Glossary', '<Page 43> ## INDUSTRY DATA', '<Page 44> ## Industry Statistics', '<Page 44> ## Annual Change', '<Page 45> ## Key Statistics', '<Page 45> ## Key Ratios', '<Page 46> ## GLOSSARY', '<Page 46> ### FRANCHISEE', '<Page 46> ### GREEN', '<Page 47> ## Green Products', '<Page 47> ## Heating, Ventilation and Air Conditioning (HVAC)', '<Page 47> ## Refrigerant', '<Page 47> ## Seasonal Energy Efficiency Ratings (SEER)', '<Page 47> ## Barriers to Entry', '<Page 47> ## Capital Intensity', '<Page 47> ## Constant Prices', '<Page 48> ## DOMESTIC DEMAND', '<Page 48> ## EMPLOYMENT', '<Page 48> ## ENTERPRISE', '<Page 48> ## ESTABLISHMENT', '<Page 48> ## EXPORTS', '<Page 48> ## IMPORTS', '<Page 48> ## INDUSTRY CONCENTRATION', '<Page 49> ## INDUSTRY REVENUE', '<Page 49> ## INDUSTRY VALUE ADDED (IVA)', '<Page 49> ## INTERNATIONAL TRADE', '<Page 49> ## LIFE CYCLE', '<Page 49> ## NONEMPLOYING ESTABLISHMENT', '<Page 49> ## PROFIT', '<Page 50> ## REGIONS', '<Page 50> ## VOLATILITY', '<Page 50> ## WAGES', '<Page 50> ## RELATED REPORTS', '<Page 51> # Related Industries', '<Page 52> ### Related Industries', '<Page 53> # Related Industries', '<Page 53> ## Heating & Air-Conditioning Contractors in Canada', '<Page 53> ## Air Conditioning and Heating Services in New Zealand', '<Page 53> ## Plumbing, Heating & Air Conditioning Installation in Ireland', '<Page 53> ## HVAC Service Franchises in the US']\n"
     ]
    },
    {
     "ename": "NameError",
     "evalue": "name 'get_number_of_pages' is not defined",
     "output_type": "error",
     "traceback": [
      "\u001b[0;31m---------------------------------------------------------------------------\u001b[0m",
      "\u001b[0;31mNameError\u001b[0m                                 Traceback (most recent call last)",
      "Cell \u001b[0;32mIn[26], line 4\u001b[0m\n\u001b[1;32m      1\u001b[0m sections_names \u001b[38;5;241m=\u001b[39m [\u001b[38;5;124m\"\u001b[39m\u001b[38;5;124mIndustry at a Glance\u001b[39m\u001b[38;5;124m\"\u001b[39m, \u001b[38;5;124m\"\u001b[39m\u001b[38;5;124mSupply Chain\u001b[39m\u001b[38;5;124m\"\u001b[39m, \u001b[38;5;124m\"\u001b[39m\u001b[38;5;124mCompetitive Landscape\u001b[39m\u001b[38;5;124m\"\u001b[39m, \u001b[38;5;124m\"\u001b[39m\u001b[38;5;124mCosts & Operations\u001b[39m\u001b[38;5;124m\"\u001b[39m, \u001b[38;5;124m\"\u001b[39m\u001b[38;5;124mQuestions for Owners\u001b[39m\u001b[38;5;124m\"\u001b[39m, \u001b[38;5;124m\"\u001b[39m\u001b[38;5;124mDatatables & Glossary\u001b[39m\u001b[38;5;124m\"\u001b[39m]\n\u001b[1;32m      3\u001b[0m page_mapping, page_response_raw \u001b[38;5;241m=\u001b[39m get_page_numbers_for_sections(all_titles)\n\u001b[0;32m----> 4\u001b[0m page_mapping_list \u001b[38;5;241m=\u001b[39m \u001b[43mget_page_mapping_list\u001b[49m\u001b[43m(\u001b[49m\u001b[43mpage_mapping\u001b[49m\u001b[43m,\u001b[49m\u001b[43m \u001b[49m\u001b[43msections_names\u001b[49m\u001b[43m)\u001b[49m\n\u001b[1;32m      5\u001b[0m \u001b[38;5;28mprint\u001b[39m(page_mapping_list)\n",
      "Cell \u001b[0;32mIn[22], line 6\u001b[0m, in \u001b[0;36mget_page_mapping_list\u001b[0;34m(page_mapping, sections_names)\u001b[0m\n\u001b[1;32m      3\u001b[0m     page_mapping \u001b[38;5;241m=\u001b[39m [\u001b[38;5;241m0\u001b[39m]\u001b[38;5;241m*\u001b[39m\u001b[38;5;28mlen\u001b[39m(sections_names)\n\u001b[1;32m      4\u001b[0m page_mapping_list \u001b[38;5;241m=\u001b[39m []\n\u001b[0;32m----> 6\u001b[0m total_pages \u001b[38;5;241m=\u001b[39m \u001b[43mget_number_of_pages\u001b[49m(PDF_LOCATION)\n\u001b[1;32m      7\u001b[0m \u001b[38;5;28;01mfor\u001b[39;00m sec_ix, sec \u001b[38;5;129;01min\u001b[39;00m \u001b[38;5;28menumerate\u001b[39m(sections_names):\n\u001b[1;32m      8\u001b[0m     sec_mod \u001b[38;5;241m=\u001b[39m sec\u001b[38;5;241m.\u001b[39mlower()\u001b[38;5;241m.\u001b[39mreplace(\u001b[38;5;124m'\u001b[39m\u001b[38;5;124m & \u001b[39m\u001b[38;5;124m'\u001b[39m,\u001b[38;5;124m'\u001b[39m\u001b[38;5;124m_\u001b[39m\u001b[38;5;124m'\u001b[39m)\u001b[38;5;241m.\u001b[39mreplace(\u001b[38;5;124m'\u001b[39m\u001b[38;5;124m \u001b[39m\u001b[38;5;124m'\u001b[39m, \u001b[38;5;124m'\u001b[39m\u001b[38;5;124m_\u001b[39m\u001b[38;5;124m'\u001b[39m)\n",
      "\u001b[0;31mNameError\u001b[0m: name 'get_number_of_pages' is not defined"
     ]
    }
   ],
   "source": [
    "sections_names = [\"Industry at a Glance\", \"Supply Chain\", \"Competitive Landscape\", \"Costs & Operations\", \"Questions for Owners\", \"Datatables & Glossary\"]\n",
    "\n",
    "page_mapping, page_response_raw = get_page_numbers_for_sections(all_titles)\n"
   ]
  },
  {
   "cell_type": "code",
   "execution_count": 28,
   "metadata": {},
   "outputs": [
    {
     "name": "stdout",
     "output_type": "stream",
     "text": [
      "{'industry_at_a_glance': 1, 'supply_chain': 13, 'competitive_landscape': 24, 'costs_operations': 31, 'questions_for_owners': 39, 'datatables_glossary': 43}\n",
      "[('Industry at a Glance', 1, 13), ('Supply Chain', 13, 24), ('Competitive Landscape', 24, 31), ('Costs & Operations', 31, 39), ('Questions for Owners', 39, 43), ('Datatables & Glossary', 43, 53)]\n"
     ]
    }
   ],
   "source": [
    "print(page_mapping)\n",
    "page_mapping_list = get_page_mapping_list(page_mapping, sections_names)\n",
    "print(page_mapping_list)"
   ]
  },
  {
   "cell_type": "code",
   "execution_count": 35,
   "metadata": {},
   "outputs": [
    {
     "name": "stdout",
     "output_type": "stream",
     "text": [
      "Extracting for section ('Industry at a Glance', 1, 13)\n",
      "Extracted for section Industry at a Glance\n",
      "Sleeping for 60 seconds.\n",
      "Extracting for section ('Supply Chain', 13, 24)\n",
      "Extracted for section Supply Chain\n",
      "Sleeping for 60 seconds.\n",
      "Extracting for section ('Competitive Landscape', 24, 31)\n",
      "Extracted for section Competitive Landscape\n",
      "Sleeping for 60 seconds.\n",
      "Extracting for section ('Costs & Operations', 31, 39)\n",
      "Extracted for section Costs & Operations\n",
      "Sleeping for 60 seconds.\n",
      "Extracting for section ('Questions for Owners', 39, 43)\n",
      "Extracted for section Questions for Owners\n",
      "Sleeping for 60 seconds.\n",
      "Extracting for section ('Datatables & Glossary', 43, 53)\n"
     ]
    }
   ],
   "source": [
    "import pickle\n",
    "from Templates.ibis_aws_summary_template_all import TEMPLATE as IBIS_SUMMARY_TEMPLATE\n",
    "\n",
    "\n",
    "template_parts = IBIS_SUMMARY_TEMPLATE['data']\n",
    "full_templates = build_aws_template(template_parts)\n",
    "\n",
    "pickle.dump((page_mapping, page_response_raw), open(f\"{OUTPUT_FOLDER}/page_mappings.pkl\", \"wb\"))\n",
    "# print(full_templates)\n",
    "section_summaries, raw_responses = extract_info_for_all_sections(page_mapping_list, full_templates, docs)\n",
    "\n",
    "section_results = {\"section_summaries\": section_summaries, \"raw_responses\": raw_responses}\n",
    "\n",
    "pickle.dump(section_results, open(f\"{OUTPUT_FOLDER}/section_summaries.pkl\", \"wb\"))"
   ]
  },
  {
   "cell_type": "code",
   "execution_count": 39,
   "metadata": {},
   "outputs": [
    {
     "data": {
      "text/plain": [
       "{'barriers_to_entry': {'barriers_level': 'Moderate',\n",
       "  'barriers_trend': 'Steady',\n",
       "  'factors_increased_barrier': ['Mature industry life cycle stage',\n",
       "   'High and increasing competition',\n",
       "   'State and local regulations limiting operations',\n",
       "   'Significant start-up costs between $77,000 and $550,000'],\n",
       "  'factors_decreased_barrier': ['Low capital intensity',\n",
       "   'Low market concentration',\n",
       "   'Low globalization'],\n",
       "  'barriers_points': [{'barrier_title': 'Legal regulations',\n",
       "    'barrier_description': 'New entrants must comply with different state and local regulations, limiting state-to-state operations.'},\n",
       "   {'barrier_title': 'Start-up costs',\n",
       "    'barrier_description': 'Significant start-up costs between $77,000 and $550,000 for new HVAC service entrants.'},\n",
       "   {'barrier_title': 'Labor intensity',\n",
       "    'barrier_description': 'HVAC installation requires workers with significant skills and knowledge, intensified by technological progress.'}]},\n",
       " 'basis_of_competition': {'basis_level': 'High',\n",
       "  'basis_trend': 'Increasing',\n",
       "  'basis_points': [{'basis_title': 'Price',\n",
       "    'basis_description': 'Franchises compete primarily on price for HVAC services.'},\n",
       "   {'basis_title': 'Service variety',\n",
       "    'basis_description': 'Operators compete on the variety of services offered to customers.'},\n",
       "   {'basis_title': 'Reputation',\n",
       "    'basis_description': 'Companies compete based on their reputation and referrals from previous jobs.'},\n",
       "   {'basis_title': 'Contracts',\n",
       "    'basis_description': 'Larger franchises compete for lucrative maintenance contracts with commercial developments.'},\n",
       "   {'basis_title': 'External competition',\n",
       "    'basis_description': 'Industry faces competition from construction companies and HVAC system manufacturers for installation and maintenance services.'}]},\n",
       " 'market_share_concentration': {'concentration_level': 'Low',\n",
       "  'concentration_trend': 'Steady',\n",
       "  'concentration_points': [{'concentration_title': 'Franchise scaling',\n",
       "    'concentration_description': 'Franchises allow for easy scaling, leading to some wide-reaching, concentrated players.'},\n",
       "   {'concentration_title': 'Market segmentation',\n",
       "    'concentration_description': 'Concentration differs between residential and commercial/industrial markets due to system complexity and investment requirements.'},\n",
       "   {'concentration_title': 'Regional dominance',\n",
       "    'concentration_description': 'Most of the industry is composed of small regional operators serving immediate geographic markets.'}],\n",
       "  'top_companies': [{'company_name': 'One Hour Heating & Air Conditioning',\n",
       "    'company_percentage': 37.3},\n",
       "   {'company_name': 'Aire Serv LLC', 'company_percentage': 15.9},\n",
       "   {'company_name': 'LINC SERVICE LLC', 'company_percentage': 9.5},\n",
       "   {'company_name': 'DUCTZ INTERNATIONAL INC', 'company_percentage': 2.9}]}}"
      ]
     },
     "execution_count": 39,
     "metadata": {},
     "output_type": "execute_result"
    }
   ],
   "source": [
    "section_summaries[2]"
   ]
  },
  {
   "cell_type": "code",
   "execution_count": 36,
   "metadata": {},
   "outputs": [
    {
     "ename": "KeyError",
     "evalue": "'imports'",
     "output_type": "error",
     "traceback": [
      "\u001b[0;31m---------------------------------------------------------------------------\u001b[0m",
      "\u001b[0;31mKeyError\u001b[0m                                  Traceback (most recent call last)",
      "Cell \u001b[0;32mIn[36], line 3\u001b[0m\n\u001b[1;32m      1\u001b[0m \u001b[38;5;28;01mfrom\u001b[39;00m \u001b[38;5;21;01mbuild_markdown_report\u001b[39;00m \u001b[38;5;28;01mimport\u001b[39;00m build_markdown_report_func\n\u001b[0;32m----> 3\u001b[0m report_md \u001b[38;5;241m=\u001b[39m \u001b[43mbuild_markdown_report_func\u001b[49m\u001b[43m(\u001b[49m\u001b[43msection_summaries\u001b[49m\u001b[43m)\u001b[49m\n",
      "File \u001b[0;32m~/Documents/omega/github/Alphaprobe/notebooks/build_markdown_report.py:539\u001b[0m, in \u001b[0;36mbuild_markdown_report_func\u001b[0;34m(section_responses)\u001b[0m\n\u001b[1;32m    516\u001b[0m \u001b[38;5;28;01mdef\u001b[39;00m \u001b[38;5;21mbuild_markdown_report_func\u001b[39m(section_responses: List) \u001b[38;5;241m-\u001b[39m\u001b[38;5;241m>\u001b[39m \u001b[38;5;28mstr\u001b[39m:\n\u001b[1;32m    517\u001b[0m \u001b[38;5;250m    \u001b[39m\u001b[38;5;124;03m\"\"\"Return a markdown report \"\"\"\u001b[39;00m\n\u001b[1;32m    518\u001b[0m     report \u001b[38;5;241m=\u001b[39m \u001b[38;5;124mf\u001b[39m\u001b[38;5;124m\"\"\"\u001b[39m\n\u001b[1;32m    519\u001b[0m \u001b[38;5;124m    # \u001b[39m\u001b[38;5;132;01m{\u001b[39;00msection_responses[\u001b[38;5;241m0\u001b[39m][\u001b[38;5;124m'\u001b[39m\u001b[38;5;124mreport_title\u001b[39m\u001b[38;5;124m'\u001b[39m]\u001b[38;5;132;01m}\u001b[39;00m\n\u001b[1;32m    520\u001b[0m \u001b[38;5;124m    Last Updated: \u001b[39m\u001b[38;5;132;01m{\u001b[39;00msection_responses[\u001b[38;5;241m0\u001b[39m][\u001b[38;5;124m'\u001b[39m\u001b[38;5;124mreport_date\u001b[39m\u001b[38;5;124m'\u001b[39m]\u001b[38;5;132;01m}\u001b[39;00m\n\u001b[1;32m    521\u001b[0m \n\u001b[1;32m    522\u001b[0m \u001b[38;5;124m    ## Industry Overview\u001b[39m\n\u001b[1;32m    523\u001b[0m \u001b[38;5;124m    ### Key Statistics\u001b[39m\n\u001b[1;32m    524\u001b[0m \u001b[38;5;124m    - **Profit**\u001b[39m\n\u001b[1;32m    525\u001b[0m \u001b[38;5;124m        - **Annual Profit:** \u001b[39m\u001b[38;5;132;01m{\u001b[39;00mconvert_dollars_to_readable(section_responses[\u001b[38;5;241m0\u001b[39m][\u001b[38;5;124m'\u001b[39m\u001b[38;5;124mkey_statistics\u001b[39m\u001b[38;5;124m'\u001b[39m][\u001b[38;5;124m'\u001b[39m\u001b[38;5;124mprofit\u001b[39m\u001b[38;5;124m'\u001b[39m][\u001b[38;5;124m'\u001b[39m\u001b[38;5;124mprofit_dollars\u001b[39m\u001b[38;5;124m'\u001b[39m])\u001b[38;5;132;01m}\u001b[39;00m\n\u001b[1;32m    526\u001b[0m \u001b[38;5;124m        - **Historical CAGR of Profit:** \u001b[39m\u001b[38;5;132;01m{\u001b[39;00msection_responses[\u001b[38;5;241m0\u001b[39m][\u001b[38;5;124m'\u001b[39m\u001b[38;5;124mkey_statistics\u001b[39m\u001b[38;5;124m'\u001b[39m][\u001b[38;5;124m'\u001b[39m\u001b[38;5;124mprofit\u001b[39m\u001b[38;5;124m'\u001b[39m][\u001b[38;5;124m'\u001b[39m\u001b[38;5;124mprofit_cagr_historical\u001b[39m\u001b[38;5;124m'\u001b[39m][\u001b[38;5;124m'\u001b[39m\u001b[38;5;124mprofit_cagr_value\u001b[39m\u001b[38;5;124m'\u001b[39m]\u001b[38;5;132;01m}\u001b[39;00m\u001b[38;5;124m% (\u001b[39m\u001b[38;5;132;01m{\u001b[39;00msection_responses[\u001b[38;5;241m0\u001b[39m][\u001b[38;5;124m'\u001b[39m\u001b[38;5;124mkey_statistics\u001b[39m\u001b[38;5;124m'\u001b[39m][\u001b[38;5;124m'\u001b[39m\u001b[38;5;124mprofit\u001b[39m\u001b[38;5;124m'\u001b[39m][\u001b[38;5;124m'\u001b[39m\u001b[38;5;124mprofit_cagr_historical\u001b[39m\u001b[38;5;124m'\u001b[39m][\u001b[38;5;124m'\u001b[39m\u001b[38;5;124mbegin_year\u001b[39m\u001b[38;5;124m'\u001b[39m]\u001b[38;5;132;01m}\u001b[39;00m\u001b[38;5;124m - \u001b[39m\u001b[38;5;132;01m{\u001b[39;00msection_responses[\u001b[38;5;241m0\u001b[39m][\u001b[38;5;124m'\u001b[39m\u001b[38;5;124mkey_statistics\u001b[39m\u001b[38;5;124m'\u001b[39m][\u001b[38;5;124m'\u001b[39m\u001b[38;5;124mprofit\u001b[39m\u001b[38;5;124m'\u001b[39m][\u001b[38;5;124m'\u001b[39m\u001b[38;5;124mprofit_cagr_historical\u001b[39m\u001b[38;5;124m'\u001b[39m][\u001b[38;5;124m'\u001b[39m\u001b[38;5;124mend_year\u001b[39m\u001b[38;5;124m'\u001b[39m]\u001b[38;5;132;01m}\u001b[39;00m\u001b[38;5;124m)\u001b[39m\n\u001b[1;32m    527\u001b[0m \u001b[38;5;124m    - **Profit Margins**\u001b[39m\n\u001b[1;32m    528\u001b[0m \u001b[38;5;124m        - **Profit Margins:** \u001b[39m\u001b[38;5;132;01m{\u001b[39;00msection_responses[\u001b[38;5;241m0\u001b[39m][\u001b[38;5;124m'\u001b[39m\u001b[38;5;124mkey_statistics\u001b[39m\u001b[38;5;124m'\u001b[39m][\u001b[38;5;124m'\u001b[39m\u001b[38;5;124mprofit_margins\u001b[39m\u001b[38;5;124m'\u001b[39m][\u001b[38;5;124m'\u001b[39m\u001b[38;5;124mprofit_margins_percentage\u001b[39m\u001b[38;5;124m'\u001b[39m]\u001b[38;5;132;01m}\u001b[39;00m\u001b[38;5;124m%\u001b[39m\n\u001b[1;32m    529\u001b[0m \u001b[38;5;124m        - **Historical CAGR of Profit Margins:** \u001b[39m\u001b[38;5;132;01m{\u001b[39;00msection_responses[\u001b[38;5;241m0\u001b[39m][\u001b[38;5;124m'\u001b[39m\u001b[38;5;124mkey_statistics\u001b[39m\u001b[38;5;124m'\u001b[39m][\u001b[38;5;124m'\u001b[39m\u001b[38;5;124mprofit_margins\u001b[39m\u001b[38;5;124m'\u001b[39m][\u001b[38;5;124m'\u001b[39m\u001b[38;5;124mprofit_margins_cagr_historical\u001b[39m\u001b[38;5;124m'\u001b[39m][\u001b[38;5;124m'\u001b[39m\u001b[38;5;124mprofit_margins_cagr_value\u001b[39m\u001b[38;5;124m'\u001b[39m]\u001b[38;5;132;01m}\u001b[39;00m\u001b[38;5;124m% (\u001b[39m\u001b[38;5;132;01m{\u001b[39;00msection_responses[\u001b[38;5;241m0\u001b[39m][\u001b[38;5;124m'\u001b[39m\u001b[38;5;124mkey_statistics\u001b[39m\u001b[38;5;124m'\u001b[39m][\u001b[38;5;124m'\u001b[39m\u001b[38;5;124mprofit_margins\u001b[39m\u001b[38;5;124m'\u001b[39m][\u001b[38;5;124m'\u001b[39m\u001b[38;5;124mprofit_margins_cagr_historical\u001b[39m\u001b[38;5;124m'\u001b[39m][\u001b[38;5;124m'\u001b[39m\u001b[38;5;124mbegin_year\u001b[39m\u001b[38;5;124m'\u001b[39m]\u001b[38;5;132;01m}\u001b[39;00m\u001b[38;5;124m - \u001b[39m\u001b[38;5;132;01m{\u001b[39;00msection_responses[\u001b[38;5;241m0\u001b[39m][\u001b[38;5;124m'\u001b[39m\u001b[38;5;124mkey_statistics\u001b[39m\u001b[38;5;124m'\u001b[39m][\u001b[38;5;124m'\u001b[39m\u001b[38;5;124mprofit_margins\u001b[39m\u001b[38;5;124m'\u001b[39m][\u001b[38;5;124m'\u001b[39m\u001b[38;5;124mprofit_margins_cagr_historical\u001b[39m\u001b[38;5;124m'\u001b[39m][\u001b[38;5;124m'\u001b[39m\u001b[38;5;124mend_year\u001b[39m\u001b[38;5;124m'\u001b[39m]\u001b[38;5;132;01m}\u001b[39;00m\u001b[38;5;124m)\u001b[39m\n\u001b[1;32m    530\u001b[0m \u001b[38;5;124m    - **Revenue**\u001b[39m\n\u001b[1;32m    531\u001b[0m \u001b[38;5;124m        - **Annual Revenue:** \u001b[39m\u001b[38;5;132;01m{\u001b[39;00mconvert_dollars_to_readable(section_responses[\u001b[38;5;241m0\u001b[39m][\u001b[38;5;124m'\u001b[39m\u001b[38;5;124mkey_statistics\u001b[39m\u001b[38;5;124m'\u001b[39m][\u001b[38;5;124m'\u001b[39m\u001b[38;5;124mrevenue\u001b[39m\u001b[38;5;124m'\u001b[39m][\u001b[38;5;124m'\u001b[39m\u001b[38;5;124mrevenue_dollars\u001b[39m\u001b[38;5;124m'\u001b[39m])\u001b[38;5;132;01m}\u001b[39;00m\n\u001b[1;32m    532\u001b[0m \u001b[38;5;124m        - **Historical CAGR of Revenue:** \u001b[39m\u001b[38;5;132;01m{\u001b[39;00msection_responses[\u001b[38;5;241m0\u001b[39m][\u001b[38;5;124m'\u001b[39m\u001b[38;5;124mkey_statistics\u001b[39m\u001b[38;5;124m'\u001b[39m][\u001b[38;5;124m'\u001b[39m\u001b[38;5;124mrevenue\u001b[39m\u001b[38;5;124m'\u001b[39m][\u001b[38;5;124m'\u001b[39m\u001b[38;5;124mrevenue_cagr_historical\u001b[39m\u001b[38;5;124m'\u001b[39m][\u001b[38;5;124m'\u001b[39m\u001b[38;5;124mrevenue_cagr_value\u001b[39m\u001b[38;5;124m'\u001b[39m]\u001b[38;5;132;01m}\u001b[39;00m\u001b[38;5;124m% (\u001b[39m\u001b[38;5;132;01m{\u001b[39;00msection_responses[\u001b[38;5;241m0\u001b[39m][\u001b[38;5;124m'\u001b[39m\u001b[38;5;124mkey_statistics\u001b[39m\u001b[38;5;124m'\u001b[39m][\u001b[38;5;124m'\u001b[39m\u001b[38;5;124mrevenue\u001b[39m\u001b[38;5;124m'\u001b[39m][\u001b[38;5;124m'\u001b[39m\u001b[38;5;124mrevenue_cagr_historical\u001b[39m\u001b[38;5;124m'\u001b[39m][\u001b[38;5;124m'\u001b[39m\u001b[38;5;124mbegin_year\u001b[39m\u001b[38;5;124m'\u001b[39m]\u001b[38;5;132;01m}\u001b[39;00m\u001b[38;5;124m - \u001b[39m\u001b[38;5;132;01m{\u001b[39;00msection_responses[\u001b[38;5;241m0\u001b[39m][\u001b[38;5;124m'\u001b[39m\u001b[38;5;124mkey_statistics\u001b[39m\u001b[38;5;124m'\u001b[39m][\u001b[38;5;124m'\u001b[39m\u001b[38;5;124mrevenue\u001b[39m\u001b[38;5;124m'\u001b[39m][\u001b[38;5;124m'\u001b[39m\u001b[38;5;124mrevenue_cagr_historical\u001b[39m\u001b[38;5;124m'\u001b[39m][\u001b[38;5;124m'\u001b[39m\u001b[38;5;124mend_year\u001b[39m\u001b[38;5;124m'\u001b[39m]\u001b[38;5;132;01m}\u001b[39;00m\u001b[38;5;124m)\u001b[39m\n\u001b[1;32m    533\u001b[0m \u001b[38;5;124m        - **Projected CAGR of Revenue:** \u001b[39m\u001b[38;5;132;01m{\u001b[39;00msection_responses[\u001b[38;5;241m0\u001b[39m][\u001b[38;5;124m'\u001b[39m\u001b[38;5;124mkey_statistics\u001b[39m\u001b[38;5;124m'\u001b[39m][\u001b[38;5;124m'\u001b[39m\u001b[38;5;124mrevenue\u001b[39m\u001b[38;5;124m'\u001b[39m][\u001b[38;5;124m'\u001b[39m\u001b[38;5;124mrevenue_cagr_projected\u001b[39m\u001b[38;5;124m'\u001b[39m][\u001b[38;5;124m'\u001b[39m\u001b[38;5;124mrevenue_cagr_value\u001b[39m\u001b[38;5;124m'\u001b[39m]\u001b[38;5;132;01m}\u001b[39;00m\u001b[38;5;124m% (\u001b[39m\u001b[38;5;132;01m{\u001b[39;00msection_responses[\u001b[38;5;241m0\u001b[39m][\u001b[38;5;124m'\u001b[39m\u001b[38;5;124mkey_statistics\u001b[39m\u001b[38;5;124m'\u001b[39m][\u001b[38;5;124m'\u001b[39m\u001b[38;5;124mrevenue\u001b[39m\u001b[38;5;124m'\u001b[39m][\u001b[38;5;124m'\u001b[39m\u001b[38;5;124mrevenue_cagr_projected\u001b[39m\u001b[38;5;124m'\u001b[39m][\u001b[38;5;124m'\u001b[39m\u001b[38;5;124mbegin_year\u001b[39m\u001b[38;5;124m'\u001b[39m]\u001b[38;5;132;01m}\u001b[39;00m\u001b[38;5;124m - \u001b[39m\u001b[38;5;132;01m{\u001b[39;00msection_responses[\u001b[38;5;241m0\u001b[39m][\u001b[38;5;124m'\u001b[39m\u001b[38;5;124mkey_statistics\u001b[39m\u001b[38;5;124m'\u001b[39m][\u001b[38;5;124m'\u001b[39m\u001b[38;5;124mrevenue\u001b[39m\u001b[38;5;124m'\u001b[39m][\u001b[38;5;124m'\u001b[39m\u001b[38;5;124mrevenue_cagr_projected\u001b[39m\u001b[38;5;124m'\u001b[39m][\u001b[38;5;124m'\u001b[39m\u001b[38;5;124mend_year\u001b[39m\u001b[38;5;124m'\u001b[39m]\u001b[38;5;132;01m}\u001b[39;00m\u001b[38;5;124m)\u001b[39m\n\u001b[1;32m    534\u001b[0m \u001b[38;5;124m    - **Enterprises:** \u001b[39m\u001b[38;5;132;01m{\u001b[39;00msection_responses[\u001b[38;5;241m0\u001b[39m][\u001b[38;5;124m'\u001b[39m\u001b[38;5;124mkey_statistics\u001b[39m\u001b[38;5;124m'\u001b[39m][\u001b[38;5;124m'\u001b[39m\u001b[38;5;124menterprises\u001b[39m\u001b[38;5;124m'\u001b[39m]\u001b[38;5;132;01m}\u001b[39;00m\n\u001b[1;32m    535\u001b[0m \u001b[38;5;124m    - **Establishments:** \u001b[39m\u001b[38;5;132;01m{\u001b[39;00msection_responses[\u001b[38;5;241m0\u001b[39m][\u001b[38;5;124m'\u001b[39m\u001b[38;5;124mkey_statistics\u001b[39m\u001b[38;5;124m'\u001b[39m][\u001b[38;5;124m'\u001b[39m\u001b[38;5;124mestablishments\u001b[39m\u001b[38;5;124m'\u001b[39m]\u001b[38;5;132;01m}\u001b[39;00m\n\u001b[1;32m    536\u001b[0m \u001b[38;5;124m    - **Employees:** \u001b[39m\u001b[38;5;132;01m{\u001b[39;00msection_responses[\u001b[38;5;241m0\u001b[39m][\u001b[38;5;124m'\u001b[39m\u001b[38;5;124mkey_statistics\u001b[39m\u001b[38;5;124m'\u001b[39m][\u001b[38;5;124m'\u001b[39m\u001b[38;5;124memployees\u001b[39m\u001b[38;5;124m'\u001b[39m]\u001b[38;5;132;01m}\u001b[39;00m\n\u001b[1;32m    537\u001b[0m \u001b[38;5;124m    - **Wages:** \u001b[39m\u001b[38;5;132;01m{\u001b[39;00mconvert_dollars_to_readable(section_responses[\u001b[38;5;241m0\u001b[39m][\u001b[38;5;124m'\u001b[39m\u001b[38;5;124mkey_statistics\u001b[39m\u001b[38;5;124m'\u001b[39m][\u001b[38;5;124m'\u001b[39m\u001b[38;5;124mwages\u001b[39m\u001b[38;5;124m'\u001b[39m])\u001b[38;5;132;01m}\u001b[39;00m\n\u001b[1;32m    538\u001b[0m \u001b[38;5;124m    - **Industry Value Added (IVA):** \u001b[39m\u001b[38;5;132;01m{\u001b[39;00mconvert_dollars_to_readable(section_responses[\u001b[38;5;241m0\u001b[39m][\u001b[38;5;124m'\u001b[39m\u001b[38;5;124mkey_statistics\u001b[39m\u001b[38;5;124m'\u001b[39m][\u001b[38;5;124m'\u001b[39m\u001b[38;5;124mindustry_value_added\u001b[39m\u001b[38;5;124m'\u001b[39m])\u001b[38;5;132;01m}\u001b[39;00m\n\u001b[0;32m--> 539\u001b[0m \u001b[38;5;124m    - **Imports:** \u001b[39m\u001b[38;5;132;01m{\u001b[39;00mconvert_dollars_to_readable(\u001b[43msection_responses\u001b[49m\u001b[43m[\u001b[49m\u001b[38;5;241;43m0\u001b[39;49m\u001b[43m]\u001b[49m\u001b[43m[\u001b[49m\u001b[38;5;124;43m'\u001b[39;49m\u001b[38;5;124;43mkey_statistics\u001b[39;49m\u001b[38;5;124;43m'\u001b[39;49m\u001b[43m]\u001b[49m\u001b[43m[\u001b[49m\u001b[38;5;124;43m'\u001b[39;49m\u001b[38;5;124;43mimports\u001b[39;49m\u001b[38;5;124;43m'\u001b[39;49m\u001b[43m]\u001b[49m)\u001b[38;5;132;01m}\u001b[39;00m\n\u001b[1;32m    540\u001b[0m \u001b[38;5;124m    - **Exports:** \u001b[39m\u001b[38;5;132;01m{\u001b[39;00mconvert_dollars_to_readable(section_responses[\u001b[38;5;241m0\u001b[39m][\u001b[38;5;124m'\u001b[39m\u001b[38;5;124mkey_statistics\u001b[39m\u001b[38;5;124m'\u001b[39m][\u001b[38;5;124m'\u001b[39m\u001b[38;5;124mexports\u001b[39m\u001b[38;5;124m'\u001b[39m])\u001b[38;5;132;01m}\u001b[39;00m\n\u001b[1;32m    541\u001b[0m \n\u001b[1;32m    542\u001b[0m \u001b[38;5;124m    ### Executive Summary\u001b[39m\n\u001b[1;32m    543\u001b[0m \u001b[38;5;124m    \u001b[39m\u001b[38;5;132;01m{\u001b[39;00msection_responses[\u001b[38;5;241m0\u001b[39m][\u001b[38;5;124m'\u001b[39m\u001b[38;5;124mexecutive_summary\u001b[39m\u001b[38;5;124m'\u001b[39m]\u001b[38;5;132;01m}\u001b[39;00m\n\u001b[1;32m    544\u001b[0m \u001b[38;5;124m    \u001b[39m\n\u001b[1;32m    545\u001b[0m \u001b[38;5;124m    ### Current Performance\u001b[39m\n\u001b[1;32m    546\u001b[0m \u001b[38;5;124m    \u001b[39m\u001b[38;5;132;01m{\u001b[39;00mbuild_current_performance(section_responses[\u001b[38;5;241m0\u001b[39m][\u001b[38;5;124m'\u001b[39m\u001b[38;5;124mcurrent_performance\u001b[39m\u001b[38;5;124m'\u001b[39m])\u001b[38;5;132;01m}\u001b[39;00m\n\u001b[1;32m    547\u001b[0m \n\u001b[1;32m    548\u001b[0m \u001b[38;5;124m    ### Future Outlook\u001b[39m\n\u001b[1;32m    549\u001b[0m \u001b[38;5;124m    \u001b[39m\u001b[38;5;132;01m{\u001b[39;00mbuild_future_outlook(section_responses[\u001b[38;5;241m0\u001b[39m][\u001b[38;5;124m'\u001b[39m\u001b[38;5;124mfuture_outlook\u001b[39m\u001b[38;5;124m'\u001b[39m])\u001b[38;5;132;01m}\u001b[39;00m\n\u001b[1;32m    550\u001b[0m \n\u001b[1;32m    551\u001b[0m \u001b[38;5;124m    ### Industry Definition\u001b[39m\n\u001b[1;32m    552\u001b[0m \u001b[38;5;124m    \u001b[39m\u001b[38;5;132;01m{\u001b[39;00msection_responses[\u001b[38;5;241m0\u001b[39m][\u001b[38;5;124m'\u001b[39m\u001b[38;5;124mindustry_definition\u001b[39m\u001b[38;5;124m'\u001b[39m]\u001b[38;5;132;01m}\u001b[39;00m\u001b[38;5;124m  \u001b[39m\n\u001b[1;32m    553\u001b[0m \n\u001b[1;32m    554\u001b[0m \u001b[38;5;124m    ### Industry Impact\u001b[39m\n\u001b[1;32m    555\u001b[0m \u001b[38;5;124m    \u001b[39m\u001b[38;5;132;01m{\u001b[39;00mbuild_impact(section_responses[\u001b[38;5;241m0\u001b[39m][\u001b[38;5;124m'\u001b[39m\u001b[38;5;124mindustry_impact\u001b[39m\u001b[38;5;124m'\u001b[39m])\u001b[38;5;132;01m}\u001b[39;00m\n\u001b[1;32m    556\u001b[0m \n\u001b[1;32m    557\u001b[0m \u001b[38;5;124m    ### SWOT Analysis\u001b[39m\n\u001b[1;32m    558\u001b[0m \u001b[38;5;124m    \u001b[39m\u001b[38;5;132;01m{\u001b[39;00mbuild_swot_analysis(section_responses[\u001b[38;5;241m0\u001b[39m][\u001b[38;5;124m'\u001b[39m\u001b[38;5;124mswot_analysis\u001b[39m\u001b[38;5;124m'\u001b[39m])\u001b[38;5;132;01m}\u001b[39;00m\n\u001b[1;32m    559\u001b[0m \n\u001b[1;32m    560\u001b[0m \u001b[38;5;124m    ### Key Trends\u001b[39m\n\u001b[1;32m    561\u001b[0m \u001b[38;5;124m    \u001b[39m\u001b[38;5;132;01m{\u001b[39;00mbuild_key_trends(section_responses[\u001b[38;5;241m0\u001b[39m][\u001b[38;5;124m'\u001b[39m\u001b[38;5;124mkey_trends\u001b[39m\u001b[38;5;124m'\u001b[39m])\u001b[38;5;132;01m}\u001b[39;00m\n\u001b[1;32m    562\u001b[0m \n\u001b[1;32m    563\u001b[0m \u001b[38;5;124m    ## Supply Chain\u001b[39m\n\u001b[1;32m    564\u001b[0m \u001b[38;5;124m    ### External Drivers for Supply Chain\u001b[39m\n\u001b[1;32m    565\u001b[0m \u001b[38;5;124m    \u001b[39m\u001b[38;5;132;01m{\u001b[39;00mbuild_external_drivers(section_responses[\u001b[38;5;241m1\u001b[39m][\u001b[38;5;124m'\u001b[39m\u001b[38;5;124mexternal_drivers\u001b[39m\u001b[38;5;124m'\u001b[39m])\u001b[38;5;132;01m}\u001b[39;00m\n\u001b[1;32m    566\u001b[0m \n\u001b[1;32m    567\u001b[0m \u001b[38;5;124m    ### Supply Chain Related Industries\u001b[39m\n\u001b[1;32m    568\u001b[0m \u001b[38;5;124m    \u001b[39m\u001b[38;5;132;01m{\u001b[39;00mbuild_related_industries(section_responses[\u001b[38;5;241m1\u001b[39m][\u001b[38;5;124m'\u001b[39m\u001b[38;5;124msupply_chain\u001b[39m\u001b[38;5;124m'\u001b[39m])\u001b[38;5;132;01m}\u001b[39;00m\n\u001b[1;32m    569\u001b[0m \n\u001b[1;32m    570\u001b[0m \u001b[38;5;124m    ### Similar Industries\u001b[39m\n\u001b[1;32m    571\u001b[0m \u001b[38;5;124m    \u001b[39m\u001b[38;5;132;01m{\u001b[39;00mbuild_similar_industries(section_responses[\u001b[38;5;241m1\u001b[39m][\u001b[38;5;124m'\u001b[39m\u001b[38;5;124msimilar_industries\u001b[39m\u001b[38;5;124m'\u001b[39m])\u001b[38;5;132;01m}\u001b[39;00m\n\u001b[1;32m    572\u001b[0m \n\u001b[1;32m    573\u001b[0m \u001b[38;5;124m    ### Related International Industries\u001b[39m\n\u001b[1;32m    574\u001b[0m \u001b[38;5;124m    \u001b[39m\u001b[38;5;132;01m{\u001b[39;00mbuild_related_international_industries(section_responses[\u001b[38;5;241m1\u001b[39m][\u001b[38;5;124m'\u001b[39m\u001b[38;5;124mrelated_international_industries\u001b[39m\u001b[38;5;124m'\u001b[39m])\u001b[38;5;132;01m}\u001b[39;00m\n\u001b[1;32m    575\u001b[0m \n\u001b[1;32m    576\u001b[0m \u001b[38;5;124m    ### Products & Services\u001b[39m\n\u001b[1;32m    577\u001b[0m \u001b[38;5;124m    \u001b[39m\u001b[38;5;132;01m{\u001b[39;00mbuild_products_and_services(section_responses[\u001b[38;5;241m1\u001b[39m][\u001b[38;5;124m'\u001b[39m\u001b[38;5;124mproducts_and_services\u001b[39m\u001b[38;5;124m'\u001b[39m])\u001b[38;5;132;01m}\u001b[39;00m\n\u001b[1;32m    578\u001b[0m \n\u001b[1;32m    579\u001b[0m \u001b[38;5;124m    ### Demand Determinants\u001b[39m\n\u001b[1;32m    580\u001b[0m \u001b[38;5;124m    \u001b[39m\u001b[38;5;132;01m{\u001b[39;00mbuild_demand_determinants(section_responses[\u001b[38;5;241m1\u001b[39m][\u001b[38;5;124m'\u001b[39m\u001b[38;5;124mdemand_determinants\u001b[39m\u001b[38;5;124m'\u001b[39m])\u001b[38;5;132;01m}\u001b[39;00m\n\u001b[1;32m    581\u001b[0m \n\u001b[1;32m    582\u001b[0m \u001b[38;5;124m    ### Market Segmentation\u001b[39m\n\u001b[1;32m    583\u001b[0m \u001b[38;5;124m    \u001b[39m\u001b[38;5;132;01m{\u001b[39;00mbuild_market_segmentation(section_responses[\u001b[38;5;241m1\u001b[39m][\u001b[38;5;124m'\u001b[39m\u001b[38;5;124mmarket_segmentation\u001b[39m\u001b[38;5;124m'\u001b[39m])\u001b[38;5;132;01m}\u001b[39;00m\n\u001b[1;32m    584\u001b[0m \n\u001b[1;32m    585\u001b[0m \u001b[38;5;124m    ### International Trade\u001b[39m\n\u001b[1;32m    586\u001b[0m \u001b[38;5;124m    \u001b[39m\u001b[38;5;132;01m{\u001b[39;00mbuild_international_trade(section_responses[\u001b[38;5;241m1\u001b[39m][\u001b[38;5;124m'\u001b[39m\u001b[38;5;124minternational_trade\u001b[39m\u001b[38;5;124m'\u001b[39m])\u001b[38;5;132;01m}\u001b[39;00m\n\u001b[1;32m    587\u001b[0m \n\u001b[1;32m    588\u001b[0m \u001b[38;5;124m    ### Business Locations\u001b[39m\n\u001b[1;32m    589\u001b[0m \u001b[38;5;124m    \u001b[39m\u001b[38;5;132;01m{\u001b[39;00mbuild_business_locations(section_responses[\u001b[38;5;241m1\u001b[39m][\u001b[38;5;124m'\u001b[39m\u001b[38;5;124mbusiness_locations\u001b[39m\u001b[38;5;124m'\u001b[39m])\u001b[38;5;132;01m}\u001b[39;00m\n\u001b[1;32m    590\u001b[0m \n\u001b[1;32m    591\u001b[0m \u001b[38;5;124m    ## Competitive Landscape\u001b[39m\n\u001b[1;32m    592\u001b[0m \u001b[38;5;124m    \u001b[39m\n\u001b[1;32m    593\u001b[0m \u001b[38;5;124m    ### Basis of Competition\u001b[39m\n\u001b[1;32m    594\u001b[0m \u001b[38;5;124m    \u001b[39m\u001b[38;5;132;01m{\u001b[39;00mbuild_basis_of_competition(section_responses[\u001b[38;5;241m2\u001b[39m][\u001b[38;5;124m'\u001b[39m\u001b[38;5;124mbasis_of_competition\u001b[39m\u001b[38;5;124m'\u001b[39m])\u001b[38;5;132;01m}\u001b[39;00m\n\u001b[1;32m    595\u001b[0m \n\u001b[1;32m    596\u001b[0m \u001b[38;5;124m    ### Barriers to Entry\u001b[39m\n\u001b[1;32m    597\u001b[0m \u001b[38;5;124m    \u001b[39m\u001b[38;5;132;01m{\u001b[39;00mbuild_barriers_to_entry(section_responses[\u001b[38;5;241m2\u001b[39m][\u001b[38;5;124m'\u001b[39m\u001b[38;5;124mbarriers_to_entry\u001b[39m\u001b[38;5;124m'\u001b[39m])\u001b[38;5;132;01m}\u001b[39;00m\n\u001b[1;32m    598\u001b[0m \n\u001b[1;32m    599\u001b[0m \u001b[38;5;124m    ### Market Share Concentration\u001b[39m\n\u001b[1;32m    600\u001b[0m \u001b[38;5;124m    \u001b[39m\u001b[38;5;132;01m{\u001b[39;00mbuild_market_share_concentration(section_responses[\u001b[38;5;241m2\u001b[39m][\u001b[38;5;124m'\u001b[39m\u001b[38;5;124mmarket_share_concentration\u001b[39m\u001b[38;5;124m'\u001b[39m])\u001b[38;5;132;01m}\u001b[39;00m\n\u001b[1;32m    601\u001b[0m \n\u001b[1;32m    602\u001b[0m \u001b[38;5;124m    ## Cost & Operations\u001b[39m\n\u001b[1;32m    603\u001b[0m \n\u001b[1;32m    604\u001b[0m \u001b[38;5;124m    ### Cost Structure Breakdown\u001b[39m\n\u001b[1;32m    605\u001b[0m \u001b[38;5;124m    \u001b[39m\u001b[38;5;132;01m{\u001b[39;00mbuild_cost_structure_breakdown(section_responses[\u001b[38;5;241m3\u001b[39m][\u001b[38;5;124m'\u001b[39m\u001b[38;5;124mcost_structure_breakdown\u001b[39m\u001b[38;5;124m'\u001b[39m])\u001b[38;5;132;01m}\u001b[39;00m\n\u001b[1;32m    606\u001b[0m \n\u001b[1;32m    607\u001b[0m \u001b[38;5;124m    ### Cost Factors\u001b[39m\n\u001b[1;32m    608\u001b[0m \u001b[38;5;124m    \u001b[39m\u001b[38;5;132;01m{\u001b[39;00mbuild_cost_factors(section_responses[\u001b[38;5;241m3\u001b[39m][\u001b[38;5;124m'\u001b[39m\u001b[38;5;124mcost_factors\u001b[39m\u001b[38;5;124m'\u001b[39m])\u001b[38;5;132;01m}\u001b[39;00m\n\u001b[1;32m    609\u001b[0m \n\u001b[1;32m    610\u001b[0m \u001b[38;5;124m    ### Capital Intensity\u001b[39m\n\u001b[1;32m    611\u001b[0m \u001b[38;5;124m    \u001b[39m\u001b[38;5;132;01m{\u001b[39;00mbuild_capital_intensity(section_responses[\u001b[38;5;241m3\u001b[39m][\u001b[38;5;124m'\u001b[39m\u001b[38;5;124mcapital_intensity\u001b[39m\u001b[38;5;124m'\u001b[39m])\u001b[38;5;132;01m}\u001b[39;00m\n\u001b[1;32m    612\u001b[0m \n\u001b[1;32m    613\u001b[0m \u001b[38;5;124m    ### Revenue Volatility\u001b[39m\n\u001b[1;32m    614\u001b[0m \u001b[38;5;124m    \u001b[39m\u001b[38;5;132;01m{\u001b[39;00mbuild_revenue_volatility(section_responses[\u001b[38;5;241m3\u001b[39m][\u001b[38;5;124m'\u001b[39m\u001b[38;5;124mrevenue_volatility\u001b[39m\u001b[38;5;124m'\u001b[39m])\u001b[38;5;132;01m}\u001b[39;00m\n\u001b[1;32m    615\u001b[0m \n\u001b[1;32m    616\u001b[0m \u001b[38;5;124m    ### Technological Change\u001b[39m\n\u001b[1;32m    617\u001b[0m \u001b[38;5;124m    \u001b[39m\u001b[38;5;132;01m{\u001b[39;00mbuild_technological_change(section_responses[\u001b[38;5;241m3\u001b[39m][\u001b[38;5;124m'\u001b[39m\u001b[38;5;124mtechnological_change\u001b[39m\u001b[38;5;124m'\u001b[39m])\u001b[38;5;132;01m}\u001b[39;00m\n\u001b[1;32m    618\u001b[0m \n\u001b[1;32m    619\u001b[0m \u001b[38;5;124m    ### Regulations & Policies\u001b[39m\n\u001b[1;32m    620\u001b[0m \u001b[38;5;124m    \u001b[39m\u001b[38;5;132;01m{\u001b[39;00mbuild_regulations_and_policies(section_responses[\u001b[38;5;241m3\u001b[39m][\u001b[38;5;124m'\u001b[39m\u001b[38;5;124mregulations_and_policies\u001b[39m\u001b[38;5;124m'\u001b[39m])\u001b[38;5;132;01m}\u001b[39;00m\n\u001b[1;32m    621\u001b[0m \n\u001b[1;32m    622\u001b[0m \u001b[38;5;124m    ### Industry Assistance\u001b[39m\n\u001b[1;32m    623\u001b[0m \u001b[38;5;124m    \u001b[39m\u001b[38;5;132;01m{\u001b[39;00mbuild_industry_assistance(section_responses[\u001b[38;5;241m3\u001b[39m][\u001b[38;5;124m'\u001b[39m\u001b[38;5;124mindustry_assistance\u001b[39m\u001b[38;5;124m'\u001b[39m])\u001b[38;5;132;01m}\u001b[39;00m\n\u001b[1;32m    624\u001b[0m \n\u001b[1;32m    625\u001b[0m \u001b[38;5;124m    ## FAQs\u001b[39m\n\u001b[1;32m    626\u001b[0m \u001b[38;5;124m    \u001b[39m\u001b[38;5;132;01m{\u001b[39;00mbuild_faqs(section_responses[\u001b[38;5;241m4\u001b[39m][\u001b[38;5;124m'\u001b[39m\u001b[38;5;124mFAQs\u001b[39m\u001b[38;5;124m'\u001b[39m])\u001b[38;5;132;01m}\u001b[39;00m\n\u001b[1;32m    627\u001b[0m \u001b[38;5;124m    \u001b[39m\u001b[38;5;124m\"\"\"\u001b[39m\n\u001b[1;32m    628\u001b[0m     \u001b[38;5;28;01mreturn\u001b[39;00m report\n",
      "\u001b[0;31mKeyError\u001b[0m: 'imports'"
     ]
    }
   ],
   "source": [
    "from build_markdown_report import build_markdown_report_func\n",
    "\n",
    "report_md = build_markdown_report_func(section_summaries)"
   ]
  },
  {
   "cell_type": "code",
   "execution_count": null,
   "metadata": {},
   "outputs": [],
   "source": [
    "print(report_md)\n",
    "# save the markdown report\n",
    "with open(f\"{OUTPUT_FOLDER}/summary_report.md\", \"w\") as file:\n",
    "    file.write(report_md)"
   ]
  },
  {
   "cell_type": "code",
   "execution_count": null,
   "metadata": {},
   "outputs": [],
   "source": [
    "from Templates.build_markdown_report import report_order\n",
    "import json\n",
    "json_path = f\"{OUTPUT_FOLDER}/section_summaries.json\"\n",
    "with open(json_path, \"w\") as f:\n",
    "    json.dump(section_summaries, f, indent=4)\n",
    "\n",
    "report_order_json_path = f\"{OUTPUT_FOLDER}/report_order.json\"\n",
    "with open(report_order_json_path, \"w\") as f:\n",
    "    json.dump(report_order, f, indent=4)"
   ]
  }
 ],
 "metadata": {
  "kernelspec": {
   "display_name": "probe",
   "language": "python",
   "name": "python3"
  },
  "language_info": {
   "codemirror_mode": {
    "name": "ipython",
    "version": 3
   },
   "file_extension": ".py",
   "mimetype": "text/x-python",
   "name": "python",
   "nbconvert_exporter": "python",
   "pygments_lexer": "ipython3",
   "version": "3.10.15"
  }
 },
 "nbformat": 4,
 "nbformat_minor": 2
}
