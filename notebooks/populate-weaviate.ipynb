{
 "cells": [
  {
   "cell_type": "code",
   "execution_count": 1,
   "metadata": {},
   "outputs": [],
   "source": [
    "# Delete the table\n",
    "import weaviate\n",
    "client = weaviate.connect_to_local(\n",
    "    host='localhost',\n",
    "    port=8002,\n",
    "    skip_init_checks=True\n",
    ")\n",
    "client.collections.delete('IndustrySummary')"
   ]
  },
  {
   "cell_type": "code",
   "execution_count": 2,
   "metadata": {},
   "outputs": [],
   "source": [
    "from api.db_models.weaviate_db import WeaviateIndustryDb\n",
    "import json\n",
    "\n",
    "db = WeaviateIndustryDb(host=\"localhost\", port=8002)"
   ]
  },
  {
   "cell_type": "code",
   "execution_count": 3,
   "metadata": {},
   "outputs": [
    {
     "name": "stdout",
     "output_type": "stream",
     "text": [
      "Loading Household Furniture Manufacturing in the US.json\n",
      "GOT TYPE <class 'dict'>\n",
      "Loading Furniture Stores in the US.json\n",
      "GOT TYPE <class 'dict'>\n"
     ]
    },
    {
     "ename": "UnexpectedStatusCodeError",
     "evalue": "Object was not added! Unexpected status code: 422, with response body: {'error': [{'message': \"invalid object: invalid object property 'industry_summary' on class 'IndustrySummary': property 'industry_summary.key_trends': invalid text property 'industry_summary.key_trends' on class 'IndustrySummary': not a string, but []interface {}\"}]}.",
     "output_type": "error",
     "traceback": [
      "\u001b[0;31m---------------------------------------------------------------------------\u001b[0m",
      "\u001b[0;31mUnexpectedStatusCodeError\u001b[0m                 Traceback (most recent call last)",
      "Cell \u001b[0;32mIn[3], line 11\u001b[0m\n\u001b[1;32m      9\u001b[0m         summary \u001b[38;5;241m=\u001b[39m json\u001b[38;5;241m.\u001b[39mload(fp)\n\u001b[1;32m     10\u001b[0m         \u001b[38;5;28mprint\u001b[39m(\u001b[38;5;124m\"\u001b[39m\u001b[38;5;124mLoading\u001b[39m\u001b[38;5;124m\"\u001b[39m, filename)\n\u001b[0;32m---> 11\u001b[0m         \u001b[43mdb\u001b[49m\u001b[38;5;241;43m.\u001b[39;49m\u001b[43madd_industry_summary\u001b[49m\u001b[43m(\u001b[49m\u001b[43msummary\u001b[49m\u001b[43m)\u001b[49m\n\u001b[1;32m     13\u001b[0m \u001b[38;5;66;03m# [m for m in dir(db.client) if not m.startswith('_')]\u001b[39;00m\n",
      "File \u001b[0;32m~/Other/Alphaprobe/api/db_models/weaviate_db.py:404\u001b[0m, in \u001b[0;36mWeaviateIndustryDb.add_industry_summary\u001b[0;34m(self, summary)\u001b[0m\n\u001b[1;32m    401\u001b[0m \u001b[38;5;66;03m# if isinstance(summary['industry_summary'], dict):\u001b[39;00m\n\u001b[1;32m    402\u001b[0m \u001b[38;5;66;03m#     summary['industry_summary'] = json.dumps(summary['industry_summary'])\u001b[39;00m\n\u001b[1;32m    403\u001b[0m collection \u001b[38;5;241m=\u001b[39m \u001b[38;5;28mself\u001b[39m\u001b[38;5;241m.\u001b[39mclient\u001b[38;5;241m.\u001b[39mcollections\u001b[38;5;241m.\u001b[39mget(\u001b[38;5;28mself\u001b[39m\u001b[38;5;241m.\u001b[39mclass_name)\n\u001b[0;32m--> 404\u001b[0m \u001b[43mcollection\u001b[49m\u001b[38;5;241;43m.\u001b[39;49m\u001b[43mdata\u001b[49m\u001b[38;5;241;43m.\u001b[39;49m\u001b[43minsert\u001b[49m\u001b[43m(\u001b[49m\u001b[43msummary\u001b[49m\u001b[43m)\u001b[49m\n",
      "File \u001b[0;32m~/anaconda3/envs/probe/lib/python3.11/site-packages/weaviate/collections/data.py:390\u001b[0m, in \u001b[0;36m_DataCollection.insert\u001b[0;34m(self, properties, references, uuid, vector)\u001b[0m\n\u001b[1;32m    387\u001b[0m \u001b[38;5;28;01mif\u001b[39;00m vector \u001b[38;5;129;01mis\u001b[39;00m \u001b[38;5;129;01mnot\u001b[39;00m \u001b[38;5;28;01mNone\u001b[39;00m:\n\u001b[1;32m    388\u001b[0m     weaviate_obj \u001b[38;5;241m=\u001b[39m \u001b[38;5;28mself\u001b[39m\u001b[38;5;241m.\u001b[39m__parse_vector(weaviate_obj, vector)\n\u001b[0;32m--> 390\u001b[0m \u001b[38;5;28;01mreturn\u001b[39;00m \u001b[38;5;28;43mself\u001b[39;49m\u001b[38;5;241;43m.\u001b[39;49m\u001b[43m_insert\u001b[49m\u001b[43m(\u001b[49m\u001b[43mweaviate_obj\u001b[49m\u001b[43m)\u001b[49m\n",
      "File \u001b[0;32m~/anaconda3/envs/probe/lib/python3.11/site-packages/weaviate/collections/data.py:83\u001b[0m, in \u001b[0;36m_Data._insert\u001b[0;34m(self, weaviate_obj)\u001b[0m\n\u001b[1;32m     80\u001b[0m path \u001b[38;5;241m=\u001b[39m \u001b[38;5;124m\"\u001b[39m\u001b[38;5;124m/objects\u001b[39m\u001b[38;5;124m\"\u001b[39m\n\u001b[1;32m     82\u001b[0m params, weaviate_obj \u001b[38;5;241m=\u001b[39m \u001b[38;5;28mself\u001b[39m\u001b[38;5;241m.\u001b[39m__apply_context_to_params_and_object({}, weaviate_obj)\n\u001b[0;32m---> 83\u001b[0m \u001b[38;5;28;43mself\u001b[39;49m\u001b[38;5;241;43m.\u001b[39;49m\u001b[43m_connection\u001b[49m\u001b[38;5;241;43m.\u001b[39;49m\u001b[43mpost\u001b[49m\u001b[43m(\u001b[49m\n\u001b[1;32m     84\u001b[0m \u001b[43m    \u001b[49m\u001b[43mpath\u001b[49m\u001b[38;5;241;43m=\u001b[39;49m\u001b[43mpath\u001b[49m\u001b[43m,\u001b[49m\n\u001b[1;32m     85\u001b[0m \u001b[43m    \u001b[49m\u001b[43mweaviate_object\u001b[49m\u001b[38;5;241;43m=\u001b[39;49m\u001b[43mweaviate_obj\u001b[49m\u001b[43m,\u001b[49m\n\u001b[1;32m     86\u001b[0m \u001b[43m    \u001b[49m\u001b[43mparams\u001b[49m\u001b[38;5;241;43m=\u001b[39;49m\u001b[43mparams\u001b[49m\u001b[43m,\u001b[49m\n\u001b[1;32m     87\u001b[0m \u001b[43m    \u001b[49m\u001b[43merror_msg\u001b[49m\u001b[38;5;241;43m=\u001b[39;49m\u001b[38;5;124;43m\"\u001b[39;49m\u001b[38;5;124;43mObject was not added\u001b[39;49m\u001b[38;5;124;43m\"\u001b[39;49m\u001b[43m,\u001b[49m\n\u001b[1;32m     88\u001b[0m \u001b[43m    \u001b[49m\u001b[43mstatus_codes\u001b[49m\u001b[38;5;241;43m=\u001b[39;49m\u001b[43m_ExpectedStatusCodes\u001b[49m\u001b[43m(\u001b[49m\u001b[43mok_in\u001b[49m\u001b[38;5;241;43m=\u001b[39;49m\u001b[38;5;241;43m200\u001b[39;49m\u001b[43m,\u001b[49m\u001b[43m \u001b[49m\u001b[43merror\u001b[49m\u001b[38;5;241;43m=\u001b[39;49m\u001b[38;5;124;43m\"\u001b[39;49m\u001b[38;5;124;43minsert object\u001b[39;49m\u001b[38;5;124;43m\"\u001b[39;49m\u001b[43m)\u001b[49m\u001b[43m,\u001b[49m\n\u001b[1;32m     89\u001b[0m \u001b[43m\u001b[49m\u001b[43m)\u001b[49m\n\u001b[1;32m     90\u001b[0m \u001b[38;5;28;01mreturn\u001b[39;00m uuid_package\u001b[38;5;241m.\u001b[39mUUID(weaviate_obj[\u001b[38;5;124m\"\u001b[39m\u001b[38;5;124mid\u001b[39m\u001b[38;5;124m\"\u001b[39m])\n",
      "File \u001b[0;32m~/anaconda3/envs/probe/lib/python3.11/site-packages/weaviate/connect/v4.py:500\u001b[0m, in \u001b[0;36m_Connection.post\u001b[0;34m(self, path, weaviate_object, params, error_msg, status_codes)\u001b[0m\n\u001b[1;32m    492\u001b[0m \u001b[38;5;28;01mdef\u001b[39;00m \u001b[38;5;21mpost\u001b[39m(\n\u001b[1;32m    493\u001b[0m     \u001b[38;5;28mself\u001b[39m,\n\u001b[1;32m    494\u001b[0m     path: \u001b[38;5;28mstr\u001b[39m,\n\u001b[0;32m   (...)\u001b[0m\n\u001b[1;32m    498\u001b[0m     status_codes: Optional[_ExpectedStatusCodes] \u001b[38;5;241m=\u001b[39m \u001b[38;5;28;01mNone\u001b[39;00m,\n\u001b[1;32m    499\u001b[0m ) \u001b[38;5;241m-\u001b[39m\u001b[38;5;241m>\u001b[39m Response:\n\u001b[0;32m--> 500\u001b[0m     \u001b[38;5;28;01mreturn\u001b[39;00m \u001b[38;5;28;43mself\u001b[39;49m\u001b[38;5;241;43m.\u001b[39;49m\u001b[43m__send\u001b[49m\u001b[43m(\u001b[49m\n\u001b[1;32m    501\u001b[0m \u001b[43m        \u001b[49m\u001b[38;5;124;43m\"\u001b[39;49m\u001b[38;5;124;43mPOST\u001b[39;49m\u001b[38;5;124;43m\"\u001b[39;49m\u001b[43m,\u001b[49m\n\u001b[1;32m    502\u001b[0m \u001b[43m        \u001b[49m\u001b[43murl\u001b[49m\u001b[38;5;241;43m=\u001b[39;49m\u001b[38;5;28;43mself\u001b[39;49m\u001b[38;5;241;43m.\u001b[39;49m\u001b[43murl\u001b[49m\u001b[43m \u001b[49m\u001b[38;5;241;43m+\u001b[39;49m\u001b[43m \u001b[49m\u001b[38;5;28;43mself\u001b[39;49m\u001b[38;5;241;43m.\u001b[39;49m\u001b[43m_api_version_path\u001b[49m\u001b[43m \u001b[49m\u001b[38;5;241;43m+\u001b[39;49m\u001b[43m \u001b[49m\u001b[43mpath\u001b[49m\u001b[43m,\u001b[49m\n\u001b[1;32m    503\u001b[0m \u001b[43m        \u001b[49m\u001b[43mweaviate_object\u001b[49m\u001b[38;5;241;43m=\u001b[39;49m\u001b[43mweaviate_object\u001b[49m\u001b[43m,\u001b[49m\n\u001b[1;32m    504\u001b[0m \u001b[43m        \u001b[49m\u001b[43mparams\u001b[49m\u001b[38;5;241;43m=\u001b[39;49m\u001b[43mparams\u001b[49m\u001b[43m,\u001b[49m\n\u001b[1;32m    505\u001b[0m \u001b[43m        \u001b[49m\u001b[43merror_msg\u001b[49m\u001b[38;5;241;43m=\u001b[39;49m\u001b[43merror_msg\u001b[49m\u001b[43m,\u001b[49m\n\u001b[1;32m    506\u001b[0m \u001b[43m        \u001b[49m\u001b[43mstatus_codes\u001b[49m\u001b[38;5;241;43m=\u001b[39;49m\u001b[43mstatus_codes\u001b[49m\u001b[43m,\u001b[49m\n\u001b[1;32m    507\u001b[0m \u001b[43m    \u001b[49m\u001b[43m)\u001b[49m\n",
      "File \u001b[0;32m~/anaconda3/envs/probe/lib/python3.11/site-packages/weaviate/connect/v4.py:451\u001b[0m, in \u001b[0;36m_Connection.__send\u001b[0;34m(self, method, url, error_msg, status_codes, weaviate_object, params)\u001b[0m\n\u001b[1;32m    449\u001b[0m     res \u001b[38;5;241m=\u001b[39m \u001b[38;5;28mself\u001b[39m\u001b[38;5;241m.\u001b[39m_client\u001b[38;5;241m.\u001b[39msend(req)\n\u001b[1;32m    450\u001b[0m     \u001b[38;5;28;01mif\u001b[39;00m status_codes \u001b[38;5;129;01mis\u001b[39;00m \u001b[38;5;129;01mnot\u001b[39;00m \u001b[38;5;28;01mNone\u001b[39;00m \u001b[38;5;129;01mand\u001b[39;00m res\u001b[38;5;241m.\u001b[39mstatus_code \u001b[38;5;129;01mnot\u001b[39;00m \u001b[38;5;129;01min\u001b[39;00m status_codes\u001b[38;5;241m.\u001b[39mok:\n\u001b[0;32m--> 451\u001b[0m         \u001b[38;5;28;01mraise\u001b[39;00m UnexpectedStatusCodeError(error_msg, response\u001b[38;5;241m=\u001b[39mres)\n\u001b[1;32m    452\u001b[0m     \u001b[38;5;28;01mreturn\u001b[39;00m cast(Response, res)\n\u001b[1;32m    453\u001b[0m \u001b[38;5;28;01mexcept\u001b[39;00m \u001b[38;5;167;01mRuntimeError\u001b[39;00m \u001b[38;5;28;01mas\u001b[39;00m e:\n",
      "\u001b[0;31mUnexpectedStatusCodeError\u001b[0m: Object was not added! Unexpected status code: 422, with response body: {'error': [{'message': \"invalid object: invalid object property 'industry_summary' on class 'IndustrySummary': property 'industry_summary.key_trends': invalid text property 'industry_summary.key_trends' on class 'IndustrySummary': not a string, but []interface {}\"}]}."
     ]
    }
   ],
   "source": [
    "from loading_utils import new_lines_to_list\n",
    "\n",
    "root = 'IndustrySummary/IBIS/'\n",
    "filenames = [\n",
    "    'Household Furniture Manufacturing in the US.json',\n",
    "    'Furniture Stores in the US.json',\n",
    "    'IT Consulting in the US.json',\n",
    "]\n",
    "for filename in filenames:\n",
    "    with open(root + filename, 'r') as fp:\n",
    "        summary = json.load(fp)\n",
    "        summary = new_lines_to_list(summary)\n",
    "        print(\"Loading\", filename)\n",
    "        db.add_industry_summary(summary)\n",
    "\n",
    "# [m for m in dir(db.client) if not m.startswith('_')]"
   ]
  },
  {
   "cell_type": "code",
   "execution_count": null,
   "metadata": {},
   "outputs": [],
   "source": [
    "result = db.get_industry_summaries(source='IBIS')\n",
    "result"
   ]
  },
  {
   "cell_type": "code",
   "execution_count": null,
   "metadata": {},
   "outputs": [],
   "source": [
    "print(\"Total\", len(result.objects))\n",
    "result.objects[0].properties['industry_summary']"
   ]
  },
  {
   "cell_type": "code",
   "execution_count": null,
   "metadata": {},
   "outputs": [],
   "source": []
  }
 ],
 "metadata": {
  "kernelspec": {
   "display_name": "probe",
   "language": "python",
   "name": "python3"
  },
  "language_info": {
   "codemirror_mode": {
    "name": "ipython",
    "version": 3
   },
   "file_extension": ".py",
   "mimetype": "text/x-python",
   "name": "python",
   "nbconvert_exporter": "python",
   "pygments_lexer": "ipython3",
   "version": "3.11.9"
  }
 },
 "nbformat": 4,
 "nbformat_minor": 2
}
