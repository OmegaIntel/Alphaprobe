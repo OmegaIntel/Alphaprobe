{
 "cells": [
  {
   "cell_type": "code",
   "execution_count": 15,
   "metadata": {},
   "outputs": [],
   "source": [
    "from api.db_models.weaviate_db import WeaviateIndustryDb\n",
    "import json\n",
    "\n",
    "import weaviate\n",
    "client = weaviate.connect_to_local(\n",
    "    port=8002,\n",
    "    skip_init_checks=True\n",
    ")\n",
    "\n",
    "client.collections.delete('IndustrySummary')"
   ]
  },
  {
   "cell_type": "code",
   "execution_count": 11,
   "metadata": {},
   "outputs": [
    {
     "name": "stderr",
     "output_type": "stream",
     "text": [
      "/tmp/ipykernel_68915/1220338876.py:2: ResourceWarning: unclosed file <_io.TextIOWrapper name='IndustrySummary/IBIS/Furniture Stores in the US.json' mode='r' encoding='UTF-8'>\n",
      "  summary = json.load(open(filename, 'r'))\n",
      "ResourceWarning: Enable tracemalloc to get the object allocation traceback\n",
      "/home/yakov/anaconda3/envs/probe/lib/python3.11/site-packages/weaviate/warnings.py:162: DeprecationWarning: Dep016: Python client v3 `weaviate.Client(...)` connections and methods are deprecated. Update\n",
      "            your code to use Python client v4 `weaviate.WeaviateClient` connections and methods.\n",
      "\n",
      "            For Python Client v4 usage, see: https://weaviate.io/developers/weaviate/client-libraries/python\n",
      "            For code migration, see: https://weaviate.io/developers/weaviate/client-libraries/python/v3_v4_migration\n",
      "            \n",
      "  warnings.warn(\n"
     ]
    },
    {
     "data": {
      "text/plain": [
       "['backup',\n",
       " 'batch',\n",
       " 'classification',\n",
       " 'cluster',\n",
       " 'contextionary',\n",
       " 'data_object',\n",
       " 'get_meta',\n",
       " 'get_open_id_configuration',\n",
       " 'is_live',\n",
       " 'is_ready',\n",
       " 'query',\n",
       " 'schema',\n",
       " 'timeout_config']"
      ]
     },
     "execution_count": 11,
     "metadata": {},
     "output_type": "execute_result"
    }
   ],
   "source": [
    "filename = 'IndustrySummary/IBIS/Furniture Stores in the US.json'\n",
    "summary = json.load(open(filename, 'r'))\n",
    "db = WeaviateIndustryDb(url=\"http://localhost:8002\")\n",
    "\n",
    "[m for m in dir(db.client) if not m.startswith('_')]\n",
    "# db.client.collections.delete('IndustrySummary')\n",
    "# db.add_industry_summary(summary)"
   ]
  },
  {
   "cell_type": "code",
   "execution_count": null,
   "metadata": {},
   "outputs": [],
   "source": [
    "from dateparser import parse\n",
    "dd = parse('October 23, 1995')\n",
    "str(dd)\n",
    "dd.isoformat()"
   ]
  },
  {
   "cell_type": "code",
   "execution_count": null,
   "metadata": {},
   "outputs": [],
   "source": [
    "import datetime\n",
    "\n",
    "n = datetime.datetime.now(datetime.timezone.utc)\n",
    "n.isoformat() # '2021-07-13T15:28:51.818095+00:00'"
   ]
  },
  {
   "cell_type": "code",
   "execution_count": null,
   "metadata": {},
   "outputs": [],
   "source": []
  }
 ],
 "metadata": {
  "kernelspec": {
   "display_name": "probe",
   "language": "python",
   "name": "python3"
  },
  "language_info": {
   "codemirror_mode": {
    "name": "ipython",
    "version": 3
   },
   "file_extension": ".py",
   "mimetype": "text/x-python",
   "name": "python",
   "nbconvert_exporter": "python",
   "pygments_lexer": "ipython3",
   "version": "3.11.9"
  }
 },
 "nbformat": 4,
 "nbformat_minor": 2
}
