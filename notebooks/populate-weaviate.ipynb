{
 "cells": [
  {
   "cell_type": "code",
   "execution_count": 1,
   "metadata": {},
   "outputs": [],
   "source": [
    "import json\n",
    "\n",
    "from api.db_models.weaviate_db import UserDocumentManager\n",
    "from loading_utils import new_lines_to_list\n",
    "from weaviate.collections.classes.internal import QueryReturn"
   ]
  },
  {
   "cell_type": "code",
   "execution_count": 2,
   "metadata": {},
   "outputs": [],
   "source": [
    "import weaviate\n",
    "client = weaviate.connect_to_local(\n",
    "    host='localhost',\n",
    "    port=8002,\n",
    "    skip_init_checks=True\n",
    ")"
   ]
  },
  {
   "cell_type": "code",
   "execution_count": 3,
   "metadata": {},
   "outputs": [],
   "source": [
    "email = 'ceo@omegaintelligence.org'\n",
    "company_name = 'ibis-research'\n",
    "\n",
    "udm = UserDocumentManager(email, company_name, client)\n",
    "SCHEMA = udm._schema\n",
    "\n",
    "####\n",
    "# client.collections.delete(SCHEMA)\n",
    "# assert not client.collections.exists(SCHEMA)\n",
    "####\n",
    "\n",
    "# udm = UserDocumentManager(email, company_name, client)"
   ]
  },
  {
   "cell_type": "code",
   "execution_count": 4,
   "metadata": {},
   "outputs": [
    {
     "name": "stdout",
     "output_type": "stream",
     "text": [
      "GOT EXCEPTION Query call with protocol GRPC search failed with message could not find class Udm_3e3625b2e0cb99291ed319d133ee8092 in schema.\n",
      "IndustrySummary/IBIS/Furniture Stores in the US.json\n",
      "s3://omega-intel-doc-storage/udm_3e3625b2e0cb99291ed319d133ee8092/c11e5718f448fff22f2c115274761f7efc5268f6 is already in Weaviate\n",
      "IndustrySummary/IBIS/Household Furniture Manufacturing in the US.json\n",
      "s3://omega-intel-doc-storage/udm_3e3625b2e0cb99291ed319d133ee8092/a77a7d982826adfff6f69d31da215a97c10bb638 is already in Weaviate\n",
      "IndustrySummary/IBIS/IT Consulting in the US.json\n",
      "s3://omega-intel-doc-storage/udm_3e3625b2e0cb99291ed319d133ee8092/29bf4068255993919e81b9f558bb2d4173a8a734 is already in Weaviate\n"
     ]
    }
   ],
   "source": [
    "s_prefix = 'IndustrySource/IBIS/'\n",
    "p_prefix = 'IndustrySummary/IBIS/'\n",
    "fnames = [\n",
    "    'Furniture Stores in the US.pdf',\n",
    "    'Household Furniture Manufacturing in the US.pdf',\n",
    "    'IT Consulting in the US.pdf'\n",
    "]\n",
    "for fname in fnames:\n",
    "    doc_path = s_prefix + fname\n",
    "    summary_path = (p_prefix + fname).replace('.pdf', '.json')\n",
    "\n",
    "    location = udm.upload_document_to_filestore(doc_path)\n",
    "\n",
    "    for i in range(2):\n",
    "        if udm.document_exists(location):\n",
    "            print(location, \"is already in Weaviate\")\n",
    "        else:\n",
    "            with open(summary_path, 'r') as src:\n",
    "                summary = json.load(src)\n",
    "                summary = new_lines_to_list(summary)\n",
    "                summary['location'] = location\n",
    "                print(summary_path)\n",
    "                udm.upload_document_summary(summary)"
   ]
  },
  {
   "cell_type": "code",
   "execution_count": 5,
   "metadata": {},
   "outputs": [
    {
     "name": "stdout",
     "output_type": "stream",
     "text": [
      "Total 3\n"
     ]
    },
    {
     "data": {
      "text/plain": [
       "{'tags': ['test', 'industry report', 'IBIS'],\n",
       " 'summary': {'supply_chain': {'tier_2_suppliers': ['Wood Product Manufacturing in the US',\n",
       "    'Timber Services in the US'],\n",
       "   'tier_1_suppliers': ['Carpet Mills in the US',\n",
       "    'Household Furniture Manufacturing in the US',\n",
       "    'Office Furniture Manufacturing in the US',\n",
       "    'Mattress Manufacturing in the US'],\n",
       "   'tier_1_buyers': ['Property Management in the US',\n",
       "    'Interior Designers in the US',\n",
       "    'Hotels & Motels in the US',\n",
       "    'Casino Hotels in the US',\n",
       "    'Bed & Breakfast & Hostel Accommodations in the US']},\n",
       "  'market_segmentation': [{'percentage': 9.4,\n",
       "    'segment': 'Consumers aged 24 and younger'},\n",
       "   {'percentage': 13.9, 'segment': 'Consumers aged 25 to 34'},\n",
       "   {'percentage': 19.7, 'segment': 'Consumers aged 35 to 44'},\n",
       "   {'percentage': 24.1, 'segment': 'Consumers aged 45 to 54'},\n",
       "   {'percentage': 16.5, 'segment': 'Consumers aged 55 to 64'},\n",
       "   {'percentage': 12.2, 'segment': 'Consumers aged 65 and older'},\n",
       "   {'percentage': 4.2, 'segment': 'Businesses and other'}],\n",
       "  'last_updated': 'Aug 20, 2024',\n",
       "  'country_name': 'United States',\n",
       "  'current_performance': {'revenue_growth_percentage_2024': 1.2,\n",
       "   'revenue_dollars_2024': 147037000000.0,\n",
       "   'iva_dollars_2024': 27805000000.0,\n",
       "   'profit_margin_growth_percentage_2005_2024': 2.77,\n",
       "   'wages_dollars_2024': 20995000000.0,\n",
       "   'establishments_count_2024': 85286.0,\n",
       "   'enterprises_count_2024': 27805.0,\n",
       "   'revenue_growth_percentage_2019_2024': 3.4,\n",
       "   'profit_margin_percentage_2024': 3.7,\n",
       "   'wages_growth_percentage_2004_2024': 2.18,\n",
       "   'iva_growth_percentage_2004_2024': 2.56,\n",
       "   'employment_count_2024': 477496.0},\n",
       "  'costs_and_operations': 'Purchases are the largest expense for furniture stores, driven by the cost of buying inventory from manufacturers or wholesalers. Wage costs are also significant due to the labor-intensive nature of operating furniture showrooms and providing customer service. Incorporating technologies like augmented/virtual reality can help attract customers but requires investment.',\n",
       "  'swot_analysis': {'opportunities': ['High revenue growth (2019-2024)',\n",
       "    'High revenue growth (2024-2029)',\n",
       "    'High performance drivers'],\n",
       "   'weaknesses': ['Low & steady barriers to entry',\n",
       "    'Low & steady level of assistance',\n",
       "    'High competition',\n",
       "    'Low profit vs. sector average',\n",
       "    'Low revenue per employee'],\n",
       "   'strengths': ['Low imports',\n",
       "    'Low customer class concentration',\n",
       "    'Low product/service concentration',\n",
       "    'Low capital requirements'],\n",
       "   'threats': ['Low revenue growth (2005-2024)',\n",
       "    'Low outlier growth',\n",
       "    'Consumer confidence index']},\n",
       "  'key_trends': ['E-commerce boom forces stores to adapt to changing consumer preferences',\n",
       "   'Rise in home renovations fuels growth for furniture retailers',\n",
       "   'Customization is king in the modern furniture market',\n",
       "   'Smart furniture gaining popularity among tech-savvy consumers'],\n",
       "  'industry_name': 'Furniture Stores',\n",
       "  'key_statistics': {'historical_revenue_growth_percentage': 4.95,\n",
       "   'profit_margins_percentage': 3.7,\n",
       "   'projected_revenue_growth_percentage': 2.17,\n",
       "   'revenue_dollars': 147037000000.0},\n",
       "  'related_international_industries': ['Furniture Retailing in Australia',\n",
       "   'Furniture & Home Furnishings Repair in the UK',\n",
       "   'Furniture Stores in Canada'],\n",
       "  'executive_summary': 'Over the past five years, the furniture stores industry has been significantly impacted by the growth of e-commerce and changing consumer preferences towards online shopping. The COVID-19 pandemic accelerated this trend, forcing more consumers to shop online. Other key trends include increased demand for customization, personalization, and unique furniture pieces. The industry also experienced a boost from the rise in home renovations and redecorations during the pandemic. However, high interest rates and economic uncertainty towards the end of the period slowed revenue growth. Looking ahead, the industry will face challenges from economic volatility, intensified competition (especially from e-commerce and direct-to-consumer brands), and the rise of the used furniture market driven by sustainability concerns. To remain competitive, furniture stores will need to offer value-added services, unique selling points, and adapt to evolving consumer preferences.',\n",
       "  'industry_definition': 'The Furniture Stores industry primarily sells household, outdoor and office furniture, except those sold combined with office supplies and equipment. This includes living room, dining room, bedroom furniture, upholstered pieces, desks, lamps, rugs and outdoor furniture.',\n",
       "  'products_and_services': [{'percentage': 37.8,\n",
       "    'product_or_service': 'Living room furniture'},\n",
       "   {'percentage': 32.9, 'product_or_service': 'Bedroom furniture'},\n",
       "   {'percentage': 17.9, 'product_or_service': 'Dining room furniture'},\n",
       "   {'percentage': 11.4, 'product_or_service': 'Other furniture'}],\n",
       "  'competitive_landscape': 'The industry is becoming increasingly price-competitive amid growing external competition from mass merchandisers, warehouse clubs and online retailers. Major retailers like IKEA and Ashley have captured more market share by offering lower prices. Many furniture stores are small and meant to serve local markets, preventing them from expanding geographically.',\n",
       "  'future_outlook': {'opportunities': ['Offering more affordable options or better financing to attract customers during economic uncertainty.',\n",
       "    'Showcasing unique selling points like customization, exclusive designs, or sustainability efforts to justify premium pricing.',\n",
       "    'Deploying value-added services like design consultations and installation to enhance customer experience and loyalty.'],\n",
       "   'revenue_growth_percentage_2024_2029': 2.2,\n",
       "   'challenges': ['Economic volatility and uncertainty caused by geopolitical tensions, trade disputes and fluctuating interest rates will challenge growth.',\n",
       "    'Increased competition, particularly from e-commerce and direct-to-consumer brands, will lead to pressured profits.',\n",
       "    'Furniture stores will need to offer value-added services like design consultations and installation to distinguish themselves.',\n",
       "    'The rise of the used furniture market due to sustainability focus will challenge traditional retailers.']},\n",
       "  'major_players': ['Ashley Furniture Industries, Inc.',\n",
       "   'Inter Ikea Systems B.V.',\n",
       "   'Williams-Sonoma, Inc.',\n",
       "   'Living Spaces Furniture LLC']},\n",
       " 'last_updated': datetime.datetime(2024, 8, 20, 0, 0, tzinfo=datetime.timezone.utc),\n",
       " 'category': 'Industry research',\n",
       " 'title': 'Furniture Stores Industry Report',\n",
       " 'location': 's3://omega-intel-doc-storage/udm_3e3625b2e0cb99291ed319d133ee8092/c11e5718f448fff22f2c115274761f7efc5268f6',\n",
       " 'subcategory': 'IBIS Industry at a Glance'}"
      ]
     },
     "execution_count": 5,
     "metadata": {},
     "output_type": "execute_result"
    }
   ],
   "source": [
    "result = udm.get_documents(\n",
    "    # title=\"IT Consulting Industry Report\",\n",
    "    category=\"Industry research\",\n",
    ")\n",
    "print(\"Total\", len(result.objects))\n",
    "result.objects[0].properties"
   ]
  },
  {
   "cell_type": "code",
   "execution_count": 6,
   "metadata": {},
   "outputs": [],
   "source": [
    "assert client.collections.exists(SCHEMA)"
   ]
  },
  {
   "cell_type": "code",
   "execution_count": 7,
   "metadata": {},
   "outputs": [
    {
     "data": {
      "text/plain": [
       "weaviate.collections.classes.internal.QueryReturn"
      ]
     },
     "execution_count": 7,
     "metadata": {},
     "output_type": "execute_result"
    }
   ],
   "source": [
    "type(result)"
   ]
  },
  {
   "cell_type": "code",
   "execution_count": 8,
   "metadata": {},
   "outputs": [
    {
     "data": {
      "text/plain": [
       "['__annotations__',\n",
       " '__class__',\n",
       " '__class_getitem__',\n",
       " '__dataclass_fields__',\n",
       " '__dataclass_params__',\n",
       " '__delattr__',\n",
       " '__dict__',\n",
       " '__dir__',\n",
       " '__doc__',\n",
       " '__eq__',\n",
       " '__format__',\n",
       " '__ge__',\n",
       " '__getattribute__',\n",
       " '__getstate__',\n",
       " '__gt__',\n",
       " '__hash__',\n",
       " '__init__',\n",
       " '__init_subclass__',\n",
       " '__le__',\n",
       " '__lt__',\n",
       " '__match_args__',\n",
       " '__module__',\n",
       " '__ne__',\n",
       " '__new__',\n",
       " '__orig_bases__',\n",
       " '__parameters__',\n",
       " '__reduce__',\n",
       " '__reduce_ex__',\n",
       " '__repr__',\n",
       " '__setattr__',\n",
       " '__sizeof__',\n",
       " '__slots__',\n",
       " '__str__',\n",
       " '__subclasshook__',\n",
       " '__weakref__',\n",
       " '_is_protocol',\n",
       " 'objects']"
      ]
     },
     "execution_count": 8,
     "metadata": {},
     "output_type": "execute_result"
    }
   ],
   "source": [
    "dir(result)"
   ]
  },
  {
   "cell_type": "code",
   "execution_count": null,
   "metadata": {},
   "outputs": [],
   "source": []
  }
 ],
 "metadata": {
  "kernelspec": {
   "display_name": "probe",
   "language": "python",
   "name": "python3"
  },
  "language_info": {
   "codemirror_mode": {
    "name": "ipython",
    "version": 3
   },
   "file_extension": ".py",
   "mimetype": "text/x-python",
   "name": "python",
   "nbconvert_exporter": "python",
   "pygments_lexer": "ipython3",
   "version": "3.11.9"
  }
 },
 "nbformat": 4,
 "nbformat_minor": 2
}
