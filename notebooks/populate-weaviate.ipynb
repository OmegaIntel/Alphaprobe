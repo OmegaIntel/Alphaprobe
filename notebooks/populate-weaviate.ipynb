{
 "cells": [
  {
   "cell_type": "code",
   "execution_count": 1,
   "metadata": {},
   "outputs": [],
   "source": [
    "import json\n",
    "\n",
    "from rag.basic_retrieval import DocumentManager\n",
    "# from loading_utils import new_lines_to_list\n",
    "# from weaviate.collections.classes.internal import QueryReturn"
   ]
  },
  {
   "cell_type": "code",
   "execution_count": 2,
   "metadata": {},
   "outputs": [],
   "source": [
    "import weaviate\n",
    "wclient = weaviate.connect_to_local(\n",
    "    host='localhost',\n",
    "    port=8002,\n",
    "    skip_init_checks=True\n",
    ")"
   ]
  },
  {
   "cell_type": "code",
   "execution_count": 3,
   "metadata": {},
   "outputs": [],
   "source": [
    "from llmsherpa.readers import LayoutPDFReader\n",
    "llmsherpa_api_url = \"http://localhost:5501/api/parseDocument?renderFormat=all\"\n",
    "pdf_reader = LayoutPDFReader(llmsherpa_api_url)\n"
   ]
  },
  {
   "cell_type": "code",
   "execution_count": 4,
   "metadata": {},
   "outputs": [],
   "source": [
    "# email = 'ceo@omegaintelligence.org'\n",
    "# company_name = 'ibis-research'\n",
    "\n",
    "# udm = UserDocumentManager(email, company_name, client)\n",
    "# COLL = udm._coll\n",
    "\n",
    "####\n",
    "# client.collections.delete(COLL)\n",
    "# assert not client.collections.exists(COLL)\n",
    "####"
   ]
  },
  {
   "cell_type": "code",
   "execution_count": 7,
   "metadata": {},
   "outputs": [
    {
     "data": {
      "text/plain": [
       "['IndustrySource/Misc/Global Markets for Advanced Aerospace Materials.pdf',\n",
       " 'IndustrySource/Misc/33299A Guns  Ammunition Manufacturing in the US Industry Report.pdf',\n",
       " 'IndustrySource/Misc/Global Markets for Advanced Aerospace Materials copy.pdf',\n",
       " 'IndustrySource/Misc/study_id123577_northrop-grumman-corp.pdf',\n",
       " 'IndustrySource/Misc/33699B Tank  Armored Vehicle Manufacturing in the US Industry Report.pdf',\n",
       " 'IndustrySource/Misc/study_id9503_airbus-and-boeing--statista-dossier.pdf',\n",
       " 'IndustrySource/Misc/Solar Panel Installation in the US copy.pdf',\n",
       " 'IndustrySource/Misc/Amusement_&_Theme_Parks,_Recre copy.pdf',\n",
       " 'IndustrySource/Misc/Q2_2024_Medtech_Report_17275 copy.pdf',\n",
       " 'IndustrySource/Misc/51121A Operating Systems  Productivity Software Publishing in the US Industry Report copy.pdf',\n",
       " 'IndustrySource/Misc/Commercial_&_Industrial_Equipm copy.pdf',\n",
       " 'IndustrySource/Misc/Advanced Materials for Extreme Environments copy.pdf',\n",
       " 'IndustrySource/Misc/statistic_id257349_leading-aerospace-and-defense-manufacturers-in-the-us-2023.pdf',\n",
       " 'IndustrySource/Misc/32592 Explosives Manufacturing in the US Industry Report.pdf',\n",
       " 'IndustrySource/Misc/United_States_Healthcare_Repor copy.pdf',\n",
       " 'IndustrySource/Misc/The_Global_Unmanned_Aerial_Veh copy.pdf',\n",
       " 'IndustrySource/Misc/2023_U.S._Refrigerated_Warehou copy.pdf',\n",
       " 'IndustrySource/Misc/study_id66974_in-depth-report-industry-40.pdf',\n",
       " 'IndustrySource/Misc/Advanced Protective Gear and Armor copy.pdf',\n",
       " 'IndustrySource/Misc/study_id16159_united-technologies-corporation-statista-dossier.pdf',\n",
       " 'IndustrySource/Misc/Aerospace Ceramics copy.pdf',\n",
       " 'IndustrySource/Misc/Raytheon Technologies 2020 Annual Report.pdf',\n",
       " 'IndustrySource/Misc/51 Information in the US Industry Report copy.pdf',\n",
       " 'IndustrySource/Misc/32599 Chemical Product Manufacturing in the US Industry Report.pdf',\n",
       " 'IndustrySource/Misc/study_id15779_lockheed-martin-statista-dossier.pdf',\n",
       " 'IndustrySource/Misc/study_id15877_general-dynamics-statista-dossier.pdf']"
      ]
     },
     "execution_count": 7,
     "metadata": {},
     "output_type": "execute_result"
    }
   ],
   "source": [
    "# s_prefix = 'IndustrySource/IBIS/'\n",
    "# f_name = 'Furniture Stores in the US.pdf'\n",
    "\n",
    "dm = DocumentManager(coll_id='abc1234', weaviate_client=wclient, pdf_reader=pdf_reader)\n",
    "# dm.add_file(s_prefix + f_name, last_updated='2024-06-23', tags=[])\n",
    "\n",
    "from glob import glob\n",
    "filenames = glob('IndustrySource/Misc/*')\n",
    "for filename in filenames:\n",
    "    s3_loc = dm.add_file(filename, last_updated='2024-06-23', tags=[])\n",
    "    print(s3_loc)"
   ]
  },
  {
   "cell_type": "code",
   "execution_count": 6,
   "metadata": {},
   "outputs": [
    {
     "ename": "ZeroDivisionError",
     "evalue": "division by zero",
     "output_type": "error",
     "traceback": [
      "\u001b[0;31m---------------------------------------------------------------------------\u001b[0m",
      "\u001b[0;31mZeroDivisionError\u001b[0m                         Traceback (most recent call last)",
      "Cell \u001b[0;32mIn[6], line 1\u001b[0m\n\u001b[0;32m----> 1\u001b[0m \u001b[38;5;241;43m0\u001b[39;49m\u001b[38;5;241;43m/\u001b[39;49m\u001b[38;5;241;43m0\u001b[39;49m\n",
      "\u001b[0;31mZeroDivisionError\u001b[0m: division by zero"
     ]
    }
   ],
   "source": [
    "0/0"
   ]
  },
  {
   "cell_type": "code",
   "execution_count": null,
   "metadata": {},
   "outputs": [],
   "source": [
    "s_prefix = 'IndustrySource/IBIS/'\n",
    "p_prefix = 'IndustrySummary/IBIS/'\n",
    "fnames = [\n",
    "    'Furniture Stores in the US.pdf',\n",
    "    'Household Furniture Manufacturing in the US.pdf',\n",
    "    'IT Consulting in the US.pdf'\n",
    "]\n",
    "for fname in fnames:\n",
    "    doc_path = s_prefix + fname\n",
    "    summary_path = (p_prefix + fname).replace('.pdf', '.json')\n",
    "\n",
    "    doc_url = udm.upload_document_to_filestore(doc_path)\n",
    "\n",
    "    for i in range(2):\n",
    "        if udm.document_exists(doc_url):\n",
    "            print(doc_url, \"is already in Weaviate\")\n",
    "        else:\n",
    "            with open(summary_path, 'r') as src:\n",
    "                summary = json.load(src)\n",
    "                summary = new_lines_to_list(summary)\n",
    "                summary['doc_url'] = doc_url\n",
    "                print(summary_path)\n",
    "                udm.upload_document_summary(summary)"
   ]
  },
  {
   "cell_type": "code",
   "execution_count": null,
   "metadata": {},
   "outputs": [],
   "source": [
    "result = udm.get_documents(\n",
    "    # title=\"IT Consulting Industry Report\",\n",
    "    category=\"Industry research\",\n",
    ")\n",
    "print(\"Total\", len(result.objects))\n",
    "result.objects[0].properties"
   ]
  },
  {
   "cell_type": "code",
   "execution_count": 6,
   "metadata": {},
   "outputs": [],
   "source": [
    "assert client.collections.exists(COLL)"
   ]
  },
  {
   "cell_type": "code",
   "execution_count": null,
   "metadata": {},
   "outputs": [],
   "source": [
    "type(result)"
   ]
  },
  {
   "cell_type": "code",
   "execution_count": null,
   "metadata": {},
   "outputs": [],
   "source": []
  }
 ],
 "metadata": {
  "kernelspec": {
   "display_name": "probe",
   "language": "python",
   "name": "python3"
  },
  "language_info": {
   "codemirror_mode": {
    "name": "ipython",
    "version": 3
   },
   "file_extension": ".py",
   "mimetype": "text/x-python",
   "name": "python",
   "nbconvert_exporter": "python",
   "pygments_lexer": "ipython3",
   "version": "3.11.9"
  }
 },
 "nbformat": 4,
 "nbformat_minor": 2
}
