{
 "cells": [
  {
   "cell_type": "code",
   "execution_count": 1,
   "metadata": {},
   "outputs": [],
   "source": [
    "import json\n",
    "\n",
    "from api.db_models.weaviate_db import UserDocumentManager\n",
    "from loading_utils import new_lines_to_list\n"
   ]
  },
  {
   "cell_type": "code",
   "execution_count": 2,
   "metadata": {},
   "outputs": [],
   "source": [
    "import weaviate\n",
    "client = weaviate.connect_to_local(\n",
    "    host='localhost',\n",
    "    port=8002,\n",
    "    skip_init_checks=True\n",
    ")"
   ]
  },
  {
   "cell_type": "code",
   "execution_count": 3,
   "metadata": {},
   "outputs": [],
   "source": [
    "email = 'ceo@omegaintelligence.org'\n",
    "company_name = 'ibis-research'\n",
    "\n",
    "udm = UserDocumentManager(email, company_name, client)\n",
    "SCHEMA = udm._schema\n",
    "\n",
    "####\n",
    "client.collections.delete(SCHEMA)\n",
    "assert not client.collections.exists(SCHEMA)\n",
    "####"
   ]
  },
  {
   "cell_type": "code",
   "execution_count": 4,
   "metadata": {},
   "outputs": [
    {
     "name": "stdout",
     "output_type": "stream",
     "text": [
      "IndustrySummary/IBIS/Furniture Stores in the US.json\n",
      "IndustrySummary/IBIS/Household Furniture Manufacturing in the US.json\n",
      "IndustrySummary/IBIS/IT Consulting in the US.json\n"
     ]
    }
   ],
   "source": [
    "s_prefix = 'IndustrySource/IBIS/'\n",
    "p_prefix = 'IndustrySummary/IBIS/'\n",
    "fnames = [\n",
    "    'Furniture Stores in the US.pdf',\n",
    "    'Household Furniture Manufacturing in the US.pdf',\n",
    "    'IT Consulting in the US.pdf'\n",
    "]\n",
    "for fname in fnames:\n",
    "    doc_path = s_prefix + fname\n",
    "    summary_path = (p_prefix + fname).replace('.pdf', '.json')\n",
    "\n",
    "    location = udm.upload_document_to_filestore(doc_path)\n",
    "\n",
    "    with open(summary_path, 'r') as src:\n",
    "        summary = json.load(src)\n",
    "        summary = new_lines_to_list(summary)\n",
    "        summary['location'] = location\n",
    "        print(summary_path)\n",
    "        udm.upload_document_summary(summary)"
   ]
  },
  {
   "cell_type": "code",
   "execution_count": null,
   "metadata": {},
   "outputs": [],
   "source": [
    "result = udm.get_documents(\n",
    "    title=\"IT Consulting Industry Report\",\n",
    "    # industry_name='Household Furniture Manufacturing'\n",
    ")\n",
    "print(\"Total\", len(result.objects))\n",
    "result.objects[0].properties"
   ]
  },
  {
   "cell_type": "code",
   "execution_count": null,
   "metadata": {},
   "outputs": [],
   "source": [
    "assert client.collections.exists(SCHEMA)"
   ]
  },
  {
   "cell_type": "code",
   "execution_count": null,
   "metadata": {},
   "outputs": [],
   "source": []
  }
 ],
 "metadata": {
  "kernelspec": {
   "display_name": "probe",
   "language": "python",
   "name": "python3"
  },
  "language_info": {
   "codemirror_mode": {
    "name": "ipython",
    "version": 3
   },
   "file_extension": ".py",
   "mimetype": "text/x-python",
   "name": "python",
   "nbconvert_exporter": "python",
   "pygments_lexer": "ipython3",
   "version": "3.11.9"
  }
 },
 "nbformat": 4,
 "nbformat_minor": 2
}
