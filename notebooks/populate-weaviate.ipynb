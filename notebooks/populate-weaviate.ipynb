{
 "cells": [
  {
   "cell_type": "code",
   "execution_count": 1,
   "metadata": {},
   "outputs": [],
   "source": [
    "from api.db_models.weaviate_db import WeaviateIndustryDb\n",
    "import json\n",
    "\n",
    "# import weaviate\n",
    "# client = weaviate.connect_to_local(\n",
    "#     host='localhost',\n",
    "#     port=8002,\n",
    "#     skip_init_checks=True\n",
    "# )\n",
    "# client.collections.delete('IndustrySummary')\n",
    "\n",
    "db = WeaviateIndustryDb(host=\"localhost\", port=8002)"
   ]
  },
  {
   "cell_type": "code",
   "execution_count": 2,
   "metadata": {},
   "outputs": [],
   "source": [
    "root = 'IndustrySummary/IBIS/'\n",
    "# filename = 'IT Consulting in the US.json'\n",
    "filename = 'Furniture Stores in the US.json'\n",
    "\n",
    "with open(root + filename, 'r') as fp:\n",
    "    summary = json.load(fp)\n",
    "\n",
    "\n",
    "# [m for m in dir(db.client) if not m.startswith('_')]"
   ]
  },
  {
   "cell_type": "code",
   "execution_count": 3,
   "metadata": {},
   "outputs": [],
   "source": [
    "db.add_industry_summary(summary)"
   ]
  },
  {
   "cell_type": "code",
   "execution_count": 5,
   "metadata": {},
   "outputs": [
    {
     "data": {
      "text/plain": [
       "QueryReturn(objects=[Object(uuid=_WeaviateUUIDInt('6e5c9bcc-1ec5-40e6-b931-dbfb85daafc3'), metadata=MetadataReturn(creation_time=None, last_update_time=None, distance=None, certainty=None, score=None, explain_score=None, is_consistent=None, rerank_score=None), properties={'source': 'IBIS', 'type': 'Industry research', 'subtype': 'Industry at a Glance', 'industry_name': 'IT Consulting', 'last_updated': datetime.datetime(2024, 7, 2, 0, 0, tzinfo=datetime.timezone.utc), 'industry_summary': '{\"industry_name\": \"IT Consulting\", \"country_name\": \"United States\", \"last_updated\": \"Jul 02, 2024\", \"revenue_dollars\": 710683000000, \"revenue_growth_percentage_2002_2024\": 3.93, \"revenue_growth_percentage_projected_2024_2029\": 2.36, \"enterprises_count\": 496630, \"enterprises_growth_percentage_2002_2024\": 1.33, \"enterprises_growth_percentage_projected_2024_2029\": 2.1, \"establishments_count\": 518365, \"establishments_growth_percentage_2002_2024\": 1.4, \"establishments_growth_percentage_projected_2024_2029\": 2.11, \"employment_count\": 2542152, \"employment_growth_percentage_2002_2024\": 2.86, \"employment_growth_percentage_projected_2024_2029\": 2.32, \"wages_dollars\": 305094000000, \"wages_growth_percentage_2002_2024\": 3.97, \"wages_growth_percentage_projected_2024_2029\": 2.33, \"iva_dollars\": 356003000000, \"iva_growth_percentage_2002_2024\": 4.11, \"iva_growth_percentage_projected_2024_2029\": 2.34, \"major_players\": [\"Dell Technologies Inc.\", \"Tata Consultancy Services Ltd\", \"Booz Allen Hamilton Inc.\", \"Accenture Plc\"], \"competitive_landscape\": \"The five largest IT Consulting firms account for just over 5.0% of industry revenue. The industry\\'s sheer size and vast portfolio of services prevent any one company from dominating.\", \"costs_and_operations\": \"Wages represent the industry\\'s single-largest expense at 43.0% of revenue in 2023. Miscellaneous expenses like travel, vehicle costs, insurance and legal fees account for 38.9% of revenue. Purchases of hardware and software represent 7.1% of revenue. Profit is expected to be 6.4% of revenue in 2023.\", \"related_international_industries\": [\"Computer System Design Services in Australia\", \"Computer Consultants in the UK\", \"IT Consulting in Canada\", \"Computer System Design Services in New Zealand\", \"Computer Consultants in Ireland\"], \"key_trends\": [\"The industry has experienced an uptick in demand over the past five years as the economy grew steadily.\", \"Major players in the industry have switched their focus toward cloud-based computing and data analytics.\", \"Major players have looked to gain the upper hand in the industry as it adapts to cloud-based computing by merging or acquiring competitors.\", \"The rapidly changing nature of the industry enables new entrants who specialize in new kinds of technology to enter the industry.\", \"The increased use of mobile devices to access the internet will boost industry revenue.\", \"Faster networks allow users to access data-heavy content, like streaming videos through their mobile devices, resulting in greater demand for application and system design.\"], \"market_segmentation\": [{\"segment\": \"Financial services companies\", \"percentage\": 20.8}, {\"segment\": \"Communications, media and technology companies\", \"percentage\": 15.0}, {\"segment\": \"Public sector and nonprofit organizations\", \"percentage\": 18.8}, {\"segment\": \"Other sectors\", \"percentage\": 10.3}, {\"segment\": \"Healthcare companies\", \"percentage\": 12.9}, {\"segment\": \"Manufacturing and retail companies\", \"percentage\": 22.2}], \"products_and_services\": [{\"product_or_service\": \"Custom services\", \"percentage\": 25.1}, {\"product_or_service\": \"IT infrastructure\", \"percentage\": 7.6}, {\"product_or_service\": \"Computer systems development\", \"percentage\": 10.6}, {\"product_or_service\": \"Technical support\", \"percentage\": 8.9}, {\"product_or_service\": \"Technical consulting\", \"percentage\": 10.5}, {\"product_or_service\": \"Other services\", \"percentage\": 37.3}], \"supply_chain\": {\"tier_1_suppliers\": [\"Software Publishing in the US\", \"Computer & Packaged Software Wholesaling in the US\", \"Internet Service Providers in the US\"], \"tier_2_suppliers\": [\"Computer Manufacturing in the US\", \"Computer Peripheral Manufacturing in the US\", \"Communication Equipment Manufacturing in the US\"], \"tier_1_buyers\": [\"Retail Trade in the US\", \"Hospitals in the US\", \"Finance and Insurance in the US\", \"Healthcare and Social Assistance in the US\", \"Manufacturing in the US\"]}, \"industry_definition\": \"The IT Consulting industry includes firms that provide the following services to client companies: writing, testing and supporting custom software; planning and designing integrated hardware, software and communication infrastructure; and on-site management of computer systems and data processing facilities. This industry excludes packaged software publishers and off-site data processing and hosting services.\", \"key_statistics\": {\"revenue_dollars\": 710683000000, \"revenue_growth_percentage_2002_2024\": 3.93, \"projected_revenue_growth_percentage_2024_2029\": 2.36, \"enterprises_count\": 496630, \"enterprises_growth_percentage_2002_2024\": 1.33, \"projected_enterprises_growth_percentage_2024_2029\": 2.1, \"establishments_count\": 518365, \"establishments_growth_percentage_2002_2024\": 1.4, \"projected_establishments_growth_percentage_2024_2029\": 2.11, \"employment_count\": 2542152, \"employment_growth_percentage_2002_2024\": 2.86, \"projected_employment_growth_percentage_2024_2029\": 2.32, \"wages_dollars\": 305094000000, \"wages_growth_percentage_2002_2024\": 3.97, \"projected_wages_growth_percentage_2024_2029\": 2.33, \"iva_dollars\": 356003000000, \"iva_growth_percentage_2002_2024\": 4.11, \"projected_iva_growth_percentage_2024_2029\": 2.34}, \"executive_summary\": \"Due to low capital requirements, a sizable number of operators are small nonemployers or independent contractors. IT Consulting has experienced a shift in technological change towards cloud computing and data analytics. The constantly changing character of the industry has led larger players to acquire smaller companies and develop new products to remain competitive. Industry revenue has grown at a CAGR of 2.8% to $692.9 billion over the five years to 2023, including a rise of 1.2% in 2023 alone. Profit is expected to remain relatively steady and account for 6.4% of revenue in 2023.\", \"current_performance\": \"The world is becoming more technology-driven. Businesses across all industries rely on external IT support to operate more efficiently. Operators design and modify supporting software to improve online and telecommunications security systems. Due to the many IT-related services offered, the industry has remained one of the largest and most resilient in the US economy.\\\\n\\\\nThe pandemic and the expansion of business budgets sparked increasing demand for services. The industry has experienced an uptick in demand over the past five years as the economy grew steadily. Key drivers like strong corporate profit and rising investment in computers and software have driven its expansion as businesses have increased their IT-related budgets. During the pandemic, businesses increasingly relied on IT infrastructure for nonessential employees to continue operations remotely, bolstering demand for services and keeping revenue steady.\\\\n\\\\nContinued innovation reshapes the industry as the world becomes more technology-driven. Major players in the industry have switched their focus toward cloud-based computing and data analytics. Computer applications can be hosted on outside servers that can be accessed via the internet and managed by third-party companies, which has enhanced the need for services.\\\\n\\\\nMerger and acquisition activity rises as operators seek to gain an advantage. Major players have looked to gain the upper hand in the industry as it adapts to cloud-based computing by merging or acquiring competitors. As new technologies decrease demand for traditional software and hardware solutions, larger players have often looked to acquire smaller niche players to take advantage of the constantly changing industry.\", \"future_outlook\": \"Business confidence and investment will be critical drivers of the industry. Businesses seek the assistance of IT consultants to improve operational efficiency through system upgrades and integration. Rising technology integration and product development will increase investment in computers and software, boosting the need for industry services. As more business is conducted online or through the cloud network, demand for industry services will rise.\\\\n\\\\nInnovation and shifting technological trends will boost demand. The rapidly changing nature of the industry enables new entrants who specialize in new kinds of technology to enter the industry. The increased use of mobile devices to access the internet will boost industry revenue. Faster networks allow users to access data-heavy content, like streaming videos through their mobile devices, resulting in greater demand for application and system design.  \\\\n\\\\nImproving economic conditions and the rising use of online platforms will assist in revenue gains. Demand from the finance and insurance sector, which is among the industry\\'s largest downstream markets, will continue to expand over the next five years in line with improving macroeconomic conditions. The percentage of services conducted online is expected to continue hiking over the next five years. As more business operations are conducted online or through the cloud network, service demand will also increase. Operators are expected to encounter stronger demand for application and system design as businesses continue to invest in mobile platforms to reach a younger and more technologically savvy demographic that has already integrated smartphone use into everyday life.\\\\n\\\\nIndustry structure will keep on transforming. As the industry continues to see strong revenue growth, new companies are expected to enter in an attempt to capture market share. Larger operators are expected to continue acquiring smaller businesses that provide services to smaller niche markets.\", \"swot_analysis\": {\"strengths\": [\"Growth Life Cycle Stage\", \"Low Volatility\", \"Low Imports\", \"Low Customer Class Concentration\", \"Low Product/Service Concentration\", \"High Revenue per Employee\", \"Low Capital Requirements\"], \"weaknesses\": [\"Low & Increasing Barriers to Entry\", \"Low & Steady Level of Assistance\", \"High Competition\", \"Low Profit vs. Sector Average\"], \"opportunities\": [\"High Revenue Growth (2005-2024)\", \"High Revenue Growth (2019-2024)\", \"High Revenue Growth (2024-2029)\", \"Corporate profit\"], \"threats\": [\"Low Outlier Growth\", \"Low Performance Drivers\", \"Consumer price index\"]}}'}, references=None, vector={}, collection='IndustrySummary')])"
      ]
     },
     "execution_count": 5,
     "metadata": {},
     "output_type": "execute_result"
    }
   ],
   "source": [
    "result = db.get_industry_summaries(source='IBIS')\n",
    "result"
   ]
  },
  {
   "cell_type": "code",
   "execution_count": null,
   "metadata": {},
   "outputs": [],
   "source": []
  }
 ],
 "metadata": {
  "kernelspec": {
   "display_name": "probe",
   "language": "python",
   "name": "python3"
  },
  "language_info": {
   "codemirror_mode": {
    "name": "ipython",
    "version": 3
   },
   "file_extension": ".py",
   "mimetype": "text/x-python",
   "name": "python",
   "nbconvert_exporter": "python",
   "pygments_lexer": "ipython3",
   "version": "3.11.9"
  }
 },
 "nbformat": 4,
 "nbformat_minor": 2
}
