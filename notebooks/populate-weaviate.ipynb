{
 "cells": [
  {
   "cell_type": "code",
   "execution_count": 1,
   "metadata": {},
   "outputs": [],
   "source": [
    "# Delete the table\n",
    "import weaviate\n",
    "client = weaviate.connect_to_local(\n",
    "    host='localhost',\n",
    "    port=8002,\n",
    "    skip_init_checks=True\n",
    ")\n",
    "client.collections.delete('IndustrySummary')"
   ]
  },
  {
   "cell_type": "code",
   "execution_count": 2,
   "metadata": {},
   "outputs": [],
   "source": [
    "from api.db_models.weaviate_db import WeaviateIndustryDb\n",
    "import json\n",
    "\n",
    "db = WeaviateIndustryDb(host=\"localhost\", port=8002)"
   ]
  },
  {
   "cell_type": "code",
   "execution_count": 3,
   "metadata": {},
   "outputs": [],
   "source": [
    "root = 'IndustrySummary/IBIS/'\n",
    "# filename = 'IT Consulting in the US.json'\n",
    "filename = 'Furniture Stores in the US.json'\n",
    "\n",
    "with open(root + filename, 'r') as fp:\n",
    "    summary = json.load(fp)\n",
    "\n",
    "# [m for m in dir(db.client) if not m.startswith('_')]"
   ]
  },
  {
   "cell_type": "code",
   "execution_count": 4,
   "metadata": {},
   "outputs": [
    {
     "name": "stdout",
     "output_type": "stream",
     "text": [
      "GOT TYPE <class 'dict'>\n"
     ]
    }
   ],
   "source": [
    "db.add_industry_summary(summary)"
   ]
  },
  {
   "cell_type": "code",
   "execution_count": 5,
   "metadata": {},
   "outputs": [
    {
     "data": {
      "text/plain": [
       "QueryReturn(objects=[Object(uuid=_WeaviateUUIDInt('000a8fa0-875d-48bb-a476-83efe946dd1d'), metadata=MetadataReturn(creation_time=None, last_update_time=None, distance=None, certainty=None, score=None, explain_score=None, is_consistent=None, rerank_score=None), properties={'source': 'IBIS', 'type': 'Industry research', 'subtype': 'Industry at a Glance', 'industry_name': 'Furniture Stores', 'last_updated': datetime.datetime(2024, 8, 20, 0, 0, tzinfo=datetime.timezone.utc), 'industry_summary': {'supply_chain': {'tier_2_suppliers': ['Wood Product Manufacturing', 'Timber Services'], 'tier_1_suppliers': ['Carpet Mills', 'Household Furniture Manufacturing', 'Office Furniture Manufacturing', 'Mattress Manufacturing', 'Furniture Wholesaling'], 'tier_1_buyers': ['Property Management', 'Interior Designers', 'Hotels &amp; Motels', 'Casino Hotels', 'Bed &amp; Breakfast &amp; Hostel Accommodations']}, 'market_segmentation': [{'percentage': 95.8, 'segment': 'Households'}, {'percentage': 4.2, 'segment': 'Businesses and other'}], 'current_performance': 'E-commerce has disrupted the industry, forcing stores to develop online platforms and efficient delivery. Home renovations during the pandemic boosted demand, but high inflation and interest rates recently slowed sales. Customization has become a major trend, with stores offering personalized options. Smart furniture incorporating technology is also gaining popularity.', 'last_updated': 'Aug 20, 2024', 'country_name': 'United States', 'costs_and_operations': 'Purchases are the largest expense for furniture stores, driven by costs of materials like wood, leather and fabrics. Wage costs are also significant due to reliance on salespeople and delivery personnel. Stores locate near population centers to maximize foot traffic and reduce delivery costs. Proximity to manufacturers lowers transportation expenses.', 'swot_analysis': {'opportunities': ['High Revenue Growth (2019-2024)', 'High Revenue Growth (2024-2029)', 'High Performance Drivers'], 'weaknesses': ['Low & Steady Barriers to Entry', 'Low & Steady Level of Assistance', 'High Competition', 'Low Profit vs. Sector Average', 'Low Revenue per Employee'], 'strengths': ['Low Imports', 'Low Customer Class Concentration', 'Low Product/Service Concentration', 'Low Capital Requirements'], 'threats': ['Low Revenue Growth (2005-2024)', 'Low Outlier Growth', 'Consumer confidence index']}, 'industry_name': 'Furniture Stores', 'key_trends': ['E-commerce boom forces stores to adapt to changing consumer preferences', 'A rise in home renovations fuels growth for furniture retailers', 'Customization is king in the modern furniture market', 'Smart furniture gaining popularity among tech-savvy consumers'], 'key_statistics': {'historical_revenue_growth_percentage': 4.95, 'profit_margin_percentage': 3.7, 'projected_revenue_growth_percentage': 2.17, 'revenue_dollars': 147037000000.0}, 'related_international_industries': ['Furniture Retailing in Australia', 'Furniture & Home Furnishings Repair in the UK', 'Furniture Stores in Canada'], 'executive_summary': 'Over the past five years, furniture stores have faced disruption from e-commerce and had to adapt to changing consumer preferences like customization and online shopping. The COVID-19 pandemic accelerated the e-commerce trend but also boosted demand from consumers renovating homes. However, high interest rates towards the end of the period slowed housing and furniture demand. Overall industry revenue grew at a 3.4% CAGR over the past five years.\\n\\nIn the next five years, economic uncertainty, increased competition, and the rise of the used furniture market will challenge furniture stores. They may need to offer more affordable options, better financing, value-added services like design consultations, and adapt sustainability practices to maintain market share. Industry revenue is projected to grow at a 2.2% CAGR over the next five years.', 'industry_definition': 'Operators in this industry primarily retail household, outdoor and office furniture, excluding office supplies and equipment. Products include living room, dining room, bedroom furniture, desks, lamps, rugs and outdoor furniture.', 'products_and_services': [{'percentage': 37.8, 'product_or_service': 'Living room furniture'}, {'percentage': 32.9, 'product_or_service': 'Bedroom furniture'}, {'percentage': 17.9, 'product_or_service': 'Dining room furniture'}, {'percentage': 11.4, 'product_or_service': 'Other furniture'}], 'competitive_landscape': 'The industry is becoming increasingly price-competitive amid growing external competition from mass merchandisers, warehouse clubs and online retailers. Major players like IKEA and Ashley Furniture have captured more market share by offering lower prices. Many small retailers serve local markets, preventing geographic expansion.', 'future_outlook': 'Economic volatility and uncertainty will challenge growth, potentially requiring more affordable options and financing. Increased competition, especially from e-commerce and direct-to-consumer brands, will intensify price wars and pressure profits. Value-added services like design consultations and installation will be key to differentiation. The rise of the used furniture market driven by sustainability focus will also compete with new furniture sales.', 'major_players': ['Ashley Furniture Industries, Inc.', 'Inter Ikea Systems B.V.', 'Williams-Sonoma, Inc.', 'Living Spaces Furniture LLC']}}, references=None, vector={}, collection='IndustrySummary')])"
      ]
     },
     "execution_count": 5,
     "metadata": {},
     "output_type": "execute_result"
    }
   ],
   "source": [
    "result = db.get_industry_summaries(source='IBIS')\n",
    "result"
   ]
  },
  {
   "cell_type": "code",
   "execution_count": 6,
   "metadata": {},
   "outputs": [
    {
     "data": {
      "text/plain": [
       "{'supply_chain': {'tier_2_suppliers': ['Wood Product Manufacturing',\n",
       "   'Timber Services'],\n",
       "  'tier_1_suppliers': ['Carpet Mills',\n",
       "   'Household Furniture Manufacturing',\n",
       "   'Office Furniture Manufacturing',\n",
       "   'Mattress Manufacturing',\n",
       "   'Furniture Wholesaling'],\n",
       "  'tier_1_buyers': ['Property Management',\n",
       "   'Interior Designers',\n",
       "   'Hotels &amp; Motels',\n",
       "   'Casino Hotels',\n",
       "   'Bed &amp; Breakfast &amp; Hostel Accommodations']},\n",
       " 'market_segmentation': [{'percentage': 95.8, 'segment': 'Households'},\n",
       "  {'percentage': 4.2, 'segment': 'Businesses and other'}],\n",
       " 'current_performance': 'E-commerce has disrupted the industry, forcing stores to develop online platforms and efficient delivery. Home renovations during the pandemic boosted demand, but high inflation and interest rates recently slowed sales. Customization has become a major trend, with stores offering personalized options. Smart furniture incorporating technology is also gaining popularity.',\n",
       " 'last_updated': 'Aug 20, 2024',\n",
       " 'country_name': 'United States',\n",
       " 'costs_and_operations': 'Purchases are the largest expense for furniture stores, driven by costs of materials like wood, leather and fabrics. Wage costs are also significant due to reliance on salespeople and delivery personnel. Stores locate near population centers to maximize foot traffic and reduce delivery costs. Proximity to manufacturers lowers transportation expenses.',\n",
       " 'swot_analysis': {'opportunities': ['High Revenue Growth (2019-2024)',\n",
       "   'High Revenue Growth (2024-2029)',\n",
       "   'High Performance Drivers'],\n",
       "  'weaknesses': ['Low & Steady Barriers to Entry',\n",
       "   'Low & Steady Level of Assistance',\n",
       "   'High Competition',\n",
       "   'Low Profit vs. Sector Average',\n",
       "   'Low Revenue per Employee'],\n",
       "  'strengths': ['Low Imports',\n",
       "   'Low Customer Class Concentration',\n",
       "   'Low Product/Service Concentration',\n",
       "   'Low Capital Requirements'],\n",
       "  'threats': ['Low Revenue Growth (2005-2024)',\n",
       "   'Low Outlier Growth',\n",
       "   'Consumer confidence index']},\n",
       " 'industry_name': 'Furniture Stores',\n",
       " 'key_trends': ['E-commerce boom forces stores to adapt to changing consumer preferences',\n",
       "  'A rise in home renovations fuels growth for furniture retailers',\n",
       "  'Customization is king in the modern furniture market',\n",
       "  'Smart furniture gaining popularity among tech-savvy consumers'],\n",
       " 'key_statistics': {'historical_revenue_growth_percentage': 4.95,\n",
       "  'profit_margin_percentage': 3.7,\n",
       "  'projected_revenue_growth_percentage': 2.17,\n",
       "  'revenue_dollars': 147037000000.0},\n",
       " 'related_international_industries': ['Furniture Retailing in Australia',\n",
       "  'Furniture & Home Furnishings Repair in the UK',\n",
       "  'Furniture Stores in Canada'],\n",
       " 'executive_summary': 'Over the past five years, furniture stores have faced disruption from e-commerce and had to adapt to changing consumer preferences like customization and online shopping. The COVID-19 pandemic accelerated the e-commerce trend but also boosted demand from consumers renovating homes. However, high interest rates towards the end of the period slowed housing and furniture demand. Overall industry revenue grew at a 3.4% CAGR over the past five years.\\n\\nIn the next five years, economic uncertainty, increased competition, and the rise of the used furniture market will challenge furniture stores. They may need to offer more affordable options, better financing, value-added services like design consultations, and adapt sustainability practices to maintain market share. Industry revenue is projected to grow at a 2.2% CAGR over the next five years.',\n",
       " 'industry_definition': 'Operators in this industry primarily retail household, outdoor and office furniture, excluding office supplies and equipment. Products include living room, dining room, bedroom furniture, desks, lamps, rugs and outdoor furniture.',\n",
       " 'products_and_services': [{'percentage': 37.8,\n",
       "   'product_or_service': 'Living room furniture'},\n",
       "  {'percentage': 32.9, 'product_or_service': 'Bedroom furniture'},\n",
       "  {'percentage': 17.9, 'product_or_service': 'Dining room furniture'},\n",
       "  {'percentage': 11.4, 'product_or_service': 'Other furniture'}],\n",
       " 'competitive_landscape': 'The industry is becoming increasingly price-competitive amid growing external competition from mass merchandisers, warehouse clubs and online retailers. Major players like IKEA and Ashley Furniture have captured more market share by offering lower prices. Many small retailers serve local markets, preventing geographic expansion.',\n",
       " 'future_outlook': 'Economic volatility and uncertainty will challenge growth, potentially requiring more affordable options and financing. Increased competition, especially from e-commerce and direct-to-consumer brands, will intensify price wars and pressure profits. Value-added services like design consultations and installation will be key to differentiation. The rise of the used furniture market driven by sustainability focus will also compete with new furniture sales.',\n",
       " 'major_players': ['Ashley Furniture Industries, Inc.',\n",
       "  'Inter Ikea Systems B.V.',\n",
       "  'Williams-Sonoma, Inc.',\n",
       "  'Living Spaces Furniture LLC']}"
      ]
     },
     "execution_count": 6,
     "metadata": {},
     "output_type": "execute_result"
    }
   ],
   "source": [
    "len(result.objects)\n",
    "result.objects[0].properties['industry_summary']"
   ]
  },
  {
   "cell_type": "code",
   "execution_count": null,
   "metadata": {},
   "outputs": [],
   "source": []
  }
 ],
 "metadata": {
  "kernelspec": {
   "display_name": "probe",
   "language": "python",
   "name": "python3"
  },
  "language_info": {
   "codemirror_mode": {
    "name": "ipython",
    "version": 3
   },
   "file_extension": ".py",
   "mimetype": "text/x-python",
   "name": "python",
   "nbconvert_exporter": "python",
   "pygments_lexer": "ipython3",
   "version": "3.11.9"
  }
 },
 "nbformat": 4,
 "nbformat_minor": 2
}
