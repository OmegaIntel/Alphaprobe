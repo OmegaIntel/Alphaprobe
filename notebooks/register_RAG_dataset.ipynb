{
  "cells": [
    {
      "cell_type": "code",
      "execution_count": 14,
      "metadata": {},
      "outputs": [],
      "source": [
        "COMPARISON_FILE = 'claude-3-5-sonnet-20240620_qa.csv'\n",
        "DOC_ID = 'ibis-healthcare-social-assistance'\n",
        "PDF_LOCATION = 'IndustrySource/Misc/62 Healthcare and Social Assistance in the US Industry Report.pdf'\n",
        "qa_model = \"claude-3-5-sonnet-20240620\"\n"
      ]
    },
    {
      "cell_type": "code",
      "execution_count": 2,
      "metadata": {},
      "outputs": [],
      "source": [
        "# llama-parse is async-first, running the async code in a notebook requires the use of nest_asyncio\n",
        "import nest_asyncio\n",
        "nest_asyncio.apply()\n",
        "\n",
        "import os\n",
        "from dotenv import load_dotenv\n",
        "load_dotenv(\"/Users/mbajaj/.env\")\n",
        "os.environ[\"BRAINTRUST_API_KEY\"]=os.getenv('BRAINTRUST_API_KEY')"
      ]
    },
    {
      "cell_type": "code",
      "execution_count": 3,
      "metadata": {},
      "outputs": [
        {
          "data": {
            "text/html": [
              "<div>\n",
              "<style scoped>\n",
              "    .dataframe tbody tr th:only-of-type {\n",
              "        vertical-align: middle;\n",
              "    }\n",
              "\n",
              "    .dataframe tbody tr th {\n",
              "        vertical-align: top;\n",
              "    }\n",
              "\n",
              "    .dataframe thead th {\n",
              "        text-align: right;\n",
              "    }\n",
              "</style>\n",
              "<table border=\"1\" class=\"dataframe\">\n",
              "  <thead>\n",
              "    <tr style=\"text-align: right;\">\n",
              "      <th></th>\n",
              "      <th>question</th>\n",
              "      <th>answer</th>\n",
              "      <th>source type</th>\n",
              "      <th>answer type</th>\n",
              "      <th>page</th>\n",
              "      <th>file</th>\n",
              "      <th>explanation</th>\n",
              "    </tr>\n",
              "  </thead>\n",
              "  <tbody>\n",
              "    <tr>\n",
              "      <th>0</th>\n",
              "      <td>What types of enterprises are included in the ...</td>\n",
              "      <td>The Healthcare and Social Assistance sector in...</td>\n",
              "      <td>text</td>\n",
              "      <td>other</td>\n",
              "      <td>5</td>\n",
              "      <td>62 Healthcare and Social Assistance in the US ...</td>\n",
              "      <td>Understanding the scope of the Healthcare and ...</td>\n",
              "    </tr>\n",
              "    <tr>\n",
              "      <th>1</th>\n",
              "      <td>How is telemedicine defined in the context of ...</td>\n",
              "      <td>Telemedicine is defined as an application of c...</td>\n",
              "      <td>text</td>\n",
              "      <td>other</td>\n",
              "      <td>5</td>\n",
              "      <td>62 Healthcare and Social Assistance in the US ...</td>\n",
              "      <td>Identifying key technological trends like tele...</td>\n",
              "    </tr>\n",
              "    <tr>\n",
              "      <th>2</th>\n",
              "      <td>What are Health Insurance Exchanges in the US ...</td>\n",
              "      <td>Health Insurance Exchanges are sets of state-r...</td>\n",
              "      <td>text</td>\n",
              "      <td>other</td>\n",
              "      <td>5</td>\n",
              "      <td>62 Healthcare and Social Assistance in the US ...</td>\n",
              "      <td>Understanding the structure of health insuranc...</td>\n",
              "    </tr>\n",
              "    <tr>\n",
              "      <th>3</th>\n",
              "      <td>What services are included in the Healthcare a...</td>\n",
              "      <td>The Healthcare and Social Assistance industry ...</td>\n",
              "      <td>text</td>\n",
              "      <td>other</td>\n",
              "      <td>6</td>\n",
              "      <td>62 Healthcare and Social Assistance in the US ...</td>\n",
              "      <td>Understanding the scope of services in the ind...</td>\n",
              "    </tr>\n",
              "    <tr>\n",
              "      <th>4</th>\n",
              "      <td>Who are some of the major companies operating ...</td>\n",
              "      <td>Major companies in the industry include Hca He...</td>\n",
              "      <td>text</td>\n",
              "      <td>other</td>\n",
              "      <td>6</td>\n",
              "      <td>62 Healthcare and Social Assistance in the US ...</td>\n",
              "      <td>Identifying key players helps in understanding...</td>\n",
              "    </tr>\n",
              "  </tbody>\n",
              "</table>\n",
              "</div>"
            ],
            "text/plain": [
              "                                            question  \\\n",
              "0  What types of enterprises are included in the ...   \n",
              "1  How is telemedicine defined in the context of ...   \n",
              "2  What are Health Insurance Exchanges in the US ...   \n",
              "3  What services are included in the Healthcare a...   \n",
              "4  Who are some of the major companies operating ...   \n",
              "\n",
              "                                              answer source type answer type  \\\n",
              "0  The Healthcare and Social Assistance sector in...        text       other   \n",
              "1  Telemedicine is defined as an application of c...        text       other   \n",
              "2  Health Insurance Exchanges are sets of state-r...        text       other   \n",
              "3  The Healthcare and Social Assistance industry ...        text       other   \n",
              "4  Major companies in the industry include Hca He...        text       other   \n",
              "\n",
              "   page                                               file  \\\n",
              "0     5  62 Healthcare and Social Assistance in the US ...   \n",
              "1     5  62 Healthcare and Social Assistance in the US ...   \n",
              "2     5  62 Healthcare and Social Assistance in the US ...   \n",
              "3     6  62 Healthcare and Social Assistance in the US ...   \n",
              "4     6  62 Healthcare and Social Assistance in the US ...   \n",
              "\n",
              "                                         explanation  \n",
              "0  Understanding the scope of the Healthcare and ...  \n",
              "1  Identifying key technological trends like tele...  \n",
              "2  Understanding the structure of health insuranc...  \n",
              "3  Understanding the scope of services in the ind...  \n",
              "4  Identifying key players helps in understanding...  "
            ]
          },
          "execution_count": 3,
          "metadata": {},
          "output_type": "execute_result"
        }
      ],
      "source": [
        "# read the comparison file\n",
        "import pandas as pd\n",
        "df = pd.read_csv(COMPARISON_FILE)\n",
        "df.head()"
      ]
    },
    {
      "cell_type": "code",
      "execution_count": 4,
      "metadata": {},
      "outputs": [
        {
          "data": {
            "text/html": [
              "<div>\n",
              "<style scoped>\n",
              "    .dataframe tbody tr th:only-of-type {\n",
              "        vertical-align: middle;\n",
              "    }\n",
              "\n",
              "    .dataframe tbody tr th {\n",
              "        vertical-align: top;\n",
              "    }\n",
              "\n",
              "    .dataframe thead th {\n",
              "        text-align: right;\n",
              "    }\n",
              "</style>\n",
              "<table border=\"1\" class=\"dataframe\">\n",
              "  <thead>\n",
              "    <tr style=\"text-align: right;\">\n",
              "      <th></th>\n",
              "      <th>input</th>\n",
              "      <th>expected</th>\n",
              "      <th>source_type</th>\n",
              "      <th>answer_type</th>\n",
              "      <th>page</th>\n",
              "      <th>file</th>\n",
              "      <th>explanation</th>\n",
              "    </tr>\n",
              "  </thead>\n",
              "  <tbody>\n",
              "    <tr>\n",
              "      <th>0</th>\n",
              "      <td>What types of enterprises are included in the ...</td>\n",
              "      <td>The Healthcare and Social Assistance sector in...</td>\n",
              "      <td>text</td>\n",
              "      <td>other</td>\n",
              "      <td>5</td>\n",
              "      <td>62 Healthcare and Social Assistance in the US ...</td>\n",
              "      <td>Understanding the scope of the Healthcare and ...</td>\n",
              "    </tr>\n",
              "    <tr>\n",
              "      <th>1</th>\n",
              "      <td>How is telemedicine defined in the context of ...</td>\n",
              "      <td>Telemedicine is defined as an application of c...</td>\n",
              "      <td>text</td>\n",
              "      <td>other</td>\n",
              "      <td>5</td>\n",
              "      <td>62 Healthcare and Social Assistance in the US ...</td>\n",
              "      <td>Identifying key technological trends like tele...</td>\n",
              "    </tr>\n",
              "    <tr>\n",
              "      <th>2</th>\n",
              "      <td>What are Health Insurance Exchanges in the US ...</td>\n",
              "      <td>Health Insurance Exchanges are sets of state-r...</td>\n",
              "      <td>text</td>\n",
              "      <td>other</td>\n",
              "      <td>5</td>\n",
              "      <td>62 Healthcare and Social Assistance in the US ...</td>\n",
              "      <td>Understanding the structure of health insuranc...</td>\n",
              "    </tr>\n",
              "    <tr>\n",
              "      <th>3</th>\n",
              "      <td>What services are included in the Healthcare a...</td>\n",
              "      <td>The Healthcare and Social Assistance industry ...</td>\n",
              "      <td>text</td>\n",
              "      <td>other</td>\n",
              "      <td>6</td>\n",
              "      <td>62 Healthcare and Social Assistance in the US ...</td>\n",
              "      <td>Understanding the scope of services in the ind...</td>\n",
              "    </tr>\n",
              "    <tr>\n",
              "      <th>4</th>\n",
              "      <td>Who are some of the major companies operating ...</td>\n",
              "      <td>Major companies in the industry include Hca He...</td>\n",
              "      <td>text</td>\n",
              "      <td>other</td>\n",
              "      <td>6</td>\n",
              "      <td>62 Healthcare and Social Assistance in the US ...</td>\n",
              "      <td>Identifying key players helps in understanding...</td>\n",
              "    </tr>\n",
              "  </tbody>\n",
              "</table>\n",
              "</div>"
            ],
            "text/plain": [
              "                                               input  \\\n",
              "0  What types of enterprises are included in the ...   \n",
              "1  How is telemedicine defined in the context of ...   \n",
              "2  What are Health Insurance Exchanges in the US ...   \n",
              "3  What services are included in the Healthcare a...   \n",
              "4  Who are some of the major companies operating ...   \n",
              "\n",
              "                                            expected source_type answer_type  \\\n",
              "0  The Healthcare and Social Assistance sector in...        text       other   \n",
              "1  Telemedicine is defined as an application of c...        text       other   \n",
              "2  Health Insurance Exchanges are sets of state-r...        text       other   \n",
              "3  The Healthcare and Social Assistance industry ...        text       other   \n",
              "4  Major companies in the industry include Hca He...        text       other   \n",
              "\n",
              "   page                                               file  \\\n",
              "0     5  62 Healthcare and Social Assistance in the US ...   \n",
              "1     5  62 Healthcare and Social Assistance in the US ...   \n",
              "2     5  62 Healthcare and Social Assistance in the US ...   \n",
              "3     6  62 Healthcare and Social Assistance in the US ...   \n",
              "4     6  62 Healthcare and Social Assistance in the US ...   \n",
              "\n",
              "                                         explanation  \n",
              "0  Understanding the scope of the Healthcare and ...  \n",
              "1  Identifying key technological trends like tele...  \n",
              "2  Understanding the structure of health insuranc...  \n",
              "3  Understanding the scope of services in the ind...  \n",
              "4  Identifying key players helps in understanding...  "
            ]
          },
          "execution_count": 4,
          "metadata": {},
          "output_type": "execute_result"
        }
      ],
      "source": [
        "df.rename(columns={\"question\": \"input\", \"answer\": \"expected\", \"source type\": \"source_type\", \"answer type\": \"answer_type\"}, inplace=True)\n",
        "df.head()"
      ]
    },
    {
      "cell_type": "code",
      "execution_count": 8,
      "metadata": {},
      "outputs": [
        {
          "data": {
            "text/plain": [
              "[{'input': '0> What types of enterprises are included in the Healthcare and Social Assistance sector in the United States?',\n",
              "  'expected': 'The Healthcare and Social Assistance sector includes hospitals, ambulatory service providers, nursing and residential care facilities, counselors, social workers, family and welfare services, and natural disaster and emergency relief services.',\n",
              "  'page': 5,\n",
              "  'file': '62 Healthcare and Social Assistance in the US Industry Report.pdf',\n",
              "  'source_type': 'text',\n",
              "  'answer_type': 'other',\n",
              "  'explanation': 'Understanding the scope of the Healthcare and Social Assistance sector is crucial for market analysis and identifying potential opportunities or challenges.'},\n",
              " {'input': '1> How is telemedicine defined in the context of the Healthcare and Social Assistance industry?',\n",
              "  'expected': 'Telemedicine is defined as an application of clinical medicine whereby medical information is transferred through interactive audiovisual media for the purpose of consulting and remote medical procedures or examinations.',\n",
              "  'page': 5,\n",
              "  'file': '62 Healthcare and Social Assistance in the US Industry Report.pdf',\n",
              "  'source_type': 'text',\n",
              "  'answer_type': 'other',\n",
              "  'explanation': 'Identifying key technological trends like telemedicine is essential for understanding market dynamics and future growth areas in the healthcare industry.'}]"
            ]
          },
          "execution_count": 8,
          "metadata": {},
          "output_type": "execute_result"
        }
      ],
      "source": [
        "# select the columns \"input\" ,\"expected\", \"page\", \"file\", \"source type\", \"answer type\" from the dataframe\n",
        "processed_df = df[[\"input\", \"expected\", \"page\", \"file\", \"source_type\", \"answer_type\", \"explanation\"]]\n",
        "\n",
        "# modify the input column to add the prefix row number from the index to the input\n",
        "processed_df[\"input\"] = processed_df.apply(lambda x: f\"{x.name}> {x.input}\", axis=1)\n",
        "# convert the labelled dataframe to list of dictionaries\n",
        "processed_data = processed_df.to_dict(orient=\"records\")\n",
        "processed_data[:2]"
      ]
    },
    {
      "cell_type": "code",
      "execution_count": 9,
      "metadata": {},
      "outputs": [],
      "source": [
        "# operate on the labelled data and put page, file, source type, answer type in the metadata dictionary inside labelled data\n",
        "\n",
        "for data in processed_data:\n",
        "    data[\"metadata\"] = {\n",
        "        \"page\": data[\"page\"],\n",
        "        \"file\": data[\"file\"],\n",
        "        \"source_type\": data[\"source_type\"],\n",
        "        \"answer_type\": data[\"answer_type\"],\n",
        "        \"explanation\": data[\"explanation\"]\n",
        "    }\n",
        "    del data[\"page\"]\n",
        "    del data[\"file\"]\n",
        "    del data[\"source_type\"]\n",
        "    del data[\"answer_type\"]\n",
        "    del data[\"explanation\"]"
      ]
    },
    {
      "cell_type": "code",
      "execution_count": 10,
      "metadata": {},
      "outputs": [
        {
          "data": {
            "text/plain": [
              "[{'input': '0> What types of enterprises are included in the Healthcare and Social Assistance sector in the United States?',\n",
              "  'expected': 'The Healthcare and Social Assistance sector includes hospitals, ambulatory service providers, nursing and residential care facilities, counselors, social workers, family and welfare services, and natural disaster and emergency relief services.',\n",
              "  'metadata': {'page': 5,\n",
              "   'file': '62 Healthcare and Social Assistance in the US Industry Report.pdf',\n",
              "   'source_type': 'text',\n",
              "   'answer_type': 'other',\n",
              "   'explanation': 'Understanding the scope of the Healthcare and Social Assistance sector is crucial for market analysis and identifying potential opportunities or challenges.'}},\n",
              " {'input': '1> How is telemedicine defined in the context of the Healthcare and Social Assistance industry?',\n",
              "  'expected': 'Telemedicine is defined as an application of clinical medicine whereby medical information is transferred through interactive audiovisual media for the purpose of consulting and remote medical procedures or examinations.',\n",
              "  'metadata': {'page': 5,\n",
              "   'file': '62 Healthcare and Social Assistance in the US Industry Report.pdf',\n",
              "   'source_type': 'text',\n",
              "   'answer_type': 'other',\n",
              "   'explanation': 'Identifying key technological trends like telemedicine is essential for understanding market dynamics and future growth areas in the healthcare industry.'}}]"
            ]
          },
          "execution_count": 10,
          "metadata": {},
          "output_type": "execute_result"
        }
      ],
      "source": [
        "processed_data[:2]"
      ]
    },
    {
      "cell_type": "code",
      "execution_count": 16,
      "metadata": {},
      "outputs": [
        {
          "name": "stdout",
          "output_type": "stream",
          "text": [
            "\n",
            "=========================SUMMARY=========================\n",
            "Total records: 213 (213 new or updated records)\n",
            "See results for all datasets in RagMetrics at https://www.braintrust.dev/app/Omega/p/RagMetrics\n",
            "See results for ibis-healthcare-social-assistance at https://www.braintrust.dev/app/Omega/p/RagMetrics/datasets/ibis-healthcare-social-assistance\n"
          ]
        }
      ],
      "source": [
        "import braintrust\n",
        " \n",
        "dataset = braintrust.init_dataset(project=\"RagMetrics\", name=DOC_ID, description=f\"PDF: {PDF_LOCATION}, QA Model: {qa_model}, QA File: {COMPARISON_FILE}\")\n",
        "\n",
        "for d in processed_data:\n",
        "    dataset.insert(input=d[\"input\"], expected=d[\"expected\"], metadata=d[\"metadata\"])\n",
        " \n",
        "print(dataset.summarize())"
      ]
    }
  ],
  "metadata": {
    "colab": {
      "provenance": []
    },
    "kernelspec": {
      "display_name": "Python 3",
      "name": "python3"
    },
    "language_info": {
      "codemirror_mode": {
        "name": "ipython",
        "version": 3
      },
      "file_extension": ".py",
      "mimetype": "text/x-python",
      "name": "python",
      "nbconvert_exporter": "python",
      "pygments_lexer": "ipython3",
      "version": "3.10.15"
    }
  },
  "nbformat": 4,
  "nbformat_minor": 0
}
