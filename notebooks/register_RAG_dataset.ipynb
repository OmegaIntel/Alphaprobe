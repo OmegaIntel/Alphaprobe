{
  "cells": [
    {
      "cell_type": "code",
      "execution_count": 1,
      "metadata": {},
      "outputs": [],
      "source": [
        "# COMPARISON_FILE = 'claude-3-5-sonnet-20240620_qa.csv'\n",
        "\n",
        "DOC_ID = 'ibis-healthcare-social-assistance'\n",
        "COMPARISON_FILE = f\"./datasets/{DOC_ID}/major_questions.csv\"\n",
        "PDF_LOCATION = 'IndustrySource/Misc/62 Healthcare and Social Assistance in the US Industry Report.pdf'\n",
        "qa_model = \"claude-3-5-sonnet-20240620\"\n"
      ]
    },
    {
      "cell_type": "code",
      "execution_count": 2,
      "metadata": {},
      "outputs": [],
      "source": [
        "# llama-parse is async-first, running the async code in a notebook requires the use of nest_asyncio\n",
        "import nest_asyncio\n",
        "nest_asyncio.apply()\n",
        "\n",
        "import os\n",
        "from dotenv import load_dotenv\n",
        "load_dotenv(\"/Users/mbajaj/.env\")\n",
        "os.environ[\"BRAINTRUST_API_KEY\"]=os.getenv('BRAINTRUST_API_KEY')"
      ]
    },
    {
      "cell_type": "code",
      "execution_count": 3,
      "metadata": {},
      "outputs": [
        {
          "data": {
            "text/html": [
              "<div>\n",
              "<style scoped>\n",
              "    .dataframe tbody tr th:only-of-type {\n",
              "        vertical-align: middle;\n",
              "    }\n",
              "\n",
              "    .dataframe tbody tr th {\n",
              "        vertical-align: top;\n",
              "    }\n",
              "\n",
              "    .dataframe thead th {\n",
              "        text-align: right;\n",
              "    }\n",
              "</style>\n",
              "<table border=\"1\" class=\"dataframe\">\n",
              "  <thead>\n",
              "    <tr style=\"text-align: right;\">\n",
              "      <th></th>\n",
              "      <th>Question</th>\n",
              "      <th>Reference</th>\n",
              "      <th>Answer</th>\n",
              "    </tr>\n",
              "  </thead>\n",
              "  <tbody>\n",
              "    <tr>\n",
              "      <th>0</th>\n",
              "      <td>What is the estimated total addressable market...</td>\n",
              "      <td>Pages 9, 31, 40-42</td>\n",
              "      <td>The total revenue for the Healthcare and Socia...</td>\n",
              "    </tr>\n",
              "    <tr>\n",
              "      <th>1</th>\n",
              "      <td>What has been the market's average growth rate...</td>\n",
              "      <td>Page 78</td>\n",
              "      <td>Annual revenue change percentages: 2019: 3.9%,...</td>\n",
              "    </tr>\n",
              "    <tr>\n",
              "      <th>2</th>\n",
              "      <td>Which specific product categories or geographi...</td>\n",
              "      <td>Pages 21, 25, 26, 31</td>\n",
              "      <td>Emerging sub-segments include telemedicine, di...</td>\n",
              "    </tr>\n",
              "    <tr>\n",
              "      <th>3</th>\n",
              "      <td>How are new technologies (e.g., AI, automation...</td>\n",
              "      <td>Pages 21, 25, 32-33</td>\n",
              "      <td>AI is being applied across healthcare faciliti...</td>\n",
              "    </tr>\n",
              "    <tr>\n",
              "      <th>4</th>\n",
              "      <td>How have changing macroeconomic indicators (e....</td>\n",
              "      <td>Pages 20, 21, 26, 36, 67, 74</td>\n",
              "      <td>Rising inflation has increased costs for devic...</td>\n",
              "    </tr>\n",
              "  </tbody>\n",
              "</table>\n",
              "</div>"
            ],
            "text/plain": [
              "                                            Question  \\\n",
              "0  What is the estimated total addressable market...   \n",
              "1  What has been the market's average growth rate...   \n",
              "2  Which specific product categories or geographi...   \n",
              "3  How are new technologies (e.g., AI, automation...   \n",
              "4  How have changing macroeconomic indicators (e....   \n",
              "\n",
              "                      Reference  \\\n",
              "0            Pages 9, 31, 40-42   \n",
              "1                       Page 78   \n",
              "2          Pages 21, 25, 26, 31   \n",
              "3           Pages 21, 25, 32-33   \n",
              "4  Pages 20, 21, 26, 36, 67, 74   \n",
              "\n",
              "                                              Answer  \n",
              "0  The total revenue for the Healthcare and Socia...  \n",
              "1  Annual revenue change percentages: 2019: 3.9%,...  \n",
              "2  Emerging sub-segments include telemedicine, di...  \n",
              "3  AI is being applied across healthcare faciliti...  \n",
              "4  Rising inflation has increased costs for devic...  "
            ]
          },
          "execution_count": 3,
          "metadata": {},
          "output_type": "execute_result"
        }
      ],
      "source": [
        "# read the comparison file\n",
        "import pandas as pd\n",
        "df = pd.read_csv(COMPARISON_FILE)\n",
        "df.head()"
      ]
    },
    {
      "cell_type": "code",
      "execution_count": 4,
      "metadata": {},
      "outputs": [
        {
          "data": {
            "text/html": [
              "<div>\n",
              "<style scoped>\n",
              "    .dataframe tbody tr th:only-of-type {\n",
              "        vertical-align: middle;\n",
              "    }\n",
              "\n",
              "    .dataframe tbody tr th {\n",
              "        vertical-align: top;\n",
              "    }\n",
              "\n",
              "    .dataframe thead th {\n",
              "        text-align: right;\n",
              "    }\n",
              "</style>\n",
              "<table border=\"1\" class=\"dataframe\">\n",
              "  <thead>\n",
              "    <tr style=\"text-align: right;\">\n",
              "      <th></th>\n",
              "      <th>question</th>\n",
              "      <th>reference</th>\n",
              "      <th>answer</th>\n",
              "    </tr>\n",
              "  </thead>\n",
              "  <tbody>\n",
              "    <tr>\n",
              "      <th>0</th>\n",
              "      <td>What is the estimated total addressable market...</td>\n",
              "      <td>Pages 9, 31, 40-42</td>\n",
              "      <td>The total revenue for the Healthcare and Socia...</td>\n",
              "    </tr>\n",
              "    <tr>\n",
              "      <th>1</th>\n",
              "      <td>What has been the market's average growth rate...</td>\n",
              "      <td>Page 78</td>\n",
              "      <td>Annual revenue change percentages: 2019: 3.9%,...</td>\n",
              "    </tr>\n",
              "    <tr>\n",
              "      <th>2</th>\n",
              "      <td>Which specific product categories or geographi...</td>\n",
              "      <td>Pages 21, 25, 26, 31</td>\n",
              "      <td>Emerging sub-segments include telemedicine, di...</td>\n",
              "    </tr>\n",
              "    <tr>\n",
              "      <th>3</th>\n",
              "      <td>How are new technologies (e.g., AI, automation...</td>\n",
              "      <td>Pages 21, 25, 32-33</td>\n",
              "      <td>AI is being applied across healthcare faciliti...</td>\n",
              "    </tr>\n",
              "    <tr>\n",
              "      <th>4</th>\n",
              "      <td>How have changing macroeconomic indicators (e....</td>\n",
              "      <td>Pages 20, 21, 26, 36, 67, 74</td>\n",
              "      <td>Rising inflation has increased costs for devic...</td>\n",
              "    </tr>\n",
              "  </tbody>\n",
              "</table>\n",
              "</div>"
            ],
            "text/plain": [
              "                                            question  \\\n",
              "0  What is the estimated total addressable market...   \n",
              "1  What has been the market's average growth rate...   \n",
              "2  Which specific product categories or geographi...   \n",
              "3  How are new technologies (e.g., AI, automation...   \n",
              "4  How have changing macroeconomic indicators (e....   \n",
              "\n",
              "                      reference  \\\n",
              "0            Pages 9, 31, 40-42   \n",
              "1                       Page 78   \n",
              "2          Pages 21, 25, 26, 31   \n",
              "3           Pages 21, 25, 32-33   \n",
              "4  Pages 20, 21, 26, 36, 67, 74   \n",
              "\n",
              "                                              answer  \n",
              "0  The total revenue for the Healthcare and Socia...  \n",
              "1  Annual revenue change percentages: 2019: 3.9%,...  \n",
              "2  Emerging sub-segments include telemedicine, di...  \n",
              "3  AI is being applied across healthcare faciliti...  \n",
              "4  Rising inflation has increased costs for devic...  "
            ]
          },
          "execution_count": 4,
          "metadata": {},
          "output_type": "execute_result"
        }
      ],
      "source": [
        "# rename the column names to all small case\n",
        "df.columns = [col.lower() for col in df.columns]\n",
        "df.head()"
      ]
    },
    {
      "cell_type": "code",
      "execution_count": 5,
      "metadata": {},
      "outputs": [
        {
          "data": {
            "text/html": [
              "<div>\n",
              "<style scoped>\n",
              "    .dataframe tbody tr th:only-of-type {\n",
              "        vertical-align: middle;\n",
              "    }\n",
              "\n",
              "    .dataframe tbody tr th {\n",
              "        vertical-align: top;\n",
              "    }\n",
              "\n",
              "    .dataframe thead th {\n",
              "        text-align: right;\n",
              "    }\n",
              "</style>\n",
              "<table border=\"1\" class=\"dataframe\">\n",
              "  <thead>\n",
              "    <tr style=\"text-align: right;\">\n",
              "      <th></th>\n",
              "      <th>input</th>\n",
              "      <th>reference</th>\n",
              "      <th>expected</th>\n",
              "    </tr>\n",
              "  </thead>\n",
              "  <tbody>\n",
              "    <tr>\n",
              "      <th>0</th>\n",
              "      <td>What is the estimated total addressable market...</td>\n",
              "      <td>Pages 9, 31, 40-42</td>\n",
              "      <td>The total revenue for the Healthcare and Socia...</td>\n",
              "    </tr>\n",
              "    <tr>\n",
              "      <th>1</th>\n",
              "      <td>What has been the market's average growth rate...</td>\n",
              "      <td>Page 78</td>\n",
              "      <td>Annual revenue change percentages: 2019: 3.9%,...</td>\n",
              "    </tr>\n",
              "    <tr>\n",
              "      <th>2</th>\n",
              "      <td>Which specific product categories or geographi...</td>\n",
              "      <td>Pages 21, 25, 26, 31</td>\n",
              "      <td>Emerging sub-segments include telemedicine, di...</td>\n",
              "    </tr>\n",
              "    <tr>\n",
              "      <th>3</th>\n",
              "      <td>How are new technologies (e.g., AI, automation...</td>\n",
              "      <td>Pages 21, 25, 32-33</td>\n",
              "      <td>AI is being applied across healthcare faciliti...</td>\n",
              "    </tr>\n",
              "    <tr>\n",
              "      <th>4</th>\n",
              "      <td>How have changing macroeconomic indicators (e....</td>\n",
              "      <td>Pages 20, 21, 26, 36, 67, 74</td>\n",
              "      <td>Rising inflation has increased costs for devic...</td>\n",
              "    </tr>\n",
              "  </tbody>\n",
              "</table>\n",
              "</div>"
            ],
            "text/plain": [
              "                                               input  \\\n",
              "0  What is the estimated total addressable market...   \n",
              "1  What has been the market's average growth rate...   \n",
              "2  Which specific product categories or geographi...   \n",
              "3  How are new technologies (e.g., AI, automation...   \n",
              "4  How have changing macroeconomic indicators (e....   \n",
              "\n",
              "                      reference  \\\n",
              "0            Pages 9, 31, 40-42   \n",
              "1                       Page 78   \n",
              "2          Pages 21, 25, 26, 31   \n",
              "3           Pages 21, 25, 32-33   \n",
              "4  Pages 20, 21, 26, 36, 67, 74   \n",
              "\n",
              "                                            expected  \n",
              "0  The total revenue for the Healthcare and Socia...  \n",
              "1  Annual revenue change percentages: 2019: 3.9%,...  \n",
              "2  Emerging sub-segments include telemedicine, di...  \n",
              "3  AI is being applied across healthcare faciliti...  \n",
              "4  Rising inflation has increased costs for devic...  "
            ]
          },
          "execution_count": 5,
          "metadata": {},
          "output_type": "execute_result"
        }
      ],
      "source": [
        "# if question column is present, rename it to input\n",
        "if 'question' in df.columns:\n",
        "    df.rename(columns={\"question\": \"input\"}, inplace=True)\n",
        "\n",
        "# if answer column is present, rename it to expected\n",
        "if 'answer' in df.columns:\n",
        "    df.rename(columns={\"answer\": \"expected\"}, inplace=True)\n",
        "\n",
        "# if source type column is present, rename it to source_type\n",
        "if 'source type' in df.columns:\n",
        "    df.rename(columns={\"source type\": \"source_type\"}, inplace=True)\n",
        "\n",
        "# if answer type column is present, rename it to answer_type\n",
        "if 'answer type' in df.columns:\n",
        "    df.rename(columns={\"answer type\": \"answer_type\"}, inplace=True)\n",
        "\n",
        "df.head()"
      ]
    },
    {
      "cell_type": "code",
      "execution_count": 6,
      "metadata": {},
      "outputs": [
        {
          "data": {
            "text/plain": [
              "[{'input': '0> What is the estimated total addressable market (TAM) for this sector in 2024, broken down by region and sub-sector?',\n",
              "  'reference': 'Pages 9, 31, 40-42',\n",
              "  'expected': 'The total revenue for the Healthcare and Social Assistance sector in the US is $3.6 trillion in 2024. Sub-sectors: Hospitals - 42%, Ambulatory healthcare services - 41%, Nursing and residential care facilities - 9%, Social assistance - 8%.'},\n",
              " {'input': \"1> What has been the market's average growth rate in each of the past 5 years? Is growth stable, accelerating, or decelerating?\",\n",
              "  'reference': 'Page 78',\n",
              "  'expected': 'Annual revenue change percentages: 2019: 3.9%, 2020: 0.1%, 2021: 4.9%, 2022: -3.9%, 2023: 2.4%. The average growth rate = 1.48%. CAGR = 0.7%. Growth is volatile, likely due to pandemic effects.'}]"
            ]
          },
          "execution_count": 6,
          "metadata": {},
          "output_type": "execute_result"
        }
      ],
      "source": [
        "# select the columns \"input\" ,\"expected\", \"page\", \"file\", \"source type\", \"answer type\" from the dataframe\n",
        "# processed_df = df[[\"input\", \"expected\", \"page\", \"file\", \"source_type\", \"answer_type\", \"explanation\"]]\n",
        "\n",
        "processed_df = df\n",
        "# modify the input column to add the prefix row number from the index to the input\n",
        "processed_df[\"input\"] = processed_df.apply(lambda x: f\"{x.name}> {x.input}\", axis=1)\n",
        "# convert the labelled dataframe to list of dictionaries\n",
        "processed_data = processed_df.to_dict(orient=\"records\")\n",
        "processed_data[:2]"
      ]
    },
    {
      "cell_type": "code",
      "execution_count": 7,
      "metadata": {},
      "outputs": [],
      "source": [
        "# operate on the labelled data and put all metadata columns (other than input, expected) in the metadata dictionary inside labelled data\n",
        "\n",
        "def reformat_metadata(df_dict):\n",
        "    columns = df.columns\n",
        "    metadata_columns = [col for col in columns if col not in [\"input\", \"expected\"]]\n",
        "    for data in df_dict:\n",
        "        data[\"metadata\"] = {col: data[col] for col in metadata_columns}\n",
        "        for col in metadata_columns:\n",
        "            del data[col]\n",
        "    return df_dict\n",
        "    "
      ]
    },
    {
      "cell_type": "code",
      "execution_count": 8,
      "metadata": {},
      "outputs": [
        {
          "data": {
            "text/plain": [
              "[{'input': '0> What is the estimated total addressable market (TAM) for this sector in 2024, broken down by region and sub-sector?',\n",
              "  'expected': 'The total revenue for the Healthcare and Social Assistance sector in the US is $3.6 trillion in 2024. Sub-sectors: Hospitals - 42%, Ambulatory healthcare services - 41%, Nursing and residential care facilities - 9%, Social assistance - 8%.',\n",
              "  'metadata': {'reference': 'Pages 9, 31, 40-42'}},\n",
              " {'input': \"1> What has been the market's average growth rate in each of the past 5 years? Is growth stable, accelerating, or decelerating?\",\n",
              "  'expected': 'Annual revenue change percentages: 2019: 3.9%, 2020: 0.1%, 2021: 4.9%, 2022: -3.9%, 2023: 2.4%. The average growth rate = 1.48%. CAGR = 0.7%. Growth is volatile, likely due to pandemic effects.',\n",
              "  'metadata': {'reference': 'Page 78'}}]"
            ]
          },
          "execution_count": 8,
          "metadata": {},
          "output_type": "execute_result"
        }
      ],
      "source": [
        "processed_data = reformat_metadata(processed_data)\n",
        "processed_data[:2]"
      ]
    },
    {
      "cell_type": "code",
      "execution_count": 9,
      "metadata": {},
      "outputs": [
        {
          "name": "stderr",
          "output_type": "stream",
          "text": [
            "/Users/mbajaj/anaconda/envs/rag_omega/lib/python3.10/site-packages/tqdm/auto.py:21: TqdmWarning: IProgress not found. Please update jupyter and ipywidgets. See https://ipywidgets.readthedocs.io/en/stable/user_install.html\n",
            "  from .autonotebook import tqdm as notebook_tqdm\n"
          ]
        },
        {
          "name": "stdout",
          "output_type": "stream",
          "text": [
            "\n",
            "=========================SUMMARY=========================\n",
            "Total records: 17 (17 new or updated records)\n",
            "See results for all datasets in RagMetrics at https://www.braintrust.dev/app/Omega/p/RagMetrics\n",
            "See results for ibis-healthcare-social-assistance/./datasets/ibis-healthcare-social-assistance/major_questions.csv at https://www.braintrust.dev/app/Omega/p/RagMetrics/datasets/ibis-healthcare-social-assistance%2F.%2Fdatasets%2Fibis-healthcare-social-assistance%2Fmajor_questions.csv\n"
          ]
        }
      ],
      "source": [
        "import braintrust\n",
        "dataset_name = f\"{DOC_ID}/{COMPARISON_FILE}\"\n",
        "dataset = braintrust.init_dataset(project=\"RagMetrics\", name=dataset_name, description=f\"PDF: {PDF_LOCATION}, QA Model: {qa_model}, QA File: {COMPARISON_FILE}\")\n",
        "\n",
        "for d in processed_data:\n",
        "    dataset.insert(input=d[\"input\"], expected=d[\"expected\"], metadata=d[\"metadata\"])\n",
        " \n",
        "print(dataset.summarize())"
      ]
    }
  ],
  "metadata": {
    "colab": {
      "provenance": []
    },
    "kernelspec": {
      "display_name": "Python 3",
      "name": "python3"
    },
    "language_info": {
      "codemirror_mode": {
        "name": "ipython",
        "version": 3
      },
      "file_extension": ".py",
      "mimetype": "text/x-python",
      "name": "python",
      "nbconvert_exporter": "python",
      "pygments_lexer": "ipython3",
      "version": "3.10.15"
    }
  },
  "nbformat": 4,
  "nbformat_minor": 0
}
