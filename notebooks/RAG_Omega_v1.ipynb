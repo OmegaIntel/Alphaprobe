{
  "cells": [
    {
      "cell_type": "code",
      "execution_count": 1,
      "metadata": {
        "id": "wTxbciOYVo7V"
      },
      "outputs": [],
      "source": [
        "# %pip install llama-index llama-index-core llama-parse openai llama_index.embeddings.huggingface -q\n",
        "# %pip install llama-index-llms-anthropic -q\n",
        "# %pip install llama-index-vector-stores-weaviate -q"
      ]
    },
    {
      "cell_type": "code",
      "execution_count": 2,
      "metadata": {},
      "outputs": [],
      "source": [
        "COMPARISON_FILE = 'claude-3-5-sonnet-20240620_qa.csv'\n",
        "PDF_LOCATION = 'IndustrySource/Misc/62 Healthcare and Social Assistance in the US Industry Report.pdf'\n",
        "# PDF_PARSER = 'llm-sherpa'\n",
        "PDF_PARSER = 'llama-parse'\n",
        "DOC_ID = 'ibis-healthcare-social-assistance'\n",
        "MODEL_ID = 'gpt-4o-mini'\n",
        "OUTPUT_FILE = f'{DOC_ID}_{PDF_PARSER}_{MODEL_ID}.csv'\n",
        "QUESTION_COL = 'question'\n",
        "RESPONSE_COL = 'rag_model_response'\n",
        "NUM_QUESTIONS = 250"
      ]
    },
    {
      "cell_type": "code",
      "execution_count": 3,
      "metadata": {},
      "outputs": [],
      "source": [
        "import pandas as pd\n",
        "\n",
        "df = pd.read_csv(COMPARISON_FILE)\n",
        "dff = df.head(NUM_QUESTIONS).copy()"
      ]
    },
    {
      "cell_type": "code",
      "execution_count": 4,
      "metadata": {
        "id": "6gUzpLaeVpl5"
      },
      "outputs": [],
      "source": [
        "# llama-parse is async-first, running the async code in a notebook requires the use of nest_asyncio\n",
        "import nest_asyncio\n",
        "nest_asyncio.apply()\n",
        "\n",
        "import os\n",
        "from dotenv import load_dotenv\n",
        "load_dotenv()\n",
        "\n",
        "# API access to llama-cloud\n",
        "os.environ[\"LLAMA_CLOUD_API_KEY\"] = \"llx-7K1IbMcLbyb8TDvMsIx3Brr7mD4K8ZnLaFMjbEq8S1uONYZp\"\n",
        "# Using OpenAI API for embeddings/llms\n",
        "os.environ[\"OPENAI_API_KEY\"] = os.getenv('OPENAI_APIKEY')\n",
        "OPENAI_API_KEY = os.environ[\"OPENAI_API_KEY\"]"
      ]
    },
    {
      "cell_type": "code",
      "execution_count": 5,
      "metadata": {},
      "outputs": [],
      "source": [
        "# from llama_index.core import SimpleDirectoryReader\n",
        "\n",
        "from typing import List\n",
        "from llama_index.core.schema import Document\n",
        "\n",
        "def llama_parse_docs() -> List[Document]:\n",
        "    from llama_parse import LlamaParse\n",
        "    return LlamaParse(\n",
        "        result_type=\"markdown\",\n",
        "        gpt4o_api_key=OPENAI_API_KEY,\n",
        "        # fast_mode=True\n",
        "    ).load_data(PDF_LOCATION)\n",
        "\n",
        "def llmsherpa_docs() -> List[Document]:\n",
        "    from llmsherpa.readers import LayoutPDFReader\n",
        "    llmsherpa_api_url = \"http://localhost:5501/api/parseDocument?renderFormat=all\"\n",
        "    pdf_reader = LayoutPDFReader(llmsherpa_api_url)\n",
        "    doc = pdf_reader.read_pdf(PDF_LOCATION)\n",
        "    chunks = doc.chunks()\n",
        "    min_page = min([chunk.page_idx for chunk in chunks])\n",
        "    max_page = max([chunk.page_idx for chunk in chunks])\n",
        "    pages = []\n",
        "    for page_idx in range(min_page, max_page+1):\n",
        "        cpage = [chunk.to_text() for chunk in chunks if chunk.page_idx == page_idx]\n",
        "        if cpage:\n",
        "            pages.append(Document(text='\\n'.join(cpage)))\n",
        "    return pages\n"
      ]
    },
    {
      "cell_type": "code",
      "execution_count": 6,
      "metadata": {
        "colab": {
          "base_uri": "https://localhost:8080/"
        },
        "id": "UjWQnAYnVwhF",
        "outputId": "9907e56f-9e80-404e-b2d2-36f3ab269b24"
      },
      "outputs": [],
      "source": [
        "if PDF_PARSER == 'llm-sherpa':\n",
        "    documents = llmsherpa_docs()\n",
        "else:\n",
        "    documents = llama_parse_docs()"
      ]
    },
    {
      "cell_type": "code",
      "execution_count": 7,
      "metadata": {},
      "outputs": [
        {
          "name": "stdout",
          "output_type": "stream",
          "text": [
            "Hospitals are central to healthcare delivery\n",
            "• Hospitals provide inpatient and outpatient medical services (diagnostic, treatment, etc.) via physicians, nursing and other health services.\n",
            "This subsector includes Hospitals (IBISWorld 62211), Psychiatric Hospitals (62221) and Specialty Hospitals (62231).\n",
            "• Rising incomes, broader access to public and private insurance programs and the medical needs of older citizens sustained hospital patient volumes before the COVID-19 pandemic.\n",
            "Yet hospitals were hit particularly hard by the drop in elective procedures and patient volumes following the onset of the pandemic.\n",
            "• Federal policies and billions of dollars in funding directed to hospitals alleviated the initial financial impact of revenue loss stemming from delays in elective care and drops in ER visits.\n",
            "According to the Kaiser Family Foundation (KFF), the size of grants varied significantly per hospital based on the payor mix.\n",
            "• Rapidly escalating costs for medical consumables, equipment and pharmaceuticals along with staffing shortages and employee burnout combine to create instability in the sector.\n",
            "• Financial pressures have accelerated hospitals\\' shift away from inpatient care.\n",
            "The popularity of telemedicine, an uptick in ambulatory surgery centers (ASCs) and new medical technologies facilitate the transition to outpatient care.\n",
            "Ambulatory healthcare services are an alternative care site\n",
            "• Ambulatory healthcare service providers deliver healthcare services to patients and don\\'t provide inpatient services.\n",
            "The primary industries in this subsector include Specialist Doctors (62111b), Primary Care Doctors (62111a) and Dentists (62121).\n",
            "• Rising incomes and expanding insurance coverage have facilitated access to ambulatory healthcare service providers.\n",
            "The medical needs of older people also create demand for these providers, and adults of advanced age exhibit the highest consumption of healthcare services.\n",
            "• Patient volumes dropped in 2020 as patients adopted stay-at-home measures and offices temporarily closed.\n",
            "These closures resulted in long care backlogs, leading patients to fulfill pent-up need for ambulatory medical services as vaccines became available and lockdowns lifted.\n",
            "• Extensive staffing shortages at ambulatory healthcare service providers compromise these facilities\\' ability to meet demand.\n",
            "• Consolidation activity is occurring across this subsector.\n",
            "The COVID-19 pandemic accelerated this trend, but rapidly growing demand and continual staffing shortages incentivize small providers to merge with larger health groups.\n",
            "• Primary care and dental practices both demonstrate consolidation activity.\n",
            "Smaller practices are joining larger health systems or private equity-backed groups to reap the benefits of negotiating power and economies of scale.\n",
            "Nursing and residential care facilities are critical for people over 65\n",
            "• Nursing and residential care facilities provide residential care combined with either nursing, supervisory or medical care services.\n",
            "Key industries in this subsector include Nursing Care Facilities (62311) and Retirement Communities (62331).\n"
          ]
        }
      ],
      "source": [
        "print(documents[25].text)"
      ]
    },
    {
      "cell_type": "code",
      "execution_count": 8,
      "metadata": {},
      "outputs": [],
      "source": [
        "import uuid\n",
        "\n",
        "# generate unique index for multiple runs\n",
        "INDEX_NAME = ('X' + str(uuid.uuid4())).replace('-', '_')"
      ]
    },
    {
      "cell_type": "code",
      "execution_count": 9,
      "metadata": {
        "id": "NfaNIvokpbKo"
      },
      "outputs": [],
      "source": [
        "import weaviate\n",
        "\n",
        "cluster_url = \"https://a0dlgmcaspopjrn2mtx4ha.c0.us-east1.gcp.weaviate.cloud\"\n",
        "api_key = \"7ZfUCibywHnzM0WKMPx7YevuN79nUtS4KJgT\"\n",
        "\n",
        "client = weaviate.connect_to_wcs(\n",
        "    cluster_url=cluster_url,\n",
        "    auth_credentials=weaviate.auth.AuthApiKey(api_key),\n",
        ")"
      ]
    },
    {
      "cell_type": "markdown",
      "metadata": {
        "id": "kbN-rN7lsEy0"
      },
      "source": [
        "# weaviate vector database & llamaparse Integrated"
      ]
    },
    {
      "cell_type": "code",
      "execution_count": 10,
      "metadata": {
        "id": "KtRzVlgesBiO"
      },
      "outputs": [],
      "source": [
        "from llama_index.core.node_parser import SentenceSplitter\n",
        "\n",
        "splitter = SentenceSplitter(chunk_size=1024)\n",
        "nodes = splitter.get_nodes_from_documents(documents)"
      ]
    },
    {
      "cell_type": "code",
      "execution_count": 11,
      "metadata": {
        "id": "hVThHH30qRoS"
      },
      "outputs": [],
      "source": [
        "from llama_index.vector_stores.weaviate import WeaviateVectorStore\n",
        "\n",
        "vector_store = WeaviateVectorStore(\n",
        "    weaviate_client=client, index_name=INDEX_NAME\n",
        ")"
      ]
    },
    {
      "cell_type": "code",
      "execution_count": 12,
      "metadata": {
        "id": "esw4x1faqmmS"
      },
      "outputs": [],
      "source": [
        "from llama_index.core import VectorStoreIndex\n",
        "vector_index = VectorStoreIndex(nodes, vector_store = vector_store)"
      ]
    },
    {
      "cell_type": "code",
      "execution_count": 13,
      "metadata": {
        "id": "LMoIlj0qq-Wn"
      },
      "outputs": [
        {
          "name": "stderr",
          "output_type": "stream",
          "text": [
            "/home/yakov/anaconda3/envs/probe/lib/python3.11/site-packages/pydantic/main.py:1059: PydanticDeprecatedSince20: The `__fields__` attribute is deprecated, use `model_fields` instead. Deprecated in Pydantic V2.0 to be removed in V3.0. See Pydantic V2 Migration Guide at https://errors.pydantic.dev/2.8/migration/\n",
            "  warnings.warn(\n"
          ]
        }
      ],
      "source": [
        "from llama_index.llms.openai import OpenAI\n",
        "\n",
        "llm = OpenAI(model=MODEL_ID, api_key = OPENAI_API_KEY)\n",
        "query_engine = vector_index.as_query_engine(similarity_top_k=3, llm=llm)"
      ]
    },
    {
      "cell_type": "code",
      "execution_count": 14,
      "metadata": {},
      "outputs": [],
      "source": [
        "result = []\n",
        "for question in dff[QUESTION_COL]:\n",
        "    result.append(query_engine.query(question))\n",
        "\n",
        "dff[RESPONSE_COL] = result\n",
        "dff.to_csv(OUTPUT_FILE, index=False)"
      ]
    }
  ],
  "metadata": {
    "colab": {
      "provenance": []
    },
    "kernelspec": {
      "display_name": "probe",
      "language": "python",
      "name": "python3"
    },
    "language_info": {
      "codemirror_mode": {
        "name": "ipython",
        "version": 3
      },
      "file_extension": ".py",
      "mimetype": "text/x-python",
      "name": "python",
      "nbconvert_exporter": "python",
      "pygments_lexer": "ipython3",
      "version": "3.11.9"
    }
  },
  "nbformat": 4,
  "nbformat_minor": 0
}
